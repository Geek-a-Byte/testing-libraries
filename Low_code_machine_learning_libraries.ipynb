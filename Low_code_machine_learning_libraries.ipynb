{
 "cells": [
  {
   "cell_type": "markdown",
   "id": "ff7a0879",
   "metadata": {
    "ExecuteTime": {
     "end_time": "2021-06-17T20:05:51.681767Z",
     "start_time": "2021-06-17T20:05:51.678928Z"
    }
   },
   "source": [
    "# TPOT"
   ]
  },
  {
   "cell_type": "code",
   "execution_count": 3,
   "id": "393e47d7",
   "metadata": {
    "ExecuteTime": {
     "end_time": "2021-06-17T20:05:59.754923Z",
     "start_time": "2021-06-17T20:05:59.752529Z"
    }
   },
   "outputs": [],
   "source": [
    "# !pip install tpot"
   ]
  },
  {
   "cell_type": "code",
   "execution_count": 4,
   "id": "b8fd36c1",
   "metadata": {
    "ExecuteTime": {
     "end_time": "2021-06-17T20:10:39.188942Z",
     "start_time": "2021-06-17T20:10:38.516094Z"
    }
   },
   "outputs": [],
   "source": [
    "import pandas as pd"
   ]
  },
  {
   "cell_type": "code",
   "execution_count": null,
   "id": "288b034b",
   "metadata": {},
   "outputs": [],
   "source": []
  }
 ],
 "metadata": {
  "kernelspec": {
   "display_name": "Python 3",
   "language": "python",
   "name": "python3"
  },
  "language_info": {
   "codemirror_mode": {
    "name": "ipython",
    "version": 3
   },
   "file_extension": ".py",
   "mimetype": "text/x-python",
   "name": "python",
   "nbconvert_exporter": "python",
   "pygments_lexer": "ipython3",
   "version": "3.6.9"
  },
  "toc": {
   "base_numbering": 1,
   "nav_menu": {},
   "number_sections": true,
   "sideBar": true,
   "skip_h1_title": false,
   "title_cell": "Table of Contents",
   "title_sidebar": "Contents",
   "toc_cell": false,
   "toc_position": {},
   "toc_section_display": true,
   "toc_window_display": false
  }
 },
 "nbformat": 4,
 "nbformat_minor": 5
}
