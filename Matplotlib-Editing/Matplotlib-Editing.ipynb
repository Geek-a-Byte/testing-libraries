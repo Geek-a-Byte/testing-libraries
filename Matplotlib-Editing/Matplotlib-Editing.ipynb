{
 "cells": [
  {
   "cell_type": "code",
   "execution_count": 1,
   "metadata": {
    "ExecuteTime": {
     "end_time": "2021-05-02T05:36:04.653153Z",
     "start_time": "2021-05-02T05:36:04.649286Z"
    }
   },
   "outputs": [],
   "source": [
    "import pyforest\n",
    "\n",
    "# Hide warnings\n",
    "import warnings\n",
    "warnings.filterwarnings(\"ignore\")"
   ]
  },
  {
   "cell_type": "code",
   "execution_count": 2,
   "metadata": {
    "ExecuteTime": {
     "end_time": "2021-05-02T05:36:07.073707Z",
     "start_time": "2021-05-02T05:36:05.307329Z"
    }
   },
   "outputs": [
    {
     "data": {
      "application/javascript": [
       "\n",
       "        if (window._pyforest_update_imports_cell) { window._pyforest_update_imports_cell('import pandas as pd'); }\n",
       "    "
      ],
      "text/plain": [
       "<IPython.core.display.Javascript object>"
      ]
     },
     "metadata": {},
     "output_type": "display_data"
    }
   ],
   "source": [
    "df = pd.read_csv('RU.txt', sep='\\t')"
   ]
  },
  {
   "cell_type": "code",
   "execution_count": 3,
   "metadata": {
    "ExecuteTime": {
     "end_time": "2021-05-02T05:36:07.099669Z",
     "start_time": "2021-05-02T05:36:07.075975Z"
    },
    "scrolled": false
   },
   "outputs": [
    {
     "data": {
      "text/html": [
       "<div>\n",
       "<style scoped>\n",
       "    .dataframe tbody tr th:only-of-type {\n",
       "        vertical-align: middle;\n",
       "    }\n",
       "\n",
       "    .dataframe tbody tr th {\n",
       "        vertical-align: top;\n",
       "    }\n",
       "\n",
       "    .dataframe thead th {\n",
       "        text-align: right;\n",
       "    }\n",
       "</style>\n",
       "<table border=\"1\" class=\"dataframe\">\n",
       "  <thead>\n",
       "    <tr style=\"text-align: right;\">\n",
       "      <th></th>\n",
       "      <th>geonameid</th>\n",
       "      <th>name</th>\n",
       "      <th>asciiname</th>\n",
       "      <th>alternatenames</th>\n",
       "      <th>latitude</th>\n",
       "      <th>longitude</th>\n",
       "      <th>feature_class</th>\n",
       "      <th>feature_code</th>\n",
       "      <th>country_code</th>\n",
       "      <th>cc2</th>\n",
       "      <th>admin1</th>\n",
       "      <th>admin2</th>\n",
       "      <th>admin3</th>\n",
       "      <th>admin4</th>\n",
       "      <th>population</th>\n",
       "      <th>elevation</th>\n",
       "      <th>dem</th>\n",
       "      <th>timezone</th>\n",
       "      <th>date</th>\n",
       "    </tr>\n",
       "  </thead>\n",
       "  <tbody>\n",
       "    <tr>\n",
       "      <th>0</th>\n",
       "      <td>451747</td>\n",
       "      <td>Zyabrikovo</td>\n",
       "      <td>Zyabrikovo</td>\n",
       "      <td>NaN</td>\n",
       "      <td>56.84665</td>\n",
       "      <td>34.70480</td>\n",
       "      <td>P</td>\n",
       "      <td>PPL</td>\n",
       "      <td>RU</td>\n",
       "      <td>NaN</td>\n",
       "      <td>77</td>\n",
       "      <td>NaN</td>\n",
       "      <td>NaN</td>\n",
       "      <td>NaN</td>\n",
       "      <td>0</td>\n",
       "      <td>NaN</td>\n",
       "      <td>204</td>\n",
       "      <td>Europe/Moscow</td>\n",
       "      <td>2011-07-09</td>\n",
       "    </tr>\n",
       "    <tr>\n",
       "      <th>1</th>\n",
       "      <td>451748</td>\n",
       "      <td>Znamenka</td>\n",
       "      <td>Znamenka</td>\n",
       "      <td>NaN</td>\n",
       "      <td>56.74087</td>\n",
       "      <td>34.02323</td>\n",
       "      <td>P</td>\n",
       "      <td>PPL</td>\n",
       "      <td>RU</td>\n",
       "      <td>NaN</td>\n",
       "      <td>77</td>\n",
       "      <td>NaN</td>\n",
       "      <td>NaN</td>\n",
       "      <td>NaN</td>\n",
       "      <td>0</td>\n",
       "      <td>NaN</td>\n",
       "      <td>215</td>\n",
       "      <td>Europe/Moscow</td>\n",
       "      <td>2011-07-09</td>\n",
       "    </tr>\n",
       "    <tr>\n",
       "      <th>2</th>\n",
       "      <td>451749</td>\n",
       "      <td>Zhukovo</td>\n",
       "      <td>Zhukovo</td>\n",
       "      <td>NaN</td>\n",
       "      <td>57.26429</td>\n",
       "      <td>34.20956</td>\n",
       "      <td>P</td>\n",
       "      <td>PPL</td>\n",
       "      <td>RU</td>\n",
       "      <td>NaN</td>\n",
       "      <td>77</td>\n",
       "      <td>NaN</td>\n",
       "      <td>NaN</td>\n",
       "      <td>NaN</td>\n",
       "      <td>0</td>\n",
       "      <td>NaN</td>\n",
       "      <td>237</td>\n",
       "      <td>Europe/Moscow</td>\n",
       "      <td>2011-07-09</td>\n",
       "    </tr>\n",
       "    <tr>\n",
       "      <th>3</th>\n",
       "      <td>451750</td>\n",
       "      <td>Zhitovo</td>\n",
       "      <td>Zhitovo</td>\n",
       "      <td>NaN</td>\n",
       "      <td>57.29693</td>\n",
       "      <td>34.41848</td>\n",
       "      <td>P</td>\n",
       "      <td>PPL</td>\n",
       "      <td>RU</td>\n",
       "      <td>NaN</td>\n",
       "      <td>77</td>\n",
       "      <td>NaN</td>\n",
       "      <td>NaN</td>\n",
       "      <td>NaN</td>\n",
       "      <td>0</td>\n",
       "      <td>NaN</td>\n",
       "      <td>247</td>\n",
       "      <td>Europe/Moscow</td>\n",
       "      <td>2011-07-09</td>\n",
       "    </tr>\n",
       "    <tr>\n",
       "      <th>4</th>\n",
       "      <td>451751</td>\n",
       "      <td>Zhitnikovo</td>\n",
       "      <td>Zhitnikovo</td>\n",
       "      <td>NaN</td>\n",
       "      <td>57.20064</td>\n",
       "      <td>34.57831</td>\n",
       "      <td>P</td>\n",
       "      <td>PPL</td>\n",
       "      <td>RU</td>\n",
       "      <td>NaN</td>\n",
       "      <td>77</td>\n",
       "      <td>NaN</td>\n",
       "      <td>NaN</td>\n",
       "      <td>NaN</td>\n",
       "      <td>0</td>\n",
       "      <td>NaN</td>\n",
       "      <td>198</td>\n",
       "      <td>Europe/Moscow</td>\n",
       "      <td>2011-07-09</td>\n",
       "    </tr>\n",
       "  </tbody>\n",
       "</table>\n",
       "</div>"
      ],
      "text/plain": [
       "   geonameid        name   asciiname alternatenames  latitude  longitude  \\\n",
       "0     451747  Zyabrikovo  Zyabrikovo            NaN  56.84665   34.70480   \n",
       "1     451748    Znamenka    Znamenka            NaN  56.74087   34.02323   \n",
       "2     451749     Zhukovo     Zhukovo            NaN  57.26429   34.20956   \n",
       "3     451750     Zhitovo     Zhitovo            NaN  57.29693   34.41848   \n",
       "4     451751  Zhitnikovo  Zhitnikovo            NaN  57.20064   34.57831   \n",
       "\n",
       "  feature_class feature_code country_code  cc2 admin1 admin2  admin3  admin4  \\\n",
       "0             P          PPL           RU  NaN     77    NaN     NaN     NaN   \n",
       "1             P          PPL           RU  NaN     77    NaN     NaN     NaN   \n",
       "2             P          PPL           RU  NaN     77    NaN     NaN     NaN   \n",
       "3             P          PPL           RU  NaN     77    NaN     NaN     NaN   \n",
       "4             P          PPL           RU  NaN     77    NaN     NaN     NaN   \n",
       "\n",
       "   population  elevation  dem       timezone        date  \n",
       "0           0        NaN  204  Europe/Moscow  2011-07-09  \n",
       "1           0        NaN  215  Europe/Moscow  2011-07-09  \n",
       "2           0        NaN  237  Europe/Moscow  2011-07-09  \n",
       "3           0        NaN  247  Europe/Moscow  2011-07-09  \n",
       "4           0        NaN  198  Europe/Moscow  2011-07-09  "
      ]
     },
     "execution_count": 3,
     "metadata": {},
     "output_type": "execute_result"
    }
   ],
   "source": [
    "df.head()"
   ]
  },
  {
   "cell_type": "code",
   "execution_count": 15,
   "metadata": {
    "ExecuteTime": {
     "end_time": "2021-05-02T05:41:53.523508Z",
     "start_time": "2021-05-02T05:41:53.507246Z"
    }
   },
   "outputs": [
    {
     "data": {
      "text/plain": [
       "array(['RU'], dtype=object)"
      ]
     },
     "execution_count": 15,
     "metadata": {},
     "output_type": "execute_result"
    }
   ],
   "source": [
    "df['country_code'].unique()"
   ]
  },
  {
   "cell_type": "code",
   "execution_count": 13,
   "metadata": {
    "ExecuteTime": {
     "end_time": "2021-05-02T05:41:28.202424Z",
     "start_time": "2021-05-02T05:41:28.171198Z"
    }
   },
   "outputs": [
    {
     "data": {
      "text/html": [
       "<div>\n",
       "<style scoped>\n",
       "    .dataframe tbody tr th:only-of-type {\n",
       "        vertical-align: middle;\n",
       "    }\n",
       "\n",
       "    .dataframe tbody tr th {\n",
       "        vertical-align: top;\n",
       "    }\n",
       "\n",
       "    .dataframe thead th {\n",
       "        text-align: right;\n",
       "    }\n",
       "</style>\n",
       "<table border=\"1\" class=\"dataframe\">\n",
       "  <thead>\n",
       "    <tr style=\"text-align: right;\">\n",
       "      <th></th>\n",
       "      <th>geonameid</th>\n",
       "      <th>name</th>\n",
       "      <th>asciiname</th>\n",
       "      <th>alternatenames</th>\n",
       "      <th>latitude</th>\n",
       "      <th>longitude</th>\n",
       "      <th>feature_class</th>\n",
       "      <th>feature_code</th>\n",
       "      <th>country_code</th>\n",
       "      <th>cc2</th>\n",
       "      <th>admin1</th>\n",
       "      <th>admin2</th>\n",
       "      <th>admin3</th>\n",
       "      <th>admin4</th>\n",
       "      <th>population</th>\n",
       "      <th>elevation</th>\n",
       "      <th>dem</th>\n",
       "      <th>timezone</th>\n",
       "      <th>date</th>\n",
       "    </tr>\n",
       "  </thead>\n",
       "  <tbody>\n",
       "  </tbody>\n",
       "</table>\n",
       "</div>"
      ],
      "text/plain": [
       "Empty DataFrame\n",
       "Columns: [geonameid, name, asciiname, alternatenames, latitude, longitude, feature_class, feature_code, country_code, cc2, admin1, admin2, admin3, admin4, population, elevation, dem, timezone, date]\n",
       "Index: []"
      ]
     },
     "execution_count": 13,
     "metadata": {},
     "output_type": "execute_result"
    }
   ],
   "source": [
    "df[df['country_code'] == 'US']"
   ]
  },
  {
   "cell_type": "code",
   "execution_count": 11,
   "metadata": {
    "ExecuteTime": {
     "end_time": "2021-05-02T05:39:22.156629Z",
     "start_time": "2021-05-02T05:39:22.123980Z"
    }
   },
   "outputs": [
    {
     "data": {
      "text/html": [
       "<div>\n",
       "<style scoped>\n",
       "    .dataframe tbody tr th:only-of-type {\n",
       "        vertical-align: middle;\n",
       "    }\n",
       "\n",
       "    .dataframe tbody tr th {\n",
       "        vertical-align: top;\n",
       "    }\n",
       "\n",
       "    .dataframe thead th {\n",
       "        text-align: right;\n",
       "    }\n",
       "</style>\n",
       "<table border=\"1\" class=\"dataframe\">\n",
       "  <thead>\n",
       "    <tr style=\"text-align: right;\">\n",
       "      <th></th>\n",
       "      <th>name</th>\n",
       "      <th>population</th>\n",
       "    </tr>\n",
       "  </thead>\n",
       "  <tbody>\n",
       "    <tr>\n",
       "      <th>201199</th>\n",
       "      <td>Russian Federation</td>\n",
       "      <td>140702000</td>\n",
       "    </tr>\n",
       "    <tr>\n",
       "      <th>354647</th>\n",
       "      <td>European Russia</td>\n",
       "      <td>110000000</td>\n",
       "    </tr>\n",
       "    <tr>\n",
       "      <th>354649</th>\n",
       "      <td>Central</td>\n",
       "      <td>38438600</td>\n",
       "    </tr>\n",
       "    <tr>\n",
       "      <th>354650</th>\n",
       "      <td>Volga</td>\n",
       "      <td>29900400</td>\n",
       "    </tr>\n",
       "    <tr>\n",
       "      <th>354654</th>\n",
       "      <td>Siberia</td>\n",
       "      <td>19254300</td>\n",
       "    </tr>\n",
       "    <tr>\n",
       "      <th>354651</th>\n",
       "      <td>South</td>\n",
       "      <td>16141100</td>\n",
       "    </tr>\n",
       "    <tr>\n",
       "      <th>354648</th>\n",
       "      <td>Northwest</td>\n",
       "      <td>13583800</td>\n",
       "    </tr>\n",
       "    <tr>\n",
       "      <th>354653</th>\n",
       "      <td>Ural</td>\n",
       "      <td>12082700</td>\n",
       "    </tr>\n",
       "    <tr>\n",
       "      <th>64225</th>\n",
       "      <td>Moskva</td>\n",
       "      <td>11503501</td>\n",
       "    </tr>\n",
       "    <tr>\n",
       "      <th>64232</th>\n",
       "      <td>Moscow</td>\n",
       "      <td>10381222</td>\n",
       "    </tr>\n",
       "    <tr>\n",
       "      <th>354652</th>\n",
       "      <td>North Caucasus</td>\n",
       "      <td>9496800</td>\n",
       "    </tr>\n",
       "    <tr>\n",
       "      <th>64256</th>\n",
       "      <td>Moscow Oblast</td>\n",
       "      <td>7095120</td>\n",
       "    </tr>\n",
       "    <tr>\n",
       "      <th>354655</th>\n",
       "      <td>Far East</td>\n",
       "      <td>6291900</td>\n",
       "    </tr>\n",
       "    <tr>\n",
       "      <th>81677</th>\n",
       "      <td>Krasnodarskiy Kray</td>\n",
       "      <td>5191490</td>\n",
       "    </tr>\n",
       "    <tr>\n",
       "      <th>75494</th>\n",
       "      <td>Sankt-Peterburg</td>\n",
       "      <td>5132000</td>\n",
       "    </tr>\n",
       "    <tr>\n",
       "      <th>38260</th>\n",
       "      <td>Saint Petersburg</td>\n",
       "      <td>5028000</td>\n",
       "    </tr>\n",
       "    <tr>\n",
       "      <th>165719</th>\n",
       "      <td>Sverdlovskaya Oblast’</td>\n",
       "      <td>4412629</td>\n",
       "    </tr>\n",
       "    <tr>\n",
       "      <th>40596</th>\n",
       "      <td>Rostovskaya Oblast’</td>\n",
       "      <td>4397303</td>\n",
       "    </tr>\n",
       "    <tr>\n",
       "      <th>117904</th>\n",
       "      <td>Bashkortostan</td>\n",
       "      <td>4072292</td>\n",
       "    </tr>\n",
       "    <tr>\n",
       "      <th>23564</th>\n",
       "      <td>Tatarstan</td>\n",
       "      <td>3786488</td>\n",
       "    </tr>\n",
       "  </tbody>\n",
       "</table>\n",
       "</div>"
      ],
      "text/plain": [
       "                         name  population\n",
       "201199     Russian Federation   140702000\n",
       "354647        European Russia   110000000\n",
       "354649                Central    38438600\n",
       "354650                  Volga    29900400\n",
       "354654                Siberia    19254300\n",
       "354651                  South    16141100\n",
       "354648              Northwest    13583800\n",
       "354653                   Ural    12082700\n",
       "64225                  Moskva    11503501\n",
       "64232                  Moscow    10381222\n",
       "354652         North Caucasus     9496800\n",
       "64256           Moscow Oblast     7095120\n",
       "354655               Far East     6291900\n",
       "81677      Krasnodarskiy Kray     5191490\n",
       "75494         Sankt-Peterburg     5132000\n",
       "38260        Saint Petersburg     5028000\n",
       "165719  Sverdlovskaya Oblast’     4412629\n",
       "40596     Rostovskaya Oblast’     4397303\n",
       "117904          Bashkortostan     4072292\n",
       "23564               Tatarstan     3786488"
      ]
     },
     "execution_count": 11,
     "metadata": {},
     "output_type": "execute_result"
    }
   ],
   "source": [
    "df[['name', 'population']]\n",
    "\n",
    "# .nlargest(20, ['population'], keep='first')\n",
    "\n",
    "# .sort_values(by=['population'], ascending=False)"
   ]
  },
  {
   "cell_type": "code",
   "execution_count": null,
   "metadata": {},
   "outputs": [],
   "source": []
  },
  {
   "cell_type": "code",
   "execution_count": null,
   "metadata": {},
   "outputs": [],
   "source": []
  },
  {
   "cell_type": "code",
   "execution_count": null,
   "metadata": {},
   "outputs": [],
   "source": []
  },
  {
   "cell_type": "code",
   "execution_count": 15,
   "metadata": {
    "ExecuteTime": {
     "end_time": "2021-05-02T05:34:37.926793Z",
     "start_time": "2021-05-02T05:34:37.922517Z"
    }
   },
   "outputs": [],
   "source": [
    "x = df['name']\n",
    "y = df['population']"
   ]
  },
  {
   "cell_type": "code",
   "execution_count": null,
   "metadata": {
    "ExecuteTime": {
     "start_time": "2021-05-02T05:35:16.533Z"
    }
   },
   "outputs": [],
   "source": [
    "plt.bar(x, height=y)"
   ]
  },
  {
   "cell_type": "code",
   "execution_count": null,
   "metadata": {},
   "outputs": [],
   "source": []
  },
  {
   "cell_type": "code",
   "execution_count": null,
   "metadata": {},
   "outputs": [],
   "source": []
  },
  {
   "cell_type": "code",
   "execution_count": null,
   "metadata": {},
   "outputs": [],
   "source": []
  },
  {
   "cell_type": "code",
   "execution_count": null,
   "metadata": {},
   "outputs": [],
   "source": []
  },
  {
   "cell_type": "code",
   "execution_count": null,
   "metadata": {},
   "outputs": [],
   "source": []
  },
  {
   "cell_type": "code",
   "execution_count": null,
   "metadata": {},
   "outputs": [],
   "source": []
  },
  {
   "cell_type": "code",
   "execution_count": null,
   "metadata": {},
   "outputs": [],
   "source": []
  },
  {
   "cell_type": "code",
   "execution_count": null,
   "metadata": {},
   "outputs": [],
   "source": []
  },
  {
   "cell_type": "code",
   "execution_count": null,
   "metadata": {},
   "outputs": [],
   "source": []
  },
  {
   "cell_type": "code",
   "execution_count": null,
   "metadata": {},
   "outputs": [],
   "source": []
  },
  {
   "cell_type": "code",
   "execution_count": null,
   "metadata": {},
   "outputs": [],
   "source": []
  },
  {
   "cell_type": "code",
   "execution_count": null,
   "metadata": {},
   "outputs": [],
   "source": []
  },
  {
   "cell_type": "code",
   "execution_count": null,
   "metadata": {},
   "outputs": [],
   "source": []
  },
  {
   "cell_type": "code",
   "execution_count": null,
   "metadata": {},
   "outputs": [],
   "source": []
  },
  {
   "cell_type": "code",
   "execution_count": null,
   "metadata": {},
   "outputs": [],
   "source": []
  },
  {
   "cell_type": "code",
   "execution_count": null,
   "metadata": {},
   "outputs": [],
   "source": []
  },
  {
   "cell_type": "code",
   "execution_count": null,
   "metadata": {},
   "outputs": [],
   "source": []
  },
  {
   "cell_type": "code",
   "execution_count": null,
   "metadata": {},
   "outputs": [],
   "source": []
  },
  {
   "cell_type": "code",
   "execution_count": null,
   "metadata": {},
   "outputs": [],
   "source": []
  }
 ],
 "metadata": {
  "kernelspec": {
   "display_name": "learn-env",
   "language": "python",
   "name": "learn-env"
  },
  "language_info": {
   "codemirror_mode": {
    "name": "ipython",
    "version": 3
   },
   "file_extension": ".py",
   "mimetype": "text/x-python",
   "name": "python",
   "nbconvert_exporter": "python",
   "pygments_lexer": "ipython3",
   "version": "3.6.9"
  },
  "toc": {
   "base_numbering": 1,
   "nav_menu": {},
   "number_sections": true,
   "sideBar": true,
   "skip_h1_title": false,
   "title_cell": "Table of Contents",
   "title_sidebar": "Contents",
   "toc_cell": false,
   "toc_position": {},
   "toc_section_display": true,
   "toc_window_display": false
  }
 },
 "nbformat": 4,
 "nbformat_minor": 4
}
