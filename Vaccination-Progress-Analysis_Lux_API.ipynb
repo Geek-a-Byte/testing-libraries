{
 "cells": [
  {
   "cell_type": "code",
   "execution_count": 4,
   "metadata": {
    "ExecuteTime": {
     "end_time": "2021-03-30T18:51:37.755371Z",
     "start_time": "2021-03-30T18:51:13.689187Z"
    },
    "collapsed": true
   },
   "outputs": [
    {
     "name": "stdout",
     "output_type": "stream",
     "text": [
      "Collecting lux-api\n",
      "  Using cached lux-api-0.2.3.tar.gz (94 kB)\n",
      "Requirement already satisfied: scipy>=1.3.3 in /opt/anaconda3/envs/learn-env/lib/python3.6/site-packages (from lux-api) (1.5.0)\n",
      "Requirement already satisfied: altair>=4.0.0 in /opt/anaconda3/envs/learn-env/lib/python3.6/site-packages (from lux-api) (4.1.0)\n",
      "Requirement already satisfied: numpy>=1.16.5 in /opt/anaconda3/envs/learn-env/lib/python3.6/site-packages (from lux-api) (1.18.5)\n",
      "Collecting pandas>=1.1.0\n",
      "  Downloading pandas-1.1.5-cp36-cp36m-macosx_10_9_x86_64.whl (10.2 MB)\n",
      "\u001b[K     |████████████████████████████████| 10.2 MB 1.4 MB/s eta 0:00:01\n",
      "\u001b[?25hRequirement already satisfied: scikit-learn>=0.22 in /opt/anaconda3/envs/learn-env/lib/python3.6/site-packages (from lux-api) (0.23.2)\n",
      "Requirement already satisfied: matplotlib>=3.0.0 in /opt/anaconda3/envs/learn-env/lib/python3.6/site-packages (from lux-api) (3.3.3)\n",
      "Collecting lux-widget>=0.1.4\n",
      "  Using cached lux-widget-0.1.4.tar.gz (2.1 MB)\n",
      "Requirement already satisfied: entrypoints in /opt/anaconda3/envs/learn-env/lib/python3.6/site-packages (from altair>=4.0.0->lux-api) (0.3)\n",
      "Requirement already satisfied: jinja2 in /opt/anaconda3/envs/learn-env/lib/python3.6/site-packages (from altair>=4.0.0->lux-api) (2.11.3)\n",
      "Requirement already satisfied: jsonschema in /opt/anaconda3/envs/learn-env/lib/python3.6/site-packages (from altair>=4.0.0->lux-api) (2.6.0)\n",
      "Requirement already satisfied: toolz in /opt/anaconda3/envs/learn-env/lib/python3.6/site-packages (from altair>=4.0.0->lux-api) (0.11.1)\n",
      "Requirement already satisfied: jupyter in /opt/anaconda3/envs/learn-env/lib/python3.6/site-packages (from lux-widget>=0.1.4->lux-api) (1.0.0)\n",
      "Requirement already satisfied: notebook>=4.0.0 in /opt/anaconda3/envs/learn-env/lib/python3.6/site-packages (from lux-widget>=0.1.4->lux-api) (6.1.2)\n",
      "Requirement already satisfied: ipywidgets>=7.5.0 in /opt/anaconda3/envs/learn-env/lib/python3.6/site-packages (from lux-widget>=0.1.4->lux-api) (7.6.3)\n",
      "Requirement already satisfied: widgetsnbextension~=3.5.0 in /opt/anaconda3/envs/learn-env/lib/python3.6/site-packages (from ipywidgets>=7.5.0->lux-widget>=0.1.4->lux-api) (3.5.1)\n",
      "Requirement already satisfied: ipython>=4.0.0 in /opt/anaconda3/envs/learn-env/lib/python3.6/site-packages (from ipywidgets>=7.5.0->lux-widget>=0.1.4->lux-api) (5.8.0)\n",
      "Requirement already satisfied: ipykernel>=4.5.1 in /opt/anaconda3/envs/learn-env/lib/python3.6/site-packages (from ipywidgets>=7.5.0->lux-widget>=0.1.4->lux-api) (5.3.4)\n",
      "Requirement already satisfied: nbformat>=4.2.0 in /opt/anaconda3/envs/learn-env/lib/python3.6/site-packages (from ipywidgets>=7.5.0->lux-widget>=0.1.4->lux-api) (5.0.7)\n",
      "Requirement already satisfied: traitlets>=4.3.1 in /opt/anaconda3/envs/learn-env/lib/python3.6/site-packages (from ipywidgets>=7.5.0->lux-widget>=0.1.4->lux-api) (4.3.3)\n",
      "Requirement already satisfied: jupyterlab-widgets>=1.0.0 in /opt/anaconda3/envs/learn-env/lib/python3.6/site-packages (from ipywidgets>=7.5.0->lux-widget>=0.1.4->lux-api) (1.0.0)\n",
      "Requirement already satisfied: tornado>=4.2 in /opt/anaconda3/envs/learn-env/lib/python3.6/site-packages (from ipykernel>=4.5.1->ipywidgets>=7.5.0->lux-widget>=0.1.4->lux-api) (6.0.4)\n",
      "Requirement already satisfied: jupyter-client in /opt/anaconda3/envs/learn-env/lib/python3.6/site-packages (from ipykernel>=4.5.1->ipywidgets>=7.5.0->lux-widget>=0.1.4->lux-api) (6.1.6)\n",
      "Requirement already satisfied: appnope in /opt/anaconda3/envs/learn-env/lib/python3.6/site-packages (from ipykernel>=4.5.1->ipywidgets>=7.5.0->lux-widget>=0.1.4->lux-api) (0.1.0)\n",
      "Requirement already satisfied: prompt-toolkit<2.0.0,>=1.0.4 in /opt/anaconda3/envs/learn-env/lib/python3.6/site-packages (from ipython>=4.0.0->ipywidgets>=7.5.0->lux-widget>=0.1.4->lux-api) (1.0.15)\n",
      "Requirement already satisfied: setuptools>=18.5 in /opt/anaconda3/envs/learn-env/lib/python3.6/site-packages (from ipython>=4.0.0->ipywidgets>=7.5.0->lux-widget>=0.1.4->lux-api) (51.3.3)\n",
      "Requirement already satisfied: pexpect in /opt/anaconda3/envs/learn-env/lib/python3.6/site-packages (from ipython>=4.0.0->ipywidgets>=7.5.0->lux-widget>=0.1.4->lux-api) (4.8.0)\n",
      "Requirement already satisfied: pygments in /opt/anaconda3/envs/learn-env/lib/python3.6/site-packages (from ipython>=4.0.0->ipywidgets>=7.5.0->lux-widget>=0.1.4->lux-api) (2.6.1)\n",
      "Requirement already satisfied: decorator in /opt/anaconda3/envs/learn-env/lib/python3.6/site-packages (from ipython>=4.0.0->ipywidgets>=7.5.0->lux-widget>=0.1.4->lux-api) (4.4.2)\n",
      "Requirement already satisfied: simplegeneric>0.8 in /opt/anaconda3/envs/learn-env/lib/python3.6/site-packages (from ipython>=4.0.0->ipywidgets>=7.5.0->lux-widget>=0.1.4->lux-api) (0.8.1)\n",
      "Requirement already satisfied: pickleshare in /opt/anaconda3/envs/learn-env/lib/python3.6/site-packages (from ipython>=4.0.0->ipywidgets>=7.5.0->lux-widget>=0.1.4->lux-api) (0.7.5)\n",
      "Requirement already satisfied: pyparsing!=2.0.4,!=2.1.2,!=2.1.6,>=2.0.3 in /opt/anaconda3/envs/learn-env/lib/python3.6/site-packages (from matplotlib>=3.0.0->lux-api) (2.4.7)\n",
      "Requirement already satisfied: python-dateutil>=2.1 in /opt/anaconda3/envs/learn-env/lib/python3.6/site-packages (from matplotlib>=3.0.0->lux-api) (2.8.1)\n",
      "Requirement already satisfied: cycler>=0.10 in /opt/anaconda3/envs/learn-env/lib/python3.6/site-packages (from matplotlib>=3.0.0->lux-api) (0.10.0)\n",
      "Requirement already satisfied: pillow>=6.2.0 in /opt/anaconda3/envs/learn-env/lib/python3.6/site-packages (from matplotlib>=3.0.0->lux-api) (8.0.0)\n",
      "Requirement already satisfied: kiwisolver>=1.0.1 in /opt/anaconda3/envs/learn-env/lib/python3.6/site-packages (from matplotlib>=3.0.0->lux-api) (1.2.0)\n",
      "Requirement already satisfied: six in /opt/anaconda3/envs/learn-env/lib/python3.6/site-packages (from cycler>=0.10->matplotlib>=3.0.0->lux-api) (1.15.0)\n",
      "Requirement already satisfied: jupyter-core in /opt/anaconda3/envs/learn-env/lib/python3.6/site-packages (from nbformat>=4.2.0->ipywidgets>=7.5.0->lux-widget>=0.1.4->lux-api) (4.6.3)\n",
      "Requirement already satisfied: ipython-genutils in /opt/anaconda3/envs/learn-env/lib/python3.6/site-packages (from nbformat>=4.2.0->ipywidgets>=7.5.0->lux-widget>=0.1.4->lux-api) (0.2.0)\n",
      "Requirement already satisfied: nbconvert in /opt/anaconda3/envs/learn-env/lib/python3.6/site-packages (from notebook>=4.0.0->lux-widget>=0.1.4->lux-api) (5.6.1)\n",
      "Requirement already satisfied: Send2Trash in /opt/anaconda3/envs/learn-env/lib/python3.6/site-packages (from notebook>=4.0.0->lux-widget>=0.1.4->lux-api) (1.5.0)\n",
      "Requirement already satisfied: prometheus-client in /opt/anaconda3/envs/learn-env/lib/python3.6/site-packages (from notebook>=4.0.0->lux-widget>=0.1.4->lux-api) (0.8.0)\n",
      "Requirement already satisfied: pyzmq>=17 in /opt/anaconda3/envs/learn-env/lib/python3.6/site-packages (from notebook>=4.0.0->lux-widget>=0.1.4->lux-api) (18.1.1)\n",
      "Requirement already satisfied: argon2-cffi in /opt/anaconda3/envs/learn-env/lib/python3.6/site-packages (from notebook>=4.0.0->lux-widget>=0.1.4->lux-api) (20.1.0)\n",
      "Requirement already satisfied: terminado>=0.8.3 in /opt/anaconda3/envs/learn-env/lib/python3.6/site-packages (from notebook>=4.0.0->lux-widget>=0.1.4->lux-api) (0.8.3)\n",
      "Requirement already satisfied: pytz>=2017.2 in /opt/anaconda3/envs/learn-env/lib/python3.6/site-packages (from pandas>=1.1.0->lux-api) (2020.1)\n",
      "Requirement already satisfied: wcwidth in /opt/anaconda3/envs/learn-env/lib/python3.6/site-packages (from prompt-toolkit<2.0.0,>=1.0.4->ipython>=4.0.0->ipywidgets>=7.5.0->lux-widget>=0.1.4->lux-api) (0.2.5)\n",
      "Requirement already satisfied: threadpoolctl>=2.0.0 in /opt/anaconda3/envs/learn-env/lib/python3.6/site-packages (from scikit-learn>=0.22->lux-api) (2.1.0)\n",
      "Requirement already satisfied: joblib>=0.11 in /opt/anaconda3/envs/learn-env/lib/python3.6/site-packages (from scikit-learn>=0.22->lux-api) (0.11)\n",
      "Requirement already satisfied: cffi>=1.0.0 in /opt/anaconda3/envs/learn-env/lib/python3.6/site-packages (from argon2-cffi->notebook>=4.0.0->lux-widget>=0.1.4->lux-api) (1.14.1)\n",
      "Requirement already satisfied: pycparser in /opt/anaconda3/envs/learn-env/lib/python3.6/site-packages (from cffi>=1.0.0->argon2-cffi->notebook>=4.0.0->lux-widget>=0.1.4->lux-api) (2.20)\n",
      "Requirement already satisfied: MarkupSafe>=0.23 in /opt/anaconda3/envs/learn-env/lib/python3.6/site-packages (from jinja2->altair>=4.0.0->lux-api) (1.1.1)\n",
      "Requirement already satisfied: jupyter-console in /opt/anaconda3/envs/learn-env/lib/python3.6/site-packages (from jupyter->lux-widget>=0.1.4->lux-api) (6.2.0)\n"
     ]
    },
    {
     "name": "stdout",
     "output_type": "stream",
     "text": [
      "Requirement already satisfied: qtconsole in /opt/anaconda3/envs/learn-env/lib/python3.6/site-packages (from jupyter->lux-widget>=0.1.4->lux-api) (5.0.1)\n",
      "Collecting jupyter-console\n",
      "  Downloading jupyter_console-6.4.0-py3-none-any.whl (22 kB)\n",
      "  Downloading jupyter_console-6.3.0-py3-none-any.whl (22 kB)\n",
      "  Downloading jupyter_console-6.1.0-py2.py3-none-any.whl (21 kB)\n",
      "  Downloading jupyter_console-6.0.0-py2.py3-none-any.whl (21 kB)\n",
      "  Downloading jupyter_console-5.2.0-py2.py3-none-any.whl (20 kB)\n",
      "Requirement already satisfied: pandocfilters>=1.4.1 in /opt/anaconda3/envs/learn-env/lib/python3.6/site-packages (from nbconvert->notebook>=4.0.0->lux-widget>=0.1.4->lux-api) (1.4.2)\n",
      "Requirement already satisfied: defusedxml in /opt/anaconda3/envs/learn-env/lib/python3.6/site-packages (from nbconvert->notebook>=4.0.0->lux-widget>=0.1.4->lux-api) (0.6.0)\n",
      "Requirement already satisfied: bleach in /opt/anaconda3/envs/learn-env/lib/python3.6/site-packages (from nbconvert->notebook>=4.0.0->lux-widget>=0.1.4->lux-api) (3.1.5)\n",
      "Requirement already satisfied: testpath in /opt/anaconda3/envs/learn-env/lib/python3.6/site-packages (from nbconvert->notebook>=4.0.0->lux-widget>=0.1.4->lux-api) (0.4.4)\n",
      "Requirement already satisfied: mistune<2,>=0.8.1 in /opt/anaconda3/envs/learn-env/lib/python3.6/site-packages (from nbconvert->notebook>=4.0.0->lux-widget>=0.1.4->lux-api) (0.8.4)\n",
      "Requirement already satisfied: packaging in /opt/anaconda3/envs/learn-env/lib/python3.6/site-packages (from bleach->nbconvert->notebook>=4.0.0->lux-widget>=0.1.4->lux-api) (20.4)\n",
      "Requirement already satisfied: webencodings in /opt/anaconda3/envs/learn-env/lib/python3.6/site-packages (from bleach->nbconvert->notebook>=4.0.0->lux-widget>=0.1.4->lux-api) (0.5.1)\n",
      "Requirement already satisfied: ptyprocess>=0.5 in /opt/anaconda3/envs/learn-env/lib/python3.6/site-packages (from pexpect->ipython>=4.0.0->ipywidgets>=7.5.0->lux-widget>=0.1.4->lux-api) (0.6.0)\n",
      "Requirement already satisfied: qtpy in /opt/anaconda3/envs/learn-env/lib/python3.6/site-packages (from qtconsole->jupyter->lux-widget>=0.1.4->lux-api) (1.9.0)\n",
      "Building wheels for collected packages: lux-api, lux-widget\n",
      "  Building wheel for lux-api (setup.py) ... \u001b[?25ldone\n",
      "\u001b[?25h  Created wheel for lux-api: filename=lux_api-0.2.3-py3-none-any.whl size=146693 sha256=19725141d2f8881ca0084a7ab445f897597827a3d4669f42718c7de04c57ca31\n",
      "  Stored in directory: /Users/ismael/Library/Caches/pip/wheels/43/31/58/8cb830b6348283a100b6c3876c079d4eec7d22762b1d3820ad\n",
      "  Building wheel for lux-widget (setup.py) ... \u001b[?25ldone\n",
      "\u001b[?25h  Created wheel for lux-widget: filename=lux_widget-0.1.4-py3-none-any.whl size=4294794 sha256=4b225a5670abcd837bd761b256363dc4c687297d371d245c2239499c58d5130a\n",
      "  Stored in directory: /Users/ismael/Library/Caches/pip/wheels/4d/47/d4/d268ec421b68586441e30a63c5e6ae9384625b2d75c547077d\n",
      "Successfully built lux-api lux-widget\n",
      "Installing collected packages: jupyter-console, pandas, lux-widget, lux-api\n",
      "  Attempting uninstall: jupyter-console\n",
      "    Found existing installation: jupyter-console 6.2.0\n",
      "    Uninstalling jupyter-console-6.2.0:\n",
      "      Successfully uninstalled jupyter-console-6.2.0\n",
      "  Attempting uninstall: pandas\n",
      "    Found existing installation: pandas 0.25.3\n",
      "    Uninstalling pandas-0.25.3:\n",
      "      Successfully uninstalled pandas-0.25.3\n",
      "\u001b[31mERROR: pip's dependency resolver does not currently take into account all the packages that are installed. This behaviour is the source of the following dependency conflicts.\n",
      "phik 0.10.0 requires joblib>=0.14.1, but you have joblib 0.11 which is incompatible.\n",
      "skater 1.1.2 requires Jinja2==2.10, but you have jinja2 2.11.3 which is incompatible.\u001b[0m\n",
      "Successfully installed jupyter-console-5.2.0 lux-api-0.2.3 lux-widget-0.1.4 pandas-1.1.5\n"
     ]
    }
   ],
   "source": [
    "# Installing Lux\n",
    "# !pip install lux-api"
   ]
  },
  {
   "cell_type": "markdown",
   "metadata": {},
   "source": [
    "# Setup in Jupyter Notebook, VSCode, JupyterHub"
   ]
  },
  {
   "cell_type": "code",
   "execution_count": null,
   "metadata": {},
   "outputs": [],
   "source": [
    "# To use Lux with any Jupyter notebook-based frontends (e.g., Jupyter notebook, JupyterHub, or VSCode), activate the notebook extension:\n",
    "jupyter nbextension install --py luxwidget\n",
    "jupyter nbextension enable --py luxwidget"
   ]
  },
  {
   "cell_type": "code",
   "execution_count": 32,
   "metadata": {
    "ExecuteTime": {
     "end_time": "2021-03-30T19:33:21.157205Z",
     "start_time": "2021-03-30T19:33:21.154192Z"
    }
   },
   "outputs": [],
   "source": [
    "# Import libraries\n",
    "import pyforest\n",
    "import lux\n",
    "\n",
    "# Hide warnings\n",
    "import warnings\n",
    "warnings.filterwarnings(\"ignore\")"
   ]
  },
  {
   "cell_type": "code",
   "execution_count": 2,
   "metadata": {
    "ExecuteTime": {
     "end_time": "2021-03-30T19:22:13.179867Z",
     "start_time": "2021-03-30T19:22:13.134578Z"
    }
   },
   "outputs": [
    {
     "data": {
      "application/javascript": [
       "\n",
       "        if (window._pyforest_update_imports_cell) { window._pyforest_update_imports_cell('import pandas as pd'); }\n",
       "    "
      ],
      "text/plain": [
       "<IPython.core.display.Javascript object>"
      ]
     },
     "metadata": {},
     "output_type": "display_data"
    }
   ],
   "source": [
    "# Import dataset\n",
    "df = pd.read_csv('data/country_vaccinations 2.csv')"
   ]
  },
  {
   "cell_type": "code",
   "execution_count": 3,
   "metadata": {
    "ExecuteTime": {
     "end_time": "2021-03-30T19:22:16.436541Z",
     "start_time": "2021-03-30T19:22:13.184287Z"
    }
   },
   "outputs": [
    {
     "data": {
      "application/vnd.jupyter.widget-view+json": {
       "model_id": "4dddc53269eb47d29089079f2808545d",
       "version_major": 2,
       "version_minor": 0
      },
      "text/plain": [
       "Button(description='Toggle Pandas/Lux', layout=Layout(top='5px', width='140px'), style=ButtonStyle())"
      ]
     },
     "metadata": {},
     "output_type": "display_data"
    },
    {
     "data": {
      "application/vnd.jupyter.widget-view+json": {
       "model_id": "83868c11a47e4fdba8e5795dddd5d83c",
       "version_major": 2,
       "version_minor": 0
      },
      "text/plain": [
       "Output()"
      ]
     },
     "metadata": {},
     "output_type": "display_data"
    },
    {
     "data": {
      "text/plain": []
     },
     "execution_count": 3,
     "metadata": {},
     "output_type": "execute_result"
    }
   ],
   "source": [
    "df"
   ]
  },
  {
   "cell_type": "code",
   "execution_count": 6,
   "metadata": {
    "ExecuteTime": {
     "end_time": "2021-03-30T19:22:30.760532Z",
     "start_time": "2021-03-30T19:22:30.755977Z"
    }
   },
   "outputs": [
    {
     "data": {
      "text/plain": [
       "(8573, 15)"
      ]
     },
     "execution_count": 6,
     "metadata": {},
     "output_type": "execute_result"
    }
   ],
   "source": [
    "df.shape"
   ]
  },
  {
   "cell_type": "code",
   "execution_count": 7,
   "metadata": {
    "ExecuteTime": {
     "end_time": "2021-03-30T19:22:34.074940Z",
     "start_time": "2021-03-30T19:22:31.240930Z"
    },
    "scrolled": false
   },
   "outputs": [
    {
     "data": {
      "application/vnd.jupyter.widget-view+json": {
       "model_id": "a8671c89982e4cb58ec0e5c87df646cf",
       "version_major": 2,
       "version_minor": 0
      },
      "text/plain": [
       "Button(description='Toggle Pandas/Lux', layout=Layout(top='5px', width='140px'), style=ButtonStyle())"
      ]
     },
     "metadata": {},
     "output_type": "display_data"
    },
    {
     "data": {
      "application/vnd.jupyter.widget-view+json": {
       "model_id": "d2e96b4cbc654b889717aeb500842415",
       "version_major": 2,
       "version_minor": 0
      },
      "text/plain": [
       "Output()"
      ]
     },
     "metadata": {},
     "output_type": "display_data"
    },
    {
     "data": {
      "text/plain": []
     },
     "execution_count": 7,
     "metadata": {},
     "output_type": "execute_result"
    }
   ],
   "source": [
    "df.intent = ['country', 'total_vaccinations']\n",
    "df"
   ]
  },
  {
   "cell_type": "code",
   "execution_count": 9,
   "metadata": {
    "ExecuteTime": {
     "end_time": "2021-03-30T19:23:08.348596Z",
     "start_time": "2021-03-30T19:23:08.346183Z"
    }
   },
   "outputs": [],
   "source": [
    "vis = df.exported"
   ]
  },
  {
   "cell_type": "code",
   "execution_count": 10,
   "metadata": {
    "ExecuteTime": {
     "end_time": "2021-03-30T19:23:10.962219Z",
     "start_time": "2021-03-30T19:23:10.911419Z"
    }
   },
   "outputs": [
    {
     "data": {
      "application/vnd.jupyter.widget-view+json": {
       "model_id": "3610200777e1403498aa70db85484fee",
       "version_major": 2,
       "version_minor": 0
      },
      "text/plain": [
       "LuxWidget(recommendations=[{'action': 'Vis List', 'description': 'Shows a vis list defined by the intent', 'vs…"
      ]
     },
     "metadata": {},
     "output_type": "display_data"
    },
    {
     "data": {
      "text/plain": [
       "[<Vis  (x: MEAN(total_vaccinations), y: country, color: source_name) mark: bar, score: 0.01 >]"
      ]
     },
     "execution_count": 10,
     "metadata": {},
     "output_type": "execute_result"
    }
   ],
   "source": [
    "vis"
   ]
  },
  {
   "cell_type": "code",
   "execution_count": 11,
   "metadata": {
    "ExecuteTime": {
     "end_time": "2021-03-30T19:24:29.045932Z",
     "start_time": "2021-03-30T19:24:28.993263Z"
    }
   },
   "outputs": [
    {
     "name": "stdout",
     "output_type": "stream",
     "text": [
      "Saved HTML to hpi.html\n"
     ]
    }
   ],
   "source": [
    "df.save_as_html('hpi.html')"
   ]
  },
  {
   "cell_type": "code",
   "execution_count": 14,
   "metadata": {
    "ExecuteTime": {
     "end_time": "2021-03-30T19:24:55.568283Z",
     "start_time": "2021-03-30T19:24:55.319390Z"
    },
    "scrolled": true
   },
   "outputs": [
    {
     "data": {
      "application/vnd.jupyter.widget-view+json": {
       "model_id": "8f050b6ede7949e482ae4c72af084658",
       "version_major": 2,
       "version_minor": 0
      },
      "text/plain": [
       "LuxWidget(recommendations=[{'action': 'Vis List', 'description': 'Shows a vis list defined by the intent', 'vs…"
      ]
     },
     "metadata": {},
     "output_type": "display_data"
    },
    {
     "data": {
      "text/plain": [
       "[<Vis  (x: MEAN(total_vaccinations), y: country, color: source_name) mark: bar, score: 0.01 >,\n",
       " <Vis  (x: MEAN(total_vaccinations), y: country, color: vaccines) mark: bar, score: 0.01 >,\n",
       " <Vis  (x: MEAN(total_vaccinations), y: country, color: date) mark: bar, score: 0.01 >,\n",
       " <Vis  (x: MEAN(total_vaccinations), y: country, color: source_website) mark: bar, score: 0.00 >,\n",
       " <Vis  (x: MEAN(total_vaccinations), y: country, color: iso_code) mark: bar, score: 0.00 >]"
      ]
     },
     "execution_count": 14,
     "metadata": {},
     "output_type": "execute_result"
    }
   ],
   "source": [
    "df.recommendation[\"Enhance\"]"
   ]
  },
  {
   "cell_type": "code",
   "execution_count": 16,
   "metadata": {
    "ExecuteTime": {
     "end_time": "2021-03-30T19:25:09.717556Z",
     "start_time": "2021-03-30T19:25:09.661708Z"
    }
   },
   "outputs": [
    {
     "data": {
      "application/vnd.jupyter.widget-view+json": {
       "model_id": "5daabf4fbd624337a5bcb7cf561e7377",
       "version_major": 2,
       "version_minor": 0
      },
      "text/plain": [
       "LuxWidget(current_vis={'config': {'view': {'continuousWidth': 400, 'continuousHeight': 300}, 'axis': {'labelCo…"
      ]
     },
     "metadata": {},
     "output_type": "display_data"
    },
    {
     "data": {
      "text/plain": [
       "<Vis  (x: MEAN(total_vaccinations), y: country, color: source_name) mark: bar, score: 0.01 >"
      ]
     },
     "execution_count": 16,
     "metadata": {},
     "output_type": "execute_result"
    }
   ],
   "source": [
    "vis = df.exported[0]\n",
    "vis"
   ]
  },
  {
   "cell_type": "code",
   "execution_count": 17,
   "metadata": {
    "ExecuteTime": {
     "end_time": "2021-03-30T19:25:10.531231Z",
     "start_time": "2021-03-30T19:25:10.527855Z"
    },
    "scrolled": true
   },
   "outputs": [],
   "source": [
    "df.intent = vis"
   ]
  },
  {
   "cell_type": "code",
   "execution_count": 18,
   "metadata": {
    "ExecuteTime": {
     "end_time": "2021-03-30T19:25:11.426940Z",
     "start_time": "2021-03-30T19:25:11.407185Z"
    }
   },
   "outputs": [
    {
     "name": "stdout",
     "output_type": "stream",
     "text": [
      "import altair as alt\n",
      "visData = pd.DataFrame({'country': {14325: 'United States', 2519: 'China', 5919: 'India', 14284: 'United Kingdom', 3838: 'England', 1950: 'Brazil', 13777: 'Turkey', 11126: 'Russia', 6359: 'Israel', 4536: 'Germany'}, 'source_name': {14325: 'Centers for Disease Control and Prevention', 2519: 'National Health Commission', 5919: 'Ministry of Health', 14284: 'Government of the United Kingdom', 3838: 'Government of the United Kingdom', 1950: 'Ministry of Health', 13777: 'COVID-19 Vaccine Information Platform', 11126: 'Official data from local governments via gogov.ru', 6359: 'Government of Israel', 4536: 'Robert Koch Institut'}, 'total_vaccinations': {14325: 56850420.4, 2519: 52523931.578947365, 5919: 17261202.930555556, 14284: 16025884.666666666, 3838: 13559694.641975308, 1950: 6774709.567164179, 13777: 6295294.27027027, 11126: 5958618.52, 6359: 5345397.68, 4536: 4666101.217391305}})\n",
      "\n",
      "chart = alt.Chart(visData).mark_bar().encode(\n",
      "    y = alt.Y('country', type= 'nominal', axis=alt.Axis(labelOverlap=True, title='country'), sort ='-x'),\n",
      "    x = alt.X('total_vaccinations', type= 'quantitative', title='Mean of total_vaccinati...', axis=alt.Axis(title='Mean of total_vaccinati...')),\n",
      ")\n",
      "chart = chart.encode(color=alt.Color('source_name',type='nominal'))\n",
      "text = alt.Chart(visData).mark_text(\n",
      "\tx=155, \n",
      "\ty=142,\n",
      "\talign=\"right\",\n",
      "\tcolor = \"#ff8e04\",\n",
      "\tfontSize = 11,\n",
      "\ttext=f\"+ 145 more ...\"\n",
      ")\n",
      "chart = chart + text\n",
      "chart = chart.configure_mark(tooltip=alt.TooltipContent('encoding'))\n",
      "chart = chart.configure_title(fontWeight=500,fontSize=13,font='Helvetica Neue')\n",
      "chart = chart.configure_axis(titleFontWeight=500,titleFontSize=11,titleFont='Helvetica Neue',\n",
      "\t\t\tlabelFontWeight=400,labelFontSize=8,labelFont='Helvetica Neue',labelColor='#505050')\n",
      "chart = chart.configure_legend(titleFontWeight=500,titleFontSize=10,titleFont='Helvetica Neue',\n",
      "\t\t\tlabelFontWeight=400,labelFontSize=8,labelFont='Helvetica Neue')\n",
      "chart = chart.properties(width=160,height=150)\n",
      "\n",
      "chart\n"
     ]
    }
   ],
   "source": [
    "print (vis.to_Altair())"
   ]
  },
  {
   "cell_type": "code",
   "execution_count": 31,
   "metadata": {
    "ExecuteTime": {
     "end_time": "2021-03-30T19:31:39.554940Z",
     "start_time": "2021-03-30T19:31:39.505702Z"
    }
   },
   "outputs": [
    {
     "data": {
      "application/javascript": [
       "\n",
       "        if (window._pyforest_update_imports_cell) { window._pyforest_update_imports_cell('import pandas as pd'); }\n",
       "    "
      ],
      "text/plain": [
       "<IPython.core.display.Javascript object>"
      ]
     },
     "metadata": {},
     "output_type": "display_data"
    },
    {
     "data": {
      "text/html": [
       "\n",
       "<div id=\"altair-viz-36ac1a0d69ce466684ad564fac4cbe99\"></div>\n",
       "<script type=\"text/javascript\">\n",
       "  (function(spec, embedOpt){\n",
       "    let outputDiv = document.currentScript.previousElementSibling;\n",
       "    if (outputDiv.id !== \"altair-viz-36ac1a0d69ce466684ad564fac4cbe99\") {\n",
       "      outputDiv = document.getElementById(\"altair-viz-36ac1a0d69ce466684ad564fac4cbe99\");\n",
       "    }\n",
       "    const paths = {\n",
       "      \"vega\": \"https://cdn.jsdelivr.net/npm//vega@5?noext\",\n",
       "      \"vega-lib\": \"https://cdn.jsdelivr.net/npm//vega-lib?noext\",\n",
       "      \"vega-lite\": \"https://cdn.jsdelivr.net/npm//vega-lite@4.8.1?noext\",\n",
       "      \"vega-embed\": \"https://cdn.jsdelivr.net/npm//vega-embed@6?noext\",\n",
       "    };\n",
       "\n",
       "    function loadScript(lib) {\n",
       "      return new Promise(function(resolve, reject) {\n",
       "        var s = document.createElement('script');\n",
       "        s.src = paths[lib];\n",
       "        s.async = true;\n",
       "        s.onload = () => resolve(paths[lib]);\n",
       "        s.onerror = () => reject(`Error loading script: ${paths[lib]}`);\n",
       "        document.getElementsByTagName(\"head\")[0].appendChild(s);\n",
       "      });\n",
       "    }\n",
       "\n",
       "    function showError(err) {\n",
       "      outputDiv.innerHTML = `<div class=\"error\" style=\"color:red;\">${err}</div>`;\n",
       "      throw err;\n",
       "    }\n",
       "\n",
       "    function displayChart(vegaEmbed) {\n",
       "      vegaEmbed(outputDiv, spec, embedOpt)\n",
       "        .catch(err => showError(`Javascript Error: ${err.message}<br>This usually means there's a typo in your chart specification. See the javascript console for the full traceback.`));\n",
       "    }\n",
       "\n",
       "    if(typeof define === \"function\" && define.amd) {\n",
       "      requirejs.config({paths});\n",
       "      require([\"vega-embed\"], displayChart, err => showError(`Error loading script: ${err.message}`));\n",
       "    } else if (typeof vegaEmbed === \"function\") {\n",
       "      displayChart(vegaEmbed);\n",
       "    } else {\n",
       "      loadScript(\"vega\")\n",
       "        .then(() => loadScript(\"vega-lite\"))\n",
       "        .then(() => loadScript(\"vega-embed\"))\n",
       "        .catch(showError)\n",
       "        .then(() => displayChart(vegaEmbed));\n",
       "    }\n",
       "  })({\"config\": {\"view\": {\"continuousWidth\": 400, \"continuousHeight\": 300}, \"axis\": {\"labelColor\": \"#505050\", \"labelFont\": \"Helvetica Neue\", \"labelFontSize\": 8, \"labelFontWeight\": 400, \"titleFont\": \"Helvetica Neue\", \"titleFontSize\": 15, \"titleFontWeight\": 500}, \"legend\": {\"labelFont\": \"Helvetica Neue\", \"labelFontSize\": 8, \"labelFontWeight\": 400, \"titleFont\": \"Helvetica Neue\", \"titleFontSize\": 20, \"titleFontWeight\": 500}, \"mark\": {\"tooltip\": {\"content\": \"encoding\"}}, \"title\": {\"font\": \"Helvetica Neue\", \"fontSize\": 13, \"fontWeight\": 500}}, \"layer\": [{\"mark\": \"bar\", \"encoding\": {\"color\": {\"type\": \"nominal\", \"field\": \"source_name\"}, \"x\": {\"type\": \"quantitative\", \"axis\": {\"title\": \"Mean of total_vaccinati...\"}, \"field\": \"total_vaccinations\", \"title\": \"Mean of total_vaccinati...\"}, \"y\": {\"type\": \"nominal\", \"axis\": {\"labelOverlap\": true, \"title\": \"country\"}, \"field\": \"country\", \"sort\": \"-x\"}}, \"height\": 400, \"width\": 600}, {\"mark\": {\"type\": \"text\", \"align\": \"right\", \"color\": \"#ff8e04\", \"fontSize\": 15, \"x\": 155, \"y\": 142}}], \"data\": {\"name\": \"data-2613e3a7837cc26f23b4258e568308fa\"}, \"height\": 150, \"width\": 160, \"$schema\": \"https://vega.github.io/schema/vega-lite/v4.8.1.json\", \"datasets\": {\"data-2613e3a7837cc26f23b4258e568308fa\": [{\"country\": \"United States\", \"source_name\": \"Centers for Disease Control and Prevention\", \"total_vaccinations\": 56850420.4}, {\"country\": \"China\", \"source_name\": \"National Health Commission\", \"total_vaccinations\": 52523931.578947365}, {\"country\": \"India\", \"source_name\": \"Ministry of Health\", \"total_vaccinations\": 17261202.930555556}, {\"country\": \"United Kingdom\", \"source_name\": \"Government of the United Kingdom\", \"total_vaccinations\": 16025884.666666666}, {\"country\": \"England\", \"source_name\": \"Government of the United Kingdom\", \"total_vaccinations\": 13559694.641975308}, {\"country\": \"Brazil\", \"source_name\": \"Ministry of Health\", \"total_vaccinations\": 6774709.567164179}, {\"country\": \"Turkey\", \"source_name\": \"COVID-19 Vaccine Information Platform\", \"total_vaccinations\": 6295294.27027027}, {\"country\": \"Russia\", \"source_name\": \"Official data from local governments via gogov.ru\", \"total_vaccinations\": 5958618.52}, {\"country\": \"Israel\", \"source_name\": \"Government of Israel\", \"total_vaccinations\": 5345397.68}, {\"country\": \"Germany\", \"source_name\": \"Robert Koch Institut\", \"total_vaccinations\": 4666101.217391305}]}}, {\"mode\": \"vega-lite\"});\n",
       "</script>"
      ],
      "text/plain": [
       "alt.LayerChart(...)"
      ]
     },
     "execution_count": 31,
     "metadata": {},
     "output_type": "execute_result"
    }
   ],
   "source": [
    "import altair as alt\n",
    "visData = pd.DataFrame({'country': {14325: 'United States', 2519: 'China', 5919: 'India', 14284: 'United Kingdom', 3838: 'England', 1950: 'Brazil', 13777: 'Turkey', 11126: 'Russia', 6359: 'Israel', 4536: 'Germany'}, 'source_name': {14325: 'Centers for Disease Control and Prevention', 2519: 'National Health Commission', 5919: 'Ministry of Health', 14284: 'Government of the United Kingdom', 3838: 'Government of the United Kingdom', 1950: 'Ministry of Health', 13777: 'COVID-19 Vaccine Information Platform', 11126: 'Official data from local governments via gogov.ru', 6359: 'Government of Israel', 4536: 'Robert Koch Institut'}, 'total_vaccinations': {14325: 56850420.4, 2519: 52523931.578947365, 5919: 17261202.930555556, 14284: 16025884.666666666, 3838: 13559694.641975308, 1950: 6774709.567164179, 13777: 6295294.27027027, 11126: 5958618.52, 6359: 5345397.68, 4536: 4666101.217391305}})\n",
    "\n",
    "chart = alt.Chart(visData, width=600, height= 400).mark_bar().encode(\n",
    "    y = alt.Y('country', type= 'nominal', axis=alt.Axis(labelOverlap=True, title='country'), sort ='-x'),\n",
    "    x = alt.X('total_vaccinations', type= 'quantitative', title='Mean of total_vaccinati...', axis=alt.Axis(title='Mean of total_vaccinati...')),\n",
    ")\n",
    "chart = chart.encode(color=alt.Color('source_name',type='nominal'))\n",
    "text = alt.Chart(visData).mark_text(\n",
    "\tx=155, \n",
    "\ty=142,\n",
    "\talign=\"right\",\n",
    "\tcolor = \"#ff8e04\",\n",
    "\tfontSize = 15,\n",
    "# \ttext=f\"+ 145 more ...\"\n",
    ")\n",
    "chart = chart + text\n",
    "chart = chart.configure_mark(tooltip=alt.TooltipContent('encoding'))\n",
    "chart = chart.configure_title(fontWeight=500,fontSize=13,font='Helvetica Neue')\n",
    "chart = chart.configure_axis(titleFontWeight=500,titleFontSize=15,titleFont='Helvetica Neue',\n",
    "\t\t\tlabelFontWeight=400,labelFontSize=8,labelFont='Helvetica Neue',labelColor='#505050')\n",
    "chart = chart.configure_legend(titleFontWeight=500,titleFontSize=20,titleFont='Helvetica Neue',\n",
    "\t\t\tlabelFontWeight=400,labelFontSize=8,labelFont='Helvetica Neue')\n",
    "chart = chart.properties(width=160,height=150)\n",
    "\n",
    "chart"
   ]
  },
  {
   "cell_type": "code",
   "execution_count": 20,
   "metadata": {
    "ExecuteTime": {
     "end_time": "2021-03-30T19:25:17.067171Z",
     "start_time": "2021-03-30T19:25:17.018366Z"
    }
   },
   "outputs": [],
   "source": [
    "df.intent = ['country', 'daily_vaccinations_per_million']"
   ]
  },
  {
   "cell_type": "code",
   "execution_count": 21,
   "metadata": {
    "ExecuteTime": {
     "end_time": "2021-03-30T19:25:19.552939Z",
     "start_time": "2021-03-30T19:25:17.645869Z"
    }
   },
   "outputs": [
    {
     "data": {
      "application/vnd.jupyter.widget-view+json": {
       "model_id": "cdadd1f2c73f423daf4f82430d1586e0",
       "version_major": 2,
       "version_minor": 0
      },
      "text/plain": [
       "Button(description='Toggle Pandas/Lux', layout=Layout(top='5px', width='140px'), style=ButtonStyle())"
      ]
     },
     "metadata": {},
     "output_type": "display_data"
    },
    {
     "data": {
      "application/vnd.jupyter.widget-view+json": {
       "model_id": "4593031347504ab08c643e307e2f9be7",
       "version_major": 2,
       "version_minor": 0
      },
      "text/plain": [
       "Output()"
      ]
     },
     "metadata": {},
     "output_type": "display_data"
    },
    {
     "data": {
      "text/plain": []
     },
     "execution_count": 21,
     "metadata": {},
     "output_type": "execute_result"
    }
   ],
   "source": [
    "df"
   ]
  },
  {
   "cell_type": "code",
   "execution_count": null,
   "metadata": {},
   "outputs": [],
   "source": [
    "df.intent = ['country', 'total_vaccinations']"
   ]
  },
  {
   "cell_type": "code",
   "execution_count": null,
   "metadata": {},
   "outputs": [],
   "source": []
  },
  {
   "cell_type": "code",
   "execution_count": null,
   "metadata": {},
   "outputs": [],
   "source": []
  }
 ],
 "metadata": {
  "kernelspec": {
   "display_name": "Python 3",
   "language": "python",
   "name": "python3"
  },
  "language_info": {
   "codemirror_mode": {
    "name": "ipython",
    "version": 3
   },
   "file_extension": ".py",
   "mimetype": "text/x-python",
   "name": "python",
   "nbconvert_exporter": "python",
   "pygments_lexer": "ipython3",
   "version": "3.6.9"
  },
  "toc": {
   "base_numbering": 1,
   "nav_menu": {},
   "number_sections": true,
   "sideBar": true,
   "skip_h1_title": false,
   "title_cell": "Table of Contents",
   "title_sidebar": "Contents",
   "toc_cell": false,
   "toc_position": {},
   "toc_section_display": true,
   "toc_window_display": false
  }
 },
 "nbformat": 4,
 "nbformat_minor": 4
}
