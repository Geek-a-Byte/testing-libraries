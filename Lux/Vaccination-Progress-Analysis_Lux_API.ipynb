{
 "cells": [
  {
   "cell_type": "code",
   "execution_count": 27,
   "metadata": {
    "ExecuteTime": {
     "end_time": "2021-06-12T15:34:18.027533Z",
     "start_time": "2021-06-12T15:34:18.024952Z"
    }
   },
   "outputs": [],
   "source": [
    "# # Installing Lux\n",
    "# !pip install lux-api"
   ]
  },
  {
   "cell_type": "code",
   "execution_count": 28,
   "metadata": {
    "ExecuteTime": {
     "end_time": "2021-06-12T15:34:20.143700Z",
     "start_time": "2021-06-12T15:34:18.249796Z"
    }
   },
   "outputs": [
    {
     "name": "stdout",
     "output_type": "stream",
     "text": [
      "Installing /opt/anaconda3/envs/learn-env/lib/python3.6/site-packages/luxwidget/nbextension/static -> luxwidget\n",
      "Up to date: /usr/local/share/jupyter/nbextensions/luxwidget/index.js\n",
      "Up to date: /usr/local/share/jupyter/nbextensions/luxwidget/index.js.map\n",
      "Up to date: /usr/local/share/jupyter/nbextensions/luxwidget/extension.js\n",
      "- Validating: \u001b[32mOK\u001b[0m\n",
      "\n",
      "    To initialize this nbextension in the browser every time the notebook (or other app) loads:\n",
      "    \n",
      "          jupyter nbextension enable luxwidget --py\n",
      "    \n",
      "Enabling notebook extension luxwidget/extension...\n",
      "      - Validating: \u001b[32mOK\u001b[0m\n"
     ]
    }
   ],
   "source": [
    "# Setup in Jupyter Notebook, VSCode, JupyterHub\n",
    "!jupyter nbextension install --py luxwidget\n",
    "!jupyter nbextension enable --py luxwidget"
   ]
  },
  {
   "cell_type": "code",
   "execution_count": 29,
   "metadata": {
    "ExecuteTime": {
     "end_time": "2021-06-12T15:34:20.152331Z",
     "start_time": "2021-06-12T15:34:20.147807Z"
    }
   },
   "outputs": [],
   "source": [
    "# Import libraries\n",
    "import pandas as pd\n",
    "import lux\n",
    "\n",
    "# Hide warnings\n",
    "import warnings\n",
    "warnings.filterwarnings(\"ignore\")"
   ]
  },
  {
   "cell_type": "code",
   "execution_count": 33,
   "metadata": {
    "ExecuteTime": {
     "end_time": "2021-06-12T15:34:44.421167Z",
     "start_time": "2021-06-12T15:34:44.373751Z"
    }
   },
   "outputs": [],
   "source": [
    "# Import dataset\n",
    "df = pd.read_csv('../data/country_vaccinations 2.csv')"
   ]
  },
  {
   "cell_type": "code",
   "execution_count": 34,
   "metadata": {
    "ExecuteTime": {
     "end_time": "2021-06-12T15:34:48.307859Z",
     "start_time": "2021-06-12T15:34:45.162615Z"
    }
   },
   "outputs": [
    {
     "data": {
      "application/vnd.jupyter.widget-view+json": {
       "model_id": "eca87f9493764e02838a76b4c297dce5",
       "version_major": 2,
       "version_minor": 0
      },
      "text/plain": [
       "Button(description='Toggle Pandas/Lux', layout=Layout(top='5px', width='140px'), style=ButtonStyle())"
      ]
     },
     "metadata": {},
     "output_type": "display_data"
    },
    {
     "data": {
      "application/vnd.jupyter.widget-view+json": {
       "model_id": "9c3bed5721f14b019dfef1b528909931",
       "version_major": 2,
       "version_minor": 0
      },
      "text/plain": [
       "Output()"
      ]
     },
     "metadata": {},
     "output_type": "display_data"
    },
    {
     "data": {
      "text/plain": []
     },
     "execution_count": 34,
     "metadata": {},
     "output_type": "execute_result"
    }
   ],
   "source": [
    "df"
   ]
  },
  {
   "cell_type": "code",
   "execution_count": 32,
   "metadata": {
    "ExecuteTime": {
     "end_time": "2021-06-12T15:34:24.969974Z",
     "start_time": "2021-06-12T15:34:22.309560Z"
    },
    "scrolled": false
   },
   "outputs": [
    {
     "data": {
      "application/vnd.jupyter.widget-view+json": {
       "model_id": "10b71d36d6a74ea0aa91ccb2b07b1dc5",
       "version_major": 2,
       "version_minor": 0
      },
      "text/plain": [
       "Button(description='Toggle Pandas/Lux', layout=Layout(top='5px', width='140px'), style=ButtonStyle())"
      ]
     },
     "metadata": {},
     "output_type": "display_data"
    },
    {
     "data": {
      "application/vnd.jupyter.widget-view+json": {
       "model_id": "ee3d9f1cde7b4bf9999ea8ca6053f879",
       "version_major": 2,
       "version_minor": 0
      },
      "text/plain": [
       "Output()"
      ]
     },
     "metadata": {},
     "output_type": "display_data"
    },
    {
     "data": {
      "text/plain": []
     },
     "execution_count": 32,
     "metadata": {},
     "output_type": "execute_result"
    }
   ],
   "source": [
    "df.intent = ['country', 'total_vaccinations']\n",
    "df"
   ]
  },
  {
   "cell_type": "code",
   "execution_count": 7,
   "metadata": {
    "ExecuteTime": {
     "end_time": "2021-06-12T15:24:29.506316Z",
     "start_time": "2021-06-12T15:24:29.501592Z"
    }
   },
   "outputs": [
    {
     "data": {
      "text/plain": [
       "[]"
      ]
     },
     "execution_count": 7,
     "metadata": {},
     "output_type": "execute_result"
    }
   ],
   "source": [
    "df.exported"
   ]
  },
  {
   "cell_type": "code",
   "execution_count": 8,
   "metadata": {
    "ExecuteTime": {
     "end_time": "2021-06-12T15:24:29.515990Z",
     "start_time": "2021-06-12T15:24:29.510311Z"
    }
   },
   "outputs": [
    {
     "data": {
      "text/plain": [
       "[]"
      ]
     },
     "execution_count": 8,
     "metadata": {},
     "output_type": "execute_result"
    }
   ],
   "source": [
    "vis = df.exported\n",
    "vis"
   ]
  },
  {
   "cell_type": "code",
   "execution_count": 9,
   "metadata": {
    "ExecuteTime": {
     "end_time": "2021-04-26T23:02:14.261326Z",
     "start_time": "2021-04-26T23:02:14.195539Z"
    },
    "scrolled": true
   },
   "outputs": [
    {
     "name": "stdout",
     "output_type": "stream",
     "text": [
      "Saved HTML to vis_1.html\n"
     ]
    }
   ],
   "source": [
    "df.save_as_html('vis_1.html')"
   ]
  },
  {
   "cell_type": "code",
   "execution_count": 10,
   "metadata": {
    "ExecuteTime": {
     "end_time": "2021-04-26T23:02:14.608706Z",
     "start_time": "2021-04-26T23:02:14.268667Z"
    }
   },
   "outputs": [
    {
     "data": {
      "application/vnd.jupyter.widget-view+json": {
       "model_id": "2f27fe836e7d40c489b30dff73ee76e6",
       "version_major": 2,
       "version_minor": 0
      },
      "text/plain": [
       "LuxWidget(recommendations=[{'action': 'Vis List', 'description': 'Shows a vis list defined by the intent', 'vs…"
      ]
     },
     "metadata": {},
     "output_type": "display_data"
    },
    {
     "data": {
      "text/plain": [
       "[<Vis  (x: MEAN(total_vaccinations), y: country, color: vaccines) mark: bar, score: 0.01 >,\n",
       " <Vis  (x: MEAN(total_vaccinations), y: country, color: source_name) mark: bar, score: 0.01 >,\n",
       " <Vis  (x: MEAN(total_vaccinations), y: country, color: date) mark: bar, score: 0.01 >,\n",
       " <Vis  (x: MEAN(total_vaccinations), y: country, color: source_website) mark: bar, score: 0.00 >,\n",
       " <Vis  (x: MEAN(total_vaccinations), y: country, color: iso_code) mark: bar, score: 0.00 >]"
      ]
     },
     "execution_count": 10,
     "metadata": {},
     "output_type": "execute_result"
    }
   ],
   "source": [
    "df.recommendation[\"Enhance\"]"
   ]
  },
  {
   "cell_type": "code",
   "execution_count": 12,
   "metadata": {
    "ExecuteTime": {
     "end_time": "2021-04-26T23:05:06.809591Z",
     "start_time": "2021-04-26T23:05:06.798001Z"
    }
   },
   "outputs": [
    {
     "ename": "IndexError",
     "evalue": "list index out of range",
     "output_type": "error",
     "traceback": [
      "\u001b[0;31m---------------------------------------------------------------------------\u001b[0m",
      "\u001b[0;31mIndexError\u001b[0m                                Traceback (most recent call last)",
      "\u001b[0;32m<ipython-input-12-e337fecc32cb>\u001b[0m in \u001b[0;36m<module>\u001b[0;34m()\u001b[0m\n\u001b[0;32m----> 1\u001b[0;31m \u001b[0mvis\u001b[0m \u001b[0;34m=\u001b[0m \u001b[0mdf\u001b[0m\u001b[0;34m.\u001b[0m\u001b[0mexported\u001b[0m\u001b[0;34m[\u001b[0m\u001b[0;36m0\u001b[0m\u001b[0;34m]\u001b[0m\u001b[0;34m\u001b[0m\u001b[0;34m\u001b[0m\u001b[0m\n\u001b[0m\u001b[1;32m      2\u001b[0m \u001b[0mvis\u001b[0m\u001b[0;34m\u001b[0m\u001b[0;34m\u001b[0m\u001b[0m\n",
      "\u001b[0;31mIndexError\u001b[0m: list index out of range"
     ]
    }
   ],
   "source": [
    "vis = df.exported[0]\n",
    "vis"
   ]
  },
  {
   "cell_type": "code",
   "execution_count": 14,
   "metadata": {
    "ExecuteTime": {
     "end_time": "2021-04-26T23:05:20.334348Z",
     "start_time": "2021-04-26T23:05:20.322166Z"
    }
   },
   "outputs": [
    {
     "ename": "AttributeError",
     "evalue": "'list' object has no attribute 'to_Altair'",
     "output_type": "error",
     "traceback": [
      "\u001b[0;31m---------------------------------------------------------------------------\u001b[0m",
      "\u001b[0;31mAttributeError\u001b[0m                            Traceback (most recent call last)",
      "\u001b[0;32m<ipython-input-14-17b75cc446e5>\u001b[0m in \u001b[0;36m<module>\u001b[0;34m()\u001b[0m\n\u001b[1;32m      1\u001b[0m \u001b[0mdf\u001b[0m\u001b[0;34m.\u001b[0m\u001b[0mintent\u001b[0m \u001b[0;34m=\u001b[0m \u001b[0mvis\u001b[0m\u001b[0;34m\u001b[0m\u001b[0;34m\u001b[0m\u001b[0m\n\u001b[0;32m----> 2\u001b[0;31m \u001b[0mprint\u001b[0m \u001b[0;34m(\u001b[0m\u001b[0mvis\u001b[0m\u001b[0;34m.\u001b[0m\u001b[0mto_Altair\u001b[0m\u001b[0;34m(\u001b[0m\u001b[0;34m)\u001b[0m\u001b[0;34m)\u001b[0m\u001b[0;34m\u001b[0m\u001b[0;34m\u001b[0m\u001b[0m\n\u001b[0m",
      "\u001b[0;31mAttributeError\u001b[0m: 'list' object has no attribute 'to_Altair'"
     ]
    }
   ],
   "source": [
    "df.intent = vis\n",
    "print (vis.to_Altair())"
   ]
  },
  {
   "cell_type": "code",
   "execution_count": 13,
   "metadata": {
    "ExecuteTime": {
     "end_time": "2021-04-26T23:05:16.346392Z",
     "start_time": "2021-04-26T23:05:16.292485Z"
    }
   },
   "outputs": [
    {
     "data": {
      "text/html": [
       "\n",
       "<div id=\"altair-viz-cb6fb4514b224d74ae614ce2a0ea9242\"></div>\n",
       "<script type=\"text/javascript\">\n",
       "  (function(spec, embedOpt){\n",
       "    let outputDiv = document.currentScript.previousElementSibling;\n",
       "    if (outputDiv.id !== \"altair-viz-cb6fb4514b224d74ae614ce2a0ea9242\") {\n",
       "      outputDiv = document.getElementById(\"altair-viz-cb6fb4514b224d74ae614ce2a0ea9242\");\n",
       "    }\n",
       "    const paths = {\n",
       "      \"vega\": \"https://cdn.jsdelivr.net/npm//vega@5?noext\",\n",
       "      \"vega-lib\": \"https://cdn.jsdelivr.net/npm//vega-lib?noext\",\n",
       "      \"vega-lite\": \"https://cdn.jsdelivr.net/npm//vega-lite@4.8.1?noext\",\n",
       "      \"vega-embed\": \"https://cdn.jsdelivr.net/npm//vega-embed@6?noext\",\n",
       "    };\n",
       "\n",
       "    function loadScript(lib) {\n",
       "      return new Promise(function(resolve, reject) {\n",
       "        var s = document.createElement('script');\n",
       "        s.src = paths[lib];\n",
       "        s.async = true;\n",
       "        s.onload = () => resolve(paths[lib]);\n",
       "        s.onerror = () => reject(`Error loading script: ${paths[lib]}`);\n",
       "        document.getElementsByTagName(\"head\")[0].appendChild(s);\n",
       "      });\n",
       "    }\n",
       "\n",
       "    function showError(err) {\n",
       "      outputDiv.innerHTML = `<div class=\"error\" style=\"color:red;\">${err}</div>`;\n",
       "      throw err;\n",
       "    }\n",
       "\n",
       "    function displayChart(vegaEmbed) {\n",
       "      vegaEmbed(outputDiv, spec, embedOpt)\n",
       "        .catch(err => showError(`Javascript Error: ${err.message}<br>This usually means there's a typo in your chart specification. See the javascript console for the full traceback.`));\n",
       "    }\n",
       "\n",
       "    if(typeof define === \"function\" && define.amd) {\n",
       "      requirejs.config({paths});\n",
       "      require([\"vega-embed\"], displayChart, err => showError(`Error loading script: ${err.message}`));\n",
       "    } else if (typeof vegaEmbed === \"function\") {\n",
       "      displayChart(vegaEmbed);\n",
       "    } else {\n",
       "      loadScript(\"vega\")\n",
       "        .then(() => loadScript(\"vega-lite\"))\n",
       "        .then(() => loadScript(\"vega-embed\"))\n",
       "        .catch(showError)\n",
       "        .then(() => displayChart(vegaEmbed));\n",
       "    }\n",
       "  })({\"config\": {\"view\": {\"continuousWidth\": 400, \"continuousHeight\": 300}, \"axis\": {\"labelColor\": \"#505050\", \"labelFont\": \"Helvetica Neue\", \"labelFontSize\": 16, \"labelFontWeight\": 400, \"titleFont\": \"Helvetica Neue\", \"titleFontSize\": 11, \"titleFontWeight\": 400}, \"legend\": {\"labelFont\": \"Helvetica Neue\", \"labelFontSize\": 12, \"labelFontWeight\": 400, \"titleFont\": \"Helvetica Neue\", \"titleFontSize\": 10, \"titleFontWeight\": 500}, \"mark\": {\"tooltip\": {\"content\": \"encoding\"}}, \"title\": {\"font\": \"Helvetica Neue\", \"fontSize\": 1, \"fontWeight\": 400}}, \"layer\": [{\"mark\": \"bar\", \"encoding\": {\"color\": {\"type\": \"nominal\", \"field\": \"vaccines\"}, \"x\": {\"type\": \"quantitative\", \"axis\": {\"title\": \"Mean of Total Vaccination\", \"titleFontSize\": 18}, \"field\": \"total_vaccinations\", \"title\": \"Mean of Total Vaccination\"}, \"y\": {\"type\": \"nominal\", \"axis\": {\"labelOverlap\": true, \"title\": \"Country\", \"titleFontSize\": 18}, \"field\": \"country\", \"sort\": \"-x\"}}, \"height\": 400, \"width\": 600}, {\"mark\": {\"type\": \"text\", \"align\": \"right\", \"color\": \"#ff8e04\", \"fontSize\": 14, \"x\": 155, \"y\": 142}}], \"data\": {\"name\": \"data-739a9fdee20ffa5e563092e4cb31f497\"}, \"height\": 150, \"width\": 160, \"$schema\": \"https://vega.github.io/schema/vega-lite/v4.8.1.json\", \"datasets\": {\"data-739a9fdee20ffa5e563092e4cb31f497\": [{\"country\": \"United States\", \"vaccines\": \"Johnson&Johnson, Moderna, Pfizer/BioNTech\", \"total_vaccinations\": 56850420.4}, {\"country\": \"China\", \"vaccines\": \"Sinopharm/Beijing, Sinopharm/Wuhan, Sinovac\", \"total_vaccinations\": 52523931.578947365}, {\"country\": \"India\", \"vaccines\": \"Covaxin, Oxford/AstraZeneca\", \"total_vaccinations\": 17261202.930555556}, {\"country\": \"United Kingdom\", \"vaccines\": \"Oxford/AstraZeneca, Pfizer/BioNTech\", \"total_vaccinations\": 16025884.666666666}, {\"country\": \"England\", \"vaccines\": \"Oxford/AstraZeneca, Pfizer/BioNTech\", \"total_vaccinations\": 13559694.641975308}, {\"country\": \"Brazil\", \"vaccines\": \"Oxford/AstraZeneca, Sinovac\", \"total_vaccinations\": 6774709.567164179}, {\"country\": \"Turkey\", \"vaccines\": \"Pfizer/BioNTech, Sinovac\", \"total_vaccinations\": 6295294.27027027}, {\"country\": \"Russia\", \"vaccines\": \"EpiVacCorona, Sputnik V\", \"total_vaccinations\": 5958618.52}, {\"country\": \"Israel\", \"vaccines\": \"Moderna, Pfizer/BioNTech\", \"total_vaccinations\": 5345397.68}, {\"country\": \"Germany\", \"vaccines\": \"Moderna, Oxford/AstraZeneca, Pfizer/BioNTech\", \"total_vaccinations\": 4666101.217391305}]}}, {\"mode\": \"vega-lite\"});\n",
       "</script>"
      ],
      "text/plain": [
       "alt.LayerChart(...)"
      ]
     },
     "execution_count": 13,
     "metadata": {},
     "output_type": "execute_result"
    }
   ],
   "source": [
    "import altair as alt\n",
    "visData = pd.DataFrame({'country': {4024: 'United States', 702: 'China', 1673: 'India', 4009: 'United Kingdom', 1079: 'England', 564: 'Brazil', 3884: 'Turkey', 3129: 'Russia', 1785: 'Israel', 1278: 'Germany'}, 'vaccines': {4024: 'Johnson&Johnson, Moderna, Pfizer/BioNTech', 702: 'Sinopharm/Beijing, Sinopharm/Wuhan, Sinovac', 1673: 'Covaxin, Oxford/AstraZeneca', 4009: 'Oxford/AstraZeneca, Pfizer/BioNTech', 1079: 'Oxford/AstraZeneca, Pfizer/BioNTech', 564: 'Oxford/AstraZeneca, Sinovac', 3884: 'Pfizer/BioNTech, Sinovac', 3129: 'EpiVacCorona, Sputnik V', 1785: 'Moderna, Pfizer/BioNTech', 1278: 'Moderna, Oxford/AstraZeneca, Pfizer/BioNTech'}, 'total_vaccinations': {4024: 56850420.4, 702: 52523931.578947365, 1673: 17261202.930555556, 4009: 16025884.666666666, 1079: 13559694.641975308, 564: 6774709.567164179, 3884: 6295294.27027027, 3129: 5958618.52, 1785: 5345397.68, 1278: 4666101.217391305}})\n",
    "\n",
    "chart = alt.Chart(visData, width=600, height=400).mark_bar().encode(\n",
    "    y = alt.Y('country', type= 'nominal', axis=alt.Axis(labelOverlap=True, title='Country', titleFontSize=18), sort ='-x'),\n",
    "    x = alt.X('total_vaccinations', type= 'quantitative', title='Mean of Total Vaccination', axis=alt.Axis(title='Mean of Total Vaccination', titleFontSize=18)),\n",
    ")\n",
    "chart = chart.encode(color=alt.Color('vaccines',type='nominal'))\n",
    "text = alt.Chart(visData).mark_text(\n",
    "    x=155, \n",
    "    y=142,\n",
    "    align=\"right\",\n",
    "    color = \"#ff8e04\",\n",
    "    fontSize = 14,\n",
    "# text=f\"+ 145 more ...\"\n",
    ")\n",
    "chart = chart + text\n",
    "chart = chart.configure_mark(tooltip=alt.TooltipContent('encoding'))\n",
    "chart = chart.configure_title(fontWeight=400,fontSize=1,font='Helvetica Neue')\n",
    "chart = chart.configure_axis(titleFontWeight=400,titleFontSize=11,titleFont='Helvetica Neue',\n",
    "        labelFontWeight=400,labelFontSize=16,labelFont='Helvetica Neue',labelColor='#505050')\n",
    "chart = chart.configure_legend(titleFontWeight=500,titleFontSize=10,titleFont='Helvetica Neue',\n",
    "        labelFontWeight=400,labelFontSize=12,labelFont='Helvetica Neue')\n",
    "chart = chart.properties(width=160,height=150)\n",
    "\n",
    "chart"
   ]
  },
  {
   "cell_type": "code",
   "execution_count": null,
   "metadata": {},
   "outputs": [],
   "source": []
  }
 ],
 "metadata": {
  "kernelspec": {
   "display_name": "learn-env",
   "language": "python",
   "name": "learn-env"
  },
  "language_info": {
   "codemirror_mode": {
    "name": "ipython",
    "version": 3
   },
   "file_extension": ".py",
   "mimetype": "text/x-python",
   "name": "python",
   "nbconvert_exporter": "python",
   "pygments_lexer": "ipython3",
   "version": "3.6.9"
  },
  "toc": {
   "base_numbering": 1,
   "nav_menu": {},
   "number_sections": true,
   "sideBar": true,
   "skip_h1_title": false,
   "title_cell": "Table of Contents",
   "title_sidebar": "Contents",
   "toc_cell": false,
   "toc_position": {},
   "toc_section_display": true,
   "toc_window_display": false
  }
 },
 "nbformat": 4,
 "nbformat_minor": 4
}
