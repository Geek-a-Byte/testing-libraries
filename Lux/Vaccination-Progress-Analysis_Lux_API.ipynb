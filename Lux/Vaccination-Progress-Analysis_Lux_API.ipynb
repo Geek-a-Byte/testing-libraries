{
 "cells": [
  {
   "cell_type": "code",
   "execution_count": 1,
   "metadata": {
    "ExecuteTime": {
     "end_time": "2021-04-26T23:02:05.765478Z",
     "start_time": "2021-04-26T23:02:01.214365Z"
    }
   },
   "outputs": [
    {
     "name": "stdout",
     "output_type": "stream",
     "text": [
      "Requirement already satisfied: lux-api in /opt/anaconda3/envs/learn-env/lib/python3.6/site-packages (0.2.3)\n",
      "Requirement already satisfied: pandas>=1.1.0 in /opt/anaconda3/envs/learn-env/lib/python3.6/site-packages (from lux-api) (1.1.5)\n",
      "Requirement already satisfied: numpy>=1.16.5 in /opt/anaconda3/envs/learn-env/lib/python3.6/site-packages (from lux-api) (1.19.5)\n",
      "Requirement already satisfied: scipy>=1.3.3 in /opt/anaconda3/envs/learn-env/lib/python3.6/site-packages (from lux-api) (1.5.0)\n",
      "Requirement already satisfied: altair>=4.0.0 in /opt/anaconda3/envs/learn-env/lib/python3.6/site-packages (from lux-api) (4.1.0)\n",
      "Requirement already satisfied: lux-widget>=0.1.4 in /opt/anaconda3/envs/learn-env/lib/python3.6/site-packages (from lux-api) (0.1.4)\n",
      "Requirement already satisfied: matplotlib>=3.0.0 in /opt/anaconda3/envs/learn-env/lib/python3.6/site-packages (from lux-api) (3.3.3)\n",
      "Requirement already satisfied: scikit-learn>=0.22 in /opt/anaconda3/envs/learn-env/lib/python3.6/site-packages (from lux-api) (0.23.1)\n",
      "Requirement already satisfied: jsonschema in /opt/anaconda3/envs/learn-env/lib/python3.6/site-packages (from altair>=4.0.0->lux-api) (2.6.0)\n",
      "Requirement already satisfied: toolz in /opt/anaconda3/envs/learn-env/lib/python3.6/site-packages (from altair>=4.0.0->lux-api) (0.11.1)\n",
      "Requirement already satisfied: entrypoints in /opt/anaconda3/envs/learn-env/lib/python3.6/site-packages (from altair>=4.0.0->lux-api) (0.3)\n",
      "Requirement already satisfied: jinja2 in /opt/anaconda3/envs/learn-env/lib/python3.6/site-packages (from altair>=4.0.0->lux-api) (2.11.3)\n",
      "Requirement already satisfied: notebook>=4.0.0 in /opt/anaconda3/envs/learn-env/lib/python3.6/site-packages (from lux-widget>=0.1.4->lux-api) (6.1.2)\n",
      "Requirement already satisfied: ipywidgets>=7.5.0 in /opt/anaconda3/envs/learn-env/lib/python3.6/site-packages (from lux-widget>=0.1.4->lux-api) (7.6.3)\n",
      "Requirement already satisfied: jupyter in /opt/anaconda3/envs/learn-env/lib/python3.6/site-packages (from lux-widget>=0.1.4->lux-api) (1.0.0)\n",
      "Requirement already satisfied: traitlets>=4.3.1 in /opt/anaconda3/envs/learn-env/lib/python3.6/site-packages (from ipywidgets>=7.5.0->lux-widget>=0.1.4->lux-api) (4.3.3)\n",
      "Requirement already satisfied: ipykernel>=4.5.1 in /opt/anaconda3/envs/learn-env/lib/python3.6/site-packages (from ipywidgets>=7.5.0->lux-widget>=0.1.4->lux-api) (5.3.4)\n",
      "Requirement already satisfied: widgetsnbextension~=3.5.0 in /opt/anaconda3/envs/learn-env/lib/python3.6/site-packages (from ipywidgets>=7.5.0->lux-widget>=0.1.4->lux-api) (3.5.1)\n",
      "Requirement already satisfied: ipython>=4.0.0 in /opt/anaconda3/envs/learn-env/lib/python3.6/site-packages (from ipywidgets>=7.5.0->lux-widget>=0.1.4->lux-api) (5.8.0)\n",
      "Requirement already satisfied: nbformat>=4.2.0 in /opt/anaconda3/envs/learn-env/lib/python3.6/site-packages (from ipywidgets>=7.5.0->lux-widget>=0.1.4->lux-api) (5.0.7)\n",
      "Requirement already satisfied: jupyterlab-widgets>=1.0.0 in /opt/anaconda3/envs/learn-env/lib/python3.6/site-packages (from ipywidgets>=7.5.0->lux-widget>=0.1.4->lux-api) (1.0.0)\n",
      "Requirement already satisfied: tornado>=4.2 in /opt/anaconda3/envs/learn-env/lib/python3.6/site-packages (from ipykernel>=4.5.1->ipywidgets>=7.5.0->lux-widget>=0.1.4->lux-api) (6.0.4)\n",
      "Requirement already satisfied: jupyter-client in /opt/anaconda3/envs/learn-env/lib/python3.6/site-packages (from ipykernel>=4.5.1->ipywidgets>=7.5.0->lux-widget>=0.1.4->lux-api) (6.1.6)\n",
      "Requirement already satisfied: appnope in /opt/anaconda3/envs/learn-env/lib/python3.6/site-packages (from ipykernel>=4.5.1->ipywidgets>=7.5.0->lux-widget>=0.1.4->lux-api) (0.1.0)\n",
      "Requirement already satisfied: pygments in /opt/anaconda3/envs/learn-env/lib/python3.6/site-packages (from ipython>=4.0.0->ipywidgets>=7.5.0->lux-widget>=0.1.4->lux-api) (2.6.1)\n",
      "Requirement already satisfied: decorator in /opt/anaconda3/envs/learn-env/lib/python3.6/site-packages (from ipython>=4.0.0->ipywidgets>=7.5.0->lux-widget>=0.1.4->lux-api) (4.4.2)\n",
      "Requirement already satisfied: prompt-toolkit<2.0.0,>=1.0.4 in /opt/anaconda3/envs/learn-env/lib/python3.6/site-packages (from ipython>=4.0.0->ipywidgets>=7.5.0->lux-widget>=0.1.4->lux-api) (1.0.15)\n",
      "Requirement already satisfied: pexpect in /opt/anaconda3/envs/learn-env/lib/python3.6/site-packages (from ipython>=4.0.0->ipywidgets>=7.5.0->lux-widget>=0.1.4->lux-api) (4.8.0)\n",
      "Requirement already satisfied: setuptools>=18.5 in /opt/anaconda3/envs/learn-env/lib/python3.6/site-packages (from ipython>=4.0.0->ipywidgets>=7.5.0->lux-widget>=0.1.4->lux-api) (51.3.3)\n",
      "Requirement already satisfied: pickleshare in /opt/anaconda3/envs/learn-env/lib/python3.6/site-packages (from ipython>=4.0.0->ipywidgets>=7.5.0->lux-widget>=0.1.4->lux-api) (0.7.5)\n",
      "Requirement already satisfied: simplegeneric>0.8 in /opt/anaconda3/envs/learn-env/lib/python3.6/site-packages (from ipython>=4.0.0->ipywidgets>=7.5.0->lux-widget>=0.1.4->lux-api) (0.8.1)\n",
      "Requirement already satisfied: pyparsing!=2.0.4,!=2.1.2,!=2.1.6,>=2.0.3 in /opt/anaconda3/envs/learn-env/lib/python3.6/site-packages (from matplotlib>=3.0.0->lux-api) (2.4.7)\n",
      "Requirement already satisfied: pillow>=6.2.0 in /opt/anaconda3/envs/learn-env/lib/python3.6/site-packages (from matplotlib>=3.0.0->lux-api) (8.0.0)\n",
      "Requirement already satisfied: cycler>=0.10 in /opt/anaconda3/envs/learn-env/lib/python3.6/site-packages (from matplotlib>=3.0.0->lux-api) (0.10.0)\n",
      "Requirement already satisfied: python-dateutil>=2.1 in /opt/anaconda3/envs/learn-env/lib/python3.6/site-packages (from matplotlib>=3.0.0->lux-api) (2.8.1)\n",
      "Requirement already satisfied: kiwisolver>=1.0.1 in /opt/anaconda3/envs/learn-env/lib/python3.6/site-packages (from matplotlib>=3.0.0->lux-api) (1.2.0)\n",
      "Requirement already satisfied: six in /opt/anaconda3/envs/learn-env/lib/python3.6/site-packages (from cycler>=0.10->matplotlib>=3.0.0->lux-api) (1.15.0)\n",
      "Requirement already satisfied: jupyter-core in /opt/anaconda3/envs/learn-env/lib/python3.6/site-packages (from nbformat>=4.2.0->ipywidgets>=7.5.0->lux-widget>=0.1.4->lux-api) (4.6.3)\n",
      "Requirement already satisfied: ipython-genutils in /opt/anaconda3/envs/learn-env/lib/python3.6/site-packages (from nbformat>=4.2.0->ipywidgets>=7.5.0->lux-widget>=0.1.4->lux-api) (0.2.0)\n",
      "Requirement already satisfied: argon2-cffi in /opt/anaconda3/envs/learn-env/lib/python3.6/site-packages (from notebook>=4.0.0->lux-widget>=0.1.4->lux-api) (20.1.0)\n",
      "Requirement already satisfied: terminado>=0.8.3 in /opt/anaconda3/envs/learn-env/lib/python3.6/site-packages (from notebook>=4.0.0->lux-widget>=0.1.4->lux-api) (0.8.3)\n",
      "Requirement already satisfied: Send2Trash in /opt/anaconda3/envs/learn-env/lib/python3.6/site-packages (from notebook>=4.0.0->lux-widget>=0.1.4->lux-api) (1.5.0)\n",
      "Requirement already satisfied: nbconvert in /opt/anaconda3/envs/learn-env/lib/python3.6/site-packages (from notebook>=4.0.0->lux-widget>=0.1.4->lux-api) (5.6.1)\n",
      "Requirement already satisfied: prometheus-client in /opt/anaconda3/envs/learn-env/lib/python3.6/site-packages (from notebook>=4.0.0->lux-widget>=0.1.4->lux-api) (0.8.0)\n",
      "Requirement already satisfied: pyzmq>=17 in /opt/anaconda3/envs/learn-env/lib/python3.6/site-packages (from notebook>=4.0.0->lux-widget>=0.1.4->lux-api) (18.1.1)\n",
      "Requirement already satisfied: pytz>=2017.2 in /opt/anaconda3/envs/learn-env/lib/python3.6/site-packages (from pandas>=1.1.0->lux-api) (2020.1)\n",
      "Requirement already satisfied: wcwidth in /opt/anaconda3/envs/learn-env/lib/python3.6/site-packages (from prompt-toolkit<2.0.0,>=1.0.4->ipython>=4.0.0->ipywidgets>=7.5.0->lux-widget>=0.1.4->lux-api) (0.2.5)\n",
      "Requirement already satisfied: threadpoolctl>=2.0.0 in /opt/anaconda3/envs/learn-env/lib/python3.6/site-packages (from scikit-learn>=0.22->lux-api) (2.1.0)\n",
      "Requirement already satisfied: joblib>=0.11 in /opt/anaconda3/envs/learn-env/lib/python3.6/site-packages (from scikit-learn>=0.22->lux-api) (1.0.1)\n",
      "Requirement already satisfied: cffi>=1.0.0 in /opt/anaconda3/envs/learn-env/lib/python3.6/site-packages (from argon2-cffi->notebook>=4.0.0->lux-widget>=0.1.4->lux-api) (1.14.1)\n",
      "Requirement already satisfied: pycparser in /opt/anaconda3/envs/learn-env/lib/python3.6/site-packages (from cffi>=1.0.0->argon2-cffi->notebook>=4.0.0->lux-widget>=0.1.4->lux-api) (2.20)\n",
      "Requirement already satisfied: MarkupSafe>=0.23 in /opt/anaconda3/envs/learn-env/lib/python3.6/site-packages (from jinja2->altair>=4.0.0->lux-api) (1.1.1)\n",
      "Requirement already satisfied: jupyter-console in /opt/anaconda3/envs/learn-env/lib/python3.6/site-packages (from jupyter->lux-widget>=0.1.4->lux-api) (5.2.0)\n",
      "Requirement already satisfied: qtconsole in /opt/anaconda3/envs/learn-env/lib/python3.6/site-packages (from jupyter->lux-widget>=0.1.4->lux-api) (5.0.1)\n"
     ]
    },
    {
     "name": "stdout",
     "output_type": "stream",
     "text": [
      "Requirement already satisfied: bleach in /opt/anaconda3/envs/learn-env/lib/python3.6/site-packages (from nbconvert->notebook>=4.0.0->lux-widget>=0.1.4->lux-api) (3.1.5)\n",
      "Requirement already satisfied: mistune<2,>=0.8.1 in /opt/anaconda3/envs/learn-env/lib/python3.6/site-packages (from nbconvert->notebook>=4.0.0->lux-widget>=0.1.4->lux-api) (0.8.4)\n",
      "Requirement already satisfied: defusedxml in /opt/anaconda3/envs/learn-env/lib/python3.6/site-packages (from nbconvert->notebook>=4.0.0->lux-widget>=0.1.4->lux-api) (0.6.0)\n",
      "Requirement already satisfied: pandocfilters>=1.4.1 in /opt/anaconda3/envs/learn-env/lib/python3.6/site-packages (from nbconvert->notebook>=4.0.0->lux-widget>=0.1.4->lux-api) (1.4.2)\n",
      "Requirement already satisfied: testpath in /opt/anaconda3/envs/learn-env/lib/python3.6/site-packages (from nbconvert->notebook>=4.0.0->lux-widget>=0.1.4->lux-api) (0.4.4)\n",
      "Requirement already satisfied: packaging in /opt/anaconda3/envs/learn-env/lib/python3.6/site-packages (from bleach->nbconvert->notebook>=4.0.0->lux-widget>=0.1.4->lux-api) (20.4)\n",
      "Requirement already satisfied: webencodings in /opt/anaconda3/envs/learn-env/lib/python3.6/site-packages (from bleach->nbconvert->notebook>=4.0.0->lux-widget>=0.1.4->lux-api) (0.5.1)\n",
      "Requirement already satisfied: ptyprocess>=0.5 in /opt/anaconda3/envs/learn-env/lib/python3.6/site-packages (from pexpect->ipython>=4.0.0->ipywidgets>=7.5.0->lux-widget>=0.1.4->lux-api) (0.6.0)\n",
      "Requirement already satisfied: qtpy in /opt/anaconda3/envs/learn-env/lib/python3.6/site-packages (from qtconsole->jupyter->lux-widget>=0.1.4->lux-api) (1.9.0)\n",
      "\u001b[33mWARNING: You are using pip version 21.0.1; however, version 21.1 is available.\n",
      "You should consider upgrading via the '/opt/anaconda3/envs/learn-env/bin/python -m pip install --upgrade pip' command.\u001b[0m\n"
     ]
    }
   ],
   "source": [
    "# Installing Lux\n",
    "!pip install lux-api"
   ]
  },
  {
   "cell_type": "code",
   "execution_count": 2,
   "metadata": {
    "ExecuteTime": {
     "end_time": "2021-04-26T23:02:07.527230Z",
     "start_time": "2021-04-26T23:02:05.769272Z"
    }
   },
   "outputs": [
    {
     "name": "stdout",
     "output_type": "stream",
     "text": [
      "Installing /opt/anaconda3/envs/learn-env/lib/python3.6/site-packages/luxwidget/nbextension/static -> luxwidget\n",
      "Up to date: /usr/local/share/jupyter/nbextensions/luxwidget/index.js\n",
      "Up to date: /usr/local/share/jupyter/nbextensions/luxwidget/index.js.map\n",
      "Up to date: /usr/local/share/jupyter/nbextensions/luxwidget/extension.js\n",
      "- Validating: \u001b[32mOK\u001b[0m\n",
      "\n",
      "    To initialize this nbextension in the browser every time the notebook (or other app) loads:\n",
      "    \n",
      "          jupyter nbextension enable luxwidget --py\n",
      "    \n",
      "Enabling notebook extension luxwidget/extension...\n",
      "      - Validating: \u001b[32mOK\u001b[0m\n"
     ]
    }
   ],
   "source": [
    "# Setup in Jupyter Notebook, VSCode, JupyterHub\n",
    "!jupyter nbextension install --py luxwidget\n",
    "!jupyter nbextension enable --py luxwidget"
   ]
  },
  {
   "cell_type": "code",
   "execution_count": 3,
   "metadata": {
    "ExecuteTime": {
     "end_time": "2021-04-26T23:02:08.650917Z",
     "start_time": "2021-04-26T23:02:07.530696Z"
    }
   },
   "outputs": [],
   "source": [
    "# Import libraries\n",
    "import pandas as pd\n",
    "import lux\n",
    "\n",
    "# Hide warnings\n",
    "import warnings\n",
    "warnings.filterwarnings(\"ignore\")"
   ]
  },
  {
   "cell_type": "code",
   "execution_count": 4,
   "metadata": {
    "ExecuteTime": {
     "end_time": "2021-04-26T23:02:08.695104Z",
     "start_time": "2021-04-26T23:02:08.655040Z"
    }
   },
   "outputs": [],
   "source": [
    "# Import dataset\n",
    "df = pd.read_csv('../data/country_vaccinations 2.csv')"
   ]
  },
  {
   "cell_type": "code",
   "execution_count": 5,
   "metadata": {
    "ExecuteTime": {
     "end_time": "2021-04-26T23:02:11.584554Z",
     "start_time": "2021-04-26T23:02:08.697437Z"
    }
   },
   "outputs": [
    {
     "data": {
      "application/vnd.jupyter.widget-view+json": {
       "model_id": "8f08ba2feef942a1b3396a599ffd30cf",
       "version_major": 2,
       "version_minor": 0
      },
      "text/plain": [
       "Button(description='Toggle Pandas/Lux', layout=Layout(top='5px', width='140px'), style=ButtonStyle())"
      ]
     },
     "metadata": {},
     "output_type": "display_data"
    },
    {
     "data": {
      "application/vnd.jupyter.widget-view+json": {
       "model_id": "cbec6dae4dc2437387281e86804d8501",
       "version_major": 2,
       "version_minor": 0
      },
      "text/plain": [
       "Output()"
      ]
     },
     "metadata": {},
     "output_type": "display_data"
    },
    {
     "data": {
      "text/plain": []
     },
     "execution_count": 5,
     "metadata": {},
     "output_type": "execute_result"
    }
   ],
   "source": [
    "df"
   ]
  },
  {
   "cell_type": "code",
   "execution_count": 6,
   "metadata": {
    "ExecuteTime": {
     "end_time": "2021-04-26T23:02:14.168023Z",
     "start_time": "2021-04-26T23:02:11.586702Z"
    },
    "scrolled": false
   },
   "outputs": [
    {
     "data": {
      "application/vnd.jupyter.widget-view+json": {
       "model_id": "9999301ea1e9453bb3aaedbdc138dc47",
       "version_major": 2,
       "version_minor": 0
      },
      "text/plain": [
       "Button(description='Toggle Pandas/Lux', layout=Layout(top='5px', width='140px'), style=ButtonStyle())"
      ]
     },
     "metadata": {},
     "output_type": "display_data"
    },
    {
     "data": {
      "application/vnd.jupyter.widget-view+json": {
       "model_id": "a023494d233246479a4e1d3c8bdb001f",
       "version_major": 2,
       "version_minor": 0
      },
      "text/plain": [
       "Output()"
      ]
     },
     "metadata": {},
     "output_type": "display_data"
    },
    {
     "data": {
      "text/plain": []
     },
     "execution_count": 6,
     "metadata": {},
     "output_type": "execute_result"
    }
   ],
   "source": [
    "df.intent = ['country', 'total_vaccinations']\n",
    "df"
   ]
  },
  {
   "cell_type": "code",
   "execution_count": 7,
   "metadata": {
    "ExecuteTime": {
     "end_time": "2021-04-26T23:02:14.178170Z",
     "start_time": "2021-04-26T23:02:14.172144Z"
    }
   },
   "outputs": [
    {
     "data": {
      "text/plain": [
       "[]"
      ]
     },
     "execution_count": 7,
     "metadata": {},
     "output_type": "execute_result"
    }
   ],
   "source": [
    "df.exported"
   ]
  },
  {
   "cell_type": "code",
   "execution_count": 8,
   "metadata": {
    "ExecuteTime": {
     "end_time": "2021-04-26T23:02:14.187929Z",
     "start_time": "2021-04-26T23:02:14.181881Z"
    }
   },
   "outputs": [
    {
     "data": {
      "text/plain": [
       "[]"
      ]
     },
     "execution_count": 8,
     "metadata": {},
     "output_type": "execute_result"
    }
   ],
   "source": [
    "vis = df.exported\n",
    "vis"
   ]
  },
  {
   "cell_type": "code",
   "execution_count": 9,
   "metadata": {
    "ExecuteTime": {
     "end_time": "2021-04-26T23:02:14.261326Z",
     "start_time": "2021-04-26T23:02:14.195539Z"
    },
    "scrolled": true
   },
   "outputs": [
    {
     "name": "stdout",
     "output_type": "stream",
     "text": [
      "Saved HTML to vis_1.html\n"
     ]
    }
   ],
   "source": [
    "df.save_as_html('vis_1.html')"
   ]
  },
  {
   "cell_type": "code",
   "execution_count": 10,
   "metadata": {
    "ExecuteTime": {
     "end_time": "2021-04-26T23:02:14.608706Z",
     "start_time": "2021-04-26T23:02:14.268667Z"
    }
   },
   "outputs": [
    {
     "data": {
      "application/vnd.jupyter.widget-view+json": {
       "model_id": "2f27fe836e7d40c489b30dff73ee76e6",
       "version_major": 2,
       "version_minor": 0
      },
      "text/plain": [
       "LuxWidget(recommendations=[{'action': 'Vis List', 'description': 'Shows a vis list defined by the intent', 'vs…"
      ]
     },
     "metadata": {},
     "output_type": "display_data"
    },
    {
     "data": {
      "text/plain": [
       "[<Vis  (x: MEAN(total_vaccinations), y: country, color: vaccines) mark: bar, score: 0.01 >,\n",
       " <Vis  (x: MEAN(total_vaccinations), y: country, color: source_name) mark: bar, score: 0.01 >,\n",
       " <Vis  (x: MEAN(total_vaccinations), y: country, color: date) mark: bar, score: 0.01 >,\n",
       " <Vis  (x: MEAN(total_vaccinations), y: country, color: source_website) mark: bar, score: 0.00 >,\n",
       " <Vis  (x: MEAN(total_vaccinations), y: country, color: iso_code) mark: bar, score: 0.00 >]"
      ]
     },
     "execution_count": 10,
     "metadata": {},
     "output_type": "execute_result"
    }
   ],
   "source": [
    "df.recommendation[\"Enhance\"]"
   ]
  },
  {
   "cell_type": "code",
   "execution_count": 12,
   "metadata": {
    "ExecuteTime": {
     "end_time": "2021-04-26T23:05:06.809591Z",
     "start_time": "2021-04-26T23:05:06.798001Z"
    }
   },
   "outputs": [
    {
     "ename": "IndexError",
     "evalue": "list index out of range",
     "output_type": "error",
     "traceback": [
      "\u001b[0;31m---------------------------------------------------------------------------\u001b[0m",
      "\u001b[0;31mIndexError\u001b[0m                                Traceback (most recent call last)",
      "\u001b[0;32m<ipython-input-12-e337fecc32cb>\u001b[0m in \u001b[0;36m<module>\u001b[0;34m()\u001b[0m\n\u001b[0;32m----> 1\u001b[0;31m \u001b[0mvis\u001b[0m \u001b[0;34m=\u001b[0m \u001b[0mdf\u001b[0m\u001b[0;34m.\u001b[0m\u001b[0mexported\u001b[0m\u001b[0;34m[\u001b[0m\u001b[0;36m0\u001b[0m\u001b[0;34m]\u001b[0m\u001b[0;34m\u001b[0m\u001b[0;34m\u001b[0m\u001b[0m\n\u001b[0m\u001b[1;32m      2\u001b[0m \u001b[0mvis\u001b[0m\u001b[0;34m\u001b[0m\u001b[0;34m\u001b[0m\u001b[0m\n",
      "\u001b[0;31mIndexError\u001b[0m: list index out of range"
     ]
    }
   ],
   "source": [
    "vis = df.exported[0]\n",
    "vis"
   ]
  },
  {
   "cell_type": "code",
   "execution_count": 14,
   "metadata": {
    "ExecuteTime": {
     "end_time": "2021-04-26T23:05:20.334348Z",
     "start_time": "2021-04-26T23:05:20.322166Z"
    }
   },
   "outputs": [
    {
     "ename": "AttributeError",
     "evalue": "'list' object has no attribute 'to_Altair'",
     "output_type": "error",
     "traceback": [
      "\u001b[0;31m---------------------------------------------------------------------------\u001b[0m",
      "\u001b[0;31mAttributeError\u001b[0m                            Traceback (most recent call last)",
      "\u001b[0;32m<ipython-input-14-17b75cc446e5>\u001b[0m in \u001b[0;36m<module>\u001b[0;34m()\u001b[0m\n\u001b[1;32m      1\u001b[0m \u001b[0mdf\u001b[0m\u001b[0;34m.\u001b[0m\u001b[0mintent\u001b[0m \u001b[0;34m=\u001b[0m \u001b[0mvis\u001b[0m\u001b[0;34m\u001b[0m\u001b[0;34m\u001b[0m\u001b[0m\n\u001b[0;32m----> 2\u001b[0;31m \u001b[0mprint\u001b[0m \u001b[0;34m(\u001b[0m\u001b[0mvis\u001b[0m\u001b[0;34m.\u001b[0m\u001b[0mto_Altair\u001b[0m\u001b[0;34m(\u001b[0m\u001b[0;34m)\u001b[0m\u001b[0;34m)\u001b[0m\u001b[0;34m\u001b[0m\u001b[0;34m\u001b[0m\u001b[0m\n\u001b[0m",
      "\u001b[0;31mAttributeError\u001b[0m: 'list' object has no attribute 'to_Altair'"
     ]
    }
   ],
   "source": [
    "df.intent = vis\n",
    "print (vis.to_Altair())"
   ]
  },
  {
   "cell_type": "code",
   "execution_count": 13,
   "metadata": {
    "ExecuteTime": {
     "end_time": "2021-04-26T23:05:16.346392Z",
     "start_time": "2021-04-26T23:05:16.292485Z"
    }
   },
   "outputs": [
    {
     "data": {
      "text/html": [
       "\n",
       "<div id=\"altair-viz-cb6fb4514b224d74ae614ce2a0ea9242\"></div>\n",
       "<script type=\"text/javascript\">\n",
       "  (function(spec, embedOpt){\n",
       "    let outputDiv = document.currentScript.previousElementSibling;\n",
       "    if (outputDiv.id !== \"altair-viz-cb6fb4514b224d74ae614ce2a0ea9242\") {\n",
       "      outputDiv = document.getElementById(\"altair-viz-cb6fb4514b224d74ae614ce2a0ea9242\");\n",
       "    }\n",
       "    const paths = {\n",
       "      \"vega\": \"https://cdn.jsdelivr.net/npm//vega@5?noext\",\n",
       "      \"vega-lib\": \"https://cdn.jsdelivr.net/npm//vega-lib?noext\",\n",
       "      \"vega-lite\": \"https://cdn.jsdelivr.net/npm//vega-lite@4.8.1?noext\",\n",
       "      \"vega-embed\": \"https://cdn.jsdelivr.net/npm//vega-embed@6?noext\",\n",
       "    };\n",
       "\n",
       "    function loadScript(lib) {\n",
       "      return new Promise(function(resolve, reject) {\n",
       "        var s = document.createElement('script');\n",
       "        s.src = paths[lib];\n",
       "        s.async = true;\n",
       "        s.onload = () => resolve(paths[lib]);\n",
       "        s.onerror = () => reject(`Error loading script: ${paths[lib]}`);\n",
       "        document.getElementsByTagName(\"head\")[0].appendChild(s);\n",
       "      });\n",
       "    }\n",
       "\n",
       "    function showError(err) {\n",
       "      outputDiv.innerHTML = `<div class=\"error\" style=\"color:red;\">${err}</div>`;\n",
       "      throw err;\n",
       "    }\n",
       "\n",
       "    function displayChart(vegaEmbed) {\n",
       "      vegaEmbed(outputDiv, spec, embedOpt)\n",
       "        .catch(err => showError(`Javascript Error: ${err.message}<br>This usually means there's a typo in your chart specification. See the javascript console for the full traceback.`));\n",
       "    }\n",
       "\n",
       "    if(typeof define === \"function\" && define.amd) {\n",
       "      requirejs.config({paths});\n",
       "      require([\"vega-embed\"], displayChart, err => showError(`Error loading script: ${err.message}`));\n",
       "    } else if (typeof vegaEmbed === \"function\") {\n",
       "      displayChart(vegaEmbed);\n",
       "    } else {\n",
       "      loadScript(\"vega\")\n",
       "        .then(() => loadScript(\"vega-lite\"))\n",
       "        .then(() => loadScript(\"vega-embed\"))\n",
       "        .catch(showError)\n",
       "        .then(() => displayChart(vegaEmbed));\n",
       "    }\n",
       "  })({\"config\": {\"view\": {\"continuousWidth\": 400, \"continuousHeight\": 300}, \"axis\": {\"labelColor\": \"#505050\", \"labelFont\": \"Helvetica Neue\", \"labelFontSize\": 16, \"labelFontWeight\": 400, \"titleFont\": \"Helvetica Neue\", \"titleFontSize\": 11, \"titleFontWeight\": 400}, \"legend\": {\"labelFont\": \"Helvetica Neue\", \"labelFontSize\": 12, \"labelFontWeight\": 400, \"titleFont\": \"Helvetica Neue\", \"titleFontSize\": 10, \"titleFontWeight\": 500}, \"mark\": {\"tooltip\": {\"content\": \"encoding\"}}, \"title\": {\"font\": \"Helvetica Neue\", \"fontSize\": 1, \"fontWeight\": 400}}, \"layer\": [{\"mark\": \"bar\", \"encoding\": {\"color\": {\"type\": \"nominal\", \"field\": \"vaccines\"}, \"x\": {\"type\": \"quantitative\", \"axis\": {\"title\": \"Mean of Total Vaccination\", \"titleFontSize\": 18}, \"field\": \"total_vaccinations\", \"title\": \"Mean of Total Vaccination\"}, \"y\": {\"type\": \"nominal\", \"axis\": {\"labelOverlap\": true, \"title\": \"Country\", \"titleFontSize\": 18}, \"field\": \"country\", \"sort\": \"-x\"}}, \"height\": 400, \"width\": 600}, {\"mark\": {\"type\": \"text\", \"align\": \"right\", \"color\": \"#ff8e04\", \"fontSize\": 14, \"x\": 155, \"y\": 142}}], \"data\": {\"name\": \"data-739a9fdee20ffa5e563092e4cb31f497\"}, \"height\": 150, \"width\": 160, \"$schema\": \"https://vega.github.io/schema/vega-lite/v4.8.1.json\", \"datasets\": {\"data-739a9fdee20ffa5e563092e4cb31f497\": [{\"country\": \"United States\", \"vaccines\": \"Johnson&Johnson, Moderna, Pfizer/BioNTech\", \"total_vaccinations\": 56850420.4}, {\"country\": \"China\", \"vaccines\": \"Sinopharm/Beijing, Sinopharm/Wuhan, Sinovac\", \"total_vaccinations\": 52523931.578947365}, {\"country\": \"India\", \"vaccines\": \"Covaxin, Oxford/AstraZeneca\", \"total_vaccinations\": 17261202.930555556}, {\"country\": \"United Kingdom\", \"vaccines\": \"Oxford/AstraZeneca, Pfizer/BioNTech\", \"total_vaccinations\": 16025884.666666666}, {\"country\": \"England\", \"vaccines\": \"Oxford/AstraZeneca, Pfizer/BioNTech\", \"total_vaccinations\": 13559694.641975308}, {\"country\": \"Brazil\", \"vaccines\": \"Oxford/AstraZeneca, Sinovac\", \"total_vaccinations\": 6774709.567164179}, {\"country\": \"Turkey\", \"vaccines\": \"Pfizer/BioNTech, Sinovac\", \"total_vaccinations\": 6295294.27027027}, {\"country\": \"Russia\", \"vaccines\": \"EpiVacCorona, Sputnik V\", \"total_vaccinations\": 5958618.52}, {\"country\": \"Israel\", \"vaccines\": \"Moderna, Pfizer/BioNTech\", \"total_vaccinations\": 5345397.68}, {\"country\": \"Germany\", \"vaccines\": \"Moderna, Oxford/AstraZeneca, Pfizer/BioNTech\", \"total_vaccinations\": 4666101.217391305}]}}, {\"mode\": \"vega-lite\"});\n",
       "</script>"
      ],
      "text/plain": [
       "alt.LayerChart(...)"
      ]
     },
     "execution_count": 13,
     "metadata": {},
     "output_type": "execute_result"
    }
   ],
   "source": [
    "import altair as alt\n",
    "visData = pd.DataFrame({'country': {4024: 'United States', 702: 'China', 1673: 'India', 4009: 'United Kingdom', 1079: 'England', 564: 'Brazil', 3884: 'Turkey', 3129: 'Russia', 1785: 'Israel', 1278: 'Germany'}, 'vaccines': {4024: 'Johnson&Johnson, Moderna, Pfizer/BioNTech', 702: 'Sinopharm/Beijing, Sinopharm/Wuhan, Sinovac', 1673: 'Covaxin, Oxford/AstraZeneca', 4009: 'Oxford/AstraZeneca, Pfizer/BioNTech', 1079: 'Oxford/AstraZeneca, Pfizer/BioNTech', 564: 'Oxford/AstraZeneca, Sinovac', 3884: 'Pfizer/BioNTech, Sinovac', 3129: 'EpiVacCorona, Sputnik V', 1785: 'Moderna, Pfizer/BioNTech', 1278: 'Moderna, Oxford/AstraZeneca, Pfizer/BioNTech'}, 'total_vaccinations': {4024: 56850420.4, 702: 52523931.578947365, 1673: 17261202.930555556, 4009: 16025884.666666666, 1079: 13559694.641975308, 564: 6774709.567164179, 3884: 6295294.27027027, 3129: 5958618.52, 1785: 5345397.68, 1278: 4666101.217391305}})\n",
    "\n",
    "chart = alt.Chart(visData, width=600, height=400).mark_bar().encode(\n",
    "    y = alt.Y('country', type= 'nominal', axis=alt.Axis(labelOverlap=True, title='Country', titleFontSize=18), sort ='-x'),\n",
    "    x = alt.X('total_vaccinations', type= 'quantitative', title='Mean of Total Vaccination', axis=alt.Axis(title='Mean of Total Vaccination', titleFontSize=18)),\n",
    ")\n",
    "chart = chart.encode(color=alt.Color('vaccines',type='nominal'))\n",
    "text = alt.Chart(visData).mark_text(\n",
    "\tx=155, \n",
    "\ty=142,\n",
    "\talign=\"right\",\n",
    "\tcolor = \"#ff8e04\",\n",
    "\tfontSize = 14,\n",
    "# \ttext=f\"+ 145 more ...\"\n",
    ")\n",
    "chart = chart + text\n",
    "chart = chart.configure_mark(tooltip=alt.TooltipContent('encoding'))\n",
    "chart = chart.configure_title(fontWeight=400,fontSize=1,font='Helvetica Neue')\n",
    "chart = chart.configure_axis(titleFontWeight=400,titleFontSize=11,titleFont='Helvetica Neue',\n",
    "\t\t\tlabelFontWeight=400,labelFontSize=16,labelFont='Helvetica Neue',labelColor='#505050')\n",
    "chart = chart.configure_legend(titleFontWeight=500,titleFontSize=10,titleFont='Helvetica Neue',\n",
    "\t\t\tlabelFontWeight=400,labelFontSize=12,labelFont='Helvetica Neue')\n",
    "chart = chart.properties(width=160,height=150)\n",
    "\n",
    "chart"
   ]
  },
  {
   "cell_type": "code",
   "execution_count": null,
   "metadata": {},
   "outputs": [],
   "source": []
  }
 ],
 "metadata": {
  "kernelspec": {
   "display_name": "learn-env",
   "language": "python",
   "name": "learn-env"
  },
  "language_info": {
   "codemirror_mode": {
    "name": "ipython",
    "version": 3
   },
   "file_extension": ".py",
   "mimetype": "text/x-python",
   "name": "python",
   "nbconvert_exporter": "python",
   "pygments_lexer": "ipython3",
   "version": "3.6.9"
  },
  "toc": {
   "base_numbering": 1,
   "nav_menu": {},
   "number_sections": true,
   "sideBar": true,
   "skip_h1_title": false,
   "title_cell": "Table of Contents",
   "title_sidebar": "Contents",
   "toc_cell": false,
   "toc_position": {},
   "toc_section_display": true,
   "toc_window_display": false
  }
 },
 "nbformat": 4,
 "nbformat_minor": 4
}
