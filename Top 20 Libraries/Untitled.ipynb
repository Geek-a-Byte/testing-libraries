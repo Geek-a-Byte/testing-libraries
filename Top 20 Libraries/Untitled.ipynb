{
 "cells": [
  {
   "cell_type": "markdown",
   "id": "250479fc",
   "metadata": {
    "heading_collapsed": true
   },
   "source": [
    "# OpenDataSets"
   ]
  },
  {
   "cell_type": "code",
   "execution_count": null,
   "id": "05d342b7",
   "metadata": {
    "ExecuteTime": {
     "end_time": "2021-09-19T00:48:58.357567Z",
     "start_time": "2021-09-19T00:48:58.353108Z"
    },
    "hidden": true
   },
   "outputs": [],
   "source": [
    "# !pip install opendatasets"
   ]
  },
  {
   "cell_type": "code",
   "execution_count": null,
   "id": "4aa4e23d",
   "metadata": {
    "ExecuteTime": {
     "end_time": "2021-09-19T00:48:58.377845Z",
     "start_time": "2021-09-19T00:48:58.358896Z"
    },
    "hidden": true,
    "scrolled": true
   },
   "outputs": [],
   "source": [
    "import opendatasets as od\n",
    "od.download(\"https://www.kaggle.com/rashikrahmanpritom/heart-attack-analysis-prediction-dataset\")"
   ]
  },
  {
   "cell_type": "markdown",
   "id": "408ae4b8",
   "metadata": {},
   "source": [
    "# PyForest"
   ]
  },
  {
   "cell_type": "code",
   "execution_count": null,
   "id": "1c4f9e67",
   "metadata": {
    "ExecuteTime": {
     "end_time": "2021-09-19T00:48:58.380438Z",
     "start_time": "2021-09-19T00:48:58.378751Z"
    }
   },
   "outputs": [],
   "source": [
    "# !pip install pyforest"
   ]
  },
  {
   "cell_type": "code",
   "execution_count": null,
   "id": "bdc400dc",
   "metadata": {
    "ExecuteTime": {
     "end_time": "2021-09-19T00:49:29.594690Z",
     "start_time": "2021-09-19T00:49:29.576784Z"
    }
   },
   "outputs": [],
   "source": [
    "import pyforest"
   ]
  },
  {
   "cell_type": "code",
   "execution_count": null,
   "id": "32441b8d",
   "metadata": {
    "ExecuteTime": {
     "end_time": "2021-09-19T00:49:30.213761Z",
     "start_time": "2021-09-19T00:49:29.926656Z"
    },
    "scrolled": true
   },
   "outputs": [],
   "source": [
    "df = pd.read_csv('heart-attack-analysis-prediction-dataset/heart.csv')\n",
    "df.head()"
   ]
  },
  {
   "cell_type": "code",
   "execution_count": null,
   "id": "b3558676",
   "metadata": {
    "ExecuteTime": {
     "end_time": "2021-09-19T00:49:31.140805Z",
     "start_time": "2021-09-19T00:49:30.893797Z"
    }
   },
   "outputs": [],
   "source": [
    "plt.hist(df['age'])\n",
    "plt.show()"
   ]
  },
  {
   "cell_type": "code",
   "execution_count": null,
   "id": "1da56b30",
   "metadata": {
    "ExecuteTime": {
     "end_time": "2021-09-19T00:49:31.340655Z",
     "start_time": "2021-09-19T00:49:31.332639Z"
    }
   },
   "outputs": [],
   "source": [
    "pyforest.active_imports()"
   ]
  },
  {
   "cell_type": "code",
   "execution_count": null,
   "id": "ebeeadc7",
   "metadata": {
    "ExecuteTime": {
     "end_time": "2021-09-19T00:49:32.304895Z",
     "start_time": "2021-09-19T00:49:31.927067Z"
    }
   },
   "outputs": [],
   "source": [
    "sns.displot(df['age'])\n",
    "plt.show()"
   ]
  },
  {
   "cell_type": "code",
   "execution_count": null,
   "id": "72bbe0de",
   "metadata": {
    "ExecuteTime": {
     "end_time": "2021-09-19T00:49:32.488729Z",
     "start_time": "2021-09-19T00:49:32.485235Z"
    }
   },
   "outputs": [],
   "source": [
    "pyforest.active_imports()"
   ]
  },
  {
   "cell_type": "code",
   "execution_count": null,
   "id": "62cedf84",
   "metadata": {
    "ExecuteTime": {
     "end_time": "2021-09-19T00:49:33.185579Z",
     "start_time": "2021-09-19T00:49:33.178834Z"
    }
   },
   "outputs": [],
   "source": [
    "lazy_imports()"
   ]
  },
  {
   "cell_type": "markdown",
   "id": "a76f64c3",
   "metadata": {
    "ExecuteTime": {
     "end_time": "2021-09-19T03:52:13.905980Z",
     "start_time": "2021-09-19T03:52:13.899470Z"
    }
   },
   "source": [
    "# Bamboolib"
   ]
  },
  {
   "cell_type": "code",
   "execution_count": null,
   "id": "f62b641f",
   "metadata": {
    "ExecuteTime": {
     "end_time": "2021-09-19T03:53:36.060967Z",
     "start_time": "2021-09-19T03:53:03.619893Z"
    }
   },
   "outputs": [],
   "source": [
    "# !pip install --upgrade bamboolib --user\n",
    "\n",
    "# # Jupyter Notebook extensions\n",
    "# !python -m bamboolib install_nbextensions\n",
    "\n",
    "# # JupyterLab extensions\n",
    "# !python -m bamboolib install_labextensions"
   ]
  },
  {
   "cell_type": "code",
   "execution_count": null,
   "id": "0286389a",
   "metadata": {
    "ExecuteTime": {
     "end_time": "2021-09-19T03:56:45.460176Z",
     "start_time": "2021-09-19T03:56:19.333637Z"
    }
   },
   "outputs": [],
   "source": [
    "# Create conda environment\n",
    "!conda create -n bamboolib python=3.7 -y\n",
    "\n",
    "# Activate the environment\n",
    "!conda activate bamboolib\n",
    "\n",
    "# Add the IPython kernel to Jupyter\n",
    "!conda install jupyter -y\n",
    "!conda install ipykernel -y\n",
    "!python -m ipykernel install --user --name bamboolib\n",
    "\n",
    "# Run this if you use Jupyterlab\n",
    "!conda install jupyterlab -y\n",
    "\n",
    "# Install bamboolib ...\n",
    "!pip install --upgrade bamboolib --user\n",
    "\n",
    "# Jupyter Notebook extensions\n",
    "!python -m bamboolib install_nbextensions\n",
    "\n",
    "# Run this if you use Jupyterlab: JupyterLab extensions\n",
    "!python -m bamboolib install_labextensions"
   ]
  },
  {
   "cell_type": "markdown",
   "id": "987d7428",
   "metadata": {},
   "source": [
    "# Fake"
   ]
  },
  {
   "cell_type": "code",
   "execution_count": null,
   "id": "ef511cf0",
   "metadata": {
    "ExecuteTime": {
     "end_time": "2021-09-19T04:08:58.093748Z",
     "start_time": "2021-09-19T04:08:58.090758Z"
    },
    "scrolled": true
   },
   "outputs": [],
   "source": [
    "# !pip install Faker"
   ]
  },
  {
   "cell_type": "code",
   "execution_count": null,
   "id": "0b004408",
   "metadata": {
    "ExecuteTime": {
     "end_time": "2021-09-19T04:13:53.654718Z",
     "start_time": "2021-09-19T04:13:53.615194Z"
    }
   },
   "outputs": [],
   "source": [
    "from faker import Faker\n",
    "from faker.providers import internet\n",
    "fake = Faker()"
   ]
  },
  {
   "cell_type": "code",
   "execution_count": null,
   "id": "a453829c",
   "metadata": {
    "ExecuteTime": {
     "end_time": "2021-09-19T04:13:54.376145Z",
     "start_time": "2021-09-19T04:13:54.369520Z"
    }
   },
   "outputs": [],
   "source": [
    "fake.name()"
   ]
  },
  {
   "cell_type": "code",
   "execution_count": null,
   "id": "b3af419d",
   "metadata": {
    "ExecuteTime": {
     "end_time": "2021-09-19T04:13:54.971334Z",
     "start_time": "2021-09-19T04:13:54.966461Z"
    }
   },
   "outputs": [],
   "source": [
    "fake.address()"
   ]
  },
  {
   "cell_type": "code",
   "execution_count": null,
   "id": "2a72b111",
   "metadata": {
    "ExecuteTime": {
     "end_time": "2021-09-19T04:13:55.371268Z",
     "start_time": "2021-09-19T04:13:55.364284Z"
    }
   },
   "outputs": [],
   "source": [
    "fake.text()"
   ]
  },
  {
   "cell_type": "code",
   "execution_count": null,
   "id": "d0a7e8d6",
   "metadata": {
    "ExecuteTime": {
     "end_time": "2021-09-19T04:14:41.497351Z",
     "start_time": "2021-09-19T04:14:41.492429Z"
    }
   },
   "outputs": [],
   "source": [
    "fake.job()"
   ]
  },
  {
   "cell_type": "code",
   "execution_count": null,
   "id": "9fa1dd0b",
   "metadata": {
    "ExecuteTime": {
     "end_time": "2021-09-19T04:14:58.927437Z",
     "start_time": "2021-09-19T04:14:58.921438Z"
    }
   },
   "outputs": [],
   "source": [
    "fake.phone_number()"
   ]
  },
  {
   "cell_type": "code",
   "execution_count": null,
   "id": "67ecdeee",
   "metadata": {
    "ExecuteTime": {
     "end_time": "2021-09-19T04:15:28.591644Z",
     "start_time": "2021-09-19T04:15:28.586765Z"
    }
   },
   "outputs": [],
   "source": [
    "fake.date_time()"
   ]
  },
  {
   "cell_type": "code",
   "execution_count": null,
   "id": "3bdff225",
   "metadata": {
    "ExecuteTime": {
     "end_time": "2021-09-19T04:15:53.239611Z",
     "start_time": "2021-09-19T04:15:53.234567Z"
    }
   },
   "outputs": [],
   "source": [
    "fake.ssn()"
   ]
  },
  {
   "cell_type": "code",
   "execution_count": null,
   "id": "c33008a9",
   "metadata": {},
   "outputs": [],
   "source": []
  },
  {
   "cell_type": "code",
   "execution_count": null,
   "id": "fb14022b",
   "metadata": {},
   "outputs": [],
   "source": []
  },
  {
   "cell_type": "code",
   "execution_count": null,
   "id": "155fadca",
   "metadata": {},
   "outputs": [],
   "source": []
  },
  {
   "cell_type": "code",
   "execution_count": null,
   "id": "7f2c4c2b",
   "metadata": {
    "ExecuteTime": {
     "end_time": "2021-09-19T04:12:00.427033Z",
     "start_time": "2021-09-19T04:12:00.418743Z"
    }
   },
   "outputs": [],
   "source": [
    "fake.text(max_nb_chars=1000)"
   ]
  },
  {
   "cell_type": "code",
   "execution_count": null,
   "id": "6628f0cc",
   "metadata": {},
   "outputs": [],
   "source": []
  },
  {
   "cell_type": "code",
   "execution_count": null,
   "id": "2fa38f8a",
   "metadata": {},
   "outputs": [],
   "source": []
  },
  {
   "cell_type": "code",
   "execution_count": null,
   "id": "e154e65b",
   "metadata": {},
   "outputs": [],
   "source": []
  },
  {
   "cell_type": "code",
   "execution_count": null,
   "id": "028df052",
   "metadata": {},
   "outputs": [],
   "source": []
  },
  {
   "cell_type": "code",
   "execution_count": null,
   "id": "634cf698",
   "metadata": {},
   "outputs": [],
   "source": []
  },
  {
   "cell_type": "code",
   "execution_count": null,
   "id": "f8768e46",
   "metadata": {},
   "outputs": [],
   "source": []
  },
  {
   "cell_type": "code",
   "execution_count": null,
   "id": "8d5b8426",
   "metadata": {},
   "outputs": [],
   "source": []
  },
  {
   "cell_type": "code",
   "execution_count": null,
   "id": "e7739a90",
   "metadata": {},
   "outputs": [],
   "source": []
  },
  {
   "cell_type": "code",
   "execution_count": null,
   "id": "89964825",
   "metadata": {},
   "outputs": [],
   "source": []
  },
  {
   "cell_type": "code",
   "execution_count": null,
   "id": "04a60e87",
   "metadata": {},
   "outputs": [],
   "source": []
  },
  {
   "cell_type": "code",
   "execution_count": null,
   "id": "e0cbdbb7",
   "metadata": {
    "ExecuteTime": {
     "end_time": "2021-09-19T00:24:39.505396Z",
     "start_time": "2021-09-19T00:24:39.500390Z"
    }
   },
   "outputs": [],
   "source": []
  },
  {
   "cell_type": "code",
   "execution_count": null,
   "id": "e74b2021",
   "metadata": {
    "ExecuteTime": {
     "end_time": "2021-09-19T00:31:02.378067Z",
     "start_time": "2021-09-19T00:31:02.026694Z"
    }
   },
   "outputs": [],
   "source": []
  },
  {
   "cell_type": "code",
   "execution_count": null,
   "id": "a2e3c98f",
   "metadata": {
    "ExecuteTime": {
     "start_time": "2021-09-19T00:48:58.360Z"
    }
   },
   "outputs": [],
   "source": [
    "plt.hist(df['age'])\n",
    "plt.show()"
   ]
  },
  {
   "cell_type": "code",
   "execution_count": null,
   "id": "21e7c3a6",
   "metadata": {
    "ExecuteTime": {
     "end_time": "2021-09-19T00:32:21.928199Z",
     "start_time": "2021-09-19T00:32:21.921024Z"
    }
   },
   "outputs": [],
   "source": []
  },
  {
   "cell_type": "code",
   "execution_count": null,
   "id": "1f9869c8",
   "metadata": {
    "ExecuteTime": {
     "end_time": "2021-09-19T00:32:47.045946Z",
     "start_time": "2021-09-19T00:32:46.161612Z"
    }
   },
   "outputs": [],
   "source": []
  },
  {
   "cell_type": "code",
   "execution_count": null,
   "id": "cf6e1a98",
   "metadata": {
    "ExecuteTime": {
     "end_time": "2021-09-19T00:32:59.578217Z",
     "start_time": "2021-09-19T00:32:59.569838Z"
    }
   },
   "outputs": [],
   "source": []
  },
  {
   "cell_type": "code",
   "execution_count": null,
   "id": "a3d2437e",
   "metadata": {
    "ExecuteTime": {
     "end_time": "2021-09-19T00:34:27.911403Z",
     "start_time": "2021-09-19T00:34:27.899583Z"
    }
   },
   "outputs": [],
   "source": []
  },
  {
   "cell_type": "code",
   "execution_count": null,
   "id": "fdd51dd1",
   "metadata": {},
   "outputs": [],
   "source": []
  },
  {
   "cell_type": "code",
   "execution_count": null,
   "id": "41c325cf",
   "metadata": {},
   "outputs": [],
   "source": []
  },
  {
   "cell_type": "code",
   "execution_count": null,
   "id": "80eb1583",
   "metadata": {},
   "outputs": [],
   "source": []
  },
  {
   "cell_type": "code",
   "execution_count": null,
   "id": "a44e2f79",
   "metadata": {},
   "outputs": [],
   "source": []
  },
  {
   "cell_type": "code",
   "execution_count": null,
   "id": "8cc51beb",
   "metadata": {},
   "outputs": [],
   "source": []
  },
  {
   "cell_type": "code",
   "execution_count": null,
   "id": "131a1585",
   "metadata": {
    "ExecuteTime": {
     "start_time": "2021-09-19T00:48:58.363Z"
    }
   },
   "outputs": [],
   "source": [
    "!pip install pyforest"
   ]
  },
  {
   "cell_type": "code",
   "execution_count": null,
   "id": "25819627",
   "metadata": {},
   "outputs": [],
   "source": []
  },
  {
   "cell_type": "code",
   "execution_count": null,
   "id": "26e5ef8e",
   "metadata": {},
   "outputs": [],
   "source": []
  },
  {
   "cell_type": "code",
   "execution_count": null,
   "id": "43c9fc4a",
   "metadata": {},
   "outputs": [],
   "source": []
  },
  {
   "cell_type": "code",
   "execution_count": null,
   "id": "2a5e4caa",
   "metadata": {},
   "outputs": [],
   "source": []
  },
  {
   "cell_type": "code",
   "execution_count": null,
   "id": "d9be9a1f",
   "metadata": {},
   "outputs": [],
   "source": []
  },
  {
   "cell_type": "code",
   "execution_count": null,
   "id": "a78be182",
   "metadata": {},
   "outputs": [],
   "source": []
  },
  {
   "cell_type": "code",
   "execution_count": null,
   "id": "fe68d55a",
   "metadata": {},
   "outputs": [],
   "source": []
  },
  {
   "cell_type": "code",
   "execution_count": null,
   "id": "f932532c",
   "metadata": {
    "ExecuteTime": {
     "start_time": "2021-09-19T00:48:58.365Z"
    }
   },
   "outputs": [],
   "source": [
    "!pip install knockknock"
   ]
  },
  {
   "cell_type": "code",
   "execution_count": null,
   "id": "84757332",
   "metadata": {
    "ExecuteTime": {
     "start_time": "2021-09-19T00:48:58.365Z"
    },
    "scrolled": false
   },
   "outputs": [],
   "source": [
    "!pip install tensorflow"
   ]
  },
  {
   "cell_type": "code",
   "execution_count": null,
   "id": "a0d4f769",
   "metadata": {
    "ExecuteTime": {
     "start_time": "2021-09-19T00:48:58.365Z"
    }
   },
   "outputs": [],
   "source": [
    "from keras.utils.np_utils import to_categorical\n",
    "from keras.models import Sequential\n",
    "from keras.layers import Conv2D, MaxPooling2D, Flatten, Dense, Dropout, Activation\n",
    "from keras.datasets import mnist"
   ]
  },
  {
   "cell_type": "code",
   "execution_count": null,
   "id": "518ceeaa",
   "metadata": {},
   "outputs": [],
   "source": []
  },
  {
   "cell_type": "code",
   "execution_count": null,
   "id": "b3874713",
   "metadata": {},
   "outputs": [],
   "source": []
  },
  {
   "cell_type": "code",
   "execution_count": null,
   "id": "5bde46a1",
   "metadata": {},
   "outputs": [],
   "source": []
  },
  {
   "cell_type": "code",
   "execution_count": null,
   "id": "24476d40",
   "metadata": {},
   "outputs": [],
   "source": []
  },
  {
   "cell_type": "code",
   "execution_count": null,
   "id": "e2f940ba",
   "metadata": {},
   "outputs": [],
   "source": []
  },
  {
   "cell_type": "code",
   "execution_count": null,
   "id": "db042f5a",
   "metadata": {},
   "outputs": [],
   "source": []
  },
  {
   "cell_type": "code",
   "execution_count": null,
   "id": "54dc423d",
   "metadata": {},
   "outputs": [],
   "source": []
  },
  {
   "cell_type": "code",
   "execution_count": null,
   "id": "6b7fff13",
   "metadata": {},
   "outputs": [],
   "source": []
  },
  {
   "cell_type": "code",
   "execution_count": null,
   "id": "441dc347",
   "metadata": {},
   "outputs": [],
   "source": []
  },
  {
   "cell_type": "code",
   "execution_count": null,
   "id": "fa1ca20c",
   "metadata": {},
   "outputs": [],
   "source": []
  },
  {
   "cell_type": "code",
   "execution_count": null,
   "id": "bc5966f8",
   "metadata": {},
   "outputs": [],
   "source": []
  },
  {
   "cell_type": "code",
   "execution_count": null,
   "id": "5cf2e4ef",
   "metadata": {},
   "outputs": [],
   "source": []
  },
  {
   "cell_type": "code",
   "execution_count": null,
   "id": "ad545289",
   "metadata": {},
   "outputs": [],
   "source": []
  },
  {
   "cell_type": "code",
   "execution_count": null,
   "id": "05cc9325",
   "metadata": {},
   "outputs": [],
   "source": []
  }
 ],
 "metadata": {
  "hide_input": false,
  "kernelspec": {
   "display_name": "Python 3 (ipykernel)",
   "language": "python",
   "name": "python3"
  },
  "language_info": {
   "codemirror_mode": {
    "name": "ipython",
    "version": 3
   },
   "file_extension": ".py",
   "mimetype": "text/x-python",
   "name": "python",
   "nbconvert_exporter": "python",
   "pygments_lexer": "ipython3",
   "version": "3.8.8"
  }
 },
 "nbformat": 4,
 "nbformat_minor": 5
}
