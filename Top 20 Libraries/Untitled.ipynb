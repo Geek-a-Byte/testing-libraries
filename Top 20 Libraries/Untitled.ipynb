{
 "cells": [
  {
   "cell_type": "code",
   "execution_count": 11,
   "id": "f932532c",
   "metadata": {
    "ExecuteTime": {
     "end_time": "2021-09-18T20:22:28.325574Z",
     "start_time": "2021-09-18T20:22:21.804907Z"
    },
    "collapsed": true
   },
   "outputs": [
    {
     "name": "stdout",
     "output_type": "stream",
     "text": [
      "Collecting knockknock\n",
      "  Downloading knockknock-0.1.8.1-py3-none-any.whl (28 kB)\n",
      "Collecting twilio\n",
      "  Downloading twilio-6.63.2.tar.gz (490 kB)\n",
      "\u001b[K     |████████████████████████████████| 490 kB 3.8 MB/s eta 0:00:01\n",
      "\u001b[?25hRequirement already satisfied: keyring in /Users/ismaeltrevi/opt/anaconda3/lib/python3.8/site-packages (from knockknock) (23.0.1)\n",
      "Collecting yagmail>=0.11.214\n",
      "  Downloading yagmail-0.14.260-py2.py3-none-any.whl (16 kB)\n",
      "Collecting python-telegram-bot\n",
      "  Downloading python_telegram_bot-13.7-py3-none-any.whl (490 kB)\n",
      "\u001b[K     |████████████████████████████████| 490 kB 12.5 MB/s eta 0:00:01\n",
      "\u001b[?25hRequirement already satisfied: requests in /Users/ismaeltrevi/opt/anaconda3/lib/python3.8/site-packages (from knockknock) (2.25.1)\n",
      "Collecting matrix-client\n",
      "  Downloading matrix_client-0.4.0-py2.py3-none-any.whl (43 kB)\n",
      "\u001b[K     |████████████████████████████████| 43 kB 14.9 MB/s eta 0:00:01\n",
      "\u001b[?25hCollecting premailer\n",
      "  Downloading premailer-3.10.0-py2.py3-none-any.whl (19 kB)\n",
      "Requirement already satisfied: importlib-metadata>=3.6 in /Users/ismaeltrevi/opt/anaconda3/lib/python3.8/site-packages (from keyring->knockknock) (4.6.1)\n",
      "Requirement already satisfied: zipp>=0.5 in /Users/ismaeltrevi/opt/anaconda3/lib/python3.8/site-packages (from importlib-metadata>=3.6->keyring->knockknock) (3.5.0)\n",
      "Requirement already satisfied: urllib3~=1.21 in /Users/ismaeltrevi/opt/anaconda3/lib/python3.8/site-packages (from matrix-client->knockknock) (1.26.6)\n",
      "Requirement already satisfied: certifi>=2017.4.17 in /Users/ismaeltrevi/opt/anaconda3/lib/python3.8/site-packages (from requests->knockknock) (2021.5.30)\n",
      "Requirement already satisfied: idna<3,>=2.5 in /Users/ismaeltrevi/opt/anaconda3/lib/python3.8/site-packages (from requests->knockknock) (2.10)\n",
      "Requirement already satisfied: chardet<5,>=3.0.2 in /Users/ismaeltrevi/opt/anaconda3/lib/python3.8/site-packages (from requests->knockknock) (4.0.0)\n",
      "Collecting cssselect\n",
      "  Downloading cssselect-1.1.0-py2.py3-none-any.whl (16 kB)\n",
      "Requirement already satisfied: lxml in /Users/ismaeltrevi/opt/anaconda3/lib/python3.8/site-packages (from premailer->yagmail>=0.11.214->knockknock) (4.6.3)\n",
      "Requirement already satisfied: cachetools in /Users/ismaeltrevi/opt/anaconda3/lib/python3.8/site-packages (from premailer->yagmail>=0.11.214->knockknock) (4.2.2)\n",
      "Collecting cssutils\n",
      "  Downloading cssutils-2.3.0-py3-none-any.whl (404 kB)\n",
      "\u001b[K     |████████████████████████████████| 404 kB 27.2 MB/s eta 0:00:01\n",
      "\u001b[?25hRequirement already satisfied: pytz>=2018.6 in /Users/ismaeltrevi/opt/anaconda3/lib/python3.8/site-packages (from python-telegram-bot->knockknock) (2021.1)\n",
      "Collecting APScheduler==3.6.3\n",
      "  Downloading APScheduler-3.6.3-py2.py3-none-any.whl (58 kB)\n",
      "\u001b[K     |████████████████████████████████| 58 kB 13.2 MB/s eta 0:00:01\n",
      "\u001b[?25hRequirement already satisfied: tornado>=6.1 in /Users/ismaeltrevi/opt/anaconda3/lib/python3.8/site-packages (from python-telegram-bot->knockknock) (6.1)\n",
      "Collecting tzlocal>=1.2\n",
      "  Downloading tzlocal-3.0-py3-none-any.whl (16 kB)\n",
      "Requirement already satisfied: six>=1.4.0 in /Users/ismaeltrevi/opt/anaconda3/lib/python3.8/site-packages (from APScheduler==3.6.3->python-telegram-bot->knockknock) (1.16.0)\n",
      "Requirement already satisfied: setuptools>=0.7 in /Users/ismaeltrevi/opt/anaconda3/lib/python3.8/site-packages (from APScheduler==3.6.3->python-telegram-bot->knockknock) (57.1.0)\n",
      "Collecting backports.zoneinfo\n",
      "  Downloading backports.zoneinfo-0.2.1-cp38-cp38-macosx_10_14_x86_64.whl (35 kB)\n",
      "Collecting PyJWT==1.7.1\n",
      "  Downloading PyJWT-1.7.1-py2.py3-none-any.whl (18 kB)\n",
      "Building wheels for collected packages: twilio\n",
      "  Building wheel for twilio (setup.py) ... \u001b[?25ldone\n",
      "\u001b[?25h  Created wheel for twilio: filename=twilio-6.63.2-py2.py3-none-any.whl size=1297624 sha256=4ff0fe616dc23aa6a460bfa3613dcd9018eb0c513e5d8d0f42bb713d30ec2bf1\n",
      "  Stored in directory: /Users/ismaeltrevi/Library/Caches/pip/wheels/03/9f/54/631f27e30f74ab716bdaa0b00f47a53d7b6479187ebe1cc1b6\n",
      "Successfully built twilio\n",
      "Installing collected packages: backports.zoneinfo, tzlocal, cssutils, cssselect, PyJWT, premailer, APScheduler, yagmail, twilio, python-telegram-bot, matrix-client, knockknock\n",
      "Successfully installed APScheduler-3.6.3 PyJWT-1.7.1 backports.zoneinfo-0.2.1 cssselect-1.1.0 cssutils-2.3.0 knockknock-0.1.8.1 matrix-client-0.4.0 premailer-3.10.0 python-telegram-bot-13.7 twilio-6.63.2 tzlocal-3.0 yagmail-0.14.260\n"
     ]
    }
   ],
   "source": [
    "!pip install knockknock"
   ]
  },
  {
   "cell_type": "code",
   "execution_count": 15,
   "id": "84757332",
   "metadata": {
    "ExecuteTime": {
     "end_time": "2021-09-18T20:23:26.075764Z",
     "start_time": "2021-09-18T20:23:00.428098Z"
    },
    "scrolled": false
   },
   "outputs": [
    {
     "name": "stdout",
     "output_type": "stream",
     "text": [
      "Collecting tensorflow\n",
      "  Downloading tensorflow-2.6.0-cp38-cp38-macosx_10_11_x86_64.whl (199.0 MB)\n",
      "\u001b[K     |████████████████████████████████| 199.0 MB 36.8 MB/s eta 0:00:01\n",
      "\u001b[?25hCollecting keras-preprocessing~=1.1.2\n",
      "  Using cached Keras_Preprocessing-1.1.2-py2.py3-none-any.whl (42 kB)\n",
      "Collecting numpy~=1.19.2\n",
      "  Using cached numpy-1.19.5-cp38-cp38-macosx_10_9_x86_64.whl (15.6 MB)\n",
      "Requirement already satisfied: protobuf>=3.9.2 in /Users/ismaeltrevi/opt/anaconda3/lib/python3.8/site-packages (from tensorflow) (3.17.3)\n",
      "Collecting h5py~=3.1.0\n",
      "  Downloading h5py-3.1.0-cp38-cp38-macosx_10_9_x86_64.whl (2.9 MB)\n",
      "\u001b[K     |████████████████████████████████| 2.9 MB 35.5 MB/s eta 0:00:01\n",
      "\u001b[?25hRequirement already satisfied: wrapt~=1.12.1 in /Users/ismaeltrevi/opt/anaconda3/lib/python3.8/site-packages (from tensorflow) (1.12.1)\n",
      "Collecting astunparse~=1.6.3\n",
      "  Using cached astunparse-1.6.3-py2.py3-none-any.whl (12 kB)\n",
      "Collecting opt-einsum~=3.3.0\n",
      "  Using cached opt_einsum-3.3.0-py3-none-any.whl (65 kB)\n",
      "Collecting clang~=5.0\n",
      "  Downloading clang-5.0.tar.gz (30 kB)\n",
      "Requirement already satisfied: wheel~=0.35 in /Users/ismaeltrevi/opt/anaconda3/lib/python3.8/site-packages (from tensorflow) (0.36.2)\n",
      "Collecting typing-extensions~=3.7.4\n",
      "  Downloading typing_extensions-3.7.4.3-py3-none-any.whl (22 kB)\n",
      "Collecting termcolor~=1.1.0\n",
      "  Using cached termcolor-1.1.0-py3-none-any.whl\n",
      "Requirement already satisfied: keras~=2.6 in /Users/ismaeltrevi/opt/anaconda3/lib/python3.8/site-packages (from tensorflow) (2.6.0)\n",
      "Collecting six~=1.15.0\n",
      "  Downloading six-1.15.0-py2.py3-none-any.whl (10 kB)\n",
      "Collecting tensorflow-estimator~=2.6\n",
      "  Downloading tensorflow_estimator-2.6.0-py2.py3-none-any.whl (462 kB)\n",
      "\u001b[K     |████████████████████████████████| 462 kB 34.1 MB/s eta 0:00:01\n",
      "\u001b[?25hRequirement already satisfied: grpcio<2.0,>=1.37.0 in /Users/ismaeltrevi/opt/anaconda3/lib/python3.8/site-packages (from tensorflow) (1.39.0)\n",
      "Collecting tensorboard~=2.6\n",
      "  Downloading tensorboard-2.6.0-py3-none-any.whl (5.6 MB)\n",
      "\u001b[K     |████████████████████████████████| 5.6 MB 19.3 MB/s eta 0:00:01\n",
      "\u001b[?25hCollecting flatbuffers~=1.12.0\n",
      "  Downloading flatbuffers-1.12-py2.py3-none-any.whl (15 kB)\n",
      "Collecting google-pasta~=0.2\n",
      "  Using cached google_pasta-0.2.0-py3-none-any.whl (57 kB)\n",
      "Requirement already satisfied: absl-py~=0.10 in /Users/ismaeltrevi/opt/anaconda3/lib/python3.8/site-packages (from tensorflow) (0.13.0)\n",
      "Collecting gast==0.4.0\n",
      "  Downloading gast-0.4.0-py3-none-any.whl (9.8 kB)\n",
      "Requirement already satisfied: werkzeug>=0.11.15 in /Users/ismaeltrevi/opt/anaconda3/lib/python3.8/site-packages (from tensorboard~=2.6->tensorflow) (2.0.1)\n",
      "Requirement already satisfied: markdown>=2.6.8 in /Users/ismaeltrevi/opt/anaconda3/lib/python3.8/site-packages (from tensorboard~=2.6->tensorflow) (3.3.4)\n",
      "Requirement already satisfied: setuptools>=41.0.0 in /Users/ismaeltrevi/opt/anaconda3/lib/python3.8/site-packages (from tensorboard~=2.6->tensorflow) (57.1.0)\n",
      "Requirement already satisfied: requests<3,>=2.21.0 in /Users/ismaeltrevi/opt/anaconda3/lib/python3.8/site-packages (from tensorboard~=2.6->tensorflow) (2.25.1)\n",
      "Requirement already satisfied: google-auth-oauthlib<0.5,>=0.4.1 in /Users/ismaeltrevi/opt/anaconda3/lib/python3.8/site-packages (from tensorboard~=2.6->tensorflow) (0.4.5)\n",
      "Requirement already satisfied: tensorboard-data-server<0.7.0,>=0.6.0 in /Users/ismaeltrevi/opt/anaconda3/lib/python3.8/site-packages (from tensorboard~=2.6->tensorflow) (0.6.1)\n",
      "Collecting google-auth<2,>=1.6.3\n",
      "  Downloading google_auth-1.35.0-py2.py3-none-any.whl (152 kB)\n",
      "\u001b[K     |████████████████████████████████| 152 kB 19.7 MB/s eta 0:00:01\n",
      "\u001b[?25hRequirement already satisfied: tensorboard-plugin-wit>=1.6.0 in /Users/ismaeltrevi/opt/anaconda3/lib/python3.8/site-packages (from tensorboard~=2.6->tensorflow) (1.8.0)\n",
      "Requirement already satisfied: pyasn1-modules>=0.2.1 in /Users/ismaeltrevi/opt/anaconda3/lib/python3.8/site-packages (from google-auth<2,>=1.6.3->tensorboard~=2.6->tensorflow) (0.2.8)\n",
      "Requirement already satisfied: rsa<5,>=3.1.4 in /Users/ismaeltrevi/opt/anaconda3/lib/python3.8/site-packages (from google-auth<2,>=1.6.3->tensorboard~=2.6->tensorflow) (4.7.2)\n",
      "Requirement already satisfied: cachetools<5.0,>=2.0.0 in /Users/ismaeltrevi/opt/anaconda3/lib/python3.8/site-packages (from google-auth<2,>=1.6.3->tensorboard~=2.6->tensorflow) (4.2.2)\n",
      "Requirement already satisfied: requests-oauthlib>=0.7.0 in /Users/ismaeltrevi/opt/anaconda3/lib/python3.8/site-packages (from google-auth-oauthlib<0.5,>=0.4.1->tensorboard~=2.6->tensorflow) (1.3.0)\n",
      "Requirement already satisfied: pyasn1<0.5.0,>=0.4.6 in /Users/ismaeltrevi/opt/anaconda3/lib/python3.8/site-packages (from pyasn1-modules>=0.2.1->google-auth<2,>=1.6.3->tensorboard~=2.6->tensorflow) (0.4.8)\n",
      "Requirement already satisfied: chardet<5,>=3.0.2 in /Users/ismaeltrevi/opt/anaconda3/lib/python3.8/site-packages (from requests<3,>=2.21.0->tensorboard~=2.6->tensorflow) (4.0.0)\n",
      "Requirement already satisfied: urllib3<1.27,>=1.21.1 in /Users/ismaeltrevi/opt/anaconda3/lib/python3.8/site-packages (from requests<3,>=2.21.0->tensorboard~=2.6->tensorflow) (1.26.6)\n",
      "Requirement already satisfied: idna<3,>=2.5 in /Users/ismaeltrevi/opt/anaconda3/lib/python3.8/site-packages (from requests<3,>=2.21.0->tensorboard~=2.6->tensorflow) (2.10)\n",
      "Requirement already satisfied: certifi>=2017.4.17 in /Users/ismaeltrevi/opt/anaconda3/lib/python3.8/site-packages (from requests<3,>=2.21.0->tensorboard~=2.6->tensorflow) (2021.5.30)\n",
      "Requirement already satisfied: oauthlib>=3.0.0 in /Users/ismaeltrevi/opt/anaconda3/lib/python3.8/site-packages (from requests-oauthlib>=0.7.0->google-auth-oauthlib<0.5,>=0.4.1->tensorboard~=2.6->tensorflow) (3.1.1)\n",
      "Building wheels for collected packages: clang\n",
      "  Building wheel for clang (setup.py) ... \u001b[?25ldone\n",
      "\u001b[?25h  Created wheel for clang: filename=clang-5.0-py3-none-any.whl size=30693 sha256=20cfbab679e3c0ade162acf97bfa5e4d6946a866d3cc4c5e2bfd2c34acdf57b8\n",
      "  Stored in directory: /Users/ismaeltrevi/Library/Caches/pip/wheels/f1/60/77/22b9b5887bd47801796a856f47650d9789c74dc3161a26d608\n",
      "Successfully built clang\n",
      "Installing collected packages: six, google-auth, numpy, typing-extensions, termcolor, tensorflow-estimator, tensorboard, opt-einsum, keras-preprocessing, h5py, google-pasta, gast, flatbuffers, clang, astunparse, tensorflow\n",
      "  Attempting uninstall: six\n",
      "    Found existing installation: six 1.16.0\n",
      "    Uninstalling six-1.16.0:\n",
      "      Successfully uninstalled six-1.16.0\n",
      "  Attempting uninstall: google-auth\n",
      "    Found existing installation: google-auth 2.0.2\n",
      "    Uninstalling google-auth-2.0.2:\n",
      "      Successfully uninstalled google-auth-2.0.2\n",
      "  Attempting uninstall: numpy\n",
      "    Found existing installation: numpy 1.21.0\n",
      "    Uninstalling numpy-1.21.0:\n",
      "      Successfully uninstalled numpy-1.21.0\n",
      "  Attempting uninstall: typing-extensions\n",
      "    Found existing installation: typing-extensions 3.10.0.0\n",
      "    Uninstalling typing-extensions-3.10.0.0:\n",
      "      Successfully uninstalled typing-extensions-3.10.0.0\n",
      "  Attempting uninstall: h5py\n",
      "    Found existing installation: h5py 3.3.0\n",
      "    Uninstalling h5py-3.3.0:\n",
      "      Successfully uninstalled h5py-3.3.0\n",
      "\u001b[31mERROR: pip's dependency resolver does not currently take into account all the packages that are installed. This behaviour is the source of the following dependency conflicts.\n",
      "realesrgan 0.2.2.4 requires gfpgan>=0.2.1, which is not installed.\n",
      "conda-repo-cli 1.0.4 requires pathlib, which is not installed.\n",
      "pyldavis 3.3.1 requires numpy>=1.20.0, but you have numpy 1.19.5 which is incompatible.\n",
      "pycaret 2.3.2 requires gensim<4.0.0, but you have gensim 4.0.1 which is incompatible.\n",
      "pycaret 2.3.2 requires imbalanced-learn==0.7.0, but you have imbalanced-learn 0.8.0 which is incompatible.\n",
      "pycaret 2.3.2 requires scikit-learn==0.23.2, but you have scikit-learn 0.24.2 which is incompatible.\n",
      "pycaret 2.3.2 requires scipy<=1.5.4, but you have scipy 1.7.0 which is incompatible.\n",
      "pycaret 2.3.2 requires spacy<2.4.0, but you have spacy 3.1.0 which is incompatible.\n",
      "mlflow 1.18.0 requires alembic<=1.4.1, but you have alembic 1.6.5 which is incompatible.\n",
      "lazypredict 0.2.9 requires joblib==1.0.0, but you have joblib 1.0.1 which is incompatible.\n",
      "lazypredict 0.2.9 requires lightgbm==2.3.1, but you have lightgbm 3.2.1 which is incompatible.\n",
      "lazypredict 0.2.9 requires numpy==1.19.1, but you have numpy 1.19.5 which is incompatible.\n",
      "lazypredict 0.2.9 requires pandas==1.0.5, but you have pandas 1.3.0 which is incompatible.\n",
      "lazypredict 0.2.9 requires pytest==5.4.3, but you have pytest 6.2.4 which is incompatible.\n",
      "lazypredict 0.2.9 requires PyYAML==5.3.1, but you have pyyaml 5.4.1 which is incompatible.\n",
      "lazypredict 0.2.9 requires scikit-learn==0.23.1, but you have scikit-learn 0.24.2 which is incompatible.\n",
      "lazypredict 0.2.9 requires scipy==1.5.4, but you have scipy 1.7.0 which is incompatible.\n",
      "lazypredict 0.2.9 requires tqdm==4.56.0, but you have tqdm 4.61.2 which is incompatible.\n",
      "lazypredict 0.2.9 requires xgboost==1.1.1, but you have xgboost 1.4.2 which is incompatible.\u001b[0m\n",
      "Successfully installed astunparse-1.6.3 clang-5.0 flatbuffers-1.12 gast-0.4.0 google-auth-1.35.0 google-pasta-0.2.0 h5py-3.1.0 keras-preprocessing-1.1.2 numpy-1.19.5 opt-einsum-3.3.0 six-1.15.0 tensorboard-2.6.0 tensorflow-2.6.0 tensorflow-estimator-2.6.0 termcolor-1.1.0 typing-extensions-3.7.4.3\n"
     ]
    }
   ],
   "source": [
    "!pip install tensorflow"
   ]
  },
  {
   "cell_type": "code",
   "execution_count": null,
   "id": "a0d4f769",
   "metadata": {
    "ExecuteTime": {
     "start_time": "2021-09-18T20:25:18.831Z"
    }
   },
   "outputs": [],
   "source": [
    "from keras.utils.np_utils import to_categorical\n",
    "from keras.models import Sequential\n",
    "from keras.layers import Conv2D, MaxPooling2D, Flatten, Dense, Dropout, Activation\n",
    "from keras.datasets import mnist"
   ]
  },
  {
   "cell_type": "code",
   "execution_count": null,
   "id": "518ceeaa",
   "metadata": {},
   "outputs": [],
   "source": []
  },
  {
   "cell_type": "code",
   "execution_count": null,
   "id": "b3874713",
   "metadata": {},
   "outputs": [],
   "source": []
  },
  {
   "cell_type": "code",
   "execution_count": null,
   "id": "5bde46a1",
   "metadata": {},
   "outputs": [],
   "source": []
  },
  {
   "cell_type": "code",
   "execution_count": null,
   "id": "24476d40",
   "metadata": {},
   "outputs": [],
   "source": []
  },
  {
   "cell_type": "code",
   "execution_count": null,
   "id": "e2f940ba",
   "metadata": {},
   "outputs": [],
   "source": []
  },
  {
   "cell_type": "code",
   "execution_count": null,
   "id": "db042f5a",
   "metadata": {},
   "outputs": [],
   "source": []
  },
  {
   "cell_type": "code",
   "execution_count": null,
   "id": "54dc423d",
   "metadata": {},
   "outputs": [],
   "source": []
  },
  {
   "cell_type": "code",
   "execution_count": null,
   "id": "6b7fff13",
   "metadata": {},
   "outputs": [],
   "source": []
  },
  {
   "cell_type": "code",
   "execution_count": null,
   "id": "441dc347",
   "metadata": {},
   "outputs": [],
   "source": []
  },
  {
   "cell_type": "code",
   "execution_count": null,
   "id": "fa1ca20c",
   "metadata": {},
   "outputs": [],
   "source": []
  },
  {
   "cell_type": "code",
   "execution_count": null,
   "id": "bc5966f8",
   "metadata": {},
   "outputs": [],
   "source": []
  },
  {
   "cell_type": "code",
   "execution_count": null,
   "id": "5cf2e4ef",
   "metadata": {},
   "outputs": [],
   "source": []
  },
  {
   "cell_type": "code",
   "execution_count": null,
   "id": "ad545289",
   "metadata": {},
   "outputs": [],
   "source": []
  },
  {
   "cell_type": "code",
   "execution_count": null,
   "id": "05cc9325",
   "metadata": {},
   "outputs": [],
   "source": []
  }
 ],
 "metadata": {
  "hide_input": false,
  "kernelspec": {
   "display_name": "Python 3 (ipykernel)",
   "language": "python",
   "name": "python3"
  },
  "language_info": {
   "codemirror_mode": {
    "name": "ipython",
    "version": 3
   },
   "file_extension": ".py",
   "mimetype": "text/x-python",
   "name": "python",
   "nbconvert_exporter": "python",
   "pygments_lexer": "ipython3",
   "version": "3.8.8"
  }
 },
 "nbformat": 4,
 "nbformat_minor": 5
}
