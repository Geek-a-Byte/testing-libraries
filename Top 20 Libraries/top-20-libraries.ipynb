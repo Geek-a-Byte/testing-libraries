{
 "cells": [
  {
   "cell_type": "markdown",
   "id": "250479fc",
   "metadata": {
    "heading_collapsed": true
   },
   "source": [
    "# OpenDataSets"
   ]
  },
  {
   "cell_type": "code",
   "execution_count": null,
   "id": "05d342b7",
   "metadata": {
    "ExecuteTime": {
     "end_time": "2021-09-28T00:55:38.379134Z",
     "start_time": "2021-09-28T00:55:38.376276Z"
    },
    "hidden": true
   },
   "outputs": [],
   "source": [
    "# !pip install opendatasets"
   ]
  },
  {
   "cell_type": "code",
   "execution_count": null,
   "id": "4aa4e23d",
   "metadata": {
    "ExecuteTime": {
     "end_time": "2021-09-28T00:55:38.401620Z",
     "start_time": "2021-09-28T00:55:38.381195Z"
    },
    "hidden": true,
    "scrolled": true
   },
   "outputs": [],
   "source": [
    "import opendatasets as od\n",
    "od.download(\"https://www.kaggle.com/rashikrahmanpritom/heart-attack-analysis-prediction-dataset\")"
   ]
  },
  {
   "cell_type": "markdown",
   "id": "408ae4b8",
   "metadata": {
    "heading_collapsed": true
   },
   "source": [
    "# PyForest"
   ]
  },
  {
   "cell_type": "code",
   "execution_count": null,
   "id": "1c4f9e67",
   "metadata": {
    "ExecuteTime": {
     "end_time": "2021-09-28T00:55:38.405221Z",
     "start_time": "2021-09-28T00:55:38.403176Z"
    },
    "hidden": true
   },
   "outputs": [],
   "source": [
    "# !pip install pyforest"
   ]
  },
  {
   "cell_type": "code",
   "execution_count": null,
   "id": "bdc400dc",
   "metadata": {
    "ExecuteTime": {
     "end_time": "2021-09-28T00:55:55.517827Z",
     "start_time": "2021-09-28T00:55:55.510883Z"
    },
    "hidden": true
   },
   "outputs": [],
   "source": [
    "import pyforest"
   ]
  },
  {
   "cell_type": "code",
   "execution_count": null,
   "id": "32441b8d",
   "metadata": {
    "ExecuteTime": {
     "end_time": "2021-09-28T00:55:55.706318Z",
     "start_time": "2021-09-28T00:55:55.679276Z"
    },
    "hidden": true,
    "scrolled": true
   },
   "outputs": [],
   "source": [
    "df = pd.read_csv('heart-attack-analysis-prediction-dataset/heart.csv')\n",
    "df.head()"
   ]
  },
  {
   "cell_type": "code",
   "execution_count": null,
   "id": "b3558676",
   "metadata": {
    "ExecuteTime": {
     "end_time": "2021-09-28T00:55:55.954121Z",
     "start_time": "2021-09-28T00:55:55.858645Z"
    },
    "hidden": true
   },
   "outputs": [],
   "source": [
    "plt.hist(df['age'])\n",
    "plt.show()"
   ]
  },
  {
   "cell_type": "code",
   "execution_count": null,
   "id": "1da56b30",
   "metadata": {
    "ExecuteTime": {
     "end_time": "2021-09-28T00:55:56.098688Z",
     "start_time": "2021-09-28T00:55:56.095053Z"
    },
    "hidden": true
   },
   "outputs": [],
   "source": [
    "pyforest.active_imports()"
   ]
  },
  {
   "cell_type": "code",
   "execution_count": null,
   "id": "ebeeadc7",
   "metadata": {
    "ExecuteTime": {
     "end_time": "2021-09-28T00:55:56.557050Z",
     "start_time": "2021-09-28T00:55:56.528301Z"
    },
    "hidden": true
   },
   "outputs": [],
   "source": [
    "sns.histoplot\n",
    "\n",
    "displot(df['age'])\n",
    "plt.show()"
   ]
  },
  {
   "cell_type": "code",
   "execution_count": null,
   "id": "72bbe0de",
   "metadata": {
    "ExecuteTime": {
     "end_time": "2021-09-28T00:56:00.721557Z",
     "start_time": "2021-09-28T00:56:00.715608Z"
    },
    "hidden": true
   },
   "outputs": [],
   "source": [
    "pyforest.active_imports()"
   ]
  },
  {
   "cell_type": "code",
   "execution_count": null,
   "id": "62cedf84",
   "metadata": {
    "ExecuteTime": {
     "end_time": "2021-09-28T00:56:00.983125Z",
     "start_time": "2021-09-28T00:56:00.975468Z"
    },
    "hidden": true
   },
   "outputs": [],
   "source": [
    "lazy_imports()"
   ]
  },
  {
   "cell_type": "code",
   "execution_count": null,
   "id": "b882d5cb",
   "metadata": {
    "hidden": true
   },
   "outputs": [],
   "source": []
  },
  {
   "cell_type": "code",
   "execution_count": null,
   "id": "2f76fce6",
   "metadata": {
    "hidden": true
   },
   "outputs": [],
   "source": []
  },
  {
   "cell_type": "code",
   "execution_count": null,
   "id": "90b2a044",
   "metadata": {
    "hidden": true
   },
   "outputs": [],
   "source": []
  },
  {
   "cell_type": "code",
   "execution_count": null,
   "id": "9a7dc5f1",
   "metadata": {
    "hidden": true
   },
   "outputs": [],
   "source": []
  },
  {
   "cell_type": "markdown",
   "id": "a76f64c3",
   "metadata": {
    "ExecuteTime": {
     "end_time": "2021-09-19T03:52:13.905980Z",
     "start_time": "2021-09-19T03:52:13.899470Z"
    }
   },
   "source": [
    "# Bamboolib"
   ]
  },
  {
   "cell_type": "markdown",
   "id": "7fc8aa64",
   "metadata": {},
   "source": [
    "## Install without environment"
   ]
  },
  {
   "cell_type": "code",
   "execution_count": null,
   "id": "f62b641f",
   "metadata": {
    "ExecuteTime": {
     "end_time": "2021-09-28T00:55:46.855380Z",
     "start_time": "2021-09-28T00:55:46.855373Z"
    }
   },
   "outputs": [],
   "source": [
    "# !pip install --upgrade bamboolib --user\n",
    "\n",
    "# # Jupyter Notebook extensions\n",
    "# !python -m bamboolib install_nbextensions\n",
    "\n",
    "# # JupyterLab extensions\n",
    "# !python -m bamboolib install_labextensions"
   ]
  },
  {
   "cell_type": "markdown",
   "id": "0cfd9512",
   "metadata": {},
   "source": [
    "## Install without environment"
   ]
  },
  {
   "cell_type": "code",
   "execution_count": null,
   "id": "0286389a",
   "metadata": {
    "ExecuteTime": {
     "end_time": "2021-09-28T00:55:46.855939Z",
     "start_time": "2021-09-28T00:55:46.855932Z"
    },
    "scrolled": false
   },
   "outputs": [],
   "source": [
    "# # Create conda environment\n",
    "# !conda create -n bamboolib python=3.7 -y\n",
    "\n",
    "# # Activate the environment\n",
    "# !conda activate bamboolib\n",
    "\n",
    "# # Add the IPython kernel to Jupyter\n",
    "# !conda install jupyter -y\n",
    "# !conda install ipykernel -y\n",
    "# !python -m ipykernel install --user --name bamboolib\n",
    "\n",
    "# # Run this if you use Jupyterlab\n",
    "# !conda install jupyterlab -y\n",
    "\n",
    "# # Install bamboolib ...\n",
    "# !pip install --upgrade bamboolib --user\n",
    "\n",
    "# # Jupyter Notebook extensions\n",
    "# !python -m bamboolib install_nbextensions\n",
    "\n",
    "# # Run this if you use Jupyterlab: JupyterLab extensions\n",
    "# !python -m bamboolib install_labextensions"
   ]
  },
  {
   "cell_type": "code",
   "execution_count": 1,
   "id": "5640b813",
   "metadata": {
    "ExecuteTime": {
     "end_time": "2021-10-03T23:10:42.930703Z",
     "start_time": "2021-10-03T23:10:41.833700Z"
    },
    "scrolled": true
   },
   "outputs": [],
   "source": [
    "import bamboolib as bam\n",
    "import pandas as pd\n",
    "df = pd.read_csv(bam.titanic_csv)"
   ]
  },
  {
   "cell_type": "code",
   "execution_count": 2,
   "id": "bf04f6f9",
   "metadata": {
    "ExecuteTime": {
     "end_time": "2021-10-03T23:10:44.043206Z",
     "start_time": "2021-10-03T23:10:43.759165Z"
    }
   },
   "outputs": [
    {
     "data": {
      "application/vnd.jupyter.widget-view+json": {
       "model_id": "fefdf928334440668b39bd275ba986a0"
      },
      "text/html": [
       "<div>\n",
       "<style scoped>\n",
       "    .dataframe tbody tr th:only-of-type {\n",
       "        vertical-align: middle;\n",
       "    }\n",
       "\n",
       "    .dataframe tbody tr th {\n",
       "        vertical-align: top;\n",
       "    }\n",
       "\n",
       "    .dataframe thead th {\n",
       "        text-align: right;\n",
       "    }\n",
       "</style>\n",
       "<table border=\"1\" class=\"dataframe\">\n",
       "  <thead>\n",
       "    <tr style=\"text-align: right;\">\n",
       "      <th></th>\n",
       "      <th>PassengerId</th>\n",
       "      <th>Survived</th>\n",
       "      <th>Pclass</th>\n",
       "      <th>Name</th>\n",
       "      <th>Sex</th>\n",
       "      <th>Age</th>\n",
       "      <th>SibSp</th>\n",
       "      <th>Parch</th>\n",
       "      <th>Ticket</th>\n",
       "      <th>Fare</th>\n",
       "      <th>Cabin</th>\n",
       "      <th>Embarked</th>\n",
       "    </tr>\n",
       "  </thead>\n",
       "  <tbody>\n",
       "    <tr>\n",
       "      <th>0</th>\n",
       "      <td>1</td>\n",
       "      <td>0</td>\n",
       "      <td>3</td>\n",
       "      <td>Braund, Mr. Owen Harris</td>\n",
       "      <td>male</td>\n",
       "      <td>22.0</td>\n",
       "      <td>1</td>\n",
       "      <td>0</td>\n",
       "      <td>A/5 21171</td>\n",
       "      <td>7.2500</td>\n",
       "      <td>NaN</td>\n",
       "      <td>S</td>\n",
       "    </tr>\n",
       "    <tr>\n",
       "      <th>1</th>\n",
       "      <td>2</td>\n",
       "      <td>1</td>\n",
       "      <td>1</td>\n",
       "      <td>Cumings, Mrs. John Bradley (Florence Briggs Th...</td>\n",
       "      <td>female</td>\n",
       "      <td>38.0</td>\n",
       "      <td>1</td>\n",
       "      <td>0</td>\n",
       "      <td>PC 17599</td>\n",
       "      <td>71.2833</td>\n",
       "      <td>C85</td>\n",
       "      <td>C</td>\n",
       "    </tr>\n",
       "    <tr>\n",
       "      <th>2</th>\n",
       "      <td>3</td>\n",
       "      <td>1</td>\n",
       "      <td>3</td>\n",
       "      <td>Heikkinen, Miss. Laina</td>\n",
       "      <td>female</td>\n",
       "      <td>26.0</td>\n",
       "      <td>0</td>\n",
       "      <td>0</td>\n",
       "      <td>STON/O2. 3101282</td>\n",
       "      <td>7.9250</td>\n",
       "      <td>NaN</td>\n",
       "      <td>S</td>\n",
       "    </tr>\n",
       "    <tr>\n",
       "      <th>3</th>\n",
       "      <td>4</td>\n",
       "      <td>1</td>\n",
       "      <td>1</td>\n",
       "      <td>Futrelle, Mrs. Jacques Heath (Lily May Peel)</td>\n",
       "      <td>female</td>\n",
       "      <td>35.0</td>\n",
       "      <td>1</td>\n",
       "      <td>0</td>\n",
       "      <td>113803</td>\n",
       "      <td>53.1000</td>\n",
       "      <td>C123</td>\n",
       "      <td>S</td>\n",
       "    </tr>\n",
       "    <tr>\n",
       "      <th>4</th>\n",
       "      <td>5</td>\n",
       "      <td>0</td>\n",
       "      <td>3</td>\n",
       "      <td>Allen, Mr. William Henry</td>\n",
       "      <td>male</td>\n",
       "      <td>35.0</td>\n",
       "      <td>0</td>\n",
       "      <td>0</td>\n",
       "      <td>373450</td>\n",
       "      <td>8.0500</td>\n",
       "      <td>NaN</td>\n",
       "      <td>S</td>\n",
       "    </tr>\n",
       "    <tr>\n",
       "      <th>...</th>\n",
       "      <td>...</td>\n",
       "      <td>...</td>\n",
       "      <td>...</td>\n",
       "      <td>...</td>\n",
       "      <td>...</td>\n",
       "      <td>...</td>\n",
       "      <td>...</td>\n",
       "      <td>...</td>\n",
       "      <td>...</td>\n",
       "      <td>...</td>\n",
       "      <td>...</td>\n",
       "      <td>...</td>\n",
       "    </tr>\n",
       "    <tr>\n",
       "      <th>886</th>\n",
       "      <td>887</td>\n",
       "      <td>0</td>\n",
       "      <td>2</td>\n",
       "      <td>Montvila, Rev. Juozas</td>\n",
       "      <td>male</td>\n",
       "      <td>27.0</td>\n",
       "      <td>0</td>\n",
       "      <td>0</td>\n",
       "      <td>211536</td>\n",
       "      <td>13.0000</td>\n",
       "      <td>NaN</td>\n",
       "      <td>S</td>\n",
       "    </tr>\n",
       "    <tr>\n",
       "      <th>887</th>\n",
       "      <td>888</td>\n",
       "      <td>1</td>\n",
       "      <td>1</td>\n",
       "      <td>Graham, Miss. Margaret Edith</td>\n",
       "      <td>female</td>\n",
       "      <td>19.0</td>\n",
       "      <td>0</td>\n",
       "      <td>0</td>\n",
       "      <td>112053</td>\n",
       "      <td>30.0000</td>\n",
       "      <td>B42</td>\n",
       "      <td>S</td>\n",
       "    </tr>\n",
       "    <tr>\n",
       "      <th>888</th>\n",
       "      <td>889</td>\n",
       "      <td>0</td>\n",
       "      <td>3</td>\n",
       "      <td>Johnston, Miss. Catherine Helen \"Carrie\"</td>\n",
       "      <td>female</td>\n",
       "      <td>NaN</td>\n",
       "      <td>1</td>\n",
       "      <td>2</td>\n",
       "      <td>W./C. 6607</td>\n",
       "      <td>23.4500</td>\n",
       "      <td>NaN</td>\n",
       "      <td>S</td>\n",
       "    </tr>\n",
       "    <tr>\n",
       "      <th>889</th>\n",
       "      <td>890</td>\n",
       "      <td>1</td>\n",
       "      <td>1</td>\n",
       "      <td>Behr, Mr. Karl Howell</td>\n",
       "      <td>male</td>\n",
       "      <td>26.0</td>\n",
       "      <td>0</td>\n",
       "      <td>0</td>\n",
       "      <td>111369</td>\n",
       "      <td>30.0000</td>\n",
       "      <td>C148</td>\n",
       "      <td>C</td>\n",
       "    </tr>\n",
       "    <tr>\n",
       "      <th>890</th>\n",
       "      <td>891</td>\n",
       "      <td>0</td>\n",
       "      <td>3</td>\n",
       "      <td>Dooley, Mr. Patrick</td>\n",
       "      <td>male</td>\n",
       "      <td>32.0</td>\n",
       "      <td>0</td>\n",
       "      <td>0</td>\n",
       "      <td>370376</td>\n",
       "      <td>7.7500</td>\n",
       "      <td>NaN</td>\n",
       "      <td>Q</td>\n",
       "    </tr>\n",
       "  </tbody>\n",
       "</table>\n",
       "<p>891 rows × 12 columns</p>\n",
       "</div>"
      ],
      "text/plain": [
       "     PassengerId  Survived  Pclass  \\\n",
       "0              1         0       3   \n",
       "1              2         1       1   \n",
       "2              3         1       3   \n",
       "3              4         1       1   \n",
       "4              5         0       3   \n",
       "..           ...       ...     ...   \n",
       "886          887         0       2   \n",
       "887          888         1       1   \n",
       "888          889         0       3   \n",
       "889          890         1       1   \n",
       "890          891         0       3   \n",
       "\n",
       "                                                  Name     Sex   Age  SibSp  \\\n",
       "0                              Braund, Mr. Owen Harris    male  22.0      1   \n",
       "1    Cumings, Mrs. John Bradley (Florence Briggs Th...  female  38.0      1   \n",
       "2                               Heikkinen, Miss. Laina  female  26.0      0   \n",
       "3         Futrelle, Mrs. Jacques Heath (Lily May Peel)  female  35.0      1   \n",
       "4                             Allen, Mr. William Henry    male  35.0      0   \n",
       "..                                                 ...     ...   ...    ...   \n",
       "886                              Montvila, Rev. Juozas    male  27.0      0   \n",
       "887                       Graham, Miss. Margaret Edith  female  19.0      0   \n",
       "888           Johnston, Miss. Catherine Helen \"Carrie\"  female   NaN      1   \n",
       "889                              Behr, Mr. Karl Howell    male  26.0      0   \n",
       "890                                Dooley, Mr. Patrick    male  32.0      0   \n",
       "\n",
       "     Parch            Ticket     Fare Cabin Embarked  \n",
       "0        0         A/5 21171   7.2500   NaN        S  \n",
       "1        0          PC 17599  71.2833   C85        C  \n",
       "2        0  STON/O2. 3101282   7.9250   NaN        S  \n",
       "3        0            113803  53.1000  C123        S  \n",
       "4        0            373450   8.0500   NaN        S  \n",
       "..     ...               ...      ...   ...      ...  \n",
       "886      0            211536  13.0000   NaN        S  \n",
       "887      0            112053  30.0000   B42        S  \n",
       "888      2        W./C. 6607  23.4500   NaN        S  \n",
       "889      0            111369  30.0000  C148        C  \n",
       "890      0            370376   7.7500   NaN        Q  \n",
       "\n",
       "[891 rows x 12 columns]"
      ]
     },
     "metadata": {},
     "output_type": "display_data"
    }
   ],
   "source": [
    "df"
   ]
  },
  {
   "cell_type": "code",
   "execution_count": null,
   "id": "62e997d1",
   "metadata": {},
   "outputs": [],
   "source": []
  },
  {
   "cell_type": "code",
   "execution_count": null,
   "id": "94aec0f3",
   "metadata": {},
   "outputs": [],
   "source": []
  },
  {
   "cell_type": "code",
   "execution_count": null,
   "id": "a1c517db",
   "metadata": {},
   "outputs": [],
   "source": []
  },
  {
   "cell_type": "code",
   "execution_count": null,
   "id": "4bba9d18",
   "metadata": {},
   "outputs": [],
   "source": []
  },
  {
   "cell_type": "code",
   "execution_count": null,
   "id": "055bfbdc",
   "metadata": {},
   "outputs": [],
   "source": []
  },
  {
   "cell_type": "code",
   "execution_count": null,
   "id": "8db93c4a",
   "metadata": {},
   "outputs": [],
   "source": []
  },
  {
   "cell_type": "code",
   "execution_count": null,
   "id": "a3d9f53e",
   "metadata": {},
   "outputs": [],
   "source": []
  },
  {
   "cell_type": "code",
   "execution_count": null,
   "id": "21044ebd",
   "metadata": {},
   "outputs": [],
   "source": []
  },
  {
   "cell_type": "code",
   "execution_count": null,
   "id": "fa44ffbb",
   "metadata": {},
   "outputs": [],
   "source": []
  },
  {
   "cell_type": "code",
   "execution_count": null,
   "id": "835bb3e7",
   "metadata": {},
   "outputs": [],
   "source": []
  },
  {
   "cell_type": "code",
   "execution_count": null,
   "id": "e5c60895",
   "metadata": {},
   "outputs": [],
   "source": []
  },
  {
   "cell_type": "code",
   "execution_count": null,
   "id": "762da5e9",
   "metadata": {},
   "outputs": [],
   "source": []
  },
  {
   "cell_type": "code",
   "execution_count": null,
   "id": "5bd7a99e",
   "metadata": {},
   "outputs": [],
   "source": []
  },
  {
   "cell_type": "markdown",
   "id": "c5933388",
   "metadata": {},
   "source": [
    "# Fake"
   ]
  },
  {
   "cell_type": "code",
   "execution_count": null,
   "id": "ef511cf0",
   "metadata": {
    "ExecuteTime": {
     "end_time": "2021-09-28T00:55:46.857071Z",
     "start_time": "2021-09-28T00:55:46.857063Z"
    },
    "scrolled": true
   },
   "outputs": [],
   "source": [
    "# !pip install Faker"
   ]
  },
  {
   "cell_type": "code",
   "execution_count": null,
   "id": "0b004408",
   "metadata": {
    "ExecuteTime": {
     "end_time": "2021-09-28T00:55:46.857515Z",
     "start_time": "2021-09-28T00:55:46.857509Z"
    }
   },
   "outputs": [],
   "source": [
    "from faker import Faker\n",
    "from faker.providers import internet\n",
    "fake = Faker()"
   ]
  },
  {
   "cell_type": "code",
   "execution_count": null,
   "id": "a453829c",
   "metadata": {
    "ExecuteTime": {
     "end_time": "2021-09-28T00:55:46.858138Z",
     "start_time": "2021-09-28T00:55:46.858131Z"
    }
   },
   "outputs": [],
   "source": [
    "fake.name()"
   ]
  },
  {
   "cell_type": "code",
   "execution_count": null,
   "id": "b3af419d",
   "metadata": {
    "ExecuteTime": {
     "end_time": "2021-09-28T00:55:46.858538Z",
     "start_time": "2021-09-28T00:55:46.858532Z"
    }
   },
   "outputs": [],
   "source": [
    "fake.address()"
   ]
  },
  {
   "cell_type": "code",
   "execution_count": null,
   "id": "2fa489b9",
   "metadata": {
    "ExecuteTime": {
     "end_time": "2021-09-28T00:55:46.859252Z",
     "start_time": "2021-09-28T00:55:46.859245Z"
    }
   },
   "outputs": [],
   "source": [
    "fake.job()"
   ]
  },
  {
   "cell_type": "code",
   "execution_count": null,
   "id": "135a2e56",
   "metadata": {
    "ExecuteTime": {
     "end_time": "2021-09-28T00:55:46.859676Z",
     "start_time": "2021-09-28T00:55:46.859669Z"
    }
   },
   "outputs": [],
   "source": [
    "fake.ssn()"
   ]
  },
  {
   "cell_type": "code",
   "execution_count": null,
   "id": "e5c8745b",
   "metadata": {
    "ExecuteTime": {
     "end_time": "2021-09-28T00:55:46.860476Z",
     "start_time": "2021-09-28T00:55:46.860468Z"
    }
   },
   "outputs": [],
   "source": [
    "fake.phone_number()"
   ]
  },
  {
   "cell_type": "code",
   "execution_count": null,
   "id": "5a392b7f",
   "metadata": {
    "ExecuteTime": {
     "end_time": "2021-09-28T00:55:46.861029Z",
     "start_time": "2021-09-28T00:55:46.861022Z"
    }
   },
   "outputs": [],
   "source": [
    "fake.date_time()"
   ]
  },
  {
   "cell_type": "code",
   "execution_count": null,
   "id": "314b3546",
   "metadata": {
    "ExecuteTime": {
     "end_time": "2021-09-28T00:55:46.861812Z",
     "start_time": "2021-09-28T00:55:46.861805Z"
    }
   },
   "outputs": [],
   "source": [
    "fake.text()"
   ]
  },
  {
   "cell_type": "code",
   "execution_count": null,
   "id": "297291cf",
   "metadata": {
    "ExecuteTime": {
     "end_time": "2021-09-28T00:55:46.862664Z",
     "start_time": "2021-09-28T00:55:46.862657Z"
    }
   },
   "outputs": [],
   "source": [
    "fake = Faker('it_IT')\n",
    "for _ in range(10):\n",
    "    print(fake.name())"
   ]
  },
  {
   "cell_type": "code",
   "execution_count": null,
   "id": "3db4d7d0",
   "metadata": {
    "ExecuteTime": {
     "end_time": "2021-09-28T00:55:46.863710Z",
     "start_time": "2021-09-28T00:55:46.863701Z"
    }
   },
   "outputs": [],
   "source": [
    "fake = Faker('pt_PT')\n",
    "for _ in range(10):\n",
    "    print(fake.name())"
   ]
  },
  {
   "cell_type": "code",
   "execution_count": null,
   "id": "27344d73",
   "metadata": {
    "ExecuteTime": {
     "end_time": "2021-09-28T00:55:46.864861Z",
     "start_time": "2021-09-28T00:55:46.864854Z"
    }
   },
   "outputs": [],
   "source": [
    "fake = Faker('pt_PT')\n",
    "for _ in range(10):\n",
    "    print(fake.address()+'\\n')"
   ]
  },
  {
   "cell_type": "code",
   "execution_count": null,
   "id": "07fcf6c1",
   "metadata": {
    "ExecuteTime": {
     "end_time": "2021-09-28T00:55:46.865685Z",
     "start_time": "2021-09-28T00:55:46.865678Z"
    }
   },
   "outputs": [],
   "source": [
    "fake = Faker(['it_IT', 'en_US', 'ja_JP'])\n",
    "for _ in range(10):\n",
    "    print(fake.name())"
   ]
  },
  {
   "cell_type": "code",
   "execution_count": null,
   "id": "499ba602",
   "metadata": {
    "ExecuteTime": {
     "end_time": "2021-09-28T00:55:46.866404Z",
     "start_time": "2021-09-28T00:55:46.866396Z"
    }
   },
   "outputs": [],
   "source": [
    "fake = Faker(['ja_JP'])\n",
    "fake.text(100)"
   ]
  },
  {
   "cell_type": "code",
   "execution_count": null,
   "id": "e69e419e",
   "metadata": {},
   "outputs": [],
   "source": []
  },
  {
   "cell_type": "code",
   "execution_count": null,
   "id": "dd27d7d0",
   "metadata": {},
   "outputs": [],
   "source": []
  },
  {
   "cell_type": "code",
   "execution_count": null,
   "id": "1798c371",
   "metadata": {},
   "outputs": [],
   "source": []
  },
  {
   "cell_type": "code",
   "execution_count": null,
   "id": "ae9c5c96",
   "metadata": {},
   "outputs": [],
   "source": []
  },
  {
   "cell_type": "code",
   "execution_count": null,
   "id": "4ce0d279",
   "metadata": {},
   "outputs": [],
   "source": []
  },
  {
   "cell_type": "code",
   "execution_count": null,
   "id": "1681f703",
   "metadata": {},
   "outputs": [],
   "source": []
  },
  {
   "cell_type": "code",
   "execution_count": null,
   "id": "c5daf650",
   "metadata": {},
   "outputs": [],
   "source": []
  },
  {
   "cell_type": "code",
   "execution_count": null,
   "id": "0f77f913",
   "metadata": {},
   "outputs": [],
   "source": []
  },
  {
   "cell_type": "code",
   "execution_count": null,
   "id": "7e235f7f",
   "metadata": {},
   "outputs": [],
   "source": []
  },
  {
   "cell_type": "code",
   "execution_count": null,
   "id": "4a5f775e",
   "metadata": {},
   "outputs": [],
   "source": []
  },
  {
   "cell_type": "code",
   "execution_count": null,
   "id": "ab2dce20",
   "metadata": {},
   "outputs": [],
   "source": []
  },
  {
   "cell_type": "code",
   "execution_count": null,
   "id": "e0cbdbb7",
   "metadata": {
    "ExecuteTime": {
     "end_time": "2021-09-19T00:24:39.505396Z",
     "start_time": "2021-09-19T00:24:39.500390Z"
    }
   },
   "outputs": [],
   "source": []
  },
  {
   "cell_type": "code",
   "execution_count": null,
   "id": "e74b2021",
   "metadata": {
    "ExecuteTime": {
     "end_time": "2021-09-19T00:31:02.378067Z",
     "start_time": "2021-09-19T00:31:02.026694Z"
    }
   },
   "outputs": [],
   "source": []
  },
  {
   "cell_type": "code",
   "execution_count": null,
   "id": "a2e3c98f",
   "metadata": {
    "ExecuteTime": {
     "end_time": "2021-09-28T00:55:46.867586Z",
     "start_time": "2021-09-28T00:55:46.867577Z"
    }
   },
   "outputs": [],
   "source": [
    "plt.hist(df['age'])\n",
    "plt.show()"
   ]
  },
  {
   "cell_type": "code",
   "execution_count": null,
   "id": "21e7c3a6",
   "metadata": {
    "ExecuteTime": {
     "end_time": "2021-09-19T00:32:21.928199Z",
     "start_time": "2021-09-19T00:32:21.921024Z"
    }
   },
   "outputs": [],
   "source": []
  },
  {
   "cell_type": "code",
   "execution_count": null,
   "id": "1f9869c8",
   "metadata": {
    "ExecuteTime": {
     "end_time": "2021-09-19T00:32:47.045946Z",
     "start_time": "2021-09-19T00:32:46.161612Z"
    }
   },
   "outputs": [],
   "source": []
  },
  {
   "cell_type": "code",
   "execution_count": null,
   "id": "cf6e1a98",
   "metadata": {
    "ExecuteTime": {
     "end_time": "2021-09-19T00:32:59.578217Z",
     "start_time": "2021-09-19T00:32:59.569838Z"
    }
   },
   "outputs": [],
   "source": []
  },
  {
   "cell_type": "code",
   "execution_count": null,
   "id": "a3d2437e",
   "metadata": {
    "ExecuteTime": {
     "end_time": "2021-09-19T00:34:27.911403Z",
     "start_time": "2021-09-19T00:34:27.899583Z"
    }
   },
   "outputs": [],
   "source": []
  },
  {
   "cell_type": "code",
   "execution_count": null,
   "id": "fdd51dd1",
   "metadata": {},
   "outputs": [],
   "source": []
  },
  {
   "cell_type": "code",
   "execution_count": null,
   "id": "41c325cf",
   "metadata": {},
   "outputs": [],
   "source": []
  },
  {
   "cell_type": "code",
   "execution_count": null,
   "id": "80eb1583",
   "metadata": {},
   "outputs": [],
   "source": []
  },
  {
   "cell_type": "code",
   "execution_count": null,
   "id": "a44e2f79",
   "metadata": {},
   "outputs": [],
   "source": []
  },
  {
   "cell_type": "code",
   "execution_count": null,
   "id": "8cc51beb",
   "metadata": {},
   "outputs": [],
   "source": []
  },
  {
   "cell_type": "code",
   "execution_count": null,
   "id": "131a1585",
   "metadata": {
    "ExecuteTime": {
     "end_time": "2021-09-28T00:55:46.868351Z",
     "start_time": "2021-09-28T00:55:46.868344Z"
    }
   },
   "outputs": [],
   "source": [
    "!pip install pyforest"
   ]
  },
  {
   "cell_type": "code",
   "execution_count": null,
   "id": "25819627",
   "metadata": {},
   "outputs": [],
   "source": []
  },
  {
   "cell_type": "code",
   "execution_count": null,
   "id": "26e5ef8e",
   "metadata": {},
   "outputs": [],
   "source": []
  },
  {
   "cell_type": "code",
   "execution_count": null,
   "id": "43c9fc4a",
   "metadata": {},
   "outputs": [],
   "source": []
  },
  {
   "cell_type": "code",
   "execution_count": null,
   "id": "2a5e4caa",
   "metadata": {},
   "outputs": [],
   "source": []
  },
  {
   "cell_type": "code",
   "execution_count": null,
   "id": "d9be9a1f",
   "metadata": {},
   "outputs": [],
   "source": []
  },
  {
   "cell_type": "code",
   "execution_count": null,
   "id": "a78be182",
   "metadata": {},
   "outputs": [],
   "source": []
  },
  {
   "cell_type": "code",
   "execution_count": null,
   "id": "fe68d55a",
   "metadata": {},
   "outputs": [],
   "source": []
  },
  {
   "cell_type": "code",
   "execution_count": null,
   "id": "f932532c",
   "metadata": {
    "ExecuteTime": {
     "end_time": "2021-09-28T00:55:46.869263Z",
     "start_time": "2021-09-28T00:55:46.869257Z"
    }
   },
   "outputs": [],
   "source": [
    "!pip install knockknock"
   ]
  },
  {
   "cell_type": "code",
   "execution_count": null,
   "id": "84757332",
   "metadata": {
    "ExecuteTime": {
     "end_time": "2021-09-28T00:55:46.870155Z",
     "start_time": "2021-09-28T00:55:46.870148Z"
    },
    "scrolled": false
   },
   "outputs": [],
   "source": [
    "!pip install tensorflow"
   ]
  },
  {
   "cell_type": "code",
   "execution_count": null,
   "id": "a0d4f769",
   "metadata": {
    "ExecuteTime": {
     "end_time": "2021-09-28T00:55:46.870918Z",
     "start_time": "2021-09-28T00:55:46.870910Z"
    }
   },
   "outputs": [],
   "source": [
    "from keras.utils.np_utils import to_categorical\n",
    "from keras.models import Sequential\n",
    "from keras.layers import Conv2D, MaxPooling2D, Flatten, Dense, Dropout, Activation\n",
    "from keras.datasets import mnist"
   ]
  },
  {
   "cell_type": "code",
   "execution_count": null,
   "id": "518ceeaa",
   "metadata": {},
   "outputs": [],
   "source": []
  },
  {
   "cell_type": "code",
   "execution_count": null,
   "id": "b3874713",
   "metadata": {},
   "outputs": [],
   "source": []
  },
  {
   "cell_type": "code",
   "execution_count": null,
   "id": "5bde46a1",
   "metadata": {},
   "outputs": [],
   "source": []
  },
  {
   "cell_type": "code",
   "execution_count": null,
   "id": "24476d40",
   "metadata": {},
   "outputs": [],
   "source": []
  },
  {
   "cell_type": "code",
   "execution_count": null,
   "id": "e2f940ba",
   "metadata": {},
   "outputs": [],
   "source": []
  },
  {
   "cell_type": "code",
   "execution_count": null,
   "id": "db042f5a",
   "metadata": {},
   "outputs": [],
   "source": []
  },
  {
   "cell_type": "code",
   "execution_count": null,
   "id": "54dc423d",
   "metadata": {},
   "outputs": [],
   "source": []
  },
  {
   "cell_type": "code",
   "execution_count": null,
   "id": "6b7fff13",
   "metadata": {},
   "outputs": [],
   "source": []
  },
  {
   "cell_type": "code",
   "execution_count": null,
   "id": "441dc347",
   "metadata": {},
   "outputs": [],
   "source": []
  },
  {
   "cell_type": "code",
   "execution_count": null,
   "id": "fa1ca20c",
   "metadata": {},
   "outputs": [],
   "source": []
  },
  {
   "cell_type": "code",
   "execution_count": null,
   "id": "bc5966f8",
   "metadata": {},
   "outputs": [],
   "source": []
  },
  {
   "cell_type": "code",
   "execution_count": null,
   "id": "5cf2e4ef",
   "metadata": {},
   "outputs": [],
   "source": []
  },
  {
   "cell_type": "code",
   "execution_count": null,
   "id": "ad545289",
   "metadata": {},
   "outputs": [],
   "source": []
  },
  {
   "cell_type": "code",
   "execution_count": null,
   "id": "05cc9325",
   "metadata": {},
   "outputs": [],
   "source": []
  }
 ],
 "metadata": {
  "hide_input": false,
  "kernelspec": {
   "display_name": "Python 3 (ipykernel)",
   "language": "python",
   "name": "python3"
  },
  "language_info": {
   "codemirror_mode": {
    "name": "ipython",
    "version": 3
   },
   "file_extension": ".py",
   "mimetype": "text/x-python",
   "name": "python",
   "nbconvert_exporter": "python",
   "pygments_lexer": "ipython3",
   "version": "3.8.8"
  }
 },
 "nbformat": 4,
 "nbformat_minor": 5
}
