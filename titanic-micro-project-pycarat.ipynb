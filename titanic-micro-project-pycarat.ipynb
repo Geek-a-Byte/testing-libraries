{
 "cells": [
  {
   "cell_type": "code",
   "execution_count": 7,
   "metadata": {
    "ExecuteTime": {
     "end_time": "2021-04-03T00:05:56.010005Z",
     "start_time": "2021-04-03T00:05:56.004056Z"
    }
   },
   "outputs": [],
   "source": [
    "import pyforest\n",
    "\n",
    "import warnings\n",
    "warnings.filterwarnings(\"ignore\")\n",
    "\n",
    "from sklearn import metrics\n",
    "from sklearn.metrics import accuracy_score\n",
    "\n",
    "import pyforest \n",
    "from pycaret.classification import *"
   ]
  },
  {
   "cell_type": "markdown",
   "metadata": {},
   "source": [
    "# Importing train and test data set"
   ]
  },
  {
   "cell_type": "code",
   "execution_count": 8,
   "metadata": {
    "ExecuteTime": {
     "end_time": "2021-04-03T00:05:57.181095Z",
     "start_time": "2021-04-03T00:05:57.168613Z"
    }
   },
   "outputs": [],
   "source": [
    "# importing .csv files using Pandas\n",
    "data = pd.read_csv('data/train.csv')"
   ]
  },
  {
   "cell_type": "code",
   "execution_count": 10,
   "metadata": {
    "ExecuteTime": {
     "end_time": "2021-04-03T00:12:38.607247Z",
     "start_time": "2021-04-03T00:12:38.583728Z"
    }
   },
   "outputs": [
    {
     "data": {
      "text/html": [
       "<div>\n",
       "<style scoped>\n",
       "    .dataframe tbody tr th:only-of-type {\n",
       "        vertical-align: middle;\n",
       "    }\n",
       "\n",
       "    .dataframe tbody tr th {\n",
       "        vertical-align: top;\n",
       "    }\n",
       "\n",
       "    .dataframe thead th {\n",
       "        text-align: right;\n",
       "    }\n",
       "</style>\n",
       "<table border=\"1\" class=\"dataframe\">\n",
       "  <thead>\n",
       "    <tr style=\"text-align: right;\">\n",
       "      <th></th>\n",
       "      <th>PassengerId</th>\n",
       "      <th>Survived</th>\n",
       "      <th>Pclass</th>\n",
       "      <th>Name</th>\n",
       "      <th>Sex</th>\n",
       "      <th>Age</th>\n",
       "      <th>SibSp</th>\n",
       "      <th>Parch</th>\n",
       "      <th>Ticket</th>\n",
       "      <th>Fare</th>\n",
       "      <th>Cabin</th>\n",
       "      <th>Embarked</th>\n",
       "    </tr>\n",
       "  </thead>\n",
       "  <tbody>\n",
       "    <tr>\n",
       "      <th>0</th>\n",
       "      <td>1</td>\n",
       "      <td>0</td>\n",
       "      <td>3</td>\n",
       "      <td>Braund, Mr. Owen Harris</td>\n",
       "      <td>male</td>\n",
       "      <td>22.0</td>\n",
       "      <td>1</td>\n",
       "      <td>0</td>\n",
       "      <td>A/5 21171</td>\n",
       "      <td>7.2500</td>\n",
       "      <td>NaN</td>\n",
       "      <td>S</td>\n",
       "    </tr>\n",
       "    <tr>\n",
       "      <th>1</th>\n",
       "      <td>2</td>\n",
       "      <td>1</td>\n",
       "      <td>1</td>\n",
       "      <td>Cumings, Mrs. John Bradley (Florence Briggs Th...</td>\n",
       "      <td>female</td>\n",
       "      <td>38.0</td>\n",
       "      <td>1</td>\n",
       "      <td>0</td>\n",
       "      <td>PC 17599</td>\n",
       "      <td>71.2833</td>\n",
       "      <td>C85</td>\n",
       "      <td>C</td>\n",
       "    </tr>\n",
       "    <tr>\n",
       "      <th>2</th>\n",
       "      <td>3</td>\n",
       "      <td>1</td>\n",
       "      <td>3</td>\n",
       "      <td>Heikkinen, Miss. Laina</td>\n",
       "      <td>female</td>\n",
       "      <td>26.0</td>\n",
       "      <td>0</td>\n",
       "      <td>0</td>\n",
       "      <td>STON/O2. 3101282</td>\n",
       "      <td>7.9250</td>\n",
       "      <td>NaN</td>\n",
       "      <td>S</td>\n",
       "    </tr>\n",
       "    <tr>\n",
       "      <th>3</th>\n",
       "      <td>4</td>\n",
       "      <td>1</td>\n",
       "      <td>1</td>\n",
       "      <td>Futrelle, Mrs. Jacques Heath (Lily May Peel)</td>\n",
       "      <td>female</td>\n",
       "      <td>35.0</td>\n",
       "      <td>1</td>\n",
       "      <td>0</td>\n",
       "      <td>113803</td>\n",
       "      <td>53.1000</td>\n",
       "      <td>C123</td>\n",
       "      <td>S</td>\n",
       "    </tr>\n",
       "    <tr>\n",
       "      <th>4</th>\n",
       "      <td>5</td>\n",
       "      <td>0</td>\n",
       "      <td>3</td>\n",
       "      <td>Allen, Mr. William Henry</td>\n",
       "      <td>male</td>\n",
       "      <td>35.0</td>\n",
       "      <td>0</td>\n",
       "      <td>0</td>\n",
       "      <td>373450</td>\n",
       "      <td>8.0500</td>\n",
       "      <td>NaN</td>\n",
       "      <td>S</td>\n",
       "    </tr>\n",
       "  </tbody>\n",
       "</table>\n",
       "</div>"
      ],
      "text/plain": [
       "   PassengerId  Survived  Pclass  \\\n",
       "0            1         0       3   \n",
       "1            2         1       1   \n",
       "2            3         1       3   \n",
       "3            4         1       1   \n",
       "4            5         0       3   \n",
       "\n",
       "                                                Name     Sex   Age  SibSp  \\\n",
       "0                            Braund, Mr. Owen Harris    male  22.0      1   \n",
       "1  Cumings, Mrs. John Bradley (Florence Briggs Th...  female  38.0      1   \n",
       "2                             Heikkinen, Miss. Laina  female  26.0      0   \n",
       "3       Futrelle, Mrs. Jacques Heath (Lily May Peel)  female  35.0      1   \n",
       "4                           Allen, Mr. William Henry    male  35.0      0   \n",
       "\n",
       "   Parch            Ticket     Fare Cabin Embarked  \n",
       "0      0         A/5 21171   7.2500   NaN        S  \n",
       "1      0          PC 17599  71.2833   C85        C  \n",
       "2      0  STON/O2. 3101282   7.9250   NaN        S  \n",
       "3      0            113803  53.1000  C123        S  \n",
       "4      0            373450   8.0500   NaN        S  "
      ]
     },
     "execution_count": 10,
     "metadata": {},
     "output_type": "execute_result"
    }
   ],
   "source": [
    "data.head()"
   ]
  },
  {
   "cell_type": "code",
   "execution_count": 11,
   "metadata": {
    "ExecuteTime": {
     "end_time": "2021-04-03T00:13:01.177139Z",
     "start_time": "2021-04-03T00:12:56.299921Z"
    }
   },
   "outputs": [
    {
     "data": {
      "text/html": [
       "<style  type=\"text/css\" >\n",
       "#T_59cc1d66_9411_11eb_af22_f40f243a1dcarow5_col1,#T_59cc1d66_9411_11eb_af22_f40f243a1dcarow19_col1{\n",
       "            background-color:  lightgreen;\n",
       "        }</style><table id=\"T_59cc1d66_9411_11eb_af22_f40f243a1dca\" ><thead>    <tr>        <th class=\"blank level0\" ></th>        <th class=\"col_heading level0 col0\" >Description</th>        <th class=\"col_heading level0 col1\" >Value</th>    </tr></thead><tbody>\n",
       "                <tr>\n",
       "                        <th id=\"T_59cc1d66_9411_11eb_af22_f40f243a1dcalevel0_row0\" class=\"row_heading level0 row0\" >0</th>\n",
       "                        <td id=\"T_59cc1d66_9411_11eb_af22_f40f243a1dcarow0_col0\" class=\"data row0 col0\" >session_id</td>\n",
       "                        <td id=\"T_59cc1d66_9411_11eb_af22_f40f243a1dcarow0_col1\" class=\"data row0 col1\" >123</td>\n",
       "            </tr>\n",
       "            <tr>\n",
       "                        <th id=\"T_59cc1d66_9411_11eb_af22_f40f243a1dcalevel0_row1\" class=\"row_heading level0 row1\" >1</th>\n",
       "                        <td id=\"T_59cc1d66_9411_11eb_af22_f40f243a1dcarow1_col0\" class=\"data row1 col0\" >Target</td>\n",
       "                        <td id=\"T_59cc1d66_9411_11eb_af22_f40f243a1dcarow1_col1\" class=\"data row1 col1\" >Survived</td>\n",
       "            </tr>\n",
       "            <tr>\n",
       "                        <th id=\"T_59cc1d66_9411_11eb_af22_f40f243a1dcalevel0_row2\" class=\"row_heading level0 row2\" >2</th>\n",
       "                        <td id=\"T_59cc1d66_9411_11eb_af22_f40f243a1dcarow2_col0\" class=\"data row2 col0\" >Target Type</td>\n",
       "                        <td id=\"T_59cc1d66_9411_11eb_af22_f40f243a1dcarow2_col1\" class=\"data row2 col1\" >Binary</td>\n",
       "            </tr>\n",
       "            <tr>\n",
       "                        <th id=\"T_59cc1d66_9411_11eb_af22_f40f243a1dcalevel0_row3\" class=\"row_heading level0 row3\" >3</th>\n",
       "                        <td id=\"T_59cc1d66_9411_11eb_af22_f40f243a1dcarow3_col0\" class=\"data row3 col0\" >Label Encoded</td>\n",
       "                        <td id=\"T_59cc1d66_9411_11eb_af22_f40f243a1dcarow3_col1\" class=\"data row3 col1\" >0: 0, 1: 1</td>\n",
       "            </tr>\n",
       "            <tr>\n",
       "                        <th id=\"T_59cc1d66_9411_11eb_af22_f40f243a1dcalevel0_row4\" class=\"row_heading level0 row4\" >4</th>\n",
       "                        <td id=\"T_59cc1d66_9411_11eb_af22_f40f243a1dcarow4_col0\" class=\"data row4 col0\" >Original Data</td>\n",
       "                        <td id=\"T_59cc1d66_9411_11eb_af22_f40f243a1dcarow4_col1\" class=\"data row4 col1\" >(891, 12)</td>\n",
       "            </tr>\n",
       "            <tr>\n",
       "                        <th id=\"T_59cc1d66_9411_11eb_af22_f40f243a1dcalevel0_row5\" class=\"row_heading level0 row5\" >5</th>\n",
       "                        <td id=\"T_59cc1d66_9411_11eb_af22_f40f243a1dcarow5_col0\" class=\"data row5 col0\" >Missing Values</td>\n",
       "                        <td id=\"T_59cc1d66_9411_11eb_af22_f40f243a1dcarow5_col1\" class=\"data row5 col1\" >True</td>\n",
       "            </tr>\n",
       "            <tr>\n",
       "                        <th id=\"T_59cc1d66_9411_11eb_af22_f40f243a1dcalevel0_row6\" class=\"row_heading level0 row6\" >6</th>\n",
       "                        <td id=\"T_59cc1d66_9411_11eb_af22_f40f243a1dcarow6_col0\" class=\"data row6 col0\" >Numeric Features</td>\n",
       "                        <td id=\"T_59cc1d66_9411_11eb_af22_f40f243a1dcarow6_col1\" class=\"data row6 col1\" >3</td>\n",
       "            </tr>\n",
       "            <tr>\n",
       "                        <th id=\"T_59cc1d66_9411_11eb_af22_f40f243a1dcalevel0_row7\" class=\"row_heading level0 row7\" >7</th>\n",
       "                        <td id=\"T_59cc1d66_9411_11eb_af22_f40f243a1dcarow7_col0\" class=\"data row7 col0\" >Categorical Features</td>\n",
       "                        <td id=\"T_59cc1d66_9411_11eb_af22_f40f243a1dcarow7_col1\" class=\"data row7 col1\" >8</td>\n",
       "            </tr>\n",
       "            <tr>\n",
       "                        <th id=\"T_59cc1d66_9411_11eb_af22_f40f243a1dcalevel0_row8\" class=\"row_heading level0 row8\" >8</th>\n",
       "                        <td id=\"T_59cc1d66_9411_11eb_af22_f40f243a1dcarow8_col0\" class=\"data row8 col0\" >Ordinal Features</td>\n",
       "                        <td id=\"T_59cc1d66_9411_11eb_af22_f40f243a1dcarow8_col1\" class=\"data row8 col1\" >False</td>\n",
       "            </tr>\n",
       "            <tr>\n",
       "                        <th id=\"T_59cc1d66_9411_11eb_af22_f40f243a1dcalevel0_row9\" class=\"row_heading level0 row9\" >9</th>\n",
       "                        <td id=\"T_59cc1d66_9411_11eb_af22_f40f243a1dcarow9_col0\" class=\"data row9 col0\" >High Cardinality Features</td>\n",
       "                        <td id=\"T_59cc1d66_9411_11eb_af22_f40f243a1dcarow9_col1\" class=\"data row9 col1\" >False</td>\n",
       "            </tr>\n",
       "            <tr>\n",
       "                        <th id=\"T_59cc1d66_9411_11eb_af22_f40f243a1dcalevel0_row10\" class=\"row_heading level0 row10\" >10</th>\n",
       "                        <td id=\"T_59cc1d66_9411_11eb_af22_f40f243a1dcarow10_col0\" class=\"data row10 col0\" >High Cardinality Method</td>\n",
       "                        <td id=\"T_59cc1d66_9411_11eb_af22_f40f243a1dcarow10_col1\" class=\"data row10 col1\" >None</td>\n",
       "            </tr>\n",
       "            <tr>\n",
       "                        <th id=\"T_59cc1d66_9411_11eb_af22_f40f243a1dcalevel0_row11\" class=\"row_heading level0 row11\" >11</th>\n",
       "                        <td id=\"T_59cc1d66_9411_11eb_af22_f40f243a1dcarow11_col0\" class=\"data row11 col0\" >Transformed Train Set</td>\n",
       "                        <td id=\"T_59cc1d66_9411_11eb_af22_f40f243a1dcarow11_col1\" class=\"data row11 col1\" >(623, 713)</td>\n",
       "            </tr>\n",
       "            <tr>\n",
       "                        <th id=\"T_59cc1d66_9411_11eb_af22_f40f243a1dcalevel0_row12\" class=\"row_heading level0 row12\" >12</th>\n",
       "                        <td id=\"T_59cc1d66_9411_11eb_af22_f40f243a1dcarow12_col0\" class=\"data row12 col0\" >Transformed Test Set</td>\n",
       "                        <td id=\"T_59cc1d66_9411_11eb_af22_f40f243a1dcarow12_col1\" class=\"data row12 col1\" >(268, 713)</td>\n",
       "            </tr>\n",
       "            <tr>\n",
       "                        <th id=\"T_59cc1d66_9411_11eb_af22_f40f243a1dcalevel0_row13\" class=\"row_heading level0 row13\" >13</th>\n",
       "                        <td id=\"T_59cc1d66_9411_11eb_af22_f40f243a1dcarow13_col0\" class=\"data row13 col0\" >Shuffle Train-Test</td>\n",
       "                        <td id=\"T_59cc1d66_9411_11eb_af22_f40f243a1dcarow13_col1\" class=\"data row13 col1\" >True</td>\n",
       "            </tr>\n",
       "            <tr>\n",
       "                        <th id=\"T_59cc1d66_9411_11eb_af22_f40f243a1dcalevel0_row14\" class=\"row_heading level0 row14\" >14</th>\n",
       "                        <td id=\"T_59cc1d66_9411_11eb_af22_f40f243a1dcarow14_col0\" class=\"data row14 col0\" >Stratify Train-Test</td>\n",
       "                        <td id=\"T_59cc1d66_9411_11eb_af22_f40f243a1dcarow14_col1\" class=\"data row14 col1\" >False</td>\n",
       "            </tr>\n",
       "            <tr>\n",
       "                        <th id=\"T_59cc1d66_9411_11eb_af22_f40f243a1dcalevel0_row15\" class=\"row_heading level0 row15\" >15</th>\n",
       "                        <td id=\"T_59cc1d66_9411_11eb_af22_f40f243a1dcarow15_col0\" class=\"data row15 col0\" >Fold Generator</td>\n",
       "                        <td id=\"T_59cc1d66_9411_11eb_af22_f40f243a1dcarow15_col1\" class=\"data row15 col1\" >StratifiedKFold</td>\n",
       "            </tr>\n",
       "            <tr>\n",
       "                        <th id=\"T_59cc1d66_9411_11eb_af22_f40f243a1dcalevel0_row16\" class=\"row_heading level0 row16\" >16</th>\n",
       "                        <td id=\"T_59cc1d66_9411_11eb_af22_f40f243a1dcarow16_col0\" class=\"data row16 col0\" >Fold Number</td>\n",
       "                        <td id=\"T_59cc1d66_9411_11eb_af22_f40f243a1dcarow16_col1\" class=\"data row16 col1\" >10</td>\n",
       "            </tr>\n",
       "            <tr>\n",
       "                        <th id=\"T_59cc1d66_9411_11eb_af22_f40f243a1dcalevel0_row17\" class=\"row_heading level0 row17\" >17</th>\n",
       "                        <td id=\"T_59cc1d66_9411_11eb_af22_f40f243a1dcarow17_col0\" class=\"data row17 col0\" >CPU Jobs</td>\n",
       "                        <td id=\"T_59cc1d66_9411_11eb_af22_f40f243a1dcarow17_col1\" class=\"data row17 col1\" >-1</td>\n",
       "            </tr>\n",
       "            <tr>\n",
       "                        <th id=\"T_59cc1d66_9411_11eb_af22_f40f243a1dcalevel0_row18\" class=\"row_heading level0 row18\" >18</th>\n",
       "                        <td id=\"T_59cc1d66_9411_11eb_af22_f40f243a1dcarow18_col0\" class=\"data row18 col0\" >Use GPU</td>\n",
       "                        <td id=\"T_59cc1d66_9411_11eb_af22_f40f243a1dcarow18_col1\" class=\"data row18 col1\" >False</td>\n",
       "            </tr>\n",
       "            <tr>\n",
       "                        <th id=\"T_59cc1d66_9411_11eb_af22_f40f243a1dcalevel0_row19\" class=\"row_heading level0 row19\" >19</th>\n",
       "                        <td id=\"T_59cc1d66_9411_11eb_af22_f40f243a1dcarow19_col0\" class=\"data row19 col0\" >Log Experiment</td>\n",
       "                        <td id=\"T_59cc1d66_9411_11eb_af22_f40f243a1dcarow19_col1\" class=\"data row19 col1\" >True</td>\n",
       "            </tr>\n",
       "            <tr>\n",
       "                        <th id=\"T_59cc1d66_9411_11eb_af22_f40f243a1dcalevel0_row20\" class=\"row_heading level0 row20\" >20</th>\n",
       "                        <td id=\"T_59cc1d66_9411_11eb_af22_f40f243a1dcarow20_col0\" class=\"data row20 col0\" >Experiment Name</td>\n",
       "                        <td id=\"T_59cc1d66_9411_11eb_af22_f40f243a1dcarow20_col1\" class=\"data row20 col1\" >survived1</td>\n",
       "            </tr>\n",
       "            <tr>\n",
       "                        <th id=\"T_59cc1d66_9411_11eb_af22_f40f243a1dcalevel0_row21\" class=\"row_heading level0 row21\" >21</th>\n",
       "                        <td id=\"T_59cc1d66_9411_11eb_af22_f40f243a1dcarow21_col0\" class=\"data row21 col0\" >USI</td>\n",
       "                        <td id=\"T_59cc1d66_9411_11eb_af22_f40f243a1dcarow21_col1\" class=\"data row21 col1\" >a219</td>\n",
       "            </tr>\n",
       "            <tr>\n",
       "                        <th id=\"T_59cc1d66_9411_11eb_af22_f40f243a1dcalevel0_row22\" class=\"row_heading level0 row22\" >22</th>\n",
       "                        <td id=\"T_59cc1d66_9411_11eb_af22_f40f243a1dcarow22_col0\" class=\"data row22 col0\" >Imputation Type</td>\n",
       "                        <td id=\"T_59cc1d66_9411_11eb_af22_f40f243a1dcarow22_col1\" class=\"data row22 col1\" >simple</td>\n",
       "            </tr>\n",
       "            <tr>\n",
       "                        <th id=\"T_59cc1d66_9411_11eb_af22_f40f243a1dcalevel0_row23\" class=\"row_heading level0 row23\" >23</th>\n",
       "                        <td id=\"T_59cc1d66_9411_11eb_af22_f40f243a1dcarow23_col0\" class=\"data row23 col0\" >Iterative Imputation Iteration</td>\n",
       "                        <td id=\"T_59cc1d66_9411_11eb_af22_f40f243a1dcarow23_col1\" class=\"data row23 col1\" >None</td>\n",
       "            </tr>\n",
       "            <tr>\n",
       "                        <th id=\"T_59cc1d66_9411_11eb_af22_f40f243a1dcalevel0_row24\" class=\"row_heading level0 row24\" >24</th>\n",
       "                        <td id=\"T_59cc1d66_9411_11eb_af22_f40f243a1dcarow24_col0\" class=\"data row24 col0\" >Numeric Imputer</td>\n",
       "                        <td id=\"T_59cc1d66_9411_11eb_af22_f40f243a1dcarow24_col1\" class=\"data row24 col1\" >mean</td>\n",
       "            </tr>\n",
       "            <tr>\n",
       "                        <th id=\"T_59cc1d66_9411_11eb_af22_f40f243a1dcalevel0_row25\" class=\"row_heading level0 row25\" >25</th>\n",
       "                        <td id=\"T_59cc1d66_9411_11eb_af22_f40f243a1dcarow25_col0\" class=\"data row25 col0\" >Iterative Imputation Numeric Model</td>\n",
       "                        <td id=\"T_59cc1d66_9411_11eb_af22_f40f243a1dcarow25_col1\" class=\"data row25 col1\" >None</td>\n",
       "            </tr>\n",
       "            <tr>\n",
       "                        <th id=\"T_59cc1d66_9411_11eb_af22_f40f243a1dcalevel0_row26\" class=\"row_heading level0 row26\" >26</th>\n",
       "                        <td id=\"T_59cc1d66_9411_11eb_af22_f40f243a1dcarow26_col0\" class=\"data row26 col0\" >Categorical Imputer</td>\n",
       "                        <td id=\"T_59cc1d66_9411_11eb_af22_f40f243a1dcarow26_col1\" class=\"data row26 col1\" >constant</td>\n",
       "            </tr>\n",
       "            <tr>\n",
       "                        <th id=\"T_59cc1d66_9411_11eb_af22_f40f243a1dcalevel0_row27\" class=\"row_heading level0 row27\" >27</th>\n",
       "                        <td id=\"T_59cc1d66_9411_11eb_af22_f40f243a1dcarow27_col0\" class=\"data row27 col0\" >Iterative Imputation Categorical Model</td>\n",
       "                        <td id=\"T_59cc1d66_9411_11eb_af22_f40f243a1dcarow27_col1\" class=\"data row27 col1\" >None</td>\n",
       "            </tr>\n",
       "            <tr>\n",
       "                        <th id=\"T_59cc1d66_9411_11eb_af22_f40f243a1dcalevel0_row28\" class=\"row_heading level0 row28\" >28</th>\n",
       "                        <td id=\"T_59cc1d66_9411_11eb_af22_f40f243a1dcarow28_col0\" class=\"data row28 col0\" >Unknown Categoricals Handling</td>\n",
       "                        <td id=\"T_59cc1d66_9411_11eb_af22_f40f243a1dcarow28_col1\" class=\"data row28 col1\" >least_frequent</td>\n",
       "            </tr>\n",
       "            <tr>\n",
       "                        <th id=\"T_59cc1d66_9411_11eb_af22_f40f243a1dcalevel0_row29\" class=\"row_heading level0 row29\" >29</th>\n",
       "                        <td id=\"T_59cc1d66_9411_11eb_af22_f40f243a1dcarow29_col0\" class=\"data row29 col0\" >Normalize</td>\n",
       "                        <td id=\"T_59cc1d66_9411_11eb_af22_f40f243a1dcarow29_col1\" class=\"data row29 col1\" >False</td>\n",
       "            </tr>\n",
       "            <tr>\n",
       "                        <th id=\"T_59cc1d66_9411_11eb_af22_f40f243a1dcalevel0_row30\" class=\"row_heading level0 row30\" >30</th>\n",
       "                        <td id=\"T_59cc1d66_9411_11eb_af22_f40f243a1dcarow30_col0\" class=\"data row30 col0\" >Normalize Method</td>\n",
       "                        <td id=\"T_59cc1d66_9411_11eb_af22_f40f243a1dcarow30_col1\" class=\"data row30 col1\" >None</td>\n",
       "            </tr>\n",
       "            <tr>\n",
       "                        <th id=\"T_59cc1d66_9411_11eb_af22_f40f243a1dcalevel0_row31\" class=\"row_heading level0 row31\" >31</th>\n",
       "                        <td id=\"T_59cc1d66_9411_11eb_af22_f40f243a1dcarow31_col0\" class=\"data row31 col0\" >Transformation</td>\n",
       "                        <td id=\"T_59cc1d66_9411_11eb_af22_f40f243a1dcarow31_col1\" class=\"data row31 col1\" >False</td>\n",
       "            </tr>\n",
       "            <tr>\n",
       "                        <th id=\"T_59cc1d66_9411_11eb_af22_f40f243a1dcalevel0_row32\" class=\"row_heading level0 row32\" >32</th>\n",
       "                        <td id=\"T_59cc1d66_9411_11eb_af22_f40f243a1dcarow32_col0\" class=\"data row32 col0\" >Transformation Method</td>\n",
       "                        <td id=\"T_59cc1d66_9411_11eb_af22_f40f243a1dcarow32_col1\" class=\"data row32 col1\" >None</td>\n",
       "            </tr>\n",
       "            <tr>\n",
       "                        <th id=\"T_59cc1d66_9411_11eb_af22_f40f243a1dcalevel0_row33\" class=\"row_heading level0 row33\" >33</th>\n",
       "                        <td id=\"T_59cc1d66_9411_11eb_af22_f40f243a1dcarow33_col0\" class=\"data row33 col0\" >PCA</td>\n",
       "                        <td id=\"T_59cc1d66_9411_11eb_af22_f40f243a1dcarow33_col1\" class=\"data row33 col1\" >False</td>\n",
       "            </tr>\n",
       "            <tr>\n",
       "                        <th id=\"T_59cc1d66_9411_11eb_af22_f40f243a1dcalevel0_row34\" class=\"row_heading level0 row34\" >34</th>\n",
       "                        <td id=\"T_59cc1d66_9411_11eb_af22_f40f243a1dcarow34_col0\" class=\"data row34 col0\" >PCA Method</td>\n",
       "                        <td id=\"T_59cc1d66_9411_11eb_af22_f40f243a1dcarow34_col1\" class=\"data row34 col1\" >None</td>\n",
       "            </tr>\n",
       "            <tr>\n",
       "                        <th id=\"T_59cc1d66_9411_11eb_af22_f40f243a1dcalevel0_row35\" class=\"row_heading level0 row35\" >35</th>\n",
       "                        <td id=\"T_59cc1d66_9411_11eb_af22_f40f243a1dcarow35_col0\" class=\"data row35 col0\" >PCA Components</td>\n",
       "                        <td id=\"T_59cc1d66_9411_11eb_af22_f40f243a1dcarow35_col1\" class=\"data row35 col1\" >None</td>\n",
       "            </tr>\n",
       "            <tr>\n",
       "                        <th id=\"T_59cc1d66_9411_11eb_af22_f40f243a1dcalevel0_row36\" class=\"row_heading level0 row36\" >36</th>\n",
       "                        <td id=\"T_59cc1d66_9411_11eb_af22_f40f243a1dcarow36_col0\" class=\"data row36 col0\" >Ignore Low Variance</td>\n",
       "                        <td id=\"T_59cc1d66_9411_11eb_af22_f40f243a1dcarow36_col1\" class=\"data row36 col1\" >False</td>\n",
       "            </tr>\n",
       "            <tr>\n",
       "                        <th id=\"T_59cc1d66_9411_11eb_af22_f40f243a1dcalevel0_row37\" class=\"row_heading level0 row37\" >37</th>\n",
       "                        <td id=\"T_59cc1d66_9411_11eb_af22_f40f243a1dcarow37_col0\" class=\"data row37 col0\" >Combine Rare Levels</td>\n",
       "                        <td id=\"T_59cc1d66_9411_11eb_af22_f40f243a1dcarow37_col1\" class=\"data row37 col1\" >False</td>\n",
       "            </tr>\n",
       "            <tr>\n",
       "                        <th id=\"T_59cc1d66_9411_11eb_af22_f40f243a1dcalevel0_row38\" class=\"row_heading level0 row38\" >38</th>\n",
       "                        <td id=\"T_59cc1d66_9411_11eb_af22_f40f243a1dcarow38_col0\" class=\"data row38 col0\" >Rare Level Threshold</td>\n",
       "                        <td id=\"T_59cc1d66_9411_11eb_af22_f40f243a1dcarow38_col1\" class=\"data row38 col1\" >None</td>\n",
       "            </tr>\n",
       "            <tr>\n",
       "                        <th id=\"T_59cc1d66_9411_11eb_af22_f40f243a1dcalevel0_row39\" class=\"row_heading level0 row39\" >39</th>\n",
       "                        <td id=\"T_59cc1d66_9411_11eb_af22_f40f243a1dcarow39_col0\" class=\"data row39 col0\" >Numeric Binning</td>\n",
       "                        <td id=\"T_59cc1d66_9411_11eb_af22_f40f243a1dcarow39_col1\" class=\"data row39 col1\" >False</td>\n",
       "            </tr>\n",
       "            <tr>\n",
       "                        <th id=\"T_59cc1d66_9411_11eb_af22_f40f243a1dcalevel0_row40\" class=\"row_heading level0 row40\" >40</th>\n",
       "                        <td id=\"T_59cc1d66_9411_11eb_af22_f40f243a1dcarow40_col0\" class=\"data row40 col0\" >Remove Outliers</td>\n",
       "                        <td id=\"T_59cc1d66_9411_11eb_af22_f40f243a1dcarow40_col1\" class=\"data row40 col1\" >False</td>\n",
       "            </tr>\n",
       "            <tr>\n",
       "                        <th id=\"T_59cc1d66_9411_11eb_af22_f40f243a1dcalevel0_row41\" class=\"row_heading level0 row41\" >41</th>\n",
       "                        <td id=\"T_59cc1d66_9411_11eb_af22_f40f243a1dcarow41_col0\" class=\"data row41 col0\" >Outliers Threshold</td>\n",
       "                        <td id=\"T_59cc1d66_9411_11eb_af22_f40f243a1dcarow41_col1\" class=\"data row41 col1\" >None</td>\n",
       "            </tr>\n",
       "            <tr>\n",
       "                        <th id=\"T_59cc1d66_9411_11eb_af22_f40f243a1dcalevel0_row42\" class=\"row_heading level0 row42\" >42</th>\n",
       "                        <td id=\"T_59cc1d66_9411_11eb_af22_f40f243a1dcarow42_col0\" class=\"data row42 col0\" >Remove Multicollinearity</td>\n",
       "                        <td id=\"T_59cc1d66_9411_11eb_af22_f40f243a1dcarow42_col1\" class=\"data row42 col1\" >False</td>\n",
       "            </tr>\n",
       "            <tr>\n",
       "                        <th id=\"T_59cc1d66_9411_11eb_af22_f40f243a1dcalevel0_row43\" class=\"row_heading level0 row43\" >43</th>\n",
       "                        <td id=\"T_59cc1d66_9411_11eb_af22_f40f243a1dcarow43_col0\" class=\"data row43 col0\" >Multicollinearity Threshold</td>\n",
       "                        <td id=\"T_59cc1d66_9411_11eb_af22_f40f243a1dcarow43_col1\" class=\"data row43 col1\" >None</td>\n",
       "            </tr>\n",
       "            <tr>\n",
       "                        <th id=\"T_59cc1d66_9411_11eb_af22_f40f243a1dcalevel0_row44\" class=\"row_heading level0 row44\" >44</th>\n",
       "                        <td id=\"T_59cc1d66_9411_11eb_af22_f40f243a1dcarow44_col0\" class=\"data row44 col0\" >Clustering</td>\n",
       "                        <td id=\"T_59cc1d66_9411_11eb_af22_f40f243a1dcarow44_col1\" class=\"data row44 col1\" >False</td>\n",
       "            </tr>\n",
       "            <tr>\n",
       "                        <th id=\"T_59cc1d66_9411_11eb_af22_f40f243a1dcalevel0_row45\" class=\"row_heading level0 row45\" >45</th>\n",
       "                        <td id=\"T_59cc1d66_9411_11eb_af22_f40f243a1dcarow45_col0\" class=\"data row45 col0\" >Clustering Iteration</td>\n",
       "                        <td id=\"T_59cc1d66_9411_11eb_af22_f40f243a1dcarow45_col1\" class=\"data row45 col1\" >None</td>\n",
       "            </tr>\n",
       "            <tr>\n",
       "                        <th id=\"T_59cc1d66_9411_11eb_af22_f40f243a1dcalevel0_row46\" class=\"row_heading level0 row46\" >46</th>\n",
       "                        <td id=\"T_59cc1d66_9411_11eb_af22_f40f243a1dcarow46_col0\" class=\"data row46 col0\" >Polynomial Features</td>\n",
       "                        <td id=\"T_59cc1d66_9411_11eb_af22_f40f243a1dcarow46_col1\" class=\"data row46 col1\" >False</td>\n",
       "            </tr>\n",
       "            <tr>\n",
       "                        <th id=\"T_59cc1d66_9411_11eb_af22_f40f243a1dcalevel0_row47\" class=\"row_heading level0 row47\" >47</th>\n",
       "                        <td id=\"T_59cc1d66_9411_11eb_af22_f40f243a1dcarow47_col0\" class=\"data row47 col0\" >Polynomial Degree</td>\n",
       "                        <td id=\"T_59cc1d66_9411_11eb_af22_f40f243a1dcarow47_col1\" class=\"data row47 col1\" >None</td>\n",
       "            </tr>\n",
       "            <tr>\n",
       "                        <th id=\"T_59cc1d66_9411_11eb_af22_f40f243a1dcalevel0_row48\" class=\"row_heading level0 row48\" >48</th>\n",
       "                        <td id=\"T_59cc1d66_9411_11eb_af22_f40f243a1dcarow48_col0\" class=\"data row48 col0\" >Trignometry Features</td>\n",
       "                        <td id=\"T_59cc1d66_9411_11eb_af22_f40f243a1dcarow48_col1\" class=\"data row48 col1\" >False</td>\n",
       "            </tr>\n",
       "            <tr>\n",
       "                        <th id=\"T_59cc1d66_9411_11eb_af22_f40f243a1dcalevel0_row49\" class=\"row_heading level0 row49\" >49</th>\n",
       "                        <td id=\"T_59cc1d66_9411_11eb_af22_f40f243a1dcarow49_col0\" class=\"data row49 col0\" >Polynomial Threshold</td>\n",
       "                        <td id=\"T_59cc1d66_9411_11eb_af22_f40f243a1dcarow49_col1\" class=\"data row49 col1\" >None</td>\n",
       "            </tr>\n",
       "            <tr>\n",
       "                        <th id=\"T_59cc1d66_9411_11eb_af22_f40f243a1dcalevel0_row50\" class=\"row_heading level0 row50\" >50</th>\n",
       "                        <td id=\"T_59cc1d66_9411_11eb_af22_f40f243a1dcarow50_col0\" class=\"data row50 col0\" >Group Features</td>\n",
       "                        <td id=\"T_59cc1d66_9411_11eb_af22_f40f243a1dcarow50_col1\" class=\"data row50 col1\" >False</td>\n",
       "            </tr>\n",
       "            <tr>\n",
       "                        <th id=\"T_59cc1d66_9411_11eb_af22_f40f243a1dcalevel0_row51\" class=\"row_heading level0 row51\" >51</th>\n",
       "                        <td id=\"T_59cc1d66_9411_11eb_af22_f40f243a1dcarow51_col0\" class=\"data row51 col0\" >Feature Selection</td>\n",
       "                        <td id=\"T_59cc1d66_9411_11eb_af22_f40f243a1dcarow51_col1\" class=\"data row51 col1\" >False</td>\n",
       "            </tr>\n",
       "            <tr>\n",
       "                        <th id=\"T_59cc1d66_9411_11eb_af22_f40f243a1dcalevel0_row52\" class=\"row_heading level0 row52\" >52</th>\n",
       "                        <td id=\"T_59cc1d66_9411_11eb_af22_f40f243a1dcarow52_col0\" class=\"data row52 col0\" >Feature Selection Method</td>\n",
       "                        <td id=\"T_59cc1d66_9411_11eb_af22_f40f243a1dcarow52_col1\" class=\"data row52 col1\" >classic</td>\n",
       "            </tr>\n",
       "            <tr>\n",
       "                        <th id=\"T_59cc1d66_9411_11eb_af22_f40f243a1dcalevel0_row53\" class=\"row_heading level0 row53\" >53</th>\n",
       "                        <td id=\"T_59cc1d66_9411_11eb_af22_f40f243a1dcarow53_col0\" class=\"data row53 col0\" >Features Selection Threshold</td>\n",
       "                        <td id=\"T_59cc1d66_9411_11eb_af22_f40f243a1dcarow53_col1\" class=\"data row53 col1\" >None</td>\n",
       "            </tr>\n",
       "            <tr>\n",
       "                        <th id=\"T_59cc1d66_9411_11eb_af22_f40f243a1dcalevel0_row54\" class=\"row_heading level0 row54\" >54</th>\n",
       "                        <td id=\"T_59cc1d66_9411_11eb_af22_f40f243a1dcarow54_col0\" class=\"data row54 col0\" >Feature Interaction</td>\n",
       "                        <td id=\"T_59cc1d66_9411_11eb_af22_f40f243a1dcarow54_col1\" class=\"data row54 col1\" >False</td>\n",
       "            </tr>\n",
       "            <tr>\n",
       "                        <th id=\"T_59cc1d66_9411_11eb_af22_f40f243a1dcalevel0_row55\" class=\"row_heading level0 row55\" >55</th>\n",
       "                        <td id=\"T_59cc1d66_9411_11eb_af22_f40f243a1dcarow55_col0\" class=\"data row55 col0\" >Feature Ratio</td>\n",
       "                        <td id=\"T_59cc1d66_9411_11eb_af22_f40f243a1dcarow55_col1\" class=\"data row55 col1\" >False</td>\n",
       "            </tr>\n",
       "            <tr>\n",
       "                        <th id=\"T_59cc1d66_9411_11eb_af22_f40f243a1dcalevel0_row56\" class=\"row_heading level0 row56\" >56</th>\n",
       "                        <td id=\"T_59cc1d66_9411_11eb_af22_f40f243a1dcarow56_col0\" class=\"data row56 col0\" >Interaction Threshold</td>\n",
       "                        <td id=\"T_59cc1d66_9411_11eb_af22_f40f243a1dcarow56_col1\" class=\"data row56 col1\" >None</td>\n",
       "            </tr>\n",
       "            <tr>\n",
       "                        <th id=\"T_59cc1d66_9411_11eb_af22_f40f243a1dcalevel0_row57\" class=\"row_heading level0 row57\" >57</th>\n",
       "                        <td id=\"T_59cc1d66_9411_11eb_af22_f40f243a1dcarow57_col0\" class=\"data row57 col0\" >Fix Imbalance</td>\n",
       "                        <td id=\"T_59cc1d66_9411_11eb_af22_f40f243a1dcarow57_col1\" class=\"data row57 col1\" >False</td>\n",
       "            </tr>\n",
       "            <tr>\n",
       "                        <th id=\"T_59cc1d66_9411_11eb_af22_f40f243a1dcalevel0_row58\" class=\"row_heading level0 row58\" >58</th>\n",
       "                        <td id=\"T_59cc1d66_9411_11eb_af22_f40f243a1dcarow58_col0\" class=\"data row58 col0\" >Fix Imbalance Method</td>\n",
       "                        <td id=\"T_59cc1d66_9411_11eb_af22_f40f243a1dcarow58_col1\" class=\"data row58 col1\" >SMOTE</td>\n",
       "            </tr>\n",
       "    </tbody></table>"
      ],
      "text/plain": [
       "<pandas.io.formats.style.Styler at 0x7faf03b2f5f8>"
      ]
     },
     "metadata": {},
     "output_type": "display_data"
    }
   ],
   "source": [
    "\n",
    "from pycaret.classification import *\n",
    "clf1 = setup(data, target = 'Survived', session_id=123, log_experiment=True, experiment_name='survived1')"
   ]
  },
  {
   "cell_type": "code",
   "execution_count": 12,
   "metadata": {
    "ExecuteTime": {
     "end_time": "2021-04-03T00:14:14.670138Z",
     "start_time": "2021-04-03T00:13:27.686913Z"
    }
   },
   "outputs": [
    {
     "data": {
      "text/html": [
       "<style  type=\"text/css\" >\n",
       "    #T_85e1d83a_9411_11eb_8b4a_f40f243a1dca th {\n",
       "          text-align: left;\n",
       "    }#T_85e1d83a_9411_11eb_8b4a_f40f243a1dcarow0_col0,#T_85e1d83a_9411_11eb_8b4a_f40f243a1dcarow0_col2,#T_85e1d83a_9411_11eb_8b4a_f40f243a1dcarow0_col3,#T_85e1d83a_9411_11eb_8b4a_f40f243a1dcarow0_col4,#T_85e1d83a_9411_11eb_8b4a_f40f243a1dcarow0_col5,#T_85e1d83a_9411_11eb_8b4a_f40f243a1dcarow0_col6,#T_85e1d83a_9411_11eb_8b4a_f40f243a1dcarow0_col7,#T_85e1d83a_9411_11eb_8b4a_f40f243a1dcarow1_col0,#T_85e1d83a_9411_11eb_8b4a_f40f243a1dcarow1_col2,#T_85e1d83a_9411_11eb_8b4a_f40f243a1dcarow1_col3,#T_85e1d83a_9411_11eb_8b4a_f40f243a1dcarow1_col5,#T_85e1d83a_9411_11eb_8b4a_f40f243a1dcarow1_col6,#T_85e1d83a_9411_11eb_8b4a_f40f243a1dcarow1_col7,#T_85e1d83a_9411_11eb_8b4a_f40f243a1dcarow2_col0,#T_85e1d83a_9411_11eb_8b4a_f40f243a1dcarow2_col1,#T_85e1d83a_9411_11eb_8b4a_f40f243a1dcarow2_col2,#T_85e1d83a_9411_11eb_8b4a_f40f243a1dcarow2_col3,#T_85e1d83a_9411_11eb_8b4a_f40f243a1dcarow2_col4,#T_85e1d83a_9411_11eb_8b4a_f40f243a1dcarow2_col5,#T_85e1d83a_9411_11eb_8b4a_f40f243a1dcarow2_col6,#T_85e1d83a_9411_11eb_8b4a_f40f243a1dcarow2_col7,#T_85e1d83a_9411_11eb_8b4a_f40f243a1dcarow3_col0,#T_85e1d83a_9411_11eb_8b4a_f40f243a1dcarow3_col1,#T_85e1d83a_9411_11eb_8b4a_f40f243a1dcarow3_col2,#T_85e1d83a_9411_11eb_8b4a_f40f243a1dcarow3_col3,#T_85e1d83a_9411_11eb_8b4a_f40f243a1dcarow3_col4,#T_85e1d83a_9411_11eb_8b4a_f40f243a1dcarow4_col0,#T_85e1d83a_9411_11eb_8b4a_f40f243a1dcarow4_col1,#T_85e1d83a_9411_11eb_8b4a_f40f243a1dcarow4_col2,#T_85e1d83a_9411_11eb_8b4a_f40f243a1dcarow4_col3,#T_85e1d83a_9411_11eb_8b4a_f40f243a1dcarow4_col4,#T_85e1d83a_9411_11eb_8b4a_f40f243a1dcarow4_col5,#T_85e1d83a_9411_11eb_8b4a_f40f243a1dcarow4_col6,#T_85e1d83a_9411_11eb_8b4a_f40f243a1dcarow4_col7,#T_85e1d83a_9411_11eb_8b4a_f40f243a1dcarow5_col0,#T_85e1d83a_9411_11eb_8b4a_f40f243a1dcarow5_col1,#T_85e1d83a_9411_11eb_8b4a_f40f243a1dcarow5_col2,#T_85e1d83a_9411_11eb_8b4a_f40f243a1dcarow5_col3,#T_85e1d83a_9411_11eb_8b4a_f40f243a1dcarow5_col4,#T_85e1d83a_9411_11eb_8b4a_f40f243a1dcarow5_col5,#T_85e1d83a_9411_11eb_8b4a_f40f243a1dcarow5_col6,#T_85e1d83a_9411_11eb_8b4a_f40f243a1dcarow5_col7,#T_85e1d83a_9411_11eb_8b4a_f40f243a1dcarow6_col0,#T_85e1d83a_9411_11eb_8b4a_f40f243a1dcarow6_col1,#T_85e1d83a_9411_11eb_8b4a_f40f243a1dcarow6_col3,#T_85e1d83a_9411_11eb_8b4a_f40f243a1dcarow6_col4,#T_85e1d83a_9411_11eb_8b4a_f40f243a1dcarow6_col5,#T_85e1d83a_9411_11eb_8b4a_f40f243a1dcarow6_col6,#T_85e1d83a_9411_11eb_8b4a_f40f243a1dcarow6_col7,#T_85e1d83a_9411_11eb_8b4a_f40f243a1dcarow7_col0,#T_85e1d83a_9411_11eb_8b4a_f40f243a1dcarow7_col1,#T_85e1d83a_9411_11eb_8b4a_f40f243a1dcarow7_col2,#T_85e1d83a_9411_11eb_8b4a_f40f243a1dcarow7_col3,#T_85e1d83a_9411_11eb_8b4a_f40f243a1dcarow7_col4,#T_85e1d83a_9411_11eb_8b4a_f40f243a1dcarow7_col5,#T_85e1d83a_9411_11eb_8b4a_f40f243a1dcarow7_col6,#T_85e1d83a_9411_11eb_8b4a_f40f243a1dcarow7_col7,#T_85e1d83a_9411_11eb_8b4a_f40f243a1dcarow8_col0,#T_85e1d83a_9411_11eb_8b4a_f40f243a1dcarow8_col1,#T_85e1d83a_9411_11eb_8b4a_f40f243a1dcarow8_col2,#T_85e1d83a_9411_11eb_8b4a_f40f243a1dcarow8_col3,#T_85e1d83a_9411_11eb_8b4a_f40f243a1dcarow8_col4,#T_85e1d83a_9411_11eb_8b4a_f40f243a1dcarow8_col5,#T_85e1d83a_9411_11eb_8b4a_f40f243a1dcarow8_col6,#T_85e1d83a_9411_11eb_8b4a_f40f243a1dcarow8_col7,#T_85e1d83a_9411_11eb_8b4a_f40f243a1dcarow9_col0,#T_85e1d83a_9411_11eb_8b4a_f40f243a1dcarow9_col1,#T_85e1d83a_9411_11eb_8b4a_f40f243a1dcarow9_col2,#T_85e1d83a_9411_11eb_8b4a_f40f243a1dcarow9_col3,#T_85e1d83a_9411_11eb_8b4a_f40f243a1dcarow9_col4,#T_85e1d83a_9411_11eb_8b4a_f40f243a1dcarow9_col5,#T_85e1d83a_9411_11eb_8b4a_f40f243a1dcarow9_col6,#T_85e1d83a_9411_11eb_8b4a_f40f243a1dcarow9_col7,#T_85e1d83a_9411_11eb_8b4a_f40f243a1dcarow10_col0,#T_85e1d83a_9411_11eb_8b4a_f40f243a1dcarow10_col1,#T_85e1d83a_9411_11eb_8b4a_f40f243a1dcarow10_col2,#T_85e1d83a_9411_11eb_8b4a_f40f243a1dcarow10_col3,#T_85e1d83a_9411_11eb_8b4a_f40f243a1dcarow10_col4,#T_85e1d83a_9411_11eb_8b4a_f40f243a1dcarow10_col5,#T_85e1d83a_9411_11eb_8b4a_f40f243a1dcarow10_col6,#T_85e1d83a_9411_11eb_8b4a_f40f243a1dcarow10_col7,#T_85e1d83a_9411_11eb_8b4a_f40f243a1dcarow11_col0,#T_85e1d83a_9411_11eb_8b4a_f40f243a1dcarow11_col1,#T_85e1d83a_9411_11eb_8b4a_f40f243a1dcarow11_col2,#T_85e1d83a_9411_11eb_8b4a_f40f243a1dcarow11_col3,#T_85e1d83a_9411_11eb_8b4a_f40f243a1dcarow11_col4,#T_85e1d83a_9411_11eb_8b4a_f40f243a1dcarow11_col5,#T_85e1d83a_9411_11eb_8b4a_f40f243a1dcarow11_col6,#T_85e1d83a_9411_11eb_8b4a_f40f243a1dcarow11_col7,#T_85e1d83a_9411_11eb_8b4a_f40f243a1dcarow12_col0,#T_85e1d83a_9411_11eb_8b4a_f40f243a1dcarow12_col1,#T_85e1d83a_9411_11eb_8b4a_f40f243a1dcarow12_col2,#T_85e1d83a_9411_11eb_8b4a_f40f243a1dcarow12_col3,#T_85e1d83a_9411_11eb_8b4a_f40f243a1dcarow12_col4,#T_85e1d83a_9411_11eb_8b4a_f40f243a1dcarow12_col5,#T_85e1d83a_9411_11eb_8b4a_f40f243a1dcarow12_col6,#T_85e1d83a_9411_11eb_8b4a_f40f243a1dcarow12_col7,#T_85e1d83a_9411_11eb_8b4a_f40f243a1dcarow13_col0,#T_85e1d83a_9411_11eb_8b4a_f40f243a1dcarow13_col1,#T_85e1d83a_9411_11eb_8b4a_f40f243a1dcarow13_col2,#T_85e1d83a_9411_11eb_8b4a_f40f243a1dcarow13_col4,#T_85e1d83a_9411_11eb_8b4a_f40f243a1dcarow13_col5,#T_85e1d83a_9411_11eb_8b4a_f40f243a1dcarow13_col6,#T_85e1d83a_9411_11eb_8b4a_f40f243a1dcarow13_col7,#T_85e1d83a_9411_11eb_8b4a_f40f243a1dcarow14_col0,#T_85e1d83a_9411_11eb_8b4a_f40f243a1dcarow14_col1,#T_85e1d83a_9411_11eb_8b4a_f40f243a1dcarow14_col2,#T_85e1d83a_9411_11eb_8b4a_f40f243a1dcarow14_col3,#T_85e1d83a_9411_11eb_8b4a_f40f243a1dcarow14_col4,#T_85e1d83a_9411_11eb_8b4a_f40f243a1dcarow14_col5,#T_85e1d83a_9411_11eb_8b4a_f40f243a1dcarow14_col6,#T_85e1d83a_9411_11eb_8b4a_f40f243a1dcarow14_col7{\n",
       "            text-align:  left;\n",
       "            text-align:  left;\n",
       "        }#T_85e1d83a_9411_11eb_8b4a_f40f243a1dcarow0_col1,#T_85e1d83a_9411_11eb_8b4a_f40f243a1dcarow1_col1,#T_85e1d83a_9411_11eb_8b4a_f40f243a1dcarow1_col4,#T_85e1d83a_9411_11eb_8b4a_f40f243a1dcarow3_col5,#T_85e1d83a_9411_11eb_8b4a_f40f243a1dcarow3_col6,#T_85e1d83a_9411_11eb_8b4a_f40f243a1dcarow3_col7,#T_85e1d83a_9411_11eb_8b4a_f40f243a1dcarow6_col2,#T_85e1d83a_9411_11eb_8b4a_f40f243a1dcarow13_col3{\n",
       "            text-align:  left;\n",
       "            text-align:  left;\n",
       "            background-color:  yellow;\n",
       "        }#T_85e1d83a_9411_11eb_8b4a_f40f243a1dcarow0_col8,#T_85e1d83a_9411_11eb_8b4a_f40f243a1dcarow1_col8,#T_85e1d83a_9411_11eb_8b4a_f40f243a1dcarow2_col8,#T_85e1d83a_9411_11eb_8b4a_f40f243a1dcarow3_col8,#T_85e1d83a_9411_11eb_8b4a_f40f243a1dcarow5_col8,#T_85e1d83a_9411_11eb_8b4a_f40f243a1dcarow6_col8,#T_85e1d83a_9411_11eb_8b4a_f40f243a1dcarow7_col8,#T_85e1d83a_9411_11eb_8b4a_f40f243a1dcarow8_col8,#T_85e1d83a_9411_11eb_8b4a_f40f243a1dcarow9_col8,#T_85e1d83a_9411_11eb_8b4a_f40f243a1dcarow10_col8,#T_85e1d83a_9411_11eb_8b4a_f40f243a1dcarow11_col8,#T_85e1d83a_9411_11eb_8b4a_f40f243a1dcarow12_col8,#T_85e1d83a_9411_11eb_8b4a_f40f243a1dcarow13_col8,#T_85e1d83a_9411_11eb_8b4a_f40f243a1dcarow14_col8{\n",
       "            text-align:  left;\n",
       "            text-align:  left;\n",
       "            background-color:  lightgrey;\n",
       "        }#T_85e1d83a_9411_11eb_8b4a_f40f243a1dcarow4_col8{\n",
       "            text-align:  left;\n",
       "            text-align:  left;\n",
       "            background-color:  yellow;\n",
       "            background-color:  lightgrey;\n",
       "        }</style><table id=\"T_85e1d83a_9411_11eb_8b4a_f40f243a1dca\" ><thead>    <tr>        <th class=\"blank level0\" ></th>        <th class=\"col_heading level0 col0\" >Model</th>        <th class=\"col_heading level0 col1\" >Accuracy</th>        <th class=\"col_heading level0 col2\" >AUC</th>        <th class=\"col_heading level0 col3\" >Recall</th>        <th class=\"col_heading level0 col4\" >Prec.</th>        <th class=\"col_heading level0 col5\" >F1</th>        <th class=\"col_heading level0 col6\" >Kappa</th>        <th class=\"col_heading level0 col7\" >MCC</th>        <th class=\"col_heading level0 col8\" >TT (Sec)</th>    </tr></thead><tbody>\n",
       "                <tr>\n",
       "                        <th id=\"T_85e1d83a_9411_11eb_8b4a_f40f243a1dcalevel0_row0\" class=\"row_heading level0 row0\" >gbc</th>\n",
       "                        <td id=\"T_85e1d83a_9411_11eb_8b4a_f40f243a1dcarow0_col0\" class=\"data row0 col0\" >Gradient Boosting Classifier</td>\n",
       "                        <td id=\"T_85e1d83a_9411_11eb_8b4a_f40f243a1dcarow0_col1\" class=\"data row0 col1\" >0.8154</td>\n",
       "                        <td id=\"T_85e1d83a_9411_11eb_8b4a_f40f243a1dcarow0_col2\" class=\"data row0 col2\" >0.8575</td>\n",
       "                        <td id=\"T_85e1d83a_9411_11eb_8b4a_f40f243a1dcarow0_col3\" class=\"data row0 col3\" >0.6923</td>\n",
       "                        <td id=\"T_85e1d83a_9411_11eb_8b4a_f40f243a1dcarow0_col4\" class=\"data row0 col4\" >0.8140</td>\n",
       "                        <td id=\"T_85e1d83a_9411_11eb_8b4a_f40f243a1dcarow0_col5\" class=\"data row0 col5\" >0.7470</td>\n",
       "                        <td id=\"T_85e1d83a_9411_11eb_8b4a_f40f243a1dcarow0_col6\" class=\"data row0 col6\" >0.6030</td>\n",
       "                        <td id=\"T_85e1d83a_9411_11eb_8b4a_f40f243a1dcarow0_col7\" class=\"data row0 col7\" >0.6091</td>\n",
       "                        <td id=\"T_85e1d83a_9411_11eb_8b4a_f40f243a1dcarow0_col8\" class=\"data row0 col8\" >0.1610</td>\n",
       "            </tr>\n",
       "            <tr>\n",
       "                        <th id=\"T_85e1d83a_9411_11eb_8b4a_f40f243a1dcalevel0_row1\" class=\"row_heading level0 row1\" >catboost</th>\n",
       "                        <td id=\"T_85e1d83a_9411_11eb_8b4a_f40f243a1dcarow1_col0\" class=\"data row1 col0\" >CatBoost Classifier</td>\n",
       "                        <td id=\"T_85e1d83a_9411_11eb_8b4a_f40f243a1dcarow1_col1\" class=\"data row1 col1\" >0.8154</td>\n",
       "                        <td id=\"T_85e1d83a_9411_11eb_8b4a_f40f243a1dcarow1_col2\" class=\"data row1 col2\" >0.8637</td>\n",
       "                        <td id=\"T_85e1d83a_9411_11eb_8b4a_f40f243a1dcarow1_col3\" class=\"data row1 col3\" >0.6557</td>\n",
       "                        <td id=\"T_85e1d83a_9411_11eb_8b4a_f40f243a1dcarow1_col4\" class=\"data row1 col4\" >0.8387</td>\n",
       "                        <td id=\"T_85e1d83a_9411_11eb_8b4a_f40f243a1dcarow1_col5\" class=\"data row1 col5\" >0.7354</td>\n",
       "                        <td id=\"T_85e1d83a_9411_11eb_8b4a_f40f243a1dcarow1_col6\" class=\"data row1 col6\" >0.5969</td>\n",
       "                        <td id=\"T_85e1d83a_9411_11eb_8b4a_f40f243a1dcarow1_col7\" class=\"data row1 col7\" >0.6080</td>\n",
       "                        <td id=\"T_85e1d83a_9411_11eb_8b4a_f40f243a1dcarow1_col8\" class=\"data row1 col8\" >1.5880</td>\n",
       "            </tr>\n",
       "            <tr>\n",
       "                        <th id=\"T_85e1d83a_9411_11eb_8b4a_f40f243a1dcalevel0_row2\" class=\"row_heading level0 row2\" >ridge</th>\n",
       "                        <td id=\"T_85e1d83a_9411_11eb_8b4a_f40f243a1dcarow2_col0\" class=\"data row2 col0\" >Ridge Classifier</td>\n",
       "                        <td id=\"T_85e1d83a_9411_11eb_8b4a_f40f243a1dcarow2_col1\" class=\"data row2 col1\" >0.8139</td>\n",
       "                        <td id=\"T_85e1d83a_9411_11eb_8b4a_f40f243a1dcarow2_col2\" class=\"data row2 col2\" >0.0000</td>\n",
       "                        <td id=\"T_85e1d83a_9411_11eb_8b4a_f40f243a1dcarow2_col3\" class=\"data row2 col3\" >0.7462</td>\n",
       "                        <td id=\"T_85e1d83a_9411_11eb_8b4a_f40f243a1dcarow2_col4\" class=\"data row2 col4\" >0.7727</td>\n",
       "                        <td id=\"T_85e1d83a_9411_11eb_8b4a_f40f243a1dcarow2_col5\" class=\"data row2 col5\" >0.7587</td>\n",
       "                        <td id=\"T_85e1d83a_9411_11eb_8b4a_f40f243a1dcarow2_col6\" class=\"data row2 col6\" >0.6072</td>\n",
       "                        <td id=\"T_85e1d83a_9411_11eb_8b4a_f40f243a1dcarow2_col7\" class=\"data row2 col7\" >0.6080</td>\n",
       "                        <td id=\"T_85e1d83a_9411_11eb_8b4a_f40f243a1dcarow2_col8\" class=\"data row2 col8\" >0.0360</td>\n",
       "            </tr>\n",
       "            <tr>\n",
       "                        <th id=\"T_85e1d83a_9411_11eb_8b4a_f40f243a1dcalevel0_row3\" class=\"row_heading level0 row3\" >lr</th>\n",
       "                        <td id=\"T_85e1d83a_9411_11eb_8b4a_f40f243a1dcarow3_col0\" class=\"data row3 col0\" >Logistic Regression</td>\n",
       "                        <td id=\"T_85e1d83a_9411_11eb_8b4a_f40f243a1dcarow3_col1\" class=\"data row3 col1\" >0.8138</td>\n",
       "                        <td id=\"T_85e1d83a_9411_11eb_8b4a_f40f243a1dcarow3_col2\" class=\"data row3 col2\" >0.8587</td>\n",
       "                        <td id=\"T_85e1d83a_9411_11eb_8b4a_f40f243a1dcarow3_col3\" class=\"data row3 col3\" >0.7538</td>\n",
       "                        <td id=\"T_85e1d83a_9411_11eb_8b4a_f40f243a1dcarow3_col4\" class=\"data row3 col4\" >0.7701</td>\n",
       "                        <td id=\"T_85e1d83a_9411_11eb_8b4a_f40f243a1dcarow3_col5\" class=\"data row3 col5\" >0.7608</td>\n",
       "                        <td id=\"T_85e1d83a_9411_11eb_8b4a_f40f243a1dcarow3_col6\" class=\"data row3 col6\" >0.6084</td>\n",
       "                        <td id=\"T_85e1d83a_9411_11eb_8b4a_f40f243a1dcarow3_col7\" class=\"data row3 col7\" >0.6096</td>\n",
       "                        <td id=\"T_85e1d83a_9411_11eb_8b4a_f40f243a1dcarow3_col8\" class=\"data row3 col8\" >0.8650</td>\n",
       "            </tr>\n",
       "            <tr>\n",
       "                        <th id=\"T_85e1d83a_9411_11eb_8b4a_f40f243a1dcalevel0_row4\" class=\"row_heading level0 row4\" >dt</th>\n",
       "                        <td id=\"T_85e1d83a_9411_11eb_8b4a_f40f243a1dcarow4_col0\" class=\"data row4 col0\" >Decision Tree Classifier</td>\n",
       "                        <td id=\"T_85e1d83a_9411_11eb_8b4a_f40f243a1dcarow4_col1\" class=\"data row4 col1\" >0.8090</td>\n",
       "                        <td id=\"T_85e1d83a_9411_11eb_8b4a_f40f243a1dcarow4_col2\" class=\"data row4 col2\" >0.7976</td>\n",
       "                        <td id=\"T_85e1d83a_9411_11eb_8b4a_f40f243a1dcarow4_col3\" class=\"data row4 col3\" >0.7457</td>\n",
       "                        <td id=\"T_85e1d83a_9411_11eb_8b4a_f40f243a1dcarow4_col4\" class=\"data row4 col4\" >0.7660</td>\n",
       "                        <td id=\"T_85e1d83a_9411_11eb_8b4a_f40f243a1dcarow4_col5\" class=\"data row4 col5\" >0.7537</td>\n",
       "                        <td id=\"T_85e1d83a_9411_11eb_8b4a_f40f243a1dcarow4_col6\" class=\"data row4 col6\" >0.5979</td>\n",
       "                        <td id=\"T_85e1d83a_9411_11eb_8b4a_f40f243a1dcarow4_col7\" class=\"data row4 col7\" >0.6000</td>\n",
       "                        <td id=\"T_85e1d83a_9411_11eb_8b4a_f40f243a1dcarow4_col8\" class=\"data row4 col8\" >0.0330</td>\n",
       "            </tr>\n",
       "            <tr>\n",
       "                        <th id=\"T_85e1d83a_9411_11eb_8b4a_f40f243a1dcalevel0_row5\" class=\"row_heading level0 row5\" >ada</th>\n",
       "                        <td id=\"T_85e1d83a_9411_11eb_8b4a_f40f243a1dcarow5_col0\" class=\"data row5 col0\" >Ada Boost Classifier</td>\n",
       "                        <td id=\"T_85e1d83a_9411_11eb_8b4a_f40f243a1dcarow5_col1\" class=\"data row5 col1\" >0.8042</td>\n",
       "                        <td id=\"T_85e1d83a_9411_11eb_8b4a_f40f243a1dcarow5_col2\" class=\"data row5 col2\" >0.8458</td>\n",
       "                        <td id=\"T_85e1d83a_9411_11eb_8b4a_f40f243a1dcarow5_col3\" class=\"data row5 col3\" >0.7130</td>\n",
       "                        <td id=\"T_85e1d83a_9411_11eb_8b4a_f40f243a1dcarow5_col4\" class=\"data row5 col4\" >0.7762</td>\n",
       "                        <td id=\"T_85e1d83a_9411_11eb_8b4a_f40f243a1dcarow5_col5\" class=\"data row5 col5\" >0.7407</td>\n",
       "                        <td id=\"T_85e1d83a_9411_11eb_8b4a_f40f243a1dcarow5_col6\" class=\"data row5 col6\" >0.5838</td>\n",
       "                        <td id=\"T_85e1d83a_9411_11eb_8b4a_f40f243a1dcarow5_col7\" class=\"data row5 col7\" >0.5876</td>\n",
       "                        <td id=\"T_85e1d83a_9411_11eb_8b4a_f40f243a1dcarow5_col8\" class=\"data row5 col8\" >0.1040</td>\n",
       "            </tr>\n",
       "            <tr>\n",
       "                        <th id=\"T_85e1d83a_9411_11eb_8b4a_f40f243a1dcalevel0_row6\" class=\"row_heading level0 row6\" >rf</th>\n",
       "                        <td id=\"T_85e1d83a_9411_11eb_8b4a_f40f243a1dcarow6_col0\" class=\"data row6 col0\" >Random Forest Classifier</td>\n",
       "                        <td id=\"T_85e1d83a_9411_11eb_8b4a_f40f243a1dcarow6_col1\" class=\"data row6 col1\" >0.7994</td>\n",
       "                        <td id=\"T_85e1d83a_9411_11eb_8b4a_f40f243a1dcarow6_col2\" class=\"data row6 col2\" >0.8653</td>\n",
       "                        <td id=\"T_85e1d83a_9411_11eb_8b4a_f40f243a1dcarow6_col3\" class=\"data row6 col3\" >0.6763</td>\n",
       "                        <td id=\"T_85e1d83a_9411_11eb_8b4a_f40f243a1dcarow6_col4\" class=\"data row6 col4\" >0.7829</td>\n",
       "                        <td id=\"T_85e1d83a_9411_11eb_8b4a_f40f243a1dcarow6_col5\" class=\"data row6 col5\" >0.7241</td>\n",
       "                        <td id=\"T_85e1d83a_9411_11eb_8b4a_f40f243a1dcarow6_col6\" class=\"data row6 col6\" >0.5681</td>\n",
       "                        <td id=\"T_85e1d83a_9411_11eb_8b4a_f40f243a1dcarow6_col7\" class=\"data row6 col7\" >0.5731</td>\n",
       "                        <td id=\"T_85e1d83a_9411_11eb_8b4a_f40f243a1dcarow6_col8\" class=\"data row6 col8\" >0.2560</td>\n",
       "            </tr>\n",
       "            <tr>\n",
       "                        <th id=\"T_85e1d83a_9411_11eb_8b4a_f40f243a1dcalevel0_row7\" class=\"row_heading level0 row7\" >et</th>\n",
       "                        <td id=\"T_85e1d83a_9411_11eb_8b4a_f40f243a1dcarow7_col0\" class=\"data row7 col0\" >Extra Trees Classifier</td>\n",
       "                        <td id=\"T_85e1d83a_9411_11eb_8b4a_f40f243a1dcarow7_col1\" class=\"data row7 col1\" >0.7978</td>\n",
       "                        <td id=\"T_85e1d83a_9411_11eb_8b4a_f40f243a1dcarow7_col2\" class=\"data row7 col2\" >0.8589</td>\n",
       "                        <td id=\"T_85e1d83a_9411_11eb_8b4a_f40f243a1dcarow7_col3\" class=\"data row7 col3\" >0.6890</td>\n",
       "                        <td id=\"T_85e1d83a_9411_11eb_8b4a_f40f243a1dcarow7_col4\" class=\"data row7 col4\" >0.7697</td>\n",
       "                        <td id=\"T_85e1d83a_9411_11eb_8b4a_f40f243a1dcarow7_col5\" class=\"data row7 col5\" >0.7252</td>\n",
       "                        <td id=\"T_85e1d83a_9411_11eb_8b4a_f40f243a1dcarow7_col6\" class=\"data row7 col6\" >0.5666</td>\n",
       "                        <td id=\"T_85e1d83a_9411_11eb_8b4a_f40f243a1dcarow7_col7\" class=\"data row7 col7\" >0.5703</td>\n",
       "                        <td id=\"T_85e1d83a_9411_11eb_8b4a_f40f243a1dcarow7_col8\" class=\"data row7 col8\" >0.2340</td>\n",
       "            </tr>\n",
       "            <tr>\n",
       "                        <th id=\"T_85e1d83a_9411_11eb_8b4a_f40f243a1dcalevel0_row8\" class=\"row_heading level0 row8\" >lightgbm</th>\n",
       "                        <td id=\"T_85e1d83a_9411_11eb_8b4a_f40f243a1dcarow8_col0\" class=\"data row8 col0\" >Light Gradient Boosting Machine</td>\n",
       "                        <td id=\"T_85e1d83a_9411_11eb_8b4a_f40f243a1dcarow8_col1\" class=\"data row8 col1\" >0.7881</td>\n",
       "                        <td id=\"T_85e1d83a_9411_11eb_8b4a_f40f243a1dcarow8_col2\" class=\"data row8 col2\" >0.8487</td>\n",
       "                        <td id=\"T_85e1d83a_9411_11eb_8b4a_f40f243a1dcarow8_col3\" class=\"data row8 col3\" >0.6925</td>\n",
       "                        <td id=\"T_85e1d83a_9411_11eb_8b4a_f40f243a1dcarow8_col4\" class=\"data row8 col4\" >0.7540</td>\n",
       "                        <td id=\"T_85e1d83a_9411_11eb_8b4a_f40f243a1dcarow8_col5\" class=\"data row8 col5\" >0.7171</td>\n",
       "                        <td id=\"T_85e1d83a_9411_11eb_8b4a_f40f243a1dcarow8_col6\" class=\"data row8 col6\" >0.5489</td>\n",
       "                        <td id=\"T_85e1d83a_9411_11eb_8b4a_f40f243a1dcarow8_col7\" class=\"data row8 col7\" >0.5539</td>\n",
       "                        <td id=\"T_85e1d83a_9411_11eb_8b4a_f40f243a1dcarow8_col8\" class=\"data row8 col8\" >0.0560</td>\n",
       "            </tr>\n",
       "            <tr>\n",
       "                        <th id=\"T_85e1d83a_9411_11eb_8b4a_f40f243a1dcalevel0_row9\" class=\"row_heading level0 row9\" >knn</th>\n",
       "                        <td id=\"T_85e1d83a_9411_11eb_8b4a_f40f243a1dcarow9_col0\" class=\"data row9 col0\" >K Neighbors Classifier</td>\n",
       "                        <td id=\"T_85e1d83a_9411_11eb_8b4a_f40f243a1dcarow9_col1\" class=\"data row9 col1\" >0.6903</td>\n",
       "                        <td id=\"T_85e1d83a_9411_11eb_8b4a_f40f243a1dcarow9_col2\" class=\"data row9 col2\" >0.7274</td>\n",
       "                        <td id=\"T_85e1d83a_9411_11eb_8b4a_f40f243a1dcarow9_col3\" class=\"data row9 col3\" >0.5865</td>\n",
       "                        <td id=\"T_85e1d83a_9411_11eb_8b4a_f40f243a1dcarow9_col4\" class=\"data row9 col4\" >0.6123</td>\n",
       "                        <td id=\"T_85e1d83a_9411_11eb_8b4a_f40f243a1dcarow9_col5\" class=\"data row9 col5\" >0.5971</td>\n",
       "                        <td id=\"T_85e1d83a_9411_11eb_8b4a_f40f243a1dcarow9_col6\" class=\"data row9 col6\" >0.3463</td>\n",
       "                        <td id=\"T_85e1d83a_9411_11eb_8b4a_f40f243a1dcarow9_col7\" class=\"data row9 col7\" >0.3480</td>\n",
       "                        <td id=\"T_85e1d83a_9411_11eb_8b4a_f40f243a1dcarow9_col8\" class=\"data row9 col8\" >0.0770</td>\n",
       "            </tr>\n",
       "            <tr>\n",
       "                        <th id=\"T_85e1d83a_9411_11eb_8b4a_f40f243a1dcalevel0_row10\" class=\"row_heading level0 row10\" >svm</th>\n",
       "                        <td id=\"T_85e1d83a_9411_11eb_8b4a_f40f243a1dcarow10_col0\" class=\"data row10 col0\" >SVM - Linear Kernel</td>\n",
       "                        <td id=\"T_85e1d83a_9411_11eb_8b4a_f40f243a1dcarow10_col1\" class=\"data row10 col1\" >0.6371</td>\n",
       "                        <td id=\"T_85e1d83a_9411_11eb_8b4a_f40f243a1dcarow10_col2\" class=\"data row10 col2\" >0.0000</td>\n",
       "                        <td id=\"T_85e1d83a_9411_11eb_8b4a_f40f243a1dcarow10_col3\" class=\"data row10 col3\" >0.2770</td>\n",
       "                        <td id=\"T_85e1d83a_9411_11eb_8b4a_f40f243a1dcarow10_col4\" class=\"data row10 col4\" >0.5406</td>\n",
       "                        <td id=\"T_85e1d83a_9411_11eb_8b4a_f40f243a1dcarow10_col5\" class=\"data row10 col5\" >0.2670</td>\n",
       "                        <td id=\"T_85e1d83a_9411_11eb_8b4a_f40f243a1dcarow10_col6\" class=\"data row10 col6\" >0.1460</td>\n",
       "                        <td id=\"T_85e1d83a_9411_11eb_8b4a_f40f243a1dcarow10_col7\" class=\"data row10 col7\" >0.1918</td>\n",
       "                        <td id=\"T_85e1d83a_9411_11eb_8b4a_f40f243a1dcarow10_col8\" class=\"data row10 col8\" >0.0370</td>\n",
       "            </tr>\n",
       "            <tr>\n",
       "                        <th id=\"T_85e1d83a_9411_11eb_8b4a_f40f243a1dcalevel0_row11\" class=\"row_heading level0 row11\" >lda</th>\n",
       "                        <td id=\"T_85e1d83a_9411_11eb_8b4a_f40f243a1dcarow11_col0\" class=\"data row11 col0\" >Linear Discriminant Analysis</td>\n",
       "                        <td id=\"T_85e1d83a_9411_11eb_8b4a_f40f243a1dcarow11_col1\" class=\"data row11 col1\" >0.4993</td>\n",
       "                        <td id=\"T_85e1d83a_9411_11eb_8b4a_f40f243a1dcarow11_col2\" class=\"data row11 col2\" >0.5148</td>\n",
       "                        <td id=\"T_85e1d83a_9411_11eb_8b4a_f40f243a1dcarow11_col3\" class=\"data row11 col3\" >0.4758</td>\n",
       "                        <td id=\"T_85e1d83a_9411_11eb_8b4a_f40f243a1dcarow11_col4\" class=\"data row11 col4\" >0.3914</td>\n",
       "                        <td id=\"T_85e1d83a_9411_11eb_8b4a_f40f243a1dcarow11_col5\" class=\"data row11 col5\" >0.4275</td>\n",
       "                        <td id=\"T_85e1d83a_9411_11eb_8b4a_f40f243a1dcarow11_col6\" class=\"data row11 col6\" >-0.0079</td>\n",
       "                        <td id=\"T_85e1d83a_9411_11eb_8b4a_f40f243a1dcarow11_col7\" class=\"data row11 col7\" >-0.0090</td>\n",
       "                        <td id=\"T_85e1d83a_9411_11eb_8b4a_f40f243a1dcarow11_col8\" class=\"data row11 col8\" >0.1390</td>\n",
       "            </tr>\n",
       "            <tr>\n",
       "                        <th id=\"T_85e1d83a_9411_11eb_8b4a_f40f243a1dcalevel0_row12\" class=\"row_heading level0 row12\" >nb</th>\n",
       "                        <td id=\"T_85e1d83a_9411_11eb_8b4a_f40f243a1dcarow12_col0\" class=\"data row12 col0\" >Naive Bayes</td>\n",
       "                        <td id=\"T_85e1d83a_9411_11eb_8b4a_f40f243a1dcarow12_col1\" class=\"data row12 col1\" >0.4511</td>\n",
       "                        <td id=\"T_85e1d83a_9411_11eb_8b4a_f40f243a1dcarow12_col2\" class=\"data row12 col2\" >0.5350</td>\n",
       "                        <td id=\"T_85e1d83a_9411_11eb_8b4a_f40f243a1dcarow12_col3\" class=\"data row12 col3\" >0.9218</td>\n",
       "                        <td id=\"T_85e1d83a_9411_11eb_8b4a_f40f243a1dcarow12_col4\" class=\"data row12 col4\" >0.4110</td>\n",
       "                        <td id=\"T_85e1d83a_9411_11eb_8b4a_f40f243a1dcarow12_col5\" class=\"data row12 col5\" >0.5678</td>\n",
       "                        <td id=\"T_85e1d83a_9411_11eb_8b4a_f40f243a1dcarow12_col6\" class=\"data row12 col6\" >0.0579</td>\n",
       "                        <td id=\"T_85e1d83a_9411_11eb_8b4a_f40f243a1dcarow12_col7\" class=\"data row12 col7\" >0.1122</td>\n",
       "                        <td id=\"T_85e1d83a_9411_11eb_8b4a_f40f243a1dcarow12_col8\" class=\"data row12 col8\" >0.0340</td>\n",
       "            </tr>\n",
       "            <tr>\n",
       "                        <th id=\"T_85e1d83a_9411_11eb_8b4a_f40f243a1dcalevel0_row13\" class=\"row_heading level0 row13\" >qda</th>\n",
       "                        <td id=\"T_85e1d83a_9411_11eb_8b4a_f40f243a1dcarow13_col0\" class=\"data row13 col0\" >Quadratic Discriminant Analysis</td>\n",
       "                        <td id=\"T_85e1d83a_9411_11eb_8b4a_f40f243a1dcarow13_col1\" class=\"data row13 col1\" >0.3981</td>\n",
       "                        <td id=\"T_85e1d83a_9411_11eb_8b4a_f40f243a1dcarow13_col2\" class=\"data row13 col2\" >0.5030</td>\n",
       "                        <td id=\"T_85e1d83a_9411_11eb_8b4a_f40f243a1dcarow13_col3\" class=\"data row13 col3\" >0.9875</td>\n",
       "                        <td id=\"T_85e1d83a_9411_11eb_8b4a_f40f243a1dcarow13_col4\" class=\"data row13 col4\" >0.3932</td>\n",
       "                        <td id=\"T_85e1d83a_9411_11eb_8b4a_f40f243a1dcarow13_col5\" class=\"data row13 col5\" >0.5624</td>\n",
       "                        <td id=\"T_85e1d83a_9411_11eb_8b4a_f40f243a1dcarow13_col6\" class=\"data row13 col6\" >0.0048</td>\n",
       "                        <td id=\"T_85e1d83a_9411_11eb_8b4a_f40f243a1dcarow13_col7\" class=\"data row13 col7\" >0.0046</td>\n",
       "                        <td id=\"T_85e1d83a_9411_11eb_8b4a_f40f243a1dcarow13_col8\" class=\"data row13 col8\" >0.0710</td>\n",
       "            </tr>\n",
       "            <tr>\n",
       "                        <th id=\"T_85e1d83a_9411_11eb_8b4a_f40f243a1dcalevel0_row14\" class=\"row_heading level0 row14\" >xgboost</th>\n",
       "                        <td id=\"T_85e1d83a_9411_11eb_8b4a_f40f243a1dcarow14_col0\" class=\"data row14 col0\" >Extreme Gradient Boosting</td>\n",
       "                        <td id=\"T_85e1d83a_9411_11eb_8b4a_f40f243a1dcarow14_col1\" class=\"data row14 col1\" >0.0000</td>\n",
       "                        <td id=\"T_85e1d83a_9411_11eb_8b4a_f40f243a1dcarow14_col2\" class=\"data row14 col2\" >0.0000</td>\n",
       "                        <td id=\"T_85e1d83a_9411_11eb_8b4a_f40f243a1dcarow14_col3\" class=\"data row14 col3\" >0.0000</td>\n",
       "                        <td id=\"T_85e1d83a_9411_11eb_8b4a_f40f243a1dcarow14_col4\" class=\"data row14 col4\" >0.0000</td>\n",
       "                        <td id=\"T_85e1d83a_9411_11eb_8b4a_f40f243a1dcarow14_col5\" class=\"data row14 col5\" >0.0000</td>\n",
       "                        <td id=\"T_85e1d83a_9411_11eb_8b4a_f40f243a1dcarow14_col6\" class=\"data row14 col6\" >0.0000</td>\n",
       "                        <td id=\"T_85e1d83a_9411_11eb_8b4a_f40f243a1dcarow14_col7\" class=\"data row14 col7\" >0.0000</td>\n",
       "                        <td id=\"T_85e1d83a_9411_11eb_8b4a_f40f243a1dcarow14_col8\" class=\"data row14 col8\" >0.0340</td>\n",
       "            </tr>\n",
       "    </tbody></table>"
      ],
      "text/plain": [
       "<pandas.io.formats.style.Styler at 0x7faf03af5278>"
      ]
     },
     "metadata": {},
     "output_type": "display_data"
    }
   ],
   "source": [
    "best_model = compare_models()"
   ]
  },
  {
   "cell_type": "code",
   "execution_count": null,
   "metadata": {},
   "outputs": [],
   "source": []
  },
  {
   "cell_type": "code",
   "execution_count": null,
   "metadata": {},
   "outputs": [],
   "source": []
  },
  {
   "cell_type": "code",
   "execution_count": null,
   "metadata": {},
   "outputs": [],
   "source": []
  },
  {
   "cell_type": "code",
   "execution_count": null,
   "metadata": {},
   "outputs": [],
   "source": []
  },
  {
   "cell_type": "code",
   "execution_count": null,
   "metadata": {},
   "outputs": [],
   "source": []
  },
  {
   "cell_type": "code",
   "execution_count": 26,
   "metadata": {
    "ExecuteTime": {
     "end_time": "2021-03-21T04:13:03.645607Z",
     "start_time": "2021-03-21T04:13:03.623836Z"
    }
   },
   "outputs": [
    {
     "data": {
      "text/html": [
       "<div>\n",
       "<style scoped>\n",
       "    .dataframe tbody tr th:only-of-type {\n",
       "        vertical-align: middle;\n",
       "    }\n",
       "\n",
       "    .dataframe tbody tr th {\n",
       "        vertical-align: top;\n",
       "    }\n",
       "\n",
       "    .dataframe thead th {\n",
       "        text-align: right;\n",
       "    }\n",
       "</style>\n",
       "<table border=\"1\" class=\"dataframe\">\n",
       "  <thead>\n",
       "    <tr style=\"text-align: right;\">\n",
       "      <th></th>\n",
       "      <th>PassengerId</th>\n",
       "      <th>Survived</th>\n",
       "      <th>Pclass</th>\n",
       "      <th>Name</th>\n",
       "      <th>Sex</th>\n",
       "      <th>Age</th>\n",
       "      <th>SibSp</th>\n",
       "      <th>Parch</th>\n",
       "      <th>Ticket</th>\n",
       "      <th>Fare</th>\n",
       "      <th>Cabin</th>\n",
       "      <th>Embarked</th>\n",
       "    </tr>\n",
       "  </thead>\n",
       "  <tbody>\n",
       "    <tr>\n",
       "      <th>0</th>\n",
       "      <td>1</td>\n",
       "      <td>0</td>\n",
       "      <td>3</td>\n",
       "      <td>Braund, Mr. Owen Harris</td>\n",
       "      <td>male</td>\n",
       "      <td>22.0</td>\n",
       "      <td>1</td>\n",
       "      <td>0</td>\n",
       "      <td>A/5 21171</td>\n",
       "      <td>7.2500</td>\n",
       "      <td>NaN</td>\n",
       "      <td>S</td>\n",
       "    </tr>\n",
       "    <tr>\n",
       "      <th>1</th>\n",
       "      <td>2</td>\n",
       "      <td>1</td>\n",
       "      <td>1</td>\n",
       "      <td>Cumings, Mrs. John Bradley (Florence Briggs Th...</td>\n",
       "      <td>female</td>\n",
       "      <td>38.0</td>\n",
       "      <td>1</td>\n",
       "      <td>0</td>\n",
       "      <td>PC 17599</td>\n",
       "      <td>71.2833</td>\n",
       "      <td>C85</td>\n",
       "      <td>C</td>\n",
       "    </tr>\n",
       "  </tbody>\n",
       "</table>\n",
       "</div>"
      ],
      "text/plain": [
       "   PassengerId  Survived  Pclass  \\\n",
       "0            1         0       3   \n",
       "1            2         1       1   \n",
       "\n",
       "                                                Name     Sex   Age  SibSp  \\\n",
       "0                            Braund, Mr. Owen Harris    male  22.0      1   \n",
       "1  Cumings, Mrs. John Bradley (Florence Briggs Th...  female  38.0      1   \n",
       "\n",
       "   Parch     Ticket     Fare Cabin Embarked  \n",
       "0      0  A/5 21171   7.2500   NaN        S  \n",
       "1      0   PC 17599  71.2833   C85        C  "
      ]
     },
     "execution_count": 26,
     "metadata": {},
     "output_type": "execute_result"
    }
   ],
   "source": [
    "# Checking the top 10 rows\n",
    "train.head(2)"
   ]
  },
  {
   "cell_type": "code",
   "execution_count": 27,
   "metadata": {
    "ExecuteTime": {
     "end_time": "2021-03-21T04:13:05.636060Z",
     "start_time": "2021-03-21T04:13:05.631568Z"
    },
    "scrolled": false
   },
   "outputs": [
    {
     "data": {
      "text/plain": [
       "array(['PassengerId', 'Survived', 'Pclass', 'Name', 'Sex', 'Age', 'SibSp',\n",
       "       'Parch', 'Ticket', 'Fare', 'Cabin', 'Embarked'], dtype=object)"
      ]
     },
     "execution_count": 27,
     "metadata": {},
     "output_type": "execute_result"
    }
   ],
   "source": [
    "# Checking the name of the columns\n",
    "train.columns.values"
   ]
  },
  {
   "cell_type": "code",
   "execution_count": 28,
   "metadata": {
    "ExecuteTime": {
     "end_time": "2021-03-21T04:13:06.078875Z",
     "start_time": "2021-03-21T04:13:06.073895Z"
    }
   },
   "outputs": [
    {
     "data": {
      "text/plain": [
       "array(['S', 'C', 'Q', nan], dtype=object)"
      ]
     },
     "execution_count": 28,
     "metadata": {},
     "output_type": "execute_result"
    }
   ],
   "source": [
    "train['Embarked'].unique()"
   ]
  },
  {
   "cell_type": "markdown",
   "metadata": {},
   "source": [
    "# Data Cleaning"
   ]
  },
  {
   "cell_type": "code",
   "execution_count": 29,
   "metadata": {
    "ExecuteTime": {
     "end_time": "2021-03-21T04:13:06.509917Z",
     "start_time": "2021-03-21T04:13:06.505562Z"
    }
   },
   "outputs": [
    {
     "data": {
      "text/plain": [
       "array(['S', 'C', 'Q', nan], dtype=object)"
      ]
     },
     "execution_count": 29,
     "metadata": {},
     "output_type": "execute_result"
    }
   ],
   "source": [
    "train.Embarked.unique()"
   ]
  },
  {
   "cell_type": "code",
   "execution_count": 30,
   "metadata": {
    "ExecuteTime": {
     "end_time": "2021-03-21T04:13:06.706076Z",
     "start_time": "2021-03-21T04:13:06.701080Z"
    }
   },
   "outputs": [],
   "source": [
    "train['Sex'] = train['Sex'].apply(lambda x: 1 if x == 'male' else 2)"
   ]
  },
  {
   "cell_type": "code",
   "execution_count": 31,
   "metadata": {
    "ExecuteTime": {
     "end_time": "2021-03-21T04:13:06.856987Z",
     "start_time": "2021-03-21T04:13:06.854347Z"
    }
   },
   "outputs": [],
   "source": [
    "# train['Embarked'] = train['Embarked'].apply(lambda x: 0 if x == 'nan' else 1 if x == 'S' else 2 if x == 'C' else 3)"
   ]
  },
  {
   "cell_type": "code",
   "execution_count": 32,
   "metadata": {
    "ExecuteTime": {
     "end_time": "2021-03-21T04:13:07.025228Z",
     "start_time": "2021-03-21T04:13:07.019224Z"
    }
   },
   "outputs": [],
   "source": [
    "train.drop(columns=['Name','Ticket','Cabin', 'PassengerId', 'Parch', 'Embarked'], inplace=True)"
   ]
  },
  {
   "cell_type": "code",
   "execution_count": 33,
   "metadata": {
    "ExecuteTime": {
     "end_time": "2021-03-21T04:13:07.180886Z",
     "start_time": "2021-03-21T04:13:07.174839Z"
    },
    "scrolled": true
   },
   "outputs": [
    {
     "data": {
      "text/plain": [
       "Survived      0\n",
       "Pclass        0\n",
       "Sex           0\n",
       "Age         177\n",
       "SibSp         0\n",
       "Fare          0\n",
       "dtype: int64"
      ]
     },
     "execution_count": 33,
     "metadata": {},
     "output_type": "execute_result"
    }
   ],
   "source": [
    "train.isna().sum()"
   ]
  },
  {
   "cell_type": "code",
   "execution_count": 34,
   "metadata": {
    "ExecuteTime": {
     "end_time": "2021-03-21T04:13:07.363206Z",
     "start_time": "2021-03-21T04:13:07.357623Z"
    }
   },
   "outputs": [],
   "source": [
    "train.dropna(inplace=True)"
   ]
  },
  {
   "cell_type": "markdown",
   "metadata": {},
   "source": [
    "# Checking if Matplotlib and Seaborn was correctly imported"
   ]
  },
  {
   "cell_type": "code",
   "execution_count": 35,
   "metadata": {
    "ExecuteTime": {
     "end_time": "2021-03-21T04:13:08.800048Z",
     "start_time": "2021-03-21T04:13:07.751753Z"
    },
    "scrolled": true
   },
   "outputs": [
    {
     "data": {
      "application/javascript": [
       "\n",
       "        if (window._pyforest_update_imports_cell) { window._pyforest_update_imports_cell('from sklearn.model_selection import train_test_split\\nimport numpy as np\\nimport pandas as pd\\nimport matplotlib.pyplot as plt\\nimport seaborn as sns'); }\n",
       "    "
      ],
      "text/plain": [
       "<IPython.core.display.Javascript object>"
      ]
     },
     "metadata": {},
     "output_type": "display_data"
    },
    {
     "data": {
      "application/javascript": [
       "\n",
       "        if (window._pyforest_update_imports_cell) { window._pyforest_update_imports_cell('from sklearn.model_selection import train_test_split\\nimport numpy as np\\nimport pandas as pd\\nimport matplotlib.pyplot as plt\\nimport seaborn as sns'); }\n",
       "    "
      ],
      "text/plain": [
       "<IPython.core.display.Javascript object>"
      ]
     },
     "metadata": {},
     "output_type": "display_data"
    },
    {
     "data": {
      "application/javascript": [
       "\n",
       "        if (window._pyforest_update_imports_cell) { window._pyforest_update_imports_cell('from sklearn.model_selection import train_test_split\\nimport numpy as np\\nimport pandas as pd\\nimport matplotlib.pyplot as plt\\nimport seaborn as sns'); }\n",
       "    "
      ],
      "text/plain": [
       "<IPython.core.display.Javascript object>"
      ]
     },
     "metadata": {},
     "output_type": "display_data"
    },
    {
     "data": {
      "application/javascript": [
       "\n",
       "        if (window._pyforest_update_imports_cell) { window._pyforest_update_imports_cell('from sklearn.model_selection import train_test_split\\nimport numpy as np\\nimport pandas as pd\\nimport matplotlib.pyplot as plt\\nimport seaborn as sns'); }\n",
       "    "
      ],
      "text/plain": [
       "<IPython.core.display.Javascript object>"
      ]
     },
     "metadata": {},
     "output_type": "display_data"
    },
    {
     "data": {
      "application/javascript": [
       "\n",
       "        if (window._pyforest_update_imports_cell) { window._pyforest_update_imports_cell('from sklearn.model_selection import train_test_split\\nimport numpy as np\\nimport pandas as pd\\nimport matplotlib.pyplot as plt\\nimport seaborn as sns'); }\n",
       "    "
      ],
      "text/plain": [
       "<IPython.core.display.Javascript object>"
      ]
     },
     "metadata": {},
     "output_type": "display_data"
    },
    {
     "data": {
      "application/javascript": [
       "\n",
       "        if (window._pyforest_update_imports_cell) { window._pyforest_update_imports_cell('from sklearn.model_selection import train_test_split\\nimport numpy as np\\nimport pandas as pd\\nimport matplotlib.pyplot as plt\\nimport seaborn as sns'); }\n",
       "    "
      ],
      "text/plain": [
       "<IPython.core.display.Javascript object>"
      ]
     },
     "metadata": {},
     "output_type": "display_data"
    },
    {
     "data": {
      "application/javascript": [
       "\n",
       "        if (window._pyforest_update_imports_cell) { window._pyforest_update_imports_cell('from sklearn.model_selection import train_test_split\\nimport numpy as np\\nimport pandas as pd\\nimport matplotlib.pyplot as plt\\nimport seaborn as sns'); }\n",
       "    "
      ],
      "text/plain": [
       "<IPython.core.display.Javascript object>"
      ]
     },
     "metadata": {},
     "output_type": "display_data"
    },
    {
     "data": {
      "image/png": "[encoded data removed]",
      "text/plain": [
       "<Figure size 1152x432 with 2 Axes>"
      ]
     },
     "metadata": {},
     "output_type": "display_data"
    }
   ],
   "source": [
    "# checking the age and sex\n",
    "survived = 'survived'\n",
    "not_survived = 'not survived'\n",
    "\n",
    "sns.set_style('darkgrid')\n",
    "fig, axes = plt.subplots(nrows=1, ncols=2,figsize=(16, 6))\n",
    "women = train[train['Sex']==2]\n",
    "men = train[train['Sex']==1]\n",
    "ax = sns.distplot(women[women['Survived']==1].Age.dropna(), bins=18, label = survived, ax = axes[0], kde =False)\n",
    "ax = sns.distplot(women[women['Survived']==0].Age.dropna(), bins=40, label = not_survived, ax = axes[0], kde =False)\n",
    "ax.legend(fontsize=14)\n",
    "ax.set_title('Female', fontsize=14)\n",
    "ax = sns.distplot(men[men['Survived']==1].Age.dropna(), bins=18, label = survived, ax = axes[1], kde = False)\n",
    "ax = sns.distplot(men[men['Survived']==0].Age.dropna(), bins=40, label = not_survived, ax = axes[1], kde = False)\n",
    "ax.legend(fontsize=14)\n",
    "_ = ax.set_title('Male', fontsize=14)\n",
    "plt.show()"
   ]
  },
  {
   "cell_type": "code",
   "execution_count": 36,
   "metadata": {
    "ExecuteTime": {
     "end_time": "2021-03-21T04:13:08.810031Z",
     "start_time": "2021-03-21T04:13:08.803443Z"
    },
    "scrolled": true
   },
   "outputs": [
    {
     "data": {
      "text/plain": [
       "Survived    0\n",
       "Pclass      0\n",
       "Sex         0\n",
       "Age         0\n",
       "SibSp       0\n",
       "Fare        0\n",
       "dtype: int64"
      ]
     },
     "execution_count": 36,
     "metadata": {},
     "output_type": "execute_result"
    }
   ],
   "source": [
    "# Making sure there is not any NaN values\n",
    "train.isna().sum()"
   ]
  },
  {
   "cell_type": "code",
   "execution_count": 37,
   "metadata": {
    "ExecuteTime": {
     "end_time": "2021-03-21T04:13:08.824173Z",
     "start_time": "2021-03-21T04:13:08.813055Z"
    }
   },
   "outputs": [
    {
     "data": {
      "application/javascript": [
       "\n",
       "        if (window._pyforest_update_imports_cell) { window._pyforest_update_imports_cell('from sklearn.model_selection import train_test_split\\nimport numpy as np\\nimport pandas as pd\\nimport matplotlib.pyplot as plt\\nimport seaborn as sns'); }\n",
       "    "
      ],
      "text/plain": [
       "<IPython.core.display.Javascript object>"
      ]
     },
     "metadata": {},
     "output_type": "display_data"
    },
    {
     "data": {
      "application/javascript": [
       "\n",
       "        if (window._pyforest_update_imports_cell) { window._pyforest_update_imports_cell('from sklearn.model_selection import train_test_split\\nimport numpy as np\\nimport pandas as pd\\nimport matplotlib.pyplot as plt\\nimport seaborn as sns'); }\n",
       "    "
      ],
      "text/plain": [
       "<IPython.core.display.Javascript object>"
      ]
     },
     "metadata": {},
     "output_type": "display_data"
    },
    {
     "data": {
      "application/javascript": [
       "\n",
       "        if (window._pyforest_update_imports_cell) { window._pyforest_update_imports_cell('from sklearn.model_selection import train_test_split\\nimport numpy as np\\nimport pandas as pd\\nimport matplotlib.pyplot as plt\\nimport seaborn as sns'); }\n",
       "    "
      ],
      "text/plain": [
       "<IPython.core.display.Javascript object>"
      ]
     },
     "metadata": {},
     "output_type": "display_data"
    }
   ],
   "source": [
    "train.replace([np.inf, -np.inf], np.nan, inplace=True)"
   ]
  },
  {
   "cell_type": "markdown",
   "metadata": {},
   "source": [
    "# Train Test Split"
   ]
  },
  {
   "cell_type": "code",
   "execution_count": 38,
   "metadata": {
    "ExecuteTime": {
     "end_time": "2021-03-21T04:13:09.463742Z",
     "start_time": "2021-03-21T04:13:09.458676Z"
    }
   },
   "outputs": [],
   "source": [
    "X = train.drop(['Survived'], axis=1)\n",
    "y = train.Survived"
   ]
  },
  {
   "cell_type": "code",
   "execution_count": 39,
   "metadata": {
    "ExecuteTime": {
     "end_time": "2021-03-21T04:13:10.021827Z",
     "start_time": "2021-03-21T04:13:10.013014Z"
    }
   },
   "outputs": [
    {
     "data": {
      "application/javascript": [
       "\n",
       "        if (window._pyforest_update_imports_cell) { window._pyforest_update_imports_cell('from sklearn.model_selection import train_test_split\\nimport numpy as np\\nimport pandas as pd\\nimport matplotlib.pyplot as plt\\nimport seaborn as sns'); }\n",
       "    "
      ],
      "text/plain": [
       "<IPython.core.display.Javascript object>"
      ]
     },
     "metadata": {},
     "output_type": "display_data"
    }
   ],
   "source": [
    "X_train, X_test, y_train, y_test = train_test_split(X, y, random_state=42)"
   ]
  },
  {
   "cell_type": "markdown",
   "metadata": {},
   "source": [
    "# Modeling"
   ]
  },
  {
   "cell_type": "code",
   "execution_count": 40,
   "metadata": {
    "ExecuteTime": {
     "end_time": "2021-03-21T04:13:12.327242Z",
     "start_time": "2021-03-21T04:13:10.762055Z"
    }
   },
   "outputs": [],
   "source": [
    "import lazypredict\n",
    "from lazypredict.Supervised import LazyClassifier"
   ]
  },
  {
   "cell_type": "code",
   "execution_count": 41,
   "metadata": {
    "ExecuteTime": {
     "end_time": "2021-03-21T04:13:17.496504Z",
     "start_time": "2021-03-21T04:13:12.330288Z"
    },
    "scrolled": false
   },
   "outputs": [
    {
     "name": "stderr",
     "output_type": "stream",
     "text": [
      "100%|██████████| 30/30 [00:05<00:00,  5.85it/s]\n"
     ]
    },
    {
     "data": {
      "text/html": [
       "<div>\n",
       "<style scoped>\n",
       "    .dataframe tbody tr th:only-of-type {\n",
       "        vertical-align: middle;\n",
       "    }\n",
       "\n",
       "    .dataframe tbody tr th {\n",
       "        vertical-align: top;\n",
       "    }\n",
       "\n",
       "    .dataframe thead th {\n",
       "        text-align: right;\n",
       "    }\n",
       "</style>\n",
       "<table border=\"1\" class=\"dataframe\">\n",
       "  <thead>\n",
       "    <tr style=\"text-align: right;\">\n",
       "      <th></th>\n",
       "      <th>Accuracy</th>\n",
       "      <th>Balanced Accuracy</th>\n",
       "      <th>ROC AUC</th>\n",
       "      <th>F1 Score</th>\n",
       "      <th>Time Taken</th>\n",
       "    </tr>\n",
       "    <tr>\n",
       "      <th>Model</th>\n",
       "      <th></th>\n",
       "      <th></th>\n",
       "      <th></th>\n",
       "      <th></th>\n",
       "      <th></th>\n",
       "    </tr>\n",
       "  </thead>\n",
       "  <tbody>\n",
       "    <tr>\n",
       "      <th>SVC</th>\n",
       "      <td>0.81</td>\n",
       "      <td>0.79</td>\n",
       "      <td>0.79</td>\n",
       "      <td>0.81</td>\n",
       "      <td>0.04</td>\n",
       "    </tr>\n",
       "    <tr>\n",
       "      <th>ExtraTreeClassifier</th>\n",
       "      <td>0.79</td>\n",
       "      <td>0.78</td>\n",
       "      <td>0.78</td>\n",
       "      <td>0.79</td>\n",
       "      <td>0.02</td>\n",
       "    </tr>\n",
       "    <tr>\n",
       "      <th>AdaBoostClassifier</th>\n",
       "      <td>0.78</td>\n",
       "      <td>0.77</td>\n",
       "      <td>0.77</td>\n",
       "      <td>0.78</td>\n",
       "      <td>0.13</td>\n",
       "    </tr>\n",
       "    <tr>\n",
       "      <th>LGBMClassifier</th>\n",
       "      <td>0.79</td>\n",
       "      <td>0.77</td>\n",
       "      <td>0.77</td>\n",
       "      <td>0.78</td>\n",
       "      <td>0.16</td>\n",
       "    </tr>\n",
       "    <tr>\n",
       "      <th>QuadraticDiscriminantAnalysis</th>\n",
       "      <td>0.79</td>\n",
       "      <td>0.77</td>\n",
       "      <td>0.77</td>\n",
       "      <td>0.78</td>\n",
       "      <td>0.02</td>\n",
       "    </tr>\n",
       "    <tr>\n",
       "      <th>GaussianNB</th>\n",
       "      <td>0.78</td>\n",
       "      <td>0.77</td>\n",
       "      <td>0.77</td>\n",
       "      <td>0.78</td>\n",
       "      <td>0.02</td>\n",
       "    </tr>\n",
       "    <tr>\n",
       "      <th>RandomForestClassifier</th>\n",
       "      <td>0.78</td>\n",
       "      <td>0.76</td>\n",
       "      <td>0.76</td>\n",
       "      <td>0.78</td>\n",
       "      <td>0.21</td>\n",
       "    </tr>\n",
       "    <tr>\n",
       "      <th>BernoulliNB</th>\n",
       "      <td>0.77</td>\n",
       "      <td>0.76</td>\n",
       "      <td>0.76</td>\n",
       "      <td>0.77</td>\n",
       "      <td>0.02</td>\n",
       "    </tr>\n",
       "    <tr>\n",
       "      <th>KNeighborsClassifier</th>\n",
       "      <td>0.77</td>\n",
       "      <td>0.76</td>\n",
       "      <td>0.76</td>\n",
       "      <td>0.77</td>\n",
       "      <td>0.04</td>\n",
       "    </tr>\n",
       "    <tr>\n",
       "      <th>SGDClassifier</th>\n",
       "      <td>0.77</td>\n",
       "      <td>0.76</td>\n",
       "      <td>0.76</td>\n",
       "      <td>0.77</td>\n",
       "      <td>0.03</td>\n",
       "    </tr>\n",
       "    <tr>\n",
       "      <th>BaggingClassifier</th>\n",
       "      <td>0.77</td>\n",
       "      <td>0.76</td>\n",
       "      <td>0.76</td>\n",
       "      <td>0.77</td>\n",
       "      <td>0.04</td>\n",
       "    </tr>\n",
       "    <tr>\n",
       "      <th>NearestCentroid</th>\n",
       "      <td>0.76</td>\n",
       "      <td>0.76</td>\n",
       "      <td>0.76</td>\n",
       "      <td>0.76</td>\n",
       "      <td>0.02</td>\n",
       "    </tr>\n",
       "    <tr>\n",
       "      <th>LogisticRegression</th>\n",
       "      <td>0.77</td>\n",
       "      <td>0.75</td>\n",
       "      <td>0.75</td>\n",
       "      <td>0.77</td>\n",
       "      <td>0.03</td>\n",
       "    </tr>\n",
       "    <tr>\n",
       "      <th>NuSVC</th>\n",
       "      <td>0.78</td>\n",
       "      <td>0.75</td>\n",
       "      <td>0.75</td>\n",
       "      <td>0.77</td>\n",
       "      <td>0.03</td>\n",
       "    </tr>\n",
       "    <tr>\n",
       "      <th>ExtraTreesClassifier</th>\n",
       "      <td>0.77</td>\n",
       "      <td>0.75</td>\n",
       "      <td>0.75</td>\n",
       "      <td>0.76</td>\n",
       "      <td>0.25</td>\n",
       "    </tr>\n",
       "    <tr>\n",
       "      <th>RidgeClassifierCV</th>\n",
       "      <td>0.77</td>\n",
       "      <td>0.75</td>\n",
       "      <td>0.75</td>\n",
       "      <td>0.76</td>\n",
       "      <td>0.03</td>\n",
       "    </tr>\n",
       "    <tr>\n",
       "      <th>RidgeClassifier</th>\n",
       "      <td>0.77</td>\n",
       "      <td>0.75</td>\n",
       "      <td>0.75</td>\n",
       "      <td>0.76</td>\n",
       "      <td>0.02</td>\n",
       "    </tr>\n",
       "    <tr>\n",
       "      <th>LinearDiscriminantAnalysis</th>\n",
       "      <td>0.77</td>\n",
       "      <td>0.75</td>\n",
       "      <td>0.75</td>\n",
       "      <td>0.76</td>\n",
       "      <td>3.63</td>\n",
       "    </tr>\n",
       "    <tr>\n",
       "      <th>LinearSVC</th>\n",
       "      <td>0.77</td>\n",
       "      <td>0.75</td>\n",
       "      <td>0.75</td>\n",
       "      <td>0.76</td>\n",
       "      <td>0.04</td>\n",
       "    </tr>\n",
       "    <tr>\n",
       "      <th>CalibratedClassifierCV</th>\n",
       "      <td>0.77</td>\n",
       "      <td>0.75</td>\n",
       "      <td>0.75</td>\n",
       "      <td>0.76</td>\n",
       "      <td>0.13</td>\n",
       "    </tr>\n",
       "    <tr>\n",
       "      <th>LabelSpreading</th>\n",
       "      <td>0.75</td>\n",
       "      <td>0.74</td>\n",
       "      <td>0.74</td>\n",
       "      <td>0.75</td>\n",
       "      <td>0.04</td>\n",
       "    </tr>\n",
       "    <tr>\n",
       "      <th>LabelPropagation</th>\n",
       "      <td>0.75</td>\n",
       "      <td>0.74</td>\n",
       "      <td>0.74</td>\n",
       "      <td>0.75</td>\n",
       "      <td>0.04</td>\n",
       "    </tr>\n",
       "    <tr>\n",
       "      <th>DecisionTreeClassifier</th>\n",
       "      <td>0.75</td>\n",
       "      <td>0.73</td>\n",
       "      <td>0.73</td>\n",
       "      <td>0.75</td>\n",
       "      <td>0.03</td>\n",
       "    </tr>\n",
       "    <tr>\n",
       "      <th>PassiveAggressiveClassifier</th>\n",
       "      <td>0.71</td>\n",
       "      <td>0.73</td>\n",
       "      <td>0.73</td>\n",
       "      <td>0.71</td>\n",
       "      <td>0.02</td>\n",
       "    </tr>\n",
       "    <tr>\n",
       "      <th>CheckingClassifier</th>\n",
       "      <td>0.60</td>\n",
       "      <td>0.50</td>\n",
       "      <td>0.50</td>\n",
       "      <td>0.45</td>\n",
       "      <td>0.03</td>\n",
       "    </tr>\n",
       "    <tr>\n",
       "      <th>DummyClassifier</th>\n",
       "      <td>0.49</td>\n",
       "      <td>0.47</td>\n",
       "      <td>0.47</td>\n",
       "      <td>0.49</td>\n",
       "      <td>0.02</td>\n",
       "    </tr>\n",
       "    <tr>\n",
       "      <th>Perceptron</th>\n",
       "      <td>0.38</td>\n",
       "      <td>0.38</td>\n",
       "      <td>0.38</td>\n",
       "      <td>0.39</td>\n",
       "      <td>0.02</td>\n",
       "    </tr>\n",
       "  </tbody>\n",
       "</table>\n",
       "</div>"
      ],
      "text/plain": [
       "                               Accuracy  Balanced Accuracy  ROC AUC  F1 Score  \\\n",
       "Model                                                                           \n",
       "SVC                                0.81               0.79     0.79      0.81   \n",
       "ExtraTreeClassifier                0.79               0.78     0.78      0.79   \n",
       "AdaBoostClassifier                 0.78               0.77     0.77      0.78   \n",
       "LGBMClassifier                     0.79               0.77     0.77      0.78   \n",
       "QuadraticDiscriminantAnalysis      0.79               0.77     0.77      0.78   \n",
       "GaussianNB                         0.78               0.77     0.77      0.78   \n",
       "RandomForestClassifier             0.78               0.76     0.76      0.78   \n",
       "BernoulliNB                        0.77               0.76     0.76      0.77   \n",
       "KNeighborsClassifier               0.77               0.76     0.76      0.77   \n",
       "SGDClassifier                      0.77               0.76     0.76      0.77   \n",
       "BaggingClassifier                  0.77               0.76     0.76      0.77   \n",
       "NearestCentroid                    0.76               0.76     0.76      0.76   \n",
       "LogisticRegression                 0.77               0.75     0.75      0.77   \n",
       "NuSVC                              0.78               0.75     0.75      0.77   \n",
       "ExtraTreesClassifier               0.77               0.75     0.75      0.76   \n",
       "RidgeClassifierCV                  0.77               0.75     0.75      0.76   \n",
       "RidgeClassifier                    0.77               0.75     0.75      0.76   \n",
       "LinearDiscriminantAnalysis         0.77               0.75     0.75      0.76   \n",
       "LinearSVC                          0.77               0.75     0.75      0.76   \n",
       "CalibratedClassifierCV             0.77               0.75     0.75      0.76   \n",
       "LabelSpreading                     0.75               0.74     0.74      0.75   \n",
       "LabelPropagation                   0.75               0.74     0.74      0.75   \n",
       "DecisionTreeClassifier             0.75               0.73     0.73      0.75   \n",
       "PassiveAggressiveClassifier        0.71               0.73     0.73      0.71   \n",
       "CheckingClassifier                 0.60               0.50     0.50      0.45   \n",
       "DummyClassifier                    0.49               0.47     0.47      0.49   \n",
       "Perceptron                         0.38               0.38     0.38      0.39   \n",
       "\n",
       "                               Time Taken  \n",
       "Model                                      \n",
       "SVC                                  0.04  \n",
       "ExtraTreeClassifier                  0.02  \n",
       "AdaBoostClassifier                   0.13  \n",
       "LGBMClassifier                       0.16  \n",
       "QuadraticDiscriminantAnalysis        0.02  \n",
       "GaussianNB                           0.02  \n",
       "RandomForestClassifier               0.21  \n",
       "BernoulliNB                          0.02  \n",
       "KNeighborsClassifier                 0.04  \n",
       "SGDClassifier                        0.03  \n",
       "BaggingClassifier                    0.04  \n",
       "NearestCentroid                      0.02  \n",
       "LogisticRegression                   0.03  \n",
       "NuSVC                                0.03  \n",
       "ExtraTreesClassifier                 0.25  \n",
       "RidgeClassifierCV                    0.03  \n",
       "RidgeClassifier                      0.02  \n",
       "LinearDiscriminantAnalysis           3.63  \n",
       "LinearSVC                            0.04  \n",
       "CalibratedClassifierCV               0.13  \n",
       "LabelSpreading                       0.04  \n",
       "LabelPropagation                     0.04  \n",
       "DecisionTreeClassifier               0.03  \n",
       "PassiveAggressiveClassifier          0.02  \n",
       "CheckingClassifier                   0.03  \n",
       "DummyClassifier                      0.02  \n",
       "Perceptron                           0.02  "
      ]
     },
     "execution_count": 41,
     "metadata": {},
     "output_type": "execute_result"
    }
   ],
   "source": [
    "clf = LazyClassifier(verbose=0,ignore_warnings=True)\n",
    "models, predictions = clf.fit(X_train, X_test, y_train, y_test)\n",
    "models"
   ]
  },
  {
   "cell_type": "code",
   "execution_count": 20,
   "metadata": {
    "ExecuteTime": {
     "end_time": "2021-03-15T21:05:13.275245Z",
     "start_time": "2021-03-15T21:05:12.953230Z"
    }
   },
   "outputs": [
    {
     "data": {
      "application/javascript": [
       "\n",
       "        if (window._pyforest_update_imports_cell) { window._pyforest_update_imports_cell('from sklearn.model_selection import train_test_split\\nfrom sklearn.ensemble import RandomForestClassifier\\nimport seaborn as sns\\nimport matplotlib.pyplot as plt\\nimport pandas as pd'); }\n",
       "    "
      ],
      "text/plain": [
       "<IPython.core.display.Javascript object>"
      ]
     },
     "metadata": {},
     "output_type": "display_data"
    }
   ],
   "source": [
    "rf = RandomForestClassifier()\n",
    "rf.fit(X_train, y_train)\n",
    "y_pred = rf.predict(X_test)"
   ]
  },
  {
   "cell_type": "code",
   "execution_count": 21,
   "metadata": {
    "ExecuteTime": {
     "end_time": "2021-03-15T21:05:13.290651Z",
     "start_time": "2021-03-15T21:05:13.278695Z"
    }
   },
   "outputs": [
    {
     "name": "stdout",
     "output_type": "stream",
     "text": [
      "Evaluation Metrics – Random Forest:\n",
      "Accuracy: 0.776536312849162\n",
      "F1 Score: 0.7653997378768022\n"
     ]
    }
   ],
   "source": [
    "print('Evaluation Metrics – Random Forest:')\n",
    "print('Accuracy: ' + str(metrics.accuracy_score(y_test, y_pred)))\n",
    "print('F1 Score: ' + str(metrics.f1_score(y_test, y_pred, average='macro')))"
   ]
  },
  {
   "cell_type": "code",
   "execution_count": 22,
   "metadata": {
    "ExecuteTime": {
     "end_time": "2021-03-15T21:05:13.353118Z",
     "start_time": "2021-03-15T21:05:13.294124Z"
    }
   },
   "outputs": [
    {
     "data": {
      "application/javascript": [
       "\n",
       "        if (window._pyforest_update_imports_cell) { window._pyforest_update_imports_cell('from sklearn.model_selection import train_test_split\\nfrom sklearn.ensemble import RandomForestClassifier\\nimport seaborn as sns\\nimport matplotlib.pyplot as plt\\nfrom sklearn.linear_model import LogisticRegression\\nimport pandas as pd'); }\n",
       "    "
      ],
      "text/plain": [
       "<IPython.core.display.Javascript object>"
      ]
     },
     "metadata": {},
     "output_type": "display_data"
    }
   ],
   "source": [
    "rf = LogisticRegression()\n",
    "rf.fit(X_train, y_train)\n",
    "y_pred_lr = rf.predict(X_test)"
   ]
  },
  {
   "cell_type": "code",
   "execution_count": 24,
   "metadata": {
    "ExecuteTime": {
     "end_time": "2021-03-15T21:05:54.804303Z",
     "start_time": "2021-03-15T21:05:54.792433Z"
    }
   },
   "outputs": [
    {
     "name": "stdout",
     "output_type": "stream",
     "text": [
      "Evaluation Metrics – Logistic Regression:\n",
      "Accuracy: 0.770949720670391\n",
      "F1 Score: 0.7562198970270719\n"
     ]
    }
   ],
   "source": [
    "print('Evaluation Metrics – Logistic Regression:')\n",
    "print('Accuracy: ' + str(metrics.accuracy_score(y_test, y_pred_lr)))\n",
    "print('F1 Score: ' + str(metrics.f1_score(y_test, y_pred_lr, average='macro')))"
   ]
  },
  {
   "cell_type": "code",
   "execution_count": null,
   "metadata": {},
   "outputs": [],
   "source": []
  }
 ],
 "metadata": {
  "kernelspec": {
   "display_name": "Python 3",
   "language": "python",
   "name": "python3"
  },
  "language_info": {
   "codemirror_mode": {
    "name": "ipython",
    "version": 3
   },
   "file_extension": ".py",
   "mimetype": "text/x-python",
   "name": "python",
   "nbconvert_exporter": "python",
   "pygments_lexer": "ipython3",
   "version": "3.6.9"
  },
  "toc": {
   "base_numbering": 1,
   "nav_menu": {},
   "number_sections": true,
   "sideBar": true,
   "skip_h1_title": false,
   "title_cell": "Table of Contents",
   "title_sidebar": "Contents",
   "toc_cell": false,
   "toc_position": {},
   "toc_section_display": true,
   "toc_window_display": false
  }
 },
 "nbformat": 4,
 "nbformat_minor": 4
}
