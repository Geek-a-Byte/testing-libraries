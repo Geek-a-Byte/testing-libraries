{
 "cells": [
  {
   "cell_type": "markdown",
   "id": "1dd25a1d",
   "metadata": {
    "ExecuteTime": {
     "end_time": "2021-06-24T18:28:44.902687Z",
     "start_time": "2021-06-24T18:28:44.899954Z"
    }
   },
   "source": [
    "# Comma"
   ]
  },
  {
   "cell_type": "code",
   "execution_count": 18,
   "id": "ea2f1dd2",
   "metadata": {
    "ExecuteTime": {
     "end_time": "2021-06-25T18:38:31.260931Z",
     "start_time": "2021-06-25T18:38:31.026118Z"
    }
   },
   "outputs": [],
   "source": [
    "import comma"
   ]
  },
  {
   "cell_type": "code",
   "execution_count": 19,
   "id": "ed88b1c8",
   "metadata": {
    "ExecuteTime": {
     "end_time": "2021-06-25T18:38:32.187730Z",
     "start_time": "2021-06-25T18:38:31.263356Z"
    }
   },
   "outputs": [
    {
     "data": {
      "application/javascript": [
       "\n",
       "        if (window._pyforest_update_imports_cell) { window._pyforest_update_imports_cell('import pandas as pd'); }\n",
       "    "
      ],
      "text/plain": [
       "<IPython.core.display.Javascript object>"
      ]
     },
     "metadata": {},
     "output_type": "display_data"
    }
   ],
   "source": [
    "df = pd.read_csv('https://raw.githubusercontent.com/DinoChiesa/Apigee-Csv-Shredder/master/csv/Sacramento-RealEstate-Transactions.csv')\n",
    "table = comma.load('https://raw.githubusercontent.com/DinoChiesa/Apigee-Csv-Shredder/master/csv/Sacramento-RealEstate-Transactions.csv')"
   ]
  },
  {
   "cell_type": "code",
   "execution_count": 22,
   "id": "fa575677",
   "metadata": {
    "ExecuteTime": {
     "end_time": "2021-06-24T18:01:43.010882Z",
     "start_time": "2021-06-24T18:01:43.004521Z"
    },
    "scrolled": true
   },
   "outputs": [
    {
     "data": {
      "text/html": [
       "<table style='text-align: left;'><tr><th>street</th>\n",
       "<th>city</th>\n",
       "<th>zip</th>\n",
       "<th>state</th>\n",
       "<th>beds</th>\n",
       "<th>baths</th>\n",
       "<th>sqft</th>\n",
       "<th>type</th>\n",
       "<th>sale_date</th>\n",
       "<th>price</th>\n",
       "<th>latitude</th>\n",
       "<th>longitude</th></tr>\n",
       "\n",
       "<tr><td style='text-align: left;'>3526 HIGH ST</td>\n",
       "    <td style='text-align: left;'>SACRAMENTO</td>\n",
       "    <td style='text-align: left;'>95838</td>\n",
       "    <td style='text-align: left;'>CA</td>\n",
       "    <td style='text-align: left;'>2</td>\n",
       "    <td style='text-align: left;'>1</td>\n",
       "    <td style='text-align: left;'>836</td>\n",
       "    <td style='text-align: left;'>Residential</td>\n",
       "    <td style='text-align: left;'>Wed May 21 00:00:00 EDT 2008</td>\n",
       "    <td style='text-align: left;'>59222</td>\n",
       "    <td style='text-align: left;'>38.631913</td>\n",
       "    <td style='text-align: left;'>-121.434879</td></tr>\n",
       "\n",
       "<tr><td style='text-align: left;'>51 OMAHA CT</td>\n",
       "    <td style='text-align: left;'>SACRAMENTO</td>\n",
       "    <td style='text-align: left;'>95823</td>\n",
       "    <td style='text-align: left;'>CA</td>\n",
       "    <td style='text-align: left;'>3</td>\n",
       "    <td style='text-align: left;'>1</td>\n",
       "    <td style='text-align: left;'>1167</td>\n",
       "    <td style='text-align: left;'>Residential</td>\n",
       "    <td style='text-align: left;'>Wed May 21 00:00:00 EDT 2008</td>\n",
       "    <td style='text-align: left;'>68212</td>\n",
       "    <td style='text-align: left;'>38.478902</td>\n",
       "    <td style='text-align: left;'>-121.431028</td></tr>\n",
       "\n",
       "<tr><td style='text-align: left;'>2796 BRANCH ST</td>\n",
       "    <td style='text-align: left;'>SACRAMENTO</td>\n",
       "    <td style='text-align: left;'>95815</td>\n",
       "    <td style='text-align: left;'>CA</td>\n",
       "    <td style='text-align: left;'>2</td>\n",
       "    <td style='text-align: left;'>1</td>\n",
       "    <td style='text-align: left;'>796</td>\n",
       "    <td style='text-align: left;'>Residential</td>\n",
       "    <td style='text-align: left;'>Wed May 21 00:00:00 EDT 2008</td>\n",
       "    <td style='text-align: left;'>68880</td>\n",
       "    <td style='text-align: left;'>38.618305</td>\n",
       "    <td style='text-align: left;'>-121.443839</td></tr>\n",
       "\n",
       "<tr><td style='text-align: left;'>2805 JANETTE WAY</td>\n",
       "    <td style='text-align: left;'>SACRAMENTO</td>\n",
       "    <td style='text-align: left;'>95815</td>\n",
       "    <td style='text-align: left;'>CA</td>\n",
       "    <td style='text-align: left;'>2</td>\n",
       "    <td style='text-align: left;'>1</td>\n",
       "    <td style='text-align: left;'>852</td>\n",
       "    <td style='text-align: left;'>Residential</td>\n",
       "    <td style='text-align: left;'>Wed May 21 00:00:00 EDT 2008</td>\n",
       "    <td style='text-align: left;'>69307</td>\n",
       "    <td style='text-align: left;'>38.616835</td>\n",
       "    <td style='text-align: left;'>-121.439146</td></tr></table>"
      ],
      "text/plain": [
       "[{'street': '3526 HIGH ST', 'city': 'SACRAMENTO', 'zip': '95838', 'state': 'CA', 'beds': '2', 'baths': '1', 'sqft': '836', 'type': 'Residential', 'sale_date': 'Wed May 21 00:00:00 EDT 2008', 'price': '59222', 'latitude': '38.631913', 'longitude': '-121.434879'}, {'street': '51 OMAHA CT', 'city': 'SACRAMENTO', 'zip': '95823', 'state': 'CA', 'beds': '3', 'baths': '1', 'sqft': '1167', 'type': 'Residential', 'sale_date': 'Wed May 21 00:00:00 EDT 2008', 'price': '68212', 'latitude': '38.478902', 'longitude': '-121.431028'}, {'street': '2796 BRANCH ST', 'city': 'SACRAMENTO', 'zip': '95815', 'state': 'CA', 'beds': '2', 'baths': '1', 'sqft': '796', 'type': 'Residential', 'sale_date': 'Wed May 21 00:00:00 EDT 2008', 'price': '68880', 'latitude': '38.618305', 'longitude': '-121.443839'}, {'street': '2805 JANETTE WAY', 'city': 'SACRAMENTO', 'zip': '95815', 'state': 'CA', 'beds': '2', 'baths': '1', 'sqft': '852', 'type': 'Residential', 'sale_date': 'Wed May 21 00:00:00 EDT 2008', 'price': '69307', 'latitude': '38.616835', 'longitude': '-121.439146'}]"
      ]
     },
     "execution_count": 22,
     "metadata": {},
     "output_type": "execute_result"
    }
   ],
   "source": [
    "# Comma\n",
    "table[0:4]"
   ]
  },
  {
   "cell_type": "code",
   "execution_count": 24,
   "id": "0d31dd74",
   "metadata": {
    "ExecuteTime": {
     "end_time": "2021-06-25T18:41:01.501333Z",
     "start_time": "2021-06-25T18:41:01.487252Z"
    },
    "scrolled": true
   },
   "outputs": [
    {
     "data": {
      "text/html": [
       "<div>\n",
       "<style scoped>\n",
       "    .dataframe tbody tr th:only-of-type {\n",
       "        vertical-align: middle;\n",
       "    }\n",
       "\n",
       "    .dataframe tbody tr th {\n",
       "        vertical-align: top;\n",
       "    }\n",
       "\n",
       "    .dataframe thead th {\n",
       "        text-align: right;\n",
       "    }\n",
       "</style>\n",
       "<table border=\"1\" class=\"dataframe\">\n",
       "  <thead>\n",
       "    <tr style=\"text-align: right;\">\n",
       "      <th></th>\n",
       "      <th>street</th>\n",
       "      <th>city</th>\n",
       "      <th>zip</th>\n",
       "      <th>state</th>\n",
       "      <th>beds</th>\n",
       "      <th>baths</th>\n",
       "      <th>sqft</th>\n",
       "      <th>type</th>\n",
       "      <th>sale_date</th>\n",
       "      <th>price</th>\n",
       "      <th>latitude</th>\n",
       "      <th>longitude</th>\n",
       "    </tr>\n",
       "  </thead>\n",
       "  <tbody>\n",
       "    <tr>\n",
       "      <th>0</th>\n",
       "      <td>3526 HIGH ST</td>\n",
       "      <td>SACRAMENTO</td>\n",
       "      <td>95838</td>\n",
       "      <td>CA</td>\n",
       "      <td>2</td>\n",
       "      <td>1</td>\n",
       "      <td>836</td>\n",
       "      <td>Residential</td>\n",
       "      <td>Wed May 21 00:00:00 EDT 2008</td>\n",
       "      <td>59222</td>\n",
       "      <td>38.631913</td>\n",
       "      <td>-121.434879</td>\n",
       "    </tr>\n",
       "    <tr>\n",
       "      <th>1</th>\n",
       "      <td>51 OMAHA CT</td>\n",
       "      <td>SACRAMENTO</td>\n",
       "      <td>95823</td>\n",
       "      <td>CA</td>\n",
       "      <td>3</td>\n",
       "      <td>1</td>\n",
       "      <td>1167</td>\n",
       "      <td>Residential</td>\n",
       "      <td>Wed May 21 00:00:00 EDT 2008</td>\n",
       "      <td>68212</td>\n",
       "      <td>38.478902</td>\n",
       "      <td>-121.431028</td>\n",
       "    </tr>\n",
       "    <tr>\n",
       "      <th>2</th>\n",
       "      <td>2796 BRANCH ST</td>\n",
       "      <td>SACRAMENTO</td>\n",
       "      <td>95815</td>\n",
       "      <td>CA</td>\n",
       "      <td>2</td>\n",
       "      <td>1</td>\n",
       "      <td>796</td>\n",
       "      <td>Residential</td>\n",
       "      <td>Wed May 21 00:00:00 EDT 2008</td>\n",
       "      <td>68880</td>\n",
       "      <td>38.618305</td>\n",
       "      <td>-121.443839</td>\n",
       "    </tr>\n",
       "    <tr>\n",
       "      <th>3</th>\n",
       "      <td>2805 JANETTE WAY</td>\n",
       "      <td>SACRAMENTO</td>\n",
       "      <td>95815</td>\n",
       "      <td>CA</td>\n",
       "      <td>2</td>\n",
       "      <td>1</td>\n",
       "      <td>852</td>\n",
       "      <td>Residential</td>\n",
       "      <td>Wed May 21 00:00:00 EDT 2008</td>\n",
       "      <td>69307</td>\n",
       "      <td>38.616835</td>\n",
       "      <td>-121.439146</td>\n",
       "    </tr>\n",
       "  </tbody>\n",
       "</table>\n",
       "</div>"
      ],
      "text/plain": [
       "             street        city    zip state  beds  baths  sqft         type  \\\n",
       "0      3526 HIGH ST  SACRAMENTO  95838    CA     2      1   836  Residential   \n",
       "1       51 OMAHA CT  SACRAMENTO  95823    CA     3      1  1167  Residential   \n",
       "2    2796 BRANCH ST  SACRAMENTO  95815    CA     2      1   796  Residential   \n",
       "3  2805 JANETTE WAY  SACRAMENTO  95815    CA     2      1   852  Residential   \n",
       "\n",
       "                      sale_date  price   latitude   longitude  \n",
       "0  Wed May 21 00:00:00 EDT 2008  59222  38.631913 -121.434879  \n",
       "1  Wed May 21 00:00:00 EDT 2008  68212  38.478902 -121.431028  \n",
       "2  Wed May 21 00:00:00 EDT 2008  68880  38.618305 -121.443839  \n",
       "3  Wed May 21 00:00:00 EDT 2008  69307  38.616835 -121.439146  "
      ]
     },
     "execution_count": 24,
     "metadata": {},
     "output_type": "execute_result"
    }
   ],
   "source": [
    "# Pandas\n",
    "df[0:4]"
   ]
  },
  {
   "cell_type": "code",
   "execution_count": null,
   "id": "63fd4036",
   "metadata": {},
   "outputs": [],
   "source": [
    "# Comma"
   ]
  },
  {
   "cell_type": "code",
   "execution_count": null,
   "id": "94338ea8",
   "metadata": {},
   "outputs": [],
   "source": [
    "# "
   ]
  },
  {
   "cell_type": "code",
   "execution_count": null,
   "id": "eb100b2e",
   "metadata": {},
   "outputs": [],
   "source": []
  },
  {
   "cell_type": "code",
   "execution_count": 49,
   "id": "0081d1fe",
   "metadata": {
    "ExecuteTime": {
     "end_time": "2021-06-24T18:26:25.545526Z",
     "start_time": "2021-06-24T18:26:25.540798Z"
    }
   },
   "outputs": [
    {
     "data": {
      "text/plain": [
       "['3526 HIGH ST', '51 OMAHA CT', '2796 BRANCH ST', '2805 JANETTE WAY']"
      ]
     },
     "execution_count": 49,
     "metadata": {},
     "output_type": "execute_result"
    }
   ],
   "source": [
    "streets = table[0:4]['street']\n",
    "streets"
   ]
  },
  {
   "cell_type": "code",
   "execution_count": 36,
   "id": "ae9f2fc2",
   "metadata": {
    "ExecuteTime": {
     "end_time": "2021-06-24T18:23:33.213050Z",
     "start_time": "2021-06-24T18:23:33.208391Z"
    }
   },
   "outputs": [
    {
     "data": {
      "text/plain": [
       "comma.classes.slices.CommaFieldSlice"
      ]
     },
     "execution_count": 36,
     "metadata": {},
     "output_type": "execute_result"
    }
   ],
   "source": [
    "type(streets)"
   ]
  },
  {
   "cell_type": "code",
   "execution_count": 39,
   "id": "6e889251",
   "metadata": {
    "ExecuteTime": {
     "end_time": "2021-06-24T18:23:52.688903Z",
     "start_time": "2021-06-24T18:23:52.684365Z"
    }
   },
   "outputs": [
    {
     "data": {
      "text/plain": [
       "list"
      ]
     },
     "execution_count": 39,
     "metadata": {},
     "output_type": "execute_result"
    }
   ],
   "source": [
    "streets = list(street_list)\n",
    "type(streets)"
   ]
  },
  {
   "cell_type": "code",
   "execution_count": 55,
   "id": "0cafc05d",
   "metadata": {
    "ExecuteTime": {
     "end_time": "2021-06-24T18:32:50.880014Z",
     "start_time": "2021-06-24T18:32:50.873327Z"
    },
    "scrolled": false
   },
   "outputs": [
    {
     "data": {
      "text/plain": [
       "[['3526 HIGH ST'], ['51 OMAHA CT'], ['2796 BRANCH ST'], ['2805 JANETTE WAY']]"
      ]
     },
     "execution_count": 55,
     "metadata": {},
     "output_type": "execute_result"
    }
   ],
   "source": [
    "df.iloc[0:4,0:1].values.tolist()"
   ]
  },
  {
   "cell_type": "markdown",
   "id": "cd8f1c53",
   "metadata": {},
   "source": [
    "# geoplotlib"
   ]
  },
  {
   "cell_type": "code",
   "execution_count": 12,
   "id": "4e83e70c",
   "metadata": {
    "ExecuteTime": {
     "end_time": "2021-06-25T17:13:06.029050Z",
     "start_time": "2021-06-25T17:12:56.501336Z"
    }
   },
   "outputs": [
    {
     "name": "stdout",
     "output_type": "stream",
     "text": [
      "Requirement already satisfied: geoplotlib in /opt/anaconda3/envs/learn-env/lib/python3.6/site-packages (0.3.2)\n",
      "\u001b[33mWARNING: You are using pip version 21.0.1; however, version 21.1.2 is available.\n",
      "You should consider upgrading via the '/opt/anaconda3/envs/learn-env/bin/python -m pip install --upgrade pip' command.\u001b[0m\n",
      "Collecting pyglet\n",
      "  Downloading pyglet-1.5.18-py3-none-any.whl (1.1 MB)\n",
      "\u001b[K     |████████████████████████████████| 1.1 MB 3.1 MB/s eta 0:00:01\n",
      "\u001b[?25hInstalling collected packages: pyglet\n",
      "Successfully installed pyglet-1.5.18\n",
      "\u001b[33mWARNING: You are using pip version 21.0.1; however, version 21.1.2 is available.\n",
      "You should consider upgrading via the '/opt/anaconda3/envs/learn-env/bin/python -m pip install --upgrade pip' command.\u001b[0m\n"
     ]
    }
   ],
   "source": [
    "!pip install geoplotlib\n",
    "!pip install pyglet"
   ]
  },
  {
   "cell_type": "code",
   "execution_count": 13,
   "id": "8dc8cd3f",
   "metadata": {
    "ExecuteTime": {
     "end_time": "2021-06-25T17:13:10.316799Z",
     "start_time": "2021-06-25T17:13:07.516527Z"
    }
   },
   "outputs": [],
   "source": [
    "import geoplotlib\n",
    "from geoplotlib.utils import read_csv"
   ]
  },
  {
   "cell_type": "code",
   "execution_count": 17,
   "id": "6d158849",
   "metadata": {
    "ExecuteTime": {
     "end_time": "2021-06-25T17:17:18.484404Z",
     "start_time": "2021-06-25T17:17:18.431810Z"
    }
   },
   "outputs": [
    {
     "name": "stderr",
     "output_type": "stream",
     "text": [
      "Traceback (most recent call last):\n",
      "  File \"/opt/anaconda3/envs/learn-env/lib/python3.6/site-packages/geoplotlib/__init__.py\", line 32, in _runapp\n",
      "    app.start()\n",
      "  File \"/opt/anaconda3/envs/learn-env/lib/python3.6/site-packages/geoplotlib/core.py\", line 364, in start\n",
      "    self.proj.fit(BoundingBox.from_bboxes([l.bbox() for l in self.geoplotlib_config.layers]),\n",
      "  File \"/opt/anaconda3/envs/learn-env/lib/python3.6/site-packages/geoplotlib/core.py\", line 364, in <listcomp>\n",
      "    self.proj.fit(BoundingBox.from_bboxes([l.bbox() for l in self.geoplotlib_config.layers]),\n",
      "  File \"/opt/anaconda3/envs/learn-env/lib/python3.6/site-packages/geoplotlib/layers.py\", line 159, in bbox\n",
      "    return BoundingBox.from_points(lons=self.data['lon'], lats=self.data['lat'])\n",
      "  File \"/opt/anaconda3/envs/learn-env/lib/python3.6/site-packages/geoplotlib/utils.py\", line 62, in __getitem__\n",
      "    return self.dict[key]\n",
      "KeyError: 'lon'\n"
     ]
    }
   ],
   "source": [
    "data = read_csv('br.csv')\n",
    "geoplotlib.dot(data)\n",
    "geoplotlib.show()"
   ]
  },
  {
   "cell_type": "code",
   "execution_count": null,
   "id": "32c5748b",
   "metadata": {},
   "outputs": [],
   "source": [
    "https://raw.githubusercontent.com/andrea-cuttone/geoplotlib/master/examples/data/bus.csv"
   ]
  },
  {
   "cell_type": "code",
   "execution_count": 7,
   "id": "48869eb0",
   "metadata": {
    "ExecuteTime": {
     "end_time": "2021-06-25T17:02:56.964369Z",
     "start_time": "2021-06-25T17:02:56.939129Z"
    }
   },
   "outputs": [
    {
     "ename": "ModuleNotFoundError",
     "evalue": "No module named 'geoplotlib'",
     "output_type": "error",
     "traceback": [
      "\u001b[0;31m---------------------------------------------------------------------------\u001b[0m",
      "\u001b[0;31mModuleNotFoundError\u001b[0m                       Traceback (most recent call last)",
      "\u001b[0;32m<ipython-input-7-88a956bab2b0>\u001b[0m in \u001b[0;36m<module>\u001b[0;34m\u001b[0m\n\u001b[0;32m----> 1\u001b[0;31m \u001b[0;32mimport\u001b[0m \u001b[0mgeoplotlib\u001b[0m\u001b[0;34m\u001b[0m\u001b[0;34m\u001b[0m\u001b[0m\n\u001b[0m\u001b[1;32m      2\u001b[0m \u001b[0;32mfrom\u001b[0m \u001b[0mgeoplotlib\u001b[0m\u001b[0;34m.\u001b[0m\u001b[0mutils\u001b[0m \u001b[0;32mimport\u001b[0m \u001b[0mread_csv\u001b[0m\u001b[0;34m\u001b[0m\u001b[0;34m\u001b[0m\u001b[0m\n\u001b[1;32m      3\u001b[0m \u001b[0;34m\u001b[0m\u001b[0m\n\u001b[1;32m      4\u001b[0m \u001b[0mdata\u001b[0m \u001b[0;34m=\u001b[0m \u001b[0mread_csv\u001b[0m\u001b[0;34m(\u001b[0m\u001b[0;34m\"C:\\\\Users\\\\Omotayo\\\\Desktop\\\\nigeria_cities.csv\"\u001b[0m\u001b[0;34m)\u001b[0m  \u001b[0;31m#replace path with your file path\u001b[0m\u001b[0;34m\u001b[0m\u001b[0;34m\u001b[0m\u001b[0m\n\u001b[1;32m      5\u001b[0m \u001b[0mgeoplotlib\u001b[0m\u001b[0;34m.\u001b[0m\u001b[0mdot\u001b[0m\u001b[0;34m(\u001b[0m\u001b[0mdata\u001b[0m\u001b[0;34m,\u001b[0m\u001b[0mpoint_size\u001b[0m\u001b[0;34m=\u001b[0m\u001b[0;36m3\u001b[0m\u001b[0;34m)\u001b[0m\u001b[0;34m\u001b[0m\u001b[0;34m\u001b[0m\u001b[0m\n",
      "\u001b[0;31mModuleNotFoundError\u001b[0m: No module named 'geoplotlib'"
     ]
    }
   ],
   "source": [
    "import geoplotlib\n",
    "from geoplotlib.utils import read_csv\n",
    "\n",
    "data = read_csv(\"C:\\\\Users\\\\Omotayo\\\\Desktop\\\\nigeria_cities.csv\")  #replace path with your file path\n",
    "geoplotlib.dot(data, point_size=3)\n",
    "geoplotlib.show()"
   ]
  },
  {
   "cell_type": "code",
   "execution_count": 3,
   "id": "20741c97",
   "metadata": {
    "ExecuteTime": {
     "end_time": "2021-06-25T16:59:23.354280Z",
     "start_time": "2021-06-25T16:59:23.338351Z"
    },
    "scrolled": false
   },
   "outputs": [],
   "source": [
    "import pygal      \n",
    "\n",
    "bar_chart = pygal.Bar()                                            # Then create a bar graph object\n",
    "bar_chart.add('Fibonacci', [0, 1, 1, 2, 3, 5, 8, 13, 21, 34, 55])  # Add some values\n",
    "bar_chart.render_to_file('bar_chart.svg')                          # Save the svg to a file"
   ]
  },
  {
   "cell_type": "code",
   "execution_count": 4,
   "id": "eda5a10f",
   "metadata": {
    "ExecuteTime": {
     "end_time": "2021-06-25T16:59:39.373584Z",
     "start_time": "2021-06-25T16:59:39.357480Z"
    },
    "scrolled": false
   },
   "outputs": [
    {
     "data": {
      "text/plain": [
       "b'<?xml version=\\'1.0\\' encoding=\\'utf-8\\'?>\\n<svg xmlns=\"http://www.w3.org/2000/svg\" xmlns:xlink=\"http://www.w3.org/1999/xlink\" id=\"chart-15a8682a-00f6-4889-be82-f350e0124441\" class=\"pygal-chart\" viewBox=\"0 0 800 600\"><!--Generated with pygal 2.4.0 (lxml) \\xc2\\xa9Kozea 2012-2016 on 2021-06-25--><!--http://pygal.org--><!--http://github.com/Kozea/pygal--><defs><style type=\"text/css\">#chart-15a8682a-00f6-4889-be82-f350e0124441{-webkit-user-select:none;-webkit-font-smoothing:antialiased;font-family:Consolas,\"Liberation Mono\",Menlo,Courier,monospace}#chart-15a8682a-00f6-4889-be82-f350e0124441 .title{font-family:Consolas,\"Liberation Mono\",Menlo,Courier,monospace;font-size:16px}#chart-15a8682a-00f6-4889-be82-f350e0124441 .legends .legend text{font-family:Consolas,\"Liberation Mono\",Menlo,Courier,monospace;font-size:14px}#chart-15a8682a-00f6-4889-be82-f350e0124441 .axis text{font-family:Consolas,\"Liberation Mono\",Menlo,Courier,monospace;font-size:10px}#chart-15a8682a-00f6-4889-be82-f350e0124441 .axis text.major{font-family:Consolas,\"Liberation Mono\",Menlo,Courier,monospace;font-size:10px}#chart-15a8682a-00f6-4889-be82-f350e0124441 .text-overlay text.value{font-family:Consolas,\"Liberation Mono\",Menlo,Courier,monospace;font-size:16px}#chart-15a8682a-00f6-4889-be82-f350e0124441 .text-overlay text.label{font-family:Consolas,\"Liberation Mono\",Menlo,Courier,monospace;font-size:10px}#chart-15a8682a-00f6-4889-be82-f350e0124441 .tooltip{font-family:Consolas,\"Liberation Mono\",Menlo,Courier,monospace;font-size:14px}#chart-15a8682a-00f6-4889-be82-f350e0124441 text.no_data{font-family:Consolas,\"Liberation Mono\",Menlo,Courier,monospace;font-size:64px}\\n#chart-15a8682a-00f6-4889-be82-f350e0124441{background-color:rgba(249,249,249,1)}#chart-15a8682a-00f6-4889-be82-f350e0124441 path,#chart-15a8682a-00f6-4889-be82-f350e0124441 line,#chart-15a8682a-00f6-4889-be82-f350e0124441 rect,#chart-15a8682a-00f6-4889-be82-f350e0124441 circle{-webkit-transition:150ms;-moz-transition:150ms;transition:150ms}#chart-15a8682a-00f6-4889-be82-f350e0124441 .graph &gt; .background{fill:rgba(249,249,249,1)}#chart-15a8682a-00f6-4889-be82-f350e0124441 .plot &gt; .background{fill:rgba(255,255,255,1)}#chart-15a8682a-00f6-4889-be82-f350e0124441 .graph{fill:rgba(0,0,0,.87)}#chart-15a8682a-00f6-4889-be82-f350e0124441 text.no_data{fill:rgba(0,0,0,1)}#chart-15a8682a-00f6-4889-be82-f350e0124441 .title{fill:rgba(0,0,0,1)}#chart-15a8682a-00f6-4889-be82-f350e0124441 .legends .legend text{fill:rgba(0,0,0,.87)}#chart-15a8682a-00f6-4889-be82-f350e0124441 .legends .legend:hover text{fill:rgba(0,0,0,1)}#chart-15a8682a-00f6-4889-be82-f350e0124441 .axis .line{stroke:rgba(0,0,0,1)}#chart-15a8682a-00f6-4889-be82-f350e0124441 .axis .guide.line{stroke:rgba(0,0,0,.54)}#chart-15a8682a-00f6-4889-be82-f350e0124441 .axis .major.line{stroke:rgba(0,0,0,.87)}#chart-15a8682a-00f6-4889-be82-f350e0124441 .axis text.major{fill:rgba(0,0,0,1)}#chart-15a8682a-00f6-4889-be82-f350e0124441 .axis.y .guides:hover .guide.line,#chart-15a8682a-00f6-4889-be82-f350e0124441 .line-graph .axis.x .guides:hover .guide.line,#chart-15a8682a-00f6-4889-be82-f350e0124441 .stackedline-graph .axis.x .guides:hover .guide.line,#chart-15a8682a-00f6-4889-be82-f350e0124441 .xy-graph .axis.x .guides:hover .guide.line{stroke:rgba(0,0,0,1)}#chart-15a8682a-00f6-4889-be82-f350e0124441 .axis .guides:hover text{fill:rgba(0,0,0,1)}#chart-15a8682a-00f6-4889-be82-f350e0124441 .reactive{fill-opacity:.7;stroke-opacity:.8}#chart-15a8682a-00f6-4889-be82-f350e0124441 .ci{stroke:rgba(0,0,0,.87)}#chart-15a8682a-00f6-4889-be82-f350e0124441 .reactive.active,#chart-15a8682a-00f6-4889-be82-f350e0124441 .active .reactive{fill-opacity:.8;stroke-opacity:.9;stroke-width:4}#chart-15a8682a-00f6-4889-be82-f350e0124441 .ci .reactive.active{stroke-width:1.5}#chart-15a8682a-00f6-4889-be82-f350e0124441 .series text{fill:rgba(0,0,0,1)}#chart-15a8682a-00f6-4889-be82-f350e0124441 .tooltip rect{fill:rgba(255,255,255,1);stroke:rgba(0,0,0,1);-webkit-transition:opacity 150ms;-moz-transition:opacity 150ms;transition:opacity 150ms}#chart-15a8682a-00f6-4889-be82-f350e0124441 .tooltip .label{fill:rgba(0,0,0,.87)}#chart-15a8682a-00f6-4889-be82-f350e0124441 .tooltip .label{fill:rgba(0,0,0,.87)}#chart-15a8682a-00f6-4889-be82-f350e0124441 .tooltip .legend{font-size:.8em;fill:rgba(0,0,0,.54)}#chart-15a8682a-00f6-4889-be82-f350e0124441 .tooltip .x_label{font-size:.6em;fill:rgba(0,0,0,1)}#chart-15a8682a-00f6-4889-be82-f350e0124441 .tooltip .xlink{font-size:.5em;text-decoration:underline}#chart-15a8682a-00f6-4889-be82-f350e0124441 .tooltip .value{font-size:1.5em}#chart-15a8682a-00f6-4889-be82-f350e0124441 .bound{font-size:.5em}#chart-15a8682a-00f6-4889-be82-f350e0124441 .max-value{font-size:.75em;fill:rgba(0,0,0,.54)}#chart-15a8682a-00f6-4889-be82-f350e0124441 .map-element{fill:rgba(255,255,255,1);stroke:rgba(0,0,0,.54) !important}#chart-15a8682a-00f6-4889-be82-f350e0124441 .map-element .reactive{fill-opacity:inherit;stroke-opacity:inherit}#chart-15a8682a-00f6-4889-be82-f350e0124441 .color-0,#chart-15a8682a-00f6-4889-be82-f350e0124441 .color-0 a:visited{stroke:#F44336;fill:#F44336}#chart-15a8682a-00f6-4889-be82-f350e0124441 .text-overlay .color-0 text{fill:black}\\n#chart-15a8682a-00f6-4889-be82-f350e0124441 text.no_data{text-anchor:middle}#chart-15a8682a-00f6-4889-be82-f350e0124441 .guide.line{fill:none}#chart-15a8682a-00f6-4889-be82-f350e0124441 .centered{text-anchor:middle}#chart-15a8682a-00f6-4889-be82-f350e0124441 .title{text-anchor:middle}#chart-15a8682a-00f6-4889-be82-f350e0124441 .legends .legend text{fill-opacity:1}#chart-15a8682a-00f6-4889-be82-f350e0124441 .axis.x text{text-anchor:middle}#chart-15a8682a-00f6-4889-be82-f350e0124441 .axis.x:not(.web) text[transform]{text-anchor:start}#chart-15a8682a-00f6-4889-be82-f350e0124441 .axis.x:not(.web) text[transform].backwards{text-anchor:end}#chart-15a8682a-00f6-4889-be82-f350e0124441 .axis.y text{text-anchor:end}#chart-15a8682a-00f6-4889-be82-f350e0124441 .axis.y text[transform].backwards{text-anchor:start}#chart-15a8682a-00f6-4889-be82-f350e0124441 .axis.y2 text{text-anchor:start}#chart-15a8682a-00f6-4889-be82-f350e0124441 .axis.y2 text[transform].backwards{text-anchor:end}#chart-15a8682a-00f6-4889-be82-f350e0124441 .axis .guide.line{stroke-dasharray:4,4}#chart-15a8682a-00f6-4889-be82-f350e0124441 .axis .major.guide.line{stroke-dasharray:6,6}#chart-15a8682a-00f6-4889-be82-f350e0124441 .horizontal .axis.y .guide.line,#chart-15a8682a-00f6-4889-be82-f350e0124441 .horizontal .axis.y2 .guide.line,#chart-15a8682a-00f6-4889-be82-f350e0124441 .vertical .axis.x .guide.line{opacity:0}#chart-15a8682a-00f6-4889-be82-f350e0124441 .horizontal .axis.always_show .guide.line,#chart-15a8682a-00f6-4889-be82-f350e0124441 .vertical .axis.always_show .guide.line{opacity:1 !important}#chart-15a8682a-00f6-4889-be82-f350e0124441 .axis.y .guides:hover .guide.line,#chart-15a8682a-00f6-4889-be82-f350e0124441 .axis.y2 .guides:hover .guide.line,#chart-15a8682a-00f6-4889-be82-f350e0124441 .axis.x .guides:hover .guide.line{opacity:1}#chart-15a8682a-00f6-4889-be82-f350e0124441 .axis .guides:hover text{opacity:1}#chart-15a8682a-00f6-4889-be82-f350e0124441 .nofill{fill:none}#chart-15a8682a-00f6-4889-be82-f350e0124441 .subtle-fill{fill-opacity:.2}#chart-15a8682a-00f6-4889-be82-f350e0124441 .dot{stroke-width:1px;fill-opacity:1}#chart-15a8682a-00f6-4889-be82-f350e0124441 .dot.active{stroke-width:5px}#chart-15a8682a-00f6-4889-be82-f350e0124441 .dot.negative{fill:transparent}#chart-15a8682a-00f6-4889-be82-f350e0124441 text,#chart-15a8682a-00f6-4889-be82-f350e0124441 tspan{stroke:none !important}#chart-15a8682a-00f6-4889-be82-f350e0124441 .series text.active{opacity:1}#chart-15a8682a-00f6-4889-be82-f350e0124441 .tooltip rect{fill-opacity:.95;stroke-width:.5}#chart-15a8682a-00f6-4889-be82-f350e0124441 .tooltip text{fill-opacity:1}#chart-15a8682a-00f6-4889-be82-f350e0124441 .showable{visibility:hidden}#chart-15a8682a-00f6-4889-be82-f350e0124441 .showable.shown{visibility:visible}#chart-15a8682a-00f6-4889-be82-f350e0124441 .gauge-background{fill:rgba(229,229,229,1);stroke:none}#chart-15a8682a-00f6-4889-be82-f350e0124441 .bg-lines{stroke:rgba(249,249,249,1);stroke-width:2px}</style><script type=\"text/javascript\">window.pygal = window.pygal || {};window.pygal.config = window.pygal.config || {};window.pygal.config[\\'15a8682a-00f6-4889-be82-f350e0124441\\'] = {\"allow_interruptions\": false, \"box_mode\": \"extremes\", \"classes\": [\"pygal-chart\"], \"css\": [\"file://style.css\", \"file://graph.css\"], \"defs\": [], \"disable_xml_declaration\": false, \"dots_size\": 2.5, \"dynamic_print_values\": false, \"explicit_size\": false, \"fill\": false, \"force_uri_protocol\": \"https\", \"formatter\": null, \"half_pie\": false, \"height\": 600, \"include_x_axis\": false, \"inner_radius\": 0, \"interpolate\": null, \"interpolation_parameters\": {}, \"interpolation_precision\": 250, \"inverse_y_axis\": false, \"js\": [\"//kozea.github.io/pygal.js/2.0.x/pygal-tooltips.min.js\"], \"legend_at_bottom\": false, \"legend_at_bottom_columns\": null, \"legend_box_size\": 12, \"logarithmic\": false, \"margin\": 20, \"margin_bottom\": null, \"margin_left\": null, \"margin_right\": null, \"margin_top\": null, \"max_scale\": 16, \"min_scale\": 4, \"missing_value_fill_truncation\": \"x\", \"no_data_text\": \"No data\", \"no_prefix\": false, \"order_min\": null, \"pretty_print\": false, \"print_labels\": false, \"print_values\": false, \"print_values_position\": \"center\", \"print_zeroes\": true, \"range\": null, \"rounded_bars\": null, \"secondary_range\": null, \"show_dots\": true, \"show_legend\": true, \"show_minor_x_labels\": true, \"show_minor_y_labels\": true, \"show_only_major_dots\": false, \"show_x_guides\": false, \"show_x_labels\": true, \"show_y_guides\": true, \"show_y_labels\": true, \"spacing\": 10, \"stack_from_top\": false, \"strict\": false, \"stroke\": true, \"stroke_style\": null, \"style\": {\"background\": \"rgba(249, 249, 249, 1)\", \"ci_colors\": [], \"colors\": [\"#F44336\", \"#3F51B5\", \"#009688\", \"#FFC107\", \"#FF5722\", \"#9C27B0\", \"#03A9F4\", \"#8BC34A\", \"#FF9800\", \"#E91E63\", \"#2196F3\", \"#4CAF50\", \"#FFEB3B\", \"#673AB7\", \"#00BCD4\", \"#CDDC39\", \"#9E9E9E\", \"#607D8B\"], \"font_family\": \"Consolas, \\\\\"Liberation Mono\\\\\", Menlo, Courier, monospace\", \"foreground\": \"rgba(0, 0, 0, .87)\", \"foreground_strong\": \"rgba(0, 0, 0, 1)\", \"foreground_subtle\": \"rgba(0, 0, 0, .54)\", \"guide_stroke_dasharray\": \"4,4\", \"label_font_family\": \"Consolas, \\\\\"Liberation Mono\\\\\", Menlo, Courier, monospace\", \"label_font_size\": 10, \"legend_font_family\": \"Consolas, \\\\\"Liberation Mono\\\\\", Menlo, Courier, monospace\", \"legend_font_size\": 14, \"major_guide_stroke_dasharray\": \"6,6\", \"major_label_font_family\": \"Consolas, \\\\\"Liberation Mono\\\\\", Menlo, Courier, monospace\", \"major_label_font_size\": 10, \"no_data_font_family\": \"Consolas, \\\\\"Liberation Mono\\\\\", Menlo, Courier, monospace\", \"no_data_font_size\": 64, \"opacity\": \".7\", \"opacity_hover\": \".8\", \"plot_background\": \"rgba(255, 255, 255, 1)\", \"stroke_opacity\": \".8\", \"stroke_opacity_hover\": \".9\", \"title_font_family\": \"Consolas, \\\\\"Liberation Mono\\\\\", Menlo, Courier, monospace\", \"title_font_size\": 16, \"tooltip_font_family\": \"Consolas, \\\\\"Liberation Mono\\\\\", Menlo, Courier, monospace\", \"tooltip_font_size\": 14, \"transition\": \"150ms\", \"value_background\": \"rgba(229, 229, 229, 1)\", \"value_colors\": [], \"value_font_family\": \"Consolas, \\\\\"Liberation Mono\\\\\", Menlo, Courier, monospace\", \"value_font_size\": 16, \"value_label_font_family\": \"Consolas, \\\\\"Liberation Mono\\\\\", Menlo, Courier, monospace\", \"value_label_font_size\": 10}, \"title\": null, \"tooltip_border_radius\": 0, \"tooltip_fancy_mode\": true, \"truncate_label\": null, \"truncate_legend\": null, \"width\": 800, \"x_label_rotation\": 0, \"x_labels\": null, \"x_labels_major\": null, \"x_labels_major_count\": null, \"x_labels_major_every\": null, \"x_title\": null, \"xrange\": null, \"y_label_rotation\": 0, \"y_labels\": null, \"y_labels_major\": null, \"y_labels_major_count\": null, \"y_labels_major_every\": null, \"y_title\": null, \"zero\": 0, \"legends\": [\"Fibonacci\"]}</script><script type=\"text/javascript\" xlink:href=\"https://kozea.github.io/pygal.js/2.0.x/pygal-tooltips.min.js\"/></defs><title>Pygal</title><g class=\"graph bar-graph vertical\"><rect x=\"0\" y=\"0\" width=\"800\" height=\"600\" class=\"background\"/><g transform=\"translate(139, 20)\" class=\"plot\"><rect x=\"0\" y=\"0\" width=\"640.4\" height=\"560\" class=\"background\"/><g class=\"axis y always_show\"><g class=\"guides\"><path d=\"M0.000000 549.230769 h640.400000\" class=\"axis major line\"/><text x=\"-5\" y=\"552.7307692307693\" class=\"major\">0</text><title>0</title></g><g class=\"guides\"><path d=\"M0.000000 451.328671 h640.400000\" class=\"guide line\"/><text x=\"-5\" y=\"454.82867132867136\" class=\"\">10</text><title>10</title></g><g class=\"guides\"><path d=\"M0.000000 353.426573 h640.400000\" class=\"guide line\"/><text x=\"-5\" y=\"356.92657342657344\" class=\"\">20</text><title>20</title></g><g class=\"guides\"><path d=\"M0.000000 255.524476 h640.400000\" class=\"guide line\"/><text x=\"-5\" y=\"259.0244755244755\" class=\"\">30</text><title>30</title></g><g class=\"guides\"><path d=\"M0.000000 157.622378 h640.400000\" class=\"guide line\"/><text x=\"-5\" y=\"161.12237762237766\" class=\"\">40</text><title>40</title></g><g class=\"guides\"><path d=\"M0.000000 59.720280 h640.400000\" class=\"major guide line\"/><text x=\"-5\" y=\"63.220279720279734\" class=\"major\">50</text><title>50</title></g></g><g class=\"series serie-0 color-0\"><g class=\"bars\"><g class=\"bar\"><rect x=\"18.62981818181818\" y=\"549.2307692307693\" rx=\"0\" ry=\"0\" width=\"43.350153846153844\" height=\"0.0\" class=\"rect reactive tooltip-trigger\"/><desc class=\"value\">0</desc><desc class=\"x centered\">40.3048951048951</desc><desc class=\"y centered\">549.2307692307693</desc></g><g class=\"bar\"><rect x=\"74.60883916083917\" y=\"539.4405594405595\" rx=\"0\" ry=\"0\" width=\"43.350153846153844\" height=\"9.790209790209815\" class=\"rect reactive tooltip-trigger\"/><desc class=\"value\">1</desc><desc class=\"x centered\">96.2839160839161</desc><desc class=\"y centered\">544.3356643356644</desc></g><g class=\"bar\"><rect x=\"130.58786013986014\" y=\"539.4405594405595\" rx=\"0\" ry=\"0\" width=\"43.350153846153844\" height=\"9.790209790209815\" class=\"rect reactive tooltip-trigger\"/><desc class=\"value\">1</desc><desc class=\"x centered\">152.26293706293706</desc><desc class=\"y centered\">544.3356643356644</desc></g><g class=\"bar\"><rect x=\"186.5668811188811\" y=\"529.6503496503497\" rx=\"0\" ry=\"0\" width=\"43.350153846153844\" height=\"19.58041958041963\" class=\"rect reactive tooltip-trigger\"/><desc class=\"value\">2</desc><desc class=\"x centered\">208.24195804195801</desc><desc class=\"y centered\">539.4405594405595</desc></g><g class=\"bar\"><rect x=\"242.54590209790211\" y=\"519.8601398601398\" rx=\"0\" ry=\"0\" width=\"43.350153846153844\" height=\"29.370629370629445\" class=\"rect reactive tooltip-trigger\"/><desc class=\"value\">3</desc><desc class=\"x centered\">264.22097902097903</desc><desc class=\"y centered\">534.5454545454545</desc></g><g class=\"bar\"><rect x=\"298.524923076923\" y=\"500.27972027972027\" rx=\"0\" ry=\"0\" width=\"43.350153846153844\" height=\"48.95104895104902\" class=\"rect reactive tooltip-trigger\"/><desc class=\"value\">5</desc><desc class=\"x centered\">320.19999999999993</desc><desc class=\"y centered\">524.7552447552448</desc></g><g class=\"bar\"><rect x=\"354.50394405594403\" y=\"470.9090909090909\" rx=\"0\" ry=\"0\" width=\"43.350153846153844\" height=\"78.3216783216784\" class=\"rect reactive tooltip-trigger\"/><desc class=\"value\">8</desc><desc class=\"x centered\">376.17902097902095</desc><desc class=\"y centered\">510.0699300699301</desc></g><g class=\"bar\"><rect x=\"410.48296503496493\" y=\"421.958041958042\" rx=\"0\" ry=\"0\" width=\"43.350153846153844\" height=\"127.27272727272731\" class=\"rect reactive tooltip-trigger\"/><desc class=\"value\">13</desc><desc class=\"x centered\">432.15804195804185</desc><desc class=\"y centered\">485.59440559440566</desc></g><g class=\"bar\"><rect x=\"466.46198601398595\" y=\"343.6363636363636\" rx=\"0\" ry=\"0\" width=\"43.350153846153844\" height=\"205.59440559440566\" class=\"rect reactive tooltip-trigger\"/><desc class=\"value\">21</desc><desc class=\"x centered\">488.13706293706286</desc><desc class=\"y centered\">446.43356643356645</desc></g><g class=\"bar\"><rect x=\"522.441006993007\" y=\"216.36363636363637\" rx=\"0\" ry=\"0\" width=\"43.350153846153844\" height=\"332.8671328671329\" class=\"rect reactive tooltip-trigger\"/><desc class=\"value\">34</desc><desc class=\"x centered\">544.116083916084</desc><desc class=\"y centered\">382.79720279720283</desc></g><g class=\"bar\"><rect x=\"578.4200279720278\" y=\"10.76923076923083\" rx=\"0\" ry=\"0\" width=\"43.350153846153844\" height=\"538.4615384615385\" class=\"rect reactive tooltip-trigger\"/><desc class=\"value\">55</desc><desc class=\"x centered\">600.0951048951048</desc><desc class=\"y centered\">280.00000000000006</desc></g></g></g></g><g class=\"titles\"/><g transform=\"translate(139, 20)\" class=\"plot overlay\"><g class=\"series serie-0 color-0\"/></g><g transform=\"translate(139, 20)\" class=\"plot text-overlay\"><g class=\"series serie-0 color-0\"/></g><g transform=\"translate(139, 20)\" class=\"plot tooltip-overlay\"><g transform=\"translate(0 0)\" style=\"opacity: 0\" class=\"tooltip\"><rect rx=\"0\" ry=\"0\" width=\"0\" height=\"0\" class=\"tooltip-box\"/><g class=\"text\"/></g></g><g transform=\"translate(10, 30)\" class=\"legends\"><g id=\"activate-serie-0\" class=\"legend reactive activate-serie\"><rect x=\"0.0\" y=\"1.0\" width=\"12\" height=\"12\" class=\"color-0 reactive\"/><text x=\"17.0\" y=\"11.2\">Fibonacci</text></g></g><g transform=\"translate(790, 30)\" class=\"legends\"/></g></svg>'"
      ]
     },
     "execution_count": 4,
     "metadata": {},
     "output_type": "execute_result"
    }
   ],
   "source": [
    "bar_chart = pygal.Bar()\n",
    "bar_chart.add('Fibonacci', [0, 1, 1, 2, 3, 5, 8, 13, 21, 34, 55])\n",
    "bar_chart.render()"
   ]
  },
  {
   "cell_type": "code",
   "execution_count": null,
   "id": "776f0de3",
   "metadata": {},
   "outputs": [],
   "source": []
  },
  {
   "cell_type": "code",
   "execution_count": null,
   "id": "9b4f5dee",
   "metadata": {},
   "outputs": [],
   "source": []
  },
  {
   "cell_type": "code",
   "execution_count": null,
   "id": "7e9ee979",
   "metadata": {},
   "outputs": [],
   "source": []
  },
  {
   "cell_type": "code",
   "execution_count": null,
   "id": "7abf0a8a",
   "metadata": {},
   "outputs": [],
   "source": []
  },
  {
   "cell_type": "code",
   "execution_count": null,
   "id": "6430b5c3",
   "metadata": {},
   "outputs": [],
   "source": []
  },
  {
   "cell_type": "code",
   "execution_count": null,
   "id": "f65a8900",
   "metadata": {},
   "outputs": [],
   "source": []
  },
  {
   "cell_type": "code",
   "execution_count": null,
   "id": "6a28dff9",
   "metadata": {},
   "outputs": [],
   "source": []
  }
 ],
 "metadata": {
  "kernelspec": {
   "display_name": "learn-env",
   "language": "python",
   "name": "learn-env"
  },
  "language_info": {
   "codemirror_mode": {
    "name": "ipython",
    "version": 3
   },
   "file_extension": ".py",
   "mimetype": "text/x-python",
   "name": "python",
   "nbconvert_exporter": "python",
   "pygments_lexer": "ipython3",
   "version": "3.6.9"
  },
  "toc": {
   "base_numbering": 1,
   "nav_menu": {},
   "number_sections": true,
   "sideBar": true,
   "skip_h1_title": false,
   "title_cell": "Table of Contents",
   "title_sidebar": "Contents",
   "toc_cell": false,
   "toc_position": {},
   "toc_section_display": true,
   "toc_window_display": false
  }
 },
 "nbformat": 4,
 "nbformat_minor": 5
}
