{
 "cells": [
  {
   "cell_type": "markdown",
   "id": "1dd25a1d",
   "metadata": {
    "ExecuteTime": {
     "end_time": "2021-06-24T18:28:44.902687Z",
     "start_time": "2021-06-24T18:28:44.899954Z"
    }
   },
   "source": [
    "# Comma"
   ]
  },
  {
   "cell_type": "code",
   "execution_count": 3,
   "id": "ea2f1dd2",
   "metadata": {
    "ExecuteTime": {
     "end_time": "2021-06-24T17:57:08.222333Z",
     "start_time": "2021-06-24T17:57:07.747492Z"
    }
   },
   "outputs": [],
   "source": [
    "import comma"
   ]
  },
  {
   "cell_type": "code",
   "execution_count": 21,
   "id": "ed88b1c8",
   "metadata": {
    "ExecuteTime": {
     "end_time": "2021-06-24T18:01:42.802058Z",
     "start_time": "2021-06-24T18:01:42.543277Z"
    }
   },
   "outputs": [],
   "source": [
    "df = pd.read_csv('https://raw.githubusercontent.com/DinoChiesa/Apigee-Csv-Shredder/master/csv/Sacramento-RealEstate-Transactions.csv')\n",
    "table = comma.load('https://raw.githubusercontent.com/DinoChiesa/Apigee-Csv-Shredder/master/csv/Sacramento-RealEstate-Transactions.csv')"
   ]
  },
  {
   "cell_type": "code",
   "execution_count": 22,
   "id": "fa575677",
   "metadata": {
    "ExecuteTime": {
     "end_time": "2021-06-24T18:01:43.010882Z",
     "start_time": "2021-06-24T18:01:43.004521Z"
    },
    "scrolled": true
   },
   "outputs": [
    {
     "data": {
      "text/html": [
       "<table style='text-align: left;'><tr><th>street</th>\n",
       "<th>city</th>\n",
       "<th>zip</th>\n",
       "<th>state</th>\n",
       "<th>beds</th>\n",
       "<th>baths</th>\n",
       "<th>sqft</th>\n",
       "<th>type</th>\n",
       "<th>sale_date</th>\n",
       "<th>price</th>\n",
       "<th>latitude</th>\n",
       "<th>longitude</th></tr>\n",
       "\n",
       "<tr><td style='text-align: left;'>3526 HIGH ST</td>\n",
       "    <td style='text-align: left;'>SACRAMENTO</td>\n",
       "    <td style='text-align: left;'>95838</td>\n",
       "    <td style='text-align: left;'>CA</td>\n",
       "    <td style='text-align: left;'>2</td>\n",
       "    <td style='text-align: left;'>1</td>\n",
       "    <td style='text-align: left;'>836</td>\n",
       "    <td style='text-align: left;'>Residential</td>\n",
       "    <td style='text-align: left;'>Wed May 21 00:00:00 EDT 2008</td>\n",
       "    <td style='text-align: left;'>59222</td>\n",
       "    <td style='text-align: left;'>38.631913</td>\n",
       "    <td style='text-align: left;'>-121.434879</td></tr>\n",
       "\n",
       "<tr><td style='text-align: left;'>51 OMAHA CT</td>\n",
       "    <td style='text-align: left;'>SACRAMENTO</td>\n",
       "    <td style='text-align: left;'>95823</td>\n",
       "    <td style='text-align: left;'>CA</td>\n",
       "    <td style='text-align: left;'>3</td>\n",
       "    <td style='text-align: left;'>1</td>\n",
       "    <td style='text-align: left;'>1167</td>\n",
       "    <td style='text-align: left;'>Residential</td>\n",
       "    <td style='text-align: left;'>Wed May 21 00:00:00 EDT 2008</td>\n",
       "    <td style='text-align: left;'>68212</td>\n",
       "    <td style='text-align: left;'>38.478902</td>\n",
       "    <td style='text-align: left;'>-121.431028</td></tr>\n",
       "\n",
       "<tr><td style='text-align: left;'>2796 BRANCH ST</td>\n",
       "    <td style='text-align: left;'>SACRAMENTO</td>\n",
       "    <td style='text-align: left;'>95815</td>\n",
       "    <td style='text-align: left;'>CA</td>\n",
       "    <td style='text-align: left;'>2</td>\n",
       "    <td style='text-align: left;'>1</td>\n",
       "    <td style='text-align: left;'>796</td>\n",
       "    <td style='text-align: left;'>Residential</td>\n",
       "    <td style='text-align: left;'>Wed May 21 00:00:00 EDT 2008</td>\n",
       "    <td style='text-align: left;'>68880</td>\n",
       "    <td style='text-align: left;'>38.618305</td>\n",
       "    <td style='text-align: left;'>-121.443839</td></tr>\n",
       "\n",
       "<tr><td style='text-align: left;'>2805 JANETTE WAY</td>\n",
       "    <td style='text-align: left;'>SACRAMENTO</td>\n",
       "    <td style='text-align: left;'>95815</td>\n",
       "    <td style='text-align: left;'>CA</td>\n",
       "    <td style='text-align: left;'>2</td>\n",
       "    <td style='text-align: left;'>1</td>\n",
       "    <td style='text-align: left;'>852</td>\n",
       "    <td style='text-align: left;'>Residential</td>\n",
       "    <td style='text-align: left;'>Wed May 21 00:00:00 EDT 2008</td>\n",
       "    <td style='text-align: left;'>69307</td>\n",
       "    <td style='text-align: left;'>38.616835</td>\n",
       "    <td style='text-align: left;'>-121.439146</td></tr></table>"
      ],
      "text/plain": [
       "[{'street': '3526 HIGH ST', 'city': 'SACRAMENTO', 'zip': '95838', 'state': 'CA', 'beds': '2', 'baths': '1', 'sqft': '836', 'type': 'Residential', 'sale_date': 'Wed May 21 00:00:00 EDT 2008', 'price': '59222', 'latitude': '38.631913', 'longitude': '-121.434879'}, {'street': '51 OMAHA CT', 'city': 'SACRAMENTO', 'zip': '95823', 'state': 'CA', 'beds': '3', 'baths': '1', 'sqft': '1167', 'type': 'Residential', 'sale_date': 'Wed May 21 00:00:00 EDT 2008', 'price': '68212', 'latitude': '38.478902', 'longitude': '-121.431028'}, {'street': '2796 BRANCH ST', 'city': 'SACRAMENTO', 'zip': '95815', 'state': 'CA', 'beds': '2', 'baths': '1', 'sqft': '796', 'type': 'Residential', 'sale_date': 'Wed May 21 00:00:00 EDT 2008', 'price': '68880', 'latitude': '38.618305', 'longitude': '-121.443839'}, {'street': '2805 JANETTE WAY', 'city': 'SACRAMENTO', 'zip': '95815', 'state': 'CA', 'beds': '2', 'baths': '1', 'sqft': '852', 'type': 'Residential', 'sale_date': 'Wed May 21 00:00:00 EDT 2008', 'price': '69307', 'latitude': '38.616835', 'longitude': '-121.439146'}]"
      ]
     },
     "execution_count": 22,
     "metadata": {},
     "output_type": "execute_result"
    }
   ],
   "source": [
    "table[0:4]"
   ]
  },
  {
   "cell_type": "code",
   "execution_count": 23,
   "id": "d7671a8b",
   "metadata": {
    "ExecuteTime": {
     "end_time": "2021-06-24T18:01:43.538168Z",
     "start_time": "2021-06-24T18:01:43.532756Z"
    }
   },
   "outputs": [
    {
     "data": {
      "text/html": [
       "<table style='text-align: left;'><tr><th>street</th>\n",
       "<th>city</th>\n",
       "<th>zip</th>\n",
       "<th>state</th>\n",
       "<th>beds</th>\n",
       "<th>baths</th>\n",
       "<th>sqft</th>\n",
       "<th>type</th>\n",
       "<th>sale_date</th>\n",
       "<th>price</th>\n",
       "<th>latitude</th>\n",
       "<th>longitude</th></tr>\n",
       "\n",
       "<tr><td style='text-align: left;'>3526 HIGH ST</td>\n",
       "    <td style='text-align: left;'>SACRAMENTO</td>\n",
       "    <td style='text-align: left;'>95838</td>\n",
       "    <td style='text-align: left;'>CA</td>\n",
       "    <td style='text-align: left;'>2</td>\n",
       "    <td style='text-align: left;'>1</td>\n",
       "    <td style='text-align: left;'>836</td>\n",
       "    <td style='text-align: left;'>Residential</td>\n",
       "    <td style='text-align: left;'>Wed May 21 00:00:00 EDT 2008</td>\n",
       "    <td style='text-align: left;'>59222</td>\n",
       "    <td style='text-align: left;'>38.631913</td>\n",
       "    <td style='text-align: left;'>-121.434879</td></tr>\n",
       "\n",
       "<tr><td style='text-align: left;'>51 OMAHA CT</td>\n",
       "    <td style='text-align: left;'>SACRAMENTO</td>\n",
       "    <td style='text-align: left;'>95823</td>\n",
       "    <td style='text-align: left;'>CA</td>\n",
       "    <td style='text-align: left;'>3</td>\n",
       "    <td style='text-align: left;'>1</td>\n",
       "    <td style='text-align: left;'>1167</td>\n",
       "    <td style='text-align: left;'>Residential</td>\n",
       "    <td style='text-align: left;'>Wed May 21 00:00:00 EDT 2008</td>\n",
       "    <td style='text-align: left;'>68212</td>\n",
       "    <td style='text-align: left;'>38.478902</td>\n",
       "    <td style='text-align: left;'>-121.431028</td></tr>\n",
       "\n",
       "<tr><td style='text-align: left;'>2796 BRANCH ST</td>\n",
       "    <td style='text-align: left;'>SACRAMENTO</td>\n",
       "    <td style='text-align: left;'>95815</td>\n",
       "    <td style='text-align: left;'>CA</td>\n",
       "    <td style='text-align: left;'>2</td>\n",
       "    <td style='text-align: left;'>1</td>\n",
       "    <td style='text-align: left;'>796</td>\n",
       "    <td style='text-align: left;'>Residential</td>\n",
       "    <td style='text-align: left;'>Wed May 21 00:00:00 EDT 2008</td>\n",
       "    <td style='text-align: left;'>68880</td>\n",
       "    <td style='text-align: left;'>38.618305</td>\n",
       "    <td style='text-align: left;'>-121.443839</td></tr>\n",
       "\n",
       "<tr><td style='text-align: left;'>2805 JANETTE WAY</td>\n",
       "    <td style='text-align: left;'>SACRAMENTO</td>\n",
       "    <td style='text-align: left;'>95815</td>\n",
       "    <td style='text-align: left;'>CA</td>\n",
       "    <td style='text-align: left;'>2</td>\n",
       "    <td style='text-align: left;'>1</td>\n",
       "    <td style='text-align: left;'>852</td>\n",
       "    <td style='text-align: left;'>Residential</td>\n",
       "    <td style='text-align: left;'>Wed May 21 00:00:00 EDT 2008</td>\n",
       "    <td style='text-align: left;'>69307</td>\n",
       "    <td style='text-align: left;'>38.616835</td>\n",
       "    <td style='text-align: left;'>-121.439146</td></tr></table>"
      ],
      "text/plain": [
       "[{'street': '3526 HIGH ST', 'city': 'SACRAMENTO', 'zip': '95838', 'state': 'CA', 'beds': '2', 'baths': '1', 'sqft': '836', 'type': 'Residential', 'sale_date': 'Wed May 21 00:00:00 EDT 2008', 'price': '59222', 'latitude': '38.631913', 'longitude': '-121.434879'}, {'street': '51 OMAHA CT', 'city': 'SACRAMENTO', 'zip': '95823', 'state': 'CA', 'beds': '3', 'baths': '1', 'sqft': '1167', 'type': 'Residential', 'sale_date': 'Wed May 21 00:00:00 EDT 2008', 'price': '68212', 'latitude': '38.478902', 'longitude': '-121.431028'}, {'street': '2796 BRANCH ST', 'city': 'SACRAMENTO', 'zip': '95815', 'state': 'CA', 'beds': '2', 'baths': '1', 'sqft': '796', 'type': 'Residential', 'sale_date': 'Wed May 21 00:00:00 EDT 2008', 'price': '68880', 'latitude': '38.618305', 'longitude': '-121.443839'}, {'street': '2805 JANETTE WAY', 'city': 'SACRAMENTO', 'zip': '95815', 'state': 'CA', 'beds': '2', 'baths': '1', 'sqft': '852', 'type': 'Residential', 'sale_date': 'Wed May 21 00:00:00 EDT 2008', 'price': '69307', 'latitude': '38.616835', 'longitude': '-121.439146'}]"
      ]
     },
     "execution_count": 23,
     "metadata": {},
     "output_type": "execute_result"
    }
   ],
   "source": [
    "table[0:4]"
   ]
  },
  {
   "cell_type": "code",
   "execution_count": 49,
   "id": "0081d1fe",
   "metadata": {
    "ExecuteTime": {
     "end_time": "2021-06-24T18:26:25.545526Z",
     "start_time": "2021-06-24T18:26:25.540798Z"
    }
   },
   "outputs": [
    {
     "data": {
      "text/plain": [
       "['3526 HIGH ST', '51 OMAHA CT', '2796 BRANCH ST', '2805 JANETTE WAY']"
      ]
     },
     "execution_count": 49,
     "metadata": {},
     "output_type": "execute_result"
    }
   ],
   "source": [
    "streets = table[0:4]['street']\n",
    "streets"
   ]
  },
  {
   "cell_type": "code",
   "execution_count": 36,
   "id": "ae9f2fc2",
   "metadata": {
    "ExecuteTime": {
     "end_time": "2021-06-24T18:23:33.213050Z",
     "start_time": "2021-06-24T18:23:33.208391Z"
    }
   },
   "outputs": [
    {
     "data": {
      "text/plain": [
       "comma.classes.slices.CommaFieldSlice"
      ]
     },
     "execution_count": 36,
     "metadata": {},
     "output_type": "execute_result"
    }
   ],
   "source": [
    "type(streets)"
   ]
  },
  {
   "cell_type": "code",
   "execution_count": 39,
   "id": "6e889251",
   "metadata": {
    "ExecuteTime": {
     "end_time": "2021-06-24T18:23:52.688903Z",
     "start_time": "2021-06-24T18:23:52.684365Z"
    }
   },
   "outputs": [
    {
     "data": {
      "text/plain": [
       "list"
      ]
     },
     "execution_count": 39,
     "metadata": {},
     "output_type": "execute_result"
    }
   ],
   "source": [
    "streets = list(street_list)\n",
    "type(streets)"
   ]
  },
  {
   "cell_type": "code",
   "execution_count": 55,
   "id": "0cafc05d",
   "metadata": {
    "ExecuteTime": {
     "end_time": "2021-06-24T18:32:50.880014Z",
     "start_time": "2021-06-24T18:32:50.873327Z"
    },
    "scrolled": false
   },
   "outputs": [
    {
     "data": {
      "text/plain": [
       "[['3526 HIGH ST'], ['51 OMAHA CT'], ['2796 BRANCH ST'], ['2805 JANETTE WAY']]"
      ]
     },
     "execution_count": 55,
     "metadata": {},
     "output_type": "execute_result"
    }
   ],
   "source": [
    "df.iloc[0:4,0:1].values.tolist()"
   ]
  },
  {
   "cell_type": "markdown",
   "id": "dd3e01ef",
   "metadata": {},
   "source": [
    "# Eli 5"
   ]
  },
  {
   "cell_type": "code",
   "execution_count": 71,
   "id": "7dc4cd53",
   "metadata": {
    "ExecuteTime": {
     "end_time": "2021-06-24T23:51:39.171952Z",
     "start_time": "2021-06-24T23:51:39.151543Z"
    },
    "scrolled": true
   },
   "outputs": [
    {
     "data": {
      "text/html": [
       "<div>\n",
       "<style scoped>\n",
       "    .dataframe tbody tr th:only-of-type {\n",
       "        vertical-align: middle;\n",
       "    }\n",
       "\n",
       "    .dataframe tbody tr th {\n",
       "        vertical-align: top;\n",
       "    }\n",
       "\n",
       "    .dataframe thead th {\n",
       "        text-align: right;\n",
       "    }\n",
       "</style>\n",
       "<table border=\"1\" class=\"dataframe\">\n",
       "  <thead>\n",
       "    <tr style=\"text-align: right;\">\n",
       "      <th></th>\n",
       "      <th>sepal length (cm)</th>\n",
       "      <th>sepal width (cm)</th>\n",
       "      <th>petal length (cm)</th>\n",
       "      <th>petal width (cm)</th>\n",
       "    </tr>\n",
       "  </thead>\n",
       "  <tbody>\n",
       "    <tr>\n",
       "      <th>0</th>\n",
       "      <td>5.1</td>\n",
       "      <td>3.5</td>\n",
       "      <td>1.4</td>\n",
       "      <td>0.2</td>\n",
       "    </tr>\n",
       "    <tr>\n",
       "      <th>1</th>\n",
       "      <td>4.9</td>\n",
       "      <td>3.0</td>\n",
       "      <td>1.4</td>\n",
       "      <td>0.2</td>\n",
       "    </tr>\n",
       "    <tr>\n",
       "      <th>2</th>\n",
       "      <td>4.7</td>\n",
       "      <td>3.2</td>\n",
       "      <td>1.3</td>\n",
       "      <td>0.2</td>\n",
       "    </tr>\n",
       "    <tr>\n",
       "      <th>3</th>\n",
       "      <td>4.6</td>\n",
       "      <td>3.1</td>\n",
       "      <td>1.5</td>\n",
       "      <td>0.2</td>\n",
       "    </tr>\n",
       "    <tr>\n",
       "      <th>4</th>\n",
       "      <td>5.0</td>\n",
       "      <td>3.6</td>\n",
       "      <td>1.4</td>\n",
       "      <td>0.2</td>\n",
       "    </tr>\n",
       "  </tbody>\n",
       "</table>\n",
       "</div>"
      ],
      "text/plain": [
       "   sepal length (cm)  sepal width (cm)  petal length (cm)  petal width (cm)\n",
       "0                5.1               3.5                1.4               0.2\n",
       "1                4.9               3.0                1.4               0.2\n",
       "2                4.7               3.2                1.3               0.2\n",
       "3                4.6               3.1                1.5               0.2\n",
       "4                5.0               3.6                1.4               0.2"
      ]
     },
     "execution_count": 71,
     "metadata": {},
     "output_type": "execute_result"
    }
   ],
   "source": [
    "from sklearn.datasets import load_iris\n",
    "import pandas as pd\n",
    "\n",
    "data = load_iris()\n",
    "df = pd.DataFrame(data.data, columns=data.feature_names)\n",
    "df.head()"
   ]
  },
  {
   "cell_type": "code",
   "execution_count": null,
   "id": "5e67fc99",
   "metadata": {},
   "outputs": [],
   "source": []
  },
  {
   "cell_type": "code",
   "execution_count": null,
   "id": "db4434b0",
   "metadata": {},
   "outputs": [],
   "source": []
  },
  {
   "cell_type": "code",
   "execution_count": null,
   "id": "b54ac1f3",
   "metadata": {},
   "outputs": [],
   "source": []
  },
  {
   "cell_type": "code",
   "execution_count": null,
   "id": "02d07f76",
   "metadata": {},
   "outputs": [],
   "source": [
    "# Iterating through Logistic Regression Model\n",
    "log_reg = LogisticRegression(class_weight='balanced', max_iter=1000)\n",
    "\n",
    "# Fitting model to the train set\n",
    "log_reg.fit(X_train, y_train)\n",
    "\n",
    "# Predicting with the Test set\n",
    "y_pred = log_reg.predict(X_test)\n",
    "\n",
    "# Printing accuracy score\n",
    "print('Accuracy score: ' + str(accuracy_score(y_test, y_pred)))"
   ]
  },
  {
   "cell_type": "code",
   "execution_count": null,
   "id": "7abf0a8a",
   "metadata": {},
   "outputs": [],
   "source": []
  },
  {
   "cell_type": "code",
   "execution_count": null,
   "id": "6430b5c3",
   "metadata": {},
   "outputs": [],
   "source": []
  },
  {
   "cell_type": "code",
   "execution_count": null,
   "id": "f65a8900",
   "metadata": {},
   "outputs": [],
   "source": []
  },
  {
   "cell_type": "code",
   "execution_count": null,
   "id": "6a28dff9",
   "metadata": {},
   "outputs": [],
   "source": []
  }
 ],
 "metadata": {
  "kernelspec": {
   "display_name": "learn-env",
   "language": "python",
   "name": "learn-env"
  },
  "language_info": {
   "codemirror_mode": {
    "name": "ipython",
    "version": 3
   },
   "file_extension": ".py",
   "mimetype": "text/x-python",
   "name": "python",
   "nbconvert_exporter": "python",
   "pygments_lexer": "ipython3",
   "version": "3.6.9"
  },
  "toc": {
   "base_numbering": 1,
   "nav_menu": {},
   "number_sections": true,
   "sideBar": true,
   "skip_h1_title": false,
   "title_cell": "Table of Contents",
   "title_sidebar": "Contents",
   "toc_cell": false,
   "toc_position": {},
   "toc_section_display": true,
   "toc_window_display": false
  }
 },
 "nbformat": 4,
 "nbformat_minor": 5
}
