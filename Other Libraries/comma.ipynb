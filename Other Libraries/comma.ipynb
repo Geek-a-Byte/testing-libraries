{
 "cells": [
  {
   "cell_type": "markdown",
   "id": "1dd25a1d",
   "metadata": {
    "ExecuteTime": {
     "end_time": "2021-06-24T18:28:44.902687Z",
     "start_time": "2021-06-24T18:28:44.899954Z"
    }
   },
   "source": [
    "# Comma"
   ]
  },
  {
   "cell_type": "code",
   "execution_count": 18,
   "id": "ea2f1dd2",
   "metadata": {
    "ExecuteTime": {
     "end_time": "2021-06-25T18:38:31.260931Z",
     "start_time": "2021-06-25T18:38:31.026118Z"
    }
   },
   "outputs": [],
   "source": [
    "import comma"
   ]
  },
  {
   "cell_type": "code",
   "execution_count": 19,
   "id": "ed88b1c8",
   "metadata": {
    "ExecuteTime": {
     "end_time": "2021-06-25T18:38:32.187730Z",
     "start_time": "2021-06-25T18:38:31.263356Z"
    }
   },
   "outputs": [
    {
     "data": {
      "application/javascript": [
       "\n",
       "        if (window._pyforest_update_imports_cell) { window._pyforest_update_imports_cell('import pandas as pd'); }\n",
       "    "
      ],
      "text/plain": [
       "<IPython.core.display.Javascript object>"
      ]
     },
     "metadata": {},
     "output_type": "display_data"
    }
   ],
   "source": [
    "df = pd.read_csv('https://raw.githubusercontent.com/DinoChiesa/Apigee-Csv-Shredder/master/csv/Sacramento-RealEstate-Transactions.csv')\n",
    "table = comma.load('https://raw.githubusercontent.com/DinoChiesa/Apigee-Csv-Shredder/master/csv/Sacramento-RealEstate-Transactions.csv')"
   ]
  },
  {
   "cell_type": "code",
   "execution_count": 22,
   "id": "fa575677",
   "metadata": {
    "ExecuteTime": {
     "end_time": "2021-06-24T18:01:43.010882Z",
     "start_time": "2021-06-24T18:01:43.004521Z"
    },
    "scrolled": true
   },
   "outputs": [
    {
     "data": {
      "text/html": [
       "<table style='text-align: left;'><tr><th>street</th>\n",
       "<th>city</th>\n",
       "<th>zip</th>\n",
       "<th>state</th>\n",
       "<th>beds</th>\n",
       "<th>baths</th>\n",
       "<th>sqft</th>\n",
       "<th>type</th>\n",
       "<th>sale_date</th>\n",
       "<th>price</th>\n",
       "<th>latitude</th>\n",
       "<th>longitude</th></tr>\n",
       "\n",
       "<tr><td style='text-align: left;'>3526 HIGH ST</td>\n",
       "    <td style='text-align: left;'>SACRAMENTO</td>\n",
       "    <td style='text-align: left;'>95838</td>\n",
       "    <td style='text-align: left;'>CA</td>\n",
       "    <td style='text-align: left;'>2</td>\n",
       "    <td style='text-align: left;'>1</td>\n",
       "    <td style='text-align: left;'>836</td>\n",
       "    <td style='text-align: left;'>Residential</td>\n",
       "    <td style='text-align: left;'>Wed May 21 00:00:00 EDT 2008</td>\n",
       "    <td style='text-align: left;'>59222</td>\n",
       "    <td style='text-align: left;'>38.631913</td>\n",
       "    <td style='text-align: left;'>-121.434879</td></tr>\n",
       "\n",
       "<tr><td style='text-align: left;'>51 OMAHA CT</td>\n",
       "    <td style='text-align: left;'>SACRAMENTO</td>\n",
       "    <td style='text-align: left;'>95823</td>\n",
       "    <td style='text-align: left;'>CA</td>\n",
       "    <td style='text-align: left;'>3</td>\n",
       "    <td style='text-align: left;'>1</td>\n",
       "    <td style='text-align: left;'>1167</td>\n",
       "    <td style='text-align: left;'>Residential</td>\n",
       "    <td style='text-align: left;'>Wed May 21 00:00:00 EDT 2008</td>\n",
       "    <td style='text-align: left;'>68212</td>\n",
       "    <td style='text-align: left;'>38.478902</td>\n",
       "    <td style='text-align: left;'>-121.431028</td></tr>\n",
       "\n",
       "<tr><td style='text-align: left;'>2796 BRANCH ST</td>\n",
       "    <td style='text-align: left;'>SACRAMENTO</td>\n",
       "    <td style='text-align: left;'>95815</td>\n",
       "    <td style='text-align: left;'>CA</td>\n",
       "    <td style='text-align: left;'>2</td>\n",
       "    <td style='text-align: left;'>1</td>\n",
       "    <td style='text-align: left;'>796</td>\n",
       "    <td style='text-align: left;'>Residential</td>\n",
       "    <td style='text-align: left;'>Wed May 21 00:00:00 EDT 2008</td>\n",
       "    <td style='text-align: left;'>68880</td>\n",
       "    <td style='text-align: left;'>38.618305</td>\n",
       "    <td style='text-align: left;'>-121.443839</td></tr>\n",
       "\n",
       "<tr><td style='text-align: left;'>2805 JANETTE WAY</td>\n",
       "    <td style='text-align: left;'>SACRAMENTO</td>\n",
       "    <td style='text-align: left;'>95815</td>\n",
       "    <td style='text-align: left;'>CA</td>\n",
       "    <td style='text-align: left;'>2</td>\n",
       "    <td style='text-align: left;'>1</td>\n",
       "    <td style='text-align: left;'>852</td>\n",
       "    <td style='text-align: left;'>Residential</td>\n",
       "    <td style='text-align: left;'>Wed May 21 00:00:00 EDT 2008</td>\n",
       "    <td style='text-align: left;'>69307</td>\n",
       "    <td style='text-align: left;'>38.616835</td>\n",
       "    <td style='text-align: left;'>-121.439146</td></tr></table>"
      ],
      "text/plain": [
       "[{'street': '3526 HIGH ST', 'city': 'SACRAMENTO', 'zip': '95838', 'state': 'CA', 'beds': '2', 'baths': '1', 'sqft': '836', 'type': 'Residential', 'sale_date': 'Wed May 21 00:00:00 EDT 2008', 'price': '59222', 'latitude': '38.631913', 'longitude': '-121.434879'}, {'street': '51 OMAHA CT', 'city': 'SACRAMENTO', 'zip': '95823', 'state': 'CA', 'beds': '3', 'baths': '1', 'sqft': '1167', 'type': 'Residential', 'sale_date': 'Wed May 21 00:00:00 EDT 2008', 'price': '68212', 'latitude': '38.478902', 'longitude': '-121.431028'}, {'street': '2796 BRANCH ST', 'city': 'SACRAMENTO', 'zip': '95815', 'state': 'CA', 'beds': '2', 'baths': '1', 'sqft': '796', 'type': 'Residential', 'sale_date': 'Wed May 21 00:00:00 EDT 2008', 'price': '68880', 'latitude': '38.618305', 'longitude': '-121.443839'}, {'street': '2805 JANETTE WAY', 'city': 'SACRAMENTO', 'zip': '95815', 'state': 'CA', 'beds': '2', 'baths': '1', 'sqft': '852', 'type': 'Residential', 'sale_date': 'Wed May 21 00:00:00 EDT 2008', 'price': '69307', 'latitude': '38.616835', 'longitude': '-121.439146'}]"
      ]
     },
     "execution_count": 22,
     "metadata": {},
     "output_type": "execute_result"
    }
   ],
   "source": [
    "# Comma\n",
    "table[0:4]"
   ]
  },
  {
   "cell_type": "code",
   "execution_count": 24,
   "id": "d836b04c",
   "metadata": {
    "ExecuteTime": {
     "end_time": "2021-06-25T18:41:01.501333Z",
     "start_time": "2021-06-25T18:41:01.487252Z"
    },
    "scrolled": true
   },
   "outputs": [
    {
     "data": {
      "text/html": [
       "<div>\n",
       "<style scoped>\n",
       "    .dataframe tbody tr th:only-of-type {\n",
       "        vertical-align: middle;\n",
       "    }\n",
       "\n",
       "    .dataframe tbody tr th {\n",
       "        vertical-align: top;\n",
       "    }\n",
       "\n",
       "    .dataframe thead th {\n",
       "        text-align: right;\n",
       "    }\n",
       "</style>\n",
       "<table border=\"1\" class=\"dataframe\">\n",
       "  <thead>\n",
       "    <tr style=\"text-align: right;\">\n",
       "      <th></th>\n",
       "      <th>street</th>\n",
       "      <th>city</th>\n",
       "      <th>zip</th>\n",
       "      <th>state</th>\n",
       "      <th>beds</th>\n",
       "      <th>baths</th>\n",
       "      <th>sqft</th>\n",
       "      <th>type</th>\n",
       "      <th>sale_date</th>\n",
       "      <th>price</th>\n",
       "      <th>latitude</th>\n",
       "      <th>longitude</th>\n",
       "    </tr>\n",
       "  </thead>\n",
       "  <tbody>\n",
       "    <tr>\n",
       "      <th>0</th>\n",
       "      <td>3526 HIGH ST</td>\n",
       "      <td>SACRAMENTO</td>\n",
       "      <td>95838</td>\n",
       "      <td>CA</td>\n",
       "      <td>2</td>\n",
       "      <td>1</td>\n",
       "      <td>836</td>\n",
       "      <td>Residential</td>\n",
       "      <td>Wed May 21 00:00:00 EDT 2008</td>\n",
       "      <td>59222</td>\n",
       "      <td>38.631913</td>\n",
       "      <td>-121.434879</td>\n",
       "    </tr>\n",
       "    <tr>\n",
       "      <th>1</th>\n",
       "      <td>51 OMAHA CT</td>\n",
       "      <td>SACRAMENTO</td>\n",
       "      <td>95823</td>\n",
       "      <td>CA</td>\n",
       "      <td>3</td>\n",
       "      <td>1</td>\n",
       "      <td>1167</td>\n",
       "      <td>Residential</td>\n",
       "      <td>Wed May 21 00:00:00 EDT 2008</td>\n",
       "      <td>68212</td>\n",
       "      <td>38.478902</td>\n",
       "      <td>-121.431028</td>\n",
       "    </tr>\n",
       "    <tr>\n",
       "      <th>2</th>\n",
       "      <td>2796 BRANCH ST</td>\n",
       "      <td>SACRAMENTO</td>\n",
       "      <td>95815</td>\n",
       "      <td>CA</td>\n",
       "      <td>2</td>\n",
       "      <td>1</td>\n",
       "      <td>796</td>\n",
       "      <td>Residential</td>\n",
       "      <td>Wed May 21 00:00:00 EDT 2008</td>\n",
       "      <td>68880</td>\n",
       "      <td>38.618305</td>\n",
       "      <td>-121.443839</td>\n",
       "    </tr>\n",
       "    <tr>\n",
       "      <th>3</th>\n",
       "      <td>2805 JANETTE WAY</td>\n",
       "      <td>SACRAMENTO</td>\n",
       "      <td>95815</td>\n",
       "      <td>CA</td>\n",
       "      <td>2</td>\n",
       "      <td>1</td>\n",
       "      <td>852</td>\n",
       "      <td>Residential</td>\n",
       "      <td>Wed May 21 00:00:00 EDT 2008</td>\n",
       "      <td>69307</td>\n",
       "      <td>38.616835</td>\n",
       "      <td>-121.439146</td>\n",
       "    </tr>\n",
       "  </tbody>\n",
       "</table>\n",
       "</div>"
      ],
      "text/plain": [
       "             street        city    zip state  beds  baths  sqft         type  \\\n",
       "0      3526 HIGH ST  SACRAMENTO  95838    CA     2      1   836  Residential   \n",
       "1       51 OMAHA CT  SACRAMENTO  95823    CA     3      1  1167  Residential   \n",
       "2    2796 BRANCH ST  SACRAMENTO  95815    CA     2      1   796  Residential   \n",
       "3  2805 JANETTE WAY  SACRAMENTO  95815    CA     2      1   852  Residential   \n",
       "\n",
       "                      sale_date  price   latitude   longitude  \n",
       "0  Wed May 21 00:00:00 EDT 2008  59222  38.631913 -121.434879  \n",
       "1  Wed May 21 00:00:00 EDT 2008  68212  38.478902 -121.431028  \n",
       "2  Wed May 21 00:00:00 EDT 2008  68880  38.618305 -121.443839  \n",
       "3  Wed May 21 00:00:00 EDT 2008  69307  38.616835 -121.439146  "
      ]
     },
     "execution_count": 24,
     "metadata": {},
     "output_type": "execute_result"
    }
   ],
   "source": [
    "# Pandas\n",
    "df[0:4]"
   ]
  },
  {
   "cell_type": "code",
   "execution_count": 42,
   "id": "f8b74966",
   "metadata": {
    "ExecuteTime": {
     "end_time": "2021-06-25T18:52:27.189831Z",
     "start_time": "2021-06-25T18:52:27.185055Z"
    },
    "scrolled": false
   },
   "outputs": [
    {
     "data": {
      "text/plain": [
       "['3526 HIGH ST', '51 OMAHA CT', '2796 BRANCH ST', '2805 JANETTE WAY']"
      ]
     },
     "execution_count": 42,
     "metadata": {},
     "output_type": "execute_result"
    }
   ],
   "source": [
    "# Comma\n",
    "table[0:4]['street']"
   ]
  },
  {
   "cell_type": "code",
   "execution_count": 39,
   "id": "11e5c9fa",
   "metadata": {
    "ExecuteTime": {
     "end_time": "2021-06-25T18:50:56.983195Z",
     "start_time": "2021-06-25T18:50:56.978297Z"
    }
   },
   "outputs": [
    {
     "data": {
      "text/plain": [
       "{'street': '3526 HIGH ST', 'city': 'SACRAMENTO', 'zip': '95838', 'state': 'CA', 'beds': '2', 'baths': '1', 'sqft': '836', 'type': 'Residential', 'sale_date': 'Wed May 21 00:00:00 EDT 2008', 'price': '59222', 'latitude': '38.631913', 'longitude': '-121.434879'}"
      ]
     },
     "execution_count": 39,
     "metadata": {},
     "output_type": "execute_result"
    }
   ],
   "source": [
    "table[0]"
   ]
  }
 ],
 "metadata": {
  "kernelspec": {
   "display_name": "learn-env",
   "language": "python",
   "name": "learn-env"
  },
  "language_info": {
   "codemirror_mode": {
    "name": "ipython",
    "version": 3
   },
   "file_extension": ".py",
   "mimetype": "text/x-python",
   "name": "python",
   "nbconvert_exporter": "python",
   "pygments_lexer": "ipython3",
   "version": "3.6.9"
  },
  "toc": {
   "base_numbering": 1,
   "nav_menu": {},
   "number_sections": true,
   "sideBar": true,
   "skip_h1_title": false,
   "title_cell": "Table of Contents",
   "title_sidebar": "Contents",
   "toc_cell": false,
   "toc_position": {},
   "toc_section_display": true,
   "toc_window_display": false
  }
 },
 "nbformat": 4,
 "nbformat_minor": 5
}
